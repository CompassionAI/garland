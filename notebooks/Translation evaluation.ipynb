{
 "cells": [
  {
   "cell_type": "markdown",
   "id": "bf6cc272-d382-4670-99dd-3b73f1ac6fd6",
   "metadata": {},
   "source": [
    "# Supervised"
   ]
  },
  {
   "cell_type": "markdown",
   "id": "9faa6809-13ac-4d33-a892-2e85bf6e1cb0",
   "metadata": {},
   "source": [
    "## Basic dataset evaluation"
   ]
  },
  {
   "cell_type": "code",
   "execution_count": 9,
   "id": "caad5a70-ac7e-4393-8d28-cc64283316c1",
   "metadata": {},
   "outputs": [],
   "source": [
    "import os\n",
    "import datasets\n",
    "\n",
    "import pandas as pd\n",
    "\n",
    "from cai_garland.models.factory import _make_named_tokenizer"
   ]
  },
  {
   "cell_type": "code",
   "execution_count": 2,
   "id": "585813d1-7d37-4c38-aaaf-d4d0ef2dfa34",
   "metadata": {},
   "outputs": [
    {
     "name": "stderr",
     "output_type": "stream",
     "text": [
      "Reusing dataset parallel_dataset_loader_hf (/home/eeisenst/.cache/huggingface/datasets/parallel_dataset_loader_hf/raw_with_context/0.2.0/23adda38bcf285780cd3491d0e7e412e66dc4844229bb6dcaa06de8fc74288aa)\n"
     ]
    },
    {
     "data": {
      "text/plain": [
       "820"
      ]
     },
     "execution_count": 2,
     "metadata": {},
     "output_type": "execute_result"
    }
   ],
   "source": [
    "eval_dataset_raw = datasets.load_dataset(\"../cai_garland/data/parallel_dataset_loader_hf.py\", \"raw_with_context\", split=datasets.splits.Split.VALIDATION)\n",
    "len(eval_dataset_raw)"
   ]
  },
  {
   "cell_type": "code",
   "execution_count": 7,
   "id": "794b0638-d318-42e8-96e7-338df0ec5b7f",
   "metadata": {},
   "outputs": [],
   "source": [
    "tokenizer = _make_named_tokenizer(\"cai:albert-olive-cormorant/base\")"
   ]
  },
  {
   "cell_type": "code",
   "execution_count": 37,
   "id": "1f69c925-9394-44f3-9edd-4617c22c5475",
   "metadata": {},
   "outputs": [
    {
     "data": {
      "text/plain": [
       "<AxesSubplot:>"
      ]
     },
     "execution_count": 37,
     "metadata": {},
     "output_type": "execute_result"
    },
    {
     "data": {
      "image/png": "[encoded data removed]",
      "text/plain": [
       "<Figure size 432x288 with 1 Axes>"
      ]
     },
     "metadata": {
      "needs_background": "light"
     },
     "output_type": "display_data"
    }
   ],
   "source": [
    "x = pd.Series([len(ex['english']) for ex in eval_dataset_raw])\n",
    "x[x<100].hist(bins=50)"
   ]
  },
  {
   "cell_type": "code",
   "execution_count": 13,
   "id": "c05debe6-36fa-42a0-85e7-f40506af7ad4",
   "metadata": {},
   "outputs": [
    {
     "data": {
      "text/plain": [
       "<AxesSubplot:>"
      ]
     },
     "execution_count": 13,
     "metadata": {},
     "output_type": "execute_result"
    },
    {
     "data": {
      "image/png": "[encoded data removed]",
      "text/plain": [
       "<Figure size 432x288 with 1 Axes>"
      ]
     },
     "metadata": {
      "needs_background": "light"
     },
     "output_type": "display_data"
    }
   ],
   "source": [
    "pd.Series([len(tokenizer.encode(ex['english'])) for ex in eval_dataset_raw]).hist(bins=50)"
   ]
  },
  {
   "cell_type": "code",
   "execution_count": 43,
   "id": "a4e238eb-f45c-41f0-9382-f946adb69a22",
   "metadata": {},
   "outputs": [],
   "source": [
    "with open(\"../translations/madhyamakavatara-short.en\", \"r\") as f:\n",
    "    text = [t.strip() for t in f.readlines()]"
   ]
  },
  {
   "cell_type": "code",
   "execution_count": 44,
   "id": "1b550ef4-d46d-4e68-aa79-1951220655fe",
   "metadata": {},
   "outputs": [],
   "source": [
    "bo_text = text[0:len(text):4]"
   ]
  },
  {
   "cell_type": "code",
   "execution_count": 45,
   "id": "a31adb27-206f-4aad-984c-8a3de9572dc2",
   "metadata": {},
   "outputs": [
    {
     "data": {
      "text/plain": [
       "'  ༄ ༅ ་ ། ཀ ཁ ག ང ཅ ཆ ཇ ཉ ཏ ཐ ད ན པ ཕ བ མ ཙ ཚ ཛ ཝ ཞ ཟ འ ཡ ར ལ ཤ ས ཨ ཱ ི ུ ེ ོ ྐ ྒ ྔ ྕ ྗ ྙ ྟ ྡ ྣ ྤ ྦ ྨ ྩ ྪ ྫ ྱ ྲ ླ ྷ'"
      ]
     },
     "execution_count": 45,
     "metadata": {},
     "output_type": "execute_result"
    }
   ],
   "source": [
    "' '.join(sorted(list(set([c for l in bo_text for c in l]))))"
   ]
  },
  {
   "cell_type": "code",
   "execution_count": 46,
   "id": "c4687651-7ec3-4016-91a4-d6ebc7571d0a",
   "metadata": {},
   "outputs": [
    {
     "data": {
      "text/plain": [
       "<AxesSubplot:>"
      ]
     },
     "execution_count": 46,
     "metadata": {},
     "output_type": "execute_result"
    },
    {
     "data": {
      "image/png": "[encoded data removed]",
      "text/plain": [
       "<Figure size 432x288 with 1 Axes>"
      ]
     },
     "metadata": {
      "needs_background": "light"
     },
     "output_type": "display_data"
    }
   ],
   "source": [
    "x = pd.Series([len(l) for l in bo_text])\n",
    "x[x<100].hist(bins=50)"
   ]
  },
  {
   "cell_type": "markdown",
   "id": "078de55e-af98-43b7-918d-0c6d688cca4f",
   "metadata": {},
   "source": [
    "## Load model - need cai-base conda environment for this"
   ]
  },
  {
   "cell_type": "code",
   "execution_count": null,
   "id": "b8f2f3f3-8123-4712-a1e0-8eceb28f8e6c",
   "metadata": {},
   "outputs": [],
   "source": [
    "import os\n",
    "\n",
    "from cai_garland.utils.translator import Translator, TokenizationTooLongException"
   ]
  },
  {
   "cell_type": "code",
   "execution_count": null,
   "id": "dd4e2847-2e76-4888-8b8a-0f85048db425",
   "metadata": {},
   "outputs": [],
   "source": [
    "# translator = Translator(os.path.join(\"olive-cormorant-bart-pooled-context\", \"base-base\"))"
   ]
  },
  {
   "cell_type": "code",
   "execution_count": null,
   "id": "89c0e79b-d3be-4274-84d9-87a2d2c8ec8c",
   "metadata": {},
   "outputs": [],
   "source": [
    "translator = Translator(os.path.join(\"olive-cormorant-nllb-pooled-context\", \"base-600M\"))"
   ]
  },
  {
   "cell_type": "code",
   "execution_count": null,
   "id": "3f6362a8-fea2-4626-8021-28e56cd5eb60",
   "metadata": {},
   "outputs": [],
   "source": [
    "translator.cuda()"
   ]
  },
  {
   "cell_type": "markdown",
   "id": "ae2f24db-788b-46ad-bcc0-7659f5a4fac3",
   "metadata": {},
   "source": [
    "## Load dataset"
   ]
  },
  {
   "cell_type": "markdown",
   "id": "8d226268-d0f3-4f88-a221-ae1a5bd5cdff",
   "metadata": {},
   "source": [
    "### Prep context embeddings"
   ]
  },
  {
   "cell_type": "code",
   "execution_count": null,
   "id": "b0c418dd-e5a1-4ceb-9ac3-da2ade916654",
   "metadata": {},
   "outputs": [],
   "source": [
    "import datasets\n",
    "\n",
    "from cai_garland.data.context_injection_dataset import ContextInjectionDataset"
   ]
  },
  {
   "cell_type": "code",
   "execution_count": null,
   "id": "22df7c10-f0e4-4c6f-91d9-020f5bd60c2c",
   "metadata": {},
   "outputs": [],
   "source": [
    "ContextInjectionDataset.prepare_context_embeddings(\n",
    "    \"processed_datasets/84000-parallel-sentences-raw-with-context/contexts.pkl\",\n",
    "    \"facebook/bart-base\",\n",
    "    raw_contexts=True,\n",
    "    overwrite=False\n",
    ")"
   ]
  },
  {
   "cell_type": "markdown",
   "id": "80ac3ecf-7d36-4f80-abbe-cd2abee70c59",
   "metadata": {},
   "source": [
    "### Load evaluation set and join to prepped embeddings"
   ]
  },
  {
   "cell_type": "code",
   "execution_count": null,
   "id": "4558466f-76de-43f9-a242-fbd6aea29d64",
   "metadata": {},
   "outputs": [],
   "source": [
    "from tqdm.auto import tqdm\n",
    "from transformers import AutoTokenizer"
   ]
  },
  {
   "cell_type": "code",
   "execution_count": null,
   "id": "7db3e28a-76a2-4252-a8f7-61f2abaa90be",
   "metadata": {},
   "outputs": [],
   "source": [
    "eval_dataset_raw = datasets.load_dataset(\"../cai_garland/data/parallel_dataset_loader_hf.py\", \"raw_with_context\", split=datasets.splits.Split.VALIDATION)\n",
    "len(eval_dataset_raw)"
   ]
  },
  {
   "cell_type": "code",
   "execution_count": null,
   "id": "571c1222-a6e2-415c-a863-21238da04023",
   "metadata": {},
   "outputs": [],
   "source": [
    "eval_dataset = ContextInjectionDataset(eval_dataset_raw, \"english\", raw_contexts=True)"
   ]
  },
  {
   "cell_type": "code",
   "execution_count": null,
   "id": "aa6bdc58-dd6a-4bc9-9f53-dd3e635e9ba7",
   "metadata": {},
   "outputs": [],
   "source": [
    "ctx_tokenizer = AutoTokenizer.from_pretrained(\"facebook/bart-base\")"
   ]
  },
  {
   "cell_type": "code",
   "execution_count": null,
   "id": "869265a4-af77-43c5-832b-d6962235329d",
   "metadata": {},
   "outputs": [],
   "source": [
    "translator.prepare_context_encoder(\"facebook/bart-base\")"
   ]
  },
  {
   "cell_type": "code",
   "execution_count": null,
   "id": "c21aa58c-4087-4987-95d5-9d1a72f019a9",
   "metadata": {},
   "outputs": [],
   "source": [
    "translations = []\n",
    "for ex in tqdm(eval_dataset):\n",
    "    context = ctx_tokenizer.decode(ex['context_embedding'], skip_special_tokens=True)\n",
    "    try:\n",
    "        translated = translator.translate(\n",
    "            ex[\"tibetan\"],\n",
    "            context=context,\n",
    "            generator_kwargs={\n",
    "                \"repetition_penalty\": 2.2,\n",
    "                \"no_repeat_ngram_size\": 3\n",
    "            }\n",
    "        )\n",
    "    except TokenizationTooLongException:\n",
    "        continue\n",
    "    translations.append({\n",
    "        \"prediction\": translated,\n",
    "        \"label\": ex[\"english\"],\n",
    "        \"source\": ex[\"tibetan\"]\n",
    "    })"
   ]
  },
  {
   "cell_type": "markdown",
   "id": "2c95328d-5d2d-4072-ab39-799e47ce33b2",
   "metadata": {},
   "source": [
    "### Save to temp"
   ]
  },
  {
   "cell_type": "code",
   "execution_count": 15,
   "id": "f024da12-0b76-4ea8-9a63-322ebe782190",
   "metadata": {},
   "outputs": [],
   "source": [
    "import pickle"
   ]
  },
  {
   "cell_type": "code",
   "execution_count": 16,
   "id": "3190e290-2365-4315-9297-9e0af58ffabe",
   "metadata": {},
   "outputs": [
    {
     "data": {
      "text/plain": [
       "'/home/eeisenst/workspace/temp/eval_translations.pkl'"
      ]
     },
     "execution_count": 16,
     "metadata": {},
     "output_type": "execute_result"
    }
   ],
   "source": [
    "os.path.join(os.environ[\"CAI_TEMP_PATH\"], \"eval_translations.pkl\")"
   ]
  },
  {
   "cell_type": "code",
   "execution_count": 21,
   "id": "b14b1dbe-1479-4d38-9ae2-b6a85cff6342",
   "metadata": {},
   "outputs": [],
   "source": [
    "with open(os.path.join(os.environ[\"CAI_TEMP_PATH\"], \"eval_translations.pkl\"), \"wb\") as f:\n",
    "    pickle.dump(translations, f)"
   ]
  },
  {
   "cell_type": "markdown",
   "id": "084865a7-5a8f-424a-88c5-7a13cc2d5f4d",
   "metadata": {},
   "source": [
    "## Evaluate"
   ]
  },
  {
   "cell_type": "markdown",
   "id": "f80d7efb-c3c2-416e-80d2-c398c21a4e3e",
   "metadata": {},
   "source": [
    "### Load from temp"
   ]
  },
  {
   "cell_type": "code",
   "execution_count": 1,
   "id": "0c2b618a-c664-42c0-8bfd-616c5599a53d",
   "metadata": {},
   "outputs": [],
   "source": [
    "import os\n",
    "import pickle"
   ]
  },
  {
   "cell_type": "code",
   "execution_count": 2,
   "id": "05f10730-6499-4065-8861-ee94080739da",
   "metadata": {},
   "outputs": [
    {
     "data": {
      "text/plain": [
       "818"
      ]
     },
     "execution_count": 2,
     "metadata": {},
     "output_type": "execute_result"
    }
   ],
   "source": [
    "with open(os.path.join(os.environ[\"CAI_TEMP_PATH\"], \"eval_translations.pkl\"), \"rb\") as f:\n",
    "    translations = pickle.load(f)\n",
    "len(translations)"
   ]
  },
  {
   "cell_type": "markdown",
   "id": "d921060e-c69b-485f-b290-8d24029f8aaa",
   "metadata": {},
   "source": [
    "### Metrics"
   ]
  },
  {
   "cell_type": "code",
   "execution_count": 3,
   "id": "80d161b0-6685-45d1-b088-031d6e5aea77",
   "metadata": {},
   "outputs": [
    {
     "name": "stderr",
     "output_type": "stream",
     "text": [
      "2022-09-07 17:12:48.456820: I tensorflow/core/platform/cpu_feature_guard.cc:193] This TensorFlow binary is optimized with oneAPI Deep Neural Network Library (oneDNN) to use the following CPU instructions in performance-critical operations:  AVX2 AVX_VNNI FMA\n",
      "To enable them in other operations, rebuild TensorFlow with the appropriate compiler flags.\n",
      "2022-09-07 17:12:48.528924: I tensorflow/core/util/util.cc:169] oneDNN custom operations are on. You may see slightly different numerical results due to floating-point round-off errors from different computation orders. To turn them off, set the environment variable `TF_ENABLE_ONEDNN_OPTS=0`.\n",
      "2022-09-07 17:12:48.545998: E tensorflow/stream_executor/cuda/cuda_blas.cc:2981] Unable to register cuBLAS factory: Attempting to register factory for plugin cuBLAS when one has already been registered\n",
      "2022-09-07 17:12:48.829611: W tensorflow/stream_executor/platform/default/dso_loader.cc:64] Could not load dynamic library 'libnvinfer.so.7'; dlerror: libnvinfer.so.7: cannot open shared object file: No such file or directory; LD_LIBRARY_PATH: /home/eeisenst/miniconda3/envs/cai-tf/lib/\n",
      "2022-09-07 17:12:48.829640: W tensorflow/stream_executor/platform/default/dso_loader.cc:64] Could not load dynamic library 'libnvinfer_plugin.so.7'; dlerror: libnvinfer_plugin.so.7: cannot open shared object file: No such file or directory; LD_LIBRARY_PATH: /home/eeisenst/miniconda3/envs/cai-tf/lib/\n",
      "2022-09-07 17:12:48.829643: W tensorflow/compiler/tf2tensorrt/utils/py_utils.cc:38] TF-TRT Warning: Cannot dlopen some TensorRT libraries. If you would like to use Nvidia GPU with TensorRT, please make sure the missing libraries mentioned above are installed properly.\n"
     ]
    }
   ],
   "source": [
    "import evaluate"
   ]
  },
  {
   "cell_type": "code",
   "execution_count": 4,
   "id": "ff858df3-cd91-44b7-8728-a1ba2ba3f8df",
   "metadata": {},
   "outputs": [
    {
     "name": "stdout",
     "output_type": "stream",
     "text": [
      "INFO:tensorflow:Reading checkpoint /home/eeisenst/.cache/huggingface/metrics/bleurt/bleurt-large-512/downloads/extracted/d1037a451c4066185229dd2bb1b67b15353c4dc82eb7ea0e54b2ca8e653a24b1/bleurt-large-512.\n",
      "INFO:tensorflow:Config file found, reading.\n",
      "INFO:tensorflow:Will load checkpoint bert_custom\n",
      "INFO:tensorflow:Loads full paths and checks that files exists.\n",
      "INFO:tensorflow:... name:bert_custom\n",
      "INFO:tensorflow:... vocab_file:vocab.txt\n",
      "INFO:tensorflow:... bert_config_file:bert_config.json\n",
      "INFO:tensorflow:... do_lower_case:True\n",
      "INFO:tensorflow:... max_seq_length:512\n",
      "INFO:tensorflow:Creating BLEURT scorer.\n",
      "INFO:tensorflow:Creating WordPiece tokenizer.\n",
      "INFO:tensorflow:WordPiece tokenizer instantiated.\n",
      "INFO:tensorflow:Creating Eager Mode predictor.\n",
      "INFO:tensorflow:Loading model.\n"
     ]
    },
    {
     "name": "stderr",
     "output_type": "stream",
     "text": [
      "2022-09-07 17:12:54.067285: I tensorflow/stream_executor/cuda/cuda_gpu_executor.cc:980] successful NUMA node read from SysFS had negative value (-1), but there must be at least one NUMA node, so returning NUMA node zero\n",
      "2022-09-07 17:12:54.069767: I tensorflow/stream_executor/cuda/cuda_gpu_executor.cc:980] successful NUMA node read from SysFS had negative value (-1), but there must be at least one NUMA node, so returning NUMA node zero\n",
      "2022-09-07 17:12:54.069848: I tensorflow/stream_executor/cuda/cuda_gpu_executor.cc:980] successful NUMA node read from SysFS had negative value (-1), but there must be at least one NUMA node, so returning NUMA node zero\n",
      "2022-09-07 17:12:54.070027: I tensorflow/core/platform/cpu_feature_guard.cc:193] This TensorFlow binary is optimized with oneAPI Deep Neural Network Library (oneDNN) to use the following CPU instructions in performance-critical operations:  AVX2 AVX_VNNI FMA\n",
      "To enable them in other operations, rebuild TensorFlow with the appropriate compiler flags.\n",
      "2022-09-07 17:12:54.071413: I tensorflow/stream_executor/cuda/cuda_gpu_executor.cc:980] successful NUMA node read from SysFS had negative value (-1), but there must be at least one NUMA node, so returning NUMA node zero\n",
      "2022-09-07 17:12:54.071554: I tensorflow/stream_executor/cuda/cuda_gpu_executor.cc:980] successful NUMA node read from SysFS had negative value (-1), but there must be at least one NUMA node, so returning NUMA node zero\n",
      "2022-09-07 17:12:54.071661: I tensorflow/stream_executor/cuda/cuda_gpu_executor.cc:980] successful NUMA node read from SysFS had negative value (-1), but there must be at least one NUMA node, so returning NUMA node zero\n",
      "2022-09-07 17:12:54.380570: I tensorflow/stream_executor/cuda/cuda_gpu_executor.cc:980] successful NUMA node read from SysFS had negative value (-1), but there must be at least one NUMA node, so returning NUMA node zero\n",
      "2022-09-07 17:12:54.380681: I tensorflow/stream_executor/cuda/cuda_gpu_executor.cc:980] successful NUMA node read from SysFS had negative value (-1), but there must be at least one NUMA node, so returning NUMA node zero\n",
      "2022-09-07 17:12:54.380737: I tensorflow/stream_executor/cuda/cuda_gpu_executor.cc:980] successful NUMA node read from SysFS had negative value (-1), but there must be at least one NUMA node, so returning NUMA node zero\n",
      "2022-09-07 17:12:54.380786: I tensorflow/core/common_runtime/gpu/gpu_device.cc:1616] Created device /job:localhost/replica:0/task:0/device:GPU:0 with 9243 MB memory:  -> device: 0, name: NVIDIA GeForce RTX 3080 Ti, pci bus id: 0000:01:00.0, compute capability: 8.6\n"
     ]
    },
    {
     "name": "stdout",
     "output_type": "stream",
     "text": [
      "INFO:tensorflow:BLEURT initialized.\n"
     ]
    }
   ],
   "source": [
    "bleurt = evaluate.load(\"bleurt\", 'bleurt-large-512', module_type=\"metric\")"
   ]
  },
  {
   "cell_type": "code",
   "execution_count": 5,
   "id": "cd764fbb-c3e0-49f2-8e2a-94cbdf1703f7",
   "metadata": {},
   "outputs": [],
   "source": [
    "predictions = [ex['prediction'] for ex in translations]\n",
    "references = [ex['label'] for ex in translations]"
   ]
  },
  {
   "cell_type": "code",
   "execution_count": 6,
   "id": "b0d626c5-b91b-4517-b36e-261ba6b06fdf",
   "metadata": {},
   "outputs": [
    {
     "name": "stderr",
     "output_type": "stream",
     "text": [
      "2022-09-07 17:12:59.725790: I tensorflow/stream_executor/cuda/cuda_blas.cc:1614] TensorFloat-32 will be used for the matrix multiplication. This will only be logged once.\n"
     ]
    }
   ],
   "source": [
    "results = bleurt.compute(predictions=predictions, references=references)"
   ]
  },
  {
   "cell_type": "code",
   "execution_count": 7,
   "id": "394c9a9a-d82b-45bb-b5ef-7fa456ab7983",
   "metadata": {},
   "outputs": [],
   "source": [
    "import pandas as pd"
   ]
  },
  {
   "cell_type": "code",
   "execution_count": 8,
   "id": "f182fb69-c617-40b0-8f63-10d2066499db",
   "metadata": {},
   "outputs": [],
   "source": [
    "import matplotlib"
   ]
  },
  {
   "cell_type": "code",
   "execution_count": 9,
   "id": "f6b2deed-86c2-42fa-87fb-0430cbfdef05",
   "metadata": {},
   "outputs": [
    {
     "data": {
      "text/plain": [
       "<AxesSubplot:>"
      ]
     },
     "execution_count": 9,
     "metadata": {},
     "output_type": "execute_result"
    },
    {
     "data": {
      "image/png": "[encoded data removed]",
      "text/plain": [
       "<Figure size 640x480 with 1 Axes>"
      ]
     },
     "metadata": {},
     "output_type": "display_data"
    }
   ],
   "source": [
    "pd.Series(results['scores']).hist(bins=50)"
   ]
  },
  {
   "cell_type": "code",
   "execution_count": 10,
   "id": "1c090d6c-ce37-4add-97f0-f87c51c436eb",
   "metadata": {},
   "outputs": [],
   "source": [
    "translations = [datum | {\"score\": score} for datum, score in zip(translations, results['scores'])]"
   ]
  },
  {
   "cell_type": "code",
   "execution_count": 11,
   "id": "86a5c3e2-7bad-4162-8434-855693e26587",
   "metadata": {},
   "outputs": [],
   "source": [
    "scored_df = pd.DataFrame(translations)"
   ]
  },
  {
   "cell_type": "code",
   "execution_count": 12,
   "id": "cb78f42d-d79d-480c-8f13-de5c9d384bff",
   "metadata": {},
   "outputs": [
    {
     "data": {
      "text/html": [
       "<div>\n",
       "<style scoped>\n",
       "    .dataframe tbody tr th:only-of-type {\n",
       "        vertical-align: middle;\n",
       "    }\n",
       "\n",
       "    .dataframe tbody tr th {\n",
       "        vertical-align: top;\n",
       "    }\n",
       "\n",
       "    .dataframe thead th {\n",
       "        text-align: right;\n",
       "    }\n",
       "</style>\n",
       "<table border=\"1\" class=\"dataframe\">\n",
       "  <thead>\n",
       "    <tr style=\"text-align: right;\">\n",
       "      <th></th>\n",
       "      <th>prediction</th>\n",
       "      <th>label</th>\n",
       "      <th>source</th>\n",
       "      <th>score</th>\n",
       "    </tr>\n",
       "  </thead>\n",
       "  <tbody>\n",
       "    <tr>\n",
       "      <th>44</th>\n",
       "      <td>seize, seize. svaha.</td>\n",
       "      <td>ksipram nirgacchata svaha</td>\n",
       "      <td>ཀྵི་ཕྲན་ནི་ར་གཙྪ་ཏ་སྭཱ་ཧཱ།</td>\n",
       "      <td>-1.388500</td>\n",
       "    </tr>\n",
       "    <tr>\n",
       "      <th>692</th>\n",
       "      <td>i am a humankind or a human being.</td>\n",
       "      <td>or born of manu, or son of manu,</td>\n",
       "      <td>ཤེད་ལས་སྐྱེས་སོ་ཞེའམ། ཤེད་བུའོ་ཞེའམ</td>\n",
       "      <td>-1.363254</td>\n",
       "    </tr>\n",
       "    <tr>\n",
       "      <th>801</th>\n",
       "      <td>as the hearers vehicle is a condition, there i...</td>\n",
       "      <td>at that time, there will be no classifications...</td>\n",
       "      <td>འདི་ན་ཉན་ཐོས་རྐྱེན་གྱི་ཐེག་པ་ལྟར། །དེ་ཚེ་ཐེག་པ...</td>\n",
       "      <td>-1.349489</td>\n",
       "    </tr>\n",
       "    <tr>\n",
       "      <th>15</th>\n",
       "      <td>the solitary buddha thought,</td>\n",
       "      <td>it is the wish of all pratyekabuddhas.</td>\n",
       "      <td>རང་སངས་རྒྱས་ཀྱིས་བསམས་པ།</td>\n",
       "      <td>-1.304675</td>\n",
       "    </tr>\n",
       "    <tr>\n",
       "      <th>12</th>\n",
       "      <td>svaha, svaha. svaka, svaka.</td>\n",
       "      <td>visarata visarata visarata visarata</td>\n",
       "      <td>བི་ས་ར་ཏ། བི་ས་ར་ཏ། བི་ས་ར་ཏ། བི་ས་ར་ཏ།</td>\n",
       "      <td>-1.286726</td>\n",
       "    </tr>\n",
       "    <tr>\n",
       "      <th>...</th>\n",
       "      <td>...</td>\n",
       "      <td>...</td>\n",
       "      <td>...</td>\n",
       "      <td>...</td>\n",
       "    </tr>\n",
       "    <tr>\n",
       "      <th>633</th>\n",
       "      <td>they do not go anywhere.</td>\n",
       "      <td>they do not go anywhere.</td>\n",
       "      <td>གང་དུ་ཡང་མི་འགྲོའོ།</td>\n",
       "      <td>1.092496</td>\n",
       "    </tr>\n",
       "    <tr>\n",
       "      <th>244</th>\n",
       "      <td>why is that?</td>\n",
       "      <td>why is that?</td>\n",
       "      <td>དེ་ཅིའི་ཕྱིར་ཞེ་ན།</td>\n",
       "      <td>1.094399</td>\n",
       "    </tr>\n",
       "    <tr>\n",
       "      <th>743</th>\n",
       "      <td>i have no protector.</td>\n",
       "      <td>i have no protector</td>\n",
       "      <td>བདག་མགོན་མ་མཆིས་ཏེ།</td>\n",
       "      <td>1.097428</td>\n",
       "    </tr>\n",
       "    <tr>\n",
       "      <th>120</th>\n",
       "      <td>what are those eight qualities?</td>\n",
       "      <td>what are those eight qualities?</td>\n",
       "      <td>བརྒྱད་གང་ཞེ་ན།</td>\n",
       "      <td>1.098522</td>\n",
       "    </tr>\n",
       "    <tr>\n",
       "      <th>31</th>\n",
       "      <td>do not stay.</td>\n",
       "      <td>do not stay.</td>\n",
       "      <td>མ་འདུག་ཤིག</td>\n",
       "      <td>1.104293</td>\n",
       "    </tr>\n",
       "  </tbody>\n",
       "</table>\n",
       "<p>818 rows × 4 columns</p>\n",
       "</div>"
      ],
      "text/plain": [
       "                                            prediction  \\\n",
       "44                                seize, seize. svaha.   \n",
       "692                 i am a humankind or a human being.   \n",
       "801  as the hearers vehicle is a condition, there i...   \n",
       "15                        the solitary buddha thought,   \n",
       "12                         svaha, svaha. svaka, svaka.   \n",
       "..                                                 ...   \n",
       "633                           they do not go anywhere.   \n",
       "244                                       why is that?   \n",
       "743                               i have no protector.   \n",
       "120                    what are those eight qualities?   \n",
       "31                                        do not stay.   \n",
       "\n",
       "                                                 label  \\\n",
       "44                           ksipram nirgacchata svaha   \n",
       "692                   or born of manu, or son of manu,   \n",
       "801  at that time, there will be no classifications...   \n",
       "15              it is the wish of all pratyekabuddhas.   \n",
       "12                 visarata visarata visarata visarata   \n",
       "..                                                 ...   \n",
       "633                           they do not go anywhere.   \n",
       "244                                       why is that?   \n",
       "743                                i have no protector   \n",
       "120                    what are those eight qualities?   \n",
       "31                                        do not stay.   \n",
       "\n",
       "                                                source     score  \n",
       "44                          ཀྵི་ཕྲན་ནི་ར་གཙྪ་ཏ་སྭཱ་ཧཱ། -1.388500  \n",
       "692                ཤེད་ལས་སྐྱེས་སོ་ཞེའམ། ཤེད་བུའོ་ཞེའམ -1.363254  \n",
       "801  འདི་ན་ཉན་ཐོས་རྐྱེན་གྱི་ཐེག་པ་ལྟར། །དེ་ཚེ་ཐེག་པ... -1.349489  \n",
       "15                            རང་སངས་རྒྱས་ཀྱིས་བསམས་པ། -1.304675  \n",
       "12             བི་ས་ར་ཏ། བི་ས་ར་ཏ། བི་ས་ར་ཏ། བི་ས་ར་ཏ། -1.286726  \n",
       "..                                                 ...       ...  \n",
       "633                                གང་དུ་ཡང་མི་འགྲོའོ།  1.092496  \n",
       "244                                 དེ་ཅིའི་ཕྱིར་ཞེ་ན།  1.094399  \n",
       "743                                བདག་མགོན་མ་མཆིས་ཏེ།  1.097428  \n",
       "120                                     བརྒྱད་གང་ཞེ་ན།  1.098522  \n",
       "31                                          མ་འདུག་ཤིག  1.104293  \n",
       "\n",
       "[818 rows x 4 columns]"
      ]
     },
     "execution_count": 12,
     "metadata": {},
     "output_type": "execute_result"
    }
   ],
   "source": [
    "scored_df.sort_values(\"score\")"
   ]
  },
  {
   "cell_type": "code",
   "execution_count": 13,
   "id": "69d5234b-3a9d-4542-b248-51141255ba31",
   "metadata": {},
   "outputs": [
    {
     "data": {
      "text/plain": [
       "{'prediction': 'maitreya, ask whatever question you wish of the tathagata, the arhat, the totally and completely awakened buddha. with that in mind, i shall satisfy your mind.',\n",
       " 'label': 'maitreya, you may put to the tathagata, the arhat, the perfectly enlightened buddha whatever question you wish. what i shall say in response to your question will cause you to rejoice.',\n",
       " 'source': 'བྱམས་པ་ཁྱོད་དེ་བཞིན་གཤེགས་པ་དགྲ་བཅོམ་པ་ཡང་དག་པར་རྫོགས་པའི་སངས་རྒྱས་ལ་ཅི་དང་ཅི་འདོད་པ་དྲིས་ཤིག་དང་། དྲིས་པ་དེ་དང་དེའི་ལུང་བསྟན་པས་ངས་ཁྱོད་ཀྱི་སེམས་རངས་པར་བྱའོ།',\n",
       " 'score': -0.017401888966560364}"
      ]
     },
     "execution_count": 13,
     "metadata": {},
     "output_type": "execute_result"
    }
   ],
   "source": [
    "scored_df[scored_df.score < 0].sort_values('score').iloc[-10].to_dict()"
   ]
  },
  {
   "cell_type": "code",
   "execution_count": 14,
   "id": "876ab233-0f75-4af1-b3c0-406f3e164670",
   "metadata": {},
   "outputs": [
    {
     "data": {
      "text/plain": [
       "count    818.000000\n",
       "mean       0.029740\n",
       "std        0.510483\n",
       "min       -1.388500\n",
       "25%       -0.316826\n",
       "50%        0.064777\n",
       "75%        0.397213\n",
       "max        1.104293\n",
       "Name: score, dtype: float64"
      ]
     },
     "execution_count": 14,
     "metadata": {},
     "output_type": "execute_result"
    }
   ],
   "source": [
    "scored_df.score.describe()"
   ]
  },
  {
   "cell_type": "code",
   "execution_count": 15,
   "id": "43a6de25-99e6-4dad-8843-809c53f7daf3",
   "metadata": {},
   "outputs": [
    {
     "data": {
      "text/plain": [
       "count    450.000000\n",
       "mean       0.404058\n",
       "std        0.281985\n",
       "min        0.000202\n",
       "25%        0.185624\n",
       "50%        0.366212\n",
       "75%        0.570520\n",
       "max        1.104293\n",
       "Name: score, dtype: float64"
      ]
     },
     "execution_count": 15,
     "metadata": {},
     "output_type": "execute_result"
    }
   ],
   "source": [
    "scored_df[scored_df.score > 0].score.describe()"
   ]
  },
  {
   "cell_type": "code",
   "execution_count": 19,
   "id": "237b60ff-eda8-4639-a05f-b437ed129c46",
   "metadata": {},
   "outputs": [
    {
     "data": {
      "text/plain": [
       "<AxesSubplot:>"
      ]
     },
     "execution_count": 19,
     "metadata": {},
     "output_type": "execute_result"
    },
    {
     "data": {
      "image/png": "[encoded data removed]",
      "text/plain": [
       "<Figure size 640x480 with 1 Axes>"
      ]
     },
     "metadata": {},
     "output_type": "display_data"
    }
   ],
   "source": [
    "scored_df[scored_df.score > 0].score.hist(bins=50)"
   ]
  }
 ],
 "metadata": {
  "kernelspec": {
   "display_name": "Python 3 (ipykernel)",
   "language": "python",
   "name": "python3"
  },
  "language_info": {
   "codemirror_mode": {
    "name": "ipython",
    "version": 3
   },
   "file_extension": ".py",
   "mimetype": "text/x-python",
   "name": "python",
   "nbconvert_exporter": "python",
   "pygments_lexer": "ipython3",
   "version": "3.10.5"
  }
 },
 "nbformat": 4,
 "nbformat_minor": 5
}
