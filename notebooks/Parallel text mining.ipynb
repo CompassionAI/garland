{
 "cells": [
  {
   "cell_type": "code",
   "execution_count": 1,
   "id": "78bf065d-0a5e-4194-a1e2-f7d0ed4ff02f",
   "metadata": {},
   "outputs": [],
   "source": [
    "import logging\n",
    "from dask.distributed import Client, LocalCluster"
   ]
  },
  {
   "cell_type": "code",
   "execution_count": 2,
   "id": "2766a0fe-9b78-4106-af22-b773826f9030",
   "metadata": {},
   "outputs": [],
   "source": [
    "dask_logger = logging.getLogger(\"distributed.utils_perf\")\n",
    "dask_logger.setLevel(logging.ERROR)"
   ]
  },
  {
   "cell_type": "code",
   "execution_count": 3,
   "id": "c5273064-85f6-4330-b12b-072a4faae4d4",
   "metadata": {},
   "outputs": [],
   "source": [
    "dask_cluster = LocalCluster(\n",
    "    n_workers=20,\n",
    "    threads_per_worker=1)\n",
    "dask_client = Client(dask_cluster)"
   ]
  },
  {
   "cell_type": "code",
   "execution_count": 4,
   "id": "5ff1aeeb-7733-40e0-8a02-e28cbe396987",
   "metadata": {},
   "outputs": [
    {
     "data": {
      "text/html": [
       "<div>\n",
       "    <div style=\"width: 24px; height: 24px; background-color: #e1e1e1; border: 3px solid #9D9D9D; border-radius: 5px; position: absolute;\"> </div>\n",
       "    <div style=\"margin-left: 48px;\">\n",
       "        <h3 style=\"margin-bottom: 0px;\">Client</h3>\n",
       "        <p style=\"color: #9D9D9D; margin-bottom: 0px;\">Client-e4f311a3-0a27-11ee-84bb-50ebf67f14ad</p>\n",
       "        <table style=\"width: 100%; text-align: left;\">\n",
       "\n",
       "        <tr>\n",
       "        \n",
       "            <td style=\"text-align: left;\"><strong>Connection method:</strong> Cluster object</td>\n",
       "            <td style=\"text-align: left;\"><strong>Cluster type:</strong> distributed.LocalCluster</td>\n",
       "        \n",
       "        </tr>\n",
       "\n",
       "        \n",
       "            <tr>\n",
       "                <td style=\"text-align: left;\">\n",
       "                    <strong>Dashboard: </strong> <a href=\"http://127.0.0.1:8787/status\" target=\"_blank\">http://127.0.0.1:8787/status</a>\n",
       "                </td>\n",
       "                <td style=\"text-align: left;\"></td>\n",
       "            </tr>\n",
       "        \n",
       "\n",
       "        </table>\n",
       "\n",
       "        \n",
       "            <details>\n",
       "            <summary style=\"margin-bottom: 20px;\"><h3 style=\"display: inline;\">Cluster Info</h3></summary>\n",
       "            <div class=\"jp-RenderedHTMLCommon jp-RenderedHTML jp-mod-trusted jp-OutputArea-output\">\n",
       "    <div style=\"width: 24px; height: 24px; background-color: #e1e1e1; border: 3px solid #9D9D9D; border-radius: 5px; position: absolute;\">\n",
       "    </div>\n",
       "    <div style=\"margin-left: 48px;\">\n",
       "        <h3 style=\"margin-bottom: 0px; margin-top: 0px;\">LocalCluster</h3>\n",
       "        <p style=\"color: #9D9D9D; margin-bottom: 0px;\">4babb317</p>\n",
       "        <table style=\"width: 100%; text-align: left;\">\n",
       "            <tr>\n",
       "                <td style=\"text-align: left;\">\n",
       "                    <strong>Dashboard:</strong> <a href=\"http://127.0.0.1:8787/status\" target=\"_blank\">http://127.0.0.1:8787/status</a>\n",
       "                </td>\n",
       "                <td style=\"text-align: left;\">\n",
       "                    <strong>Workers:</strong> 20\n",
       "                </td>\n",
       "            </tr>\n",
       "            <tr>\n",
       "                <td style=\"text-align: left;\">\n",
       "                    <strong>Total threads:</strong> 20\n",
       "                </td>\n",
       "                <td style=\"text-align: left;\">\n",
       "                    <strong>Total memory:</strong> 31.14 GiB\n",
       "                </td>\n",
       "            </tr>\n",
       "            \n",
       "            <tr>\n",
       "    <td style=\"text-align: left;\"><strong>Status:</strong> running</td>\n",
       "    <td style=\"text-align: left;\"><strong>Using processes:</strong> True</td>\n",
       "</tr>\n",
       "\n",
       "            \n",
       "        </table>\n",
       "\n",
       "        <details>\n",
       "            <summary style=\"margin-bottom: 20px;\">\n",
       "                <h3 style=\"display: inline;\">Scheduler Info</h3>\n",
       "            </summary>\n",
       "\n",
       "            <div style=\"\">\n",
       "    <div>\n",
       "        <div style=\"width: 24px; height: 24px; background-color: #FFF7E5; border: 3px solid #FF6132; border-radius: 5px; position: absolute;\"> </div>\n",
       "        <div style=\"margin-left: 48px;\">\n",
       "            <h3 style=\"margin-bottom: 0px;\">Scheduler</h3>\n",
       "            <p style=\"color: #9D9D9D; margin-bottom: 0px;\">Scheduler-b5e66a09-9c03-40fa-82b8-a73f01199c82</p>\n",
       "            <table style=\"width: 100%; text-align: left;\">\n",
       "                <tr>\n",
       "                    <td style=\"text-align: left;\">\n",
       "                        <strong>Comm:</strong> tcp://127.0.0.1:45887\n",
       "                    </td>\n",
       "                    <td style=\"text-align: left;\">\n",
       "                        <strong>Workers:</strong> 20\n",
       "                    </td>\n",
       "                </tr>\n",
       "                <tr>\n",
       "                    <td style=\"text-align: left;\">\n",
       "                        <strong>Dashboard:</strong> <a href=\"http://127.0.0.1:8787/status\" target=\"_blank\">http://127.0.0.1:8787/status</a>\n",
       "                    </td>\n",
       "                    <td style=\"text-align: left;\">\n",
       "                        <strong>Total threads:</strong> 20\n",
       "                    </td>\n",
       "                </tr>\n",
       "                <tr>\n",
       "                    <td style=\"text-align: left;\">\n",
       "                        <strong>Started:</strong> Just now\n",
       "                    </td>\n",
       "                    <td style=\"text-align: left;\">\n",
       "                        <strong>Total memory:</strong> 31.14 GiB\n",
       "                    </td>\n",
       "                </tr>\n",
       "            </table>\n",
       "        </div>\n",
       "    </div>\n",
       "\n",
       "    <details style=\"margin-left: 48px;\">\n",
       "        <summary style=\"margin-bottom: 20px;\">\n",
       "            <h3 style=\"display: inline;\">Workers</h3>\n",
       "        </summary>\n",
       "\n",
       "        \n",
       "        <div style=\"margin-bottom: 20px;\">\n",
       "            <div style=\"width: 24px; height: 24px; background-color: #DBF5FF; border: 3px solid #4CC9FF; border-radius: 5px; position: absolute;\"> </div>\n",
       "            <div style=\"margin-left: 48px;\">\n",
       "            <details>\n",
       "                <summary>\n",
       "                    <h4 style=\"margin-bottom: 0px; display: inline;\">Worker: 0</h4>\n",
       "                </summary>\n",
       "                <table style=\"width: 100%; text-align: left;\">\n",
       "                    <tr>\n",
       "                        <td style=\"text-align: left;\">\n",
       "                            <strong>Comm: </strong> tcp://127.0.0.1:38439\n",
       "                        </td>\n",
       "                        <td style=\"text-align: left;\">\n",
       "                            <strong>Total threads: </strong> 1\n",
       "                        </td>\n",
       "                    </tr>\n",
       "                    <tr>\n",
       "                        <td style=\"text-align: left;\">\n",
       "                            <strong>Dashboard: </strong> <a href=\"http://127.0.0.1:44753/status\" target=\"_blank\">http://127.0.0.1:44753/status</a>\n",
       "                        </td>\n",
       "                        <td style=\"text-align: left;\">\n",
       "                            <strong>Memory: </strong> 1.56 GiB\n",
       "                        </td>\n",
       "                    </tr>\n",
       "                    <tr>\n",
       "                        <td style=\"text-align: left;\">\n",
       "                            <strong>Nanny: </strong> tcp://127.0.0.1:40525\n",
       "                        </td>\n",
       "                        <td style=\"text-align: left;\"></td>\n",
       "                    </tr>\n",
       "                    <tr>\n",
       "                        <td colspan=\"2\" style=\"text-align: left;\">\n",
       "                            <strong>Local directory: </strong> /home/eeisenst/workspace/compassionai/garland/notebooks/dask-worker-space/worker-z65fjfan\n",
       "                        </td>\n",
       "                    </tr>\n",
       "\n",
       "                    \n",
       "\n",
       "                    \n",
       "\n",
       "                </table>\n",
       "            </details>\n",
       "            </div>\n",
       "        </div>\n",
       "        \n",
       "        <div style=\"margin-bottom: 20px;\">\n",
       "            <div style=\"width: 24px; height: 24px; background-color: #DBF5FF; border: 3px solid #4CC9FF; border-radius: 5px; position: absolute;\"> </div>\n",
       "            <div style=\"margin-left: 48px;\">\n",
       "            <details>\n",
       "                <summary>\n",
       "                    <h4 style=\"margin-bottom: 0px; display: inline;\">Worker: 1</h4>\n",
       "                </summary>\n",
       "                <table style=\"width: 100%; text-align: left;\">\n",
       "                    <tr>\n",
       "                        <td style=\"text-align: left;\">\n",
       "                            <strong>Comm: </strong> tcp://127.0.0.1:37061\n",
       "                        </td>\n",
       "                        <td style=\"text-align: left;\">\n",
       "                            <strong>Total threads: </strong> 1\n",
       "                        </td>\n",
       "                    </tr>\n",
       "                    <tr>\n",
       "                        <td style=\"text-align: left;\">\n",
       "                            <strong>Dashboard: </strong> <a href=\"http://127.0.0.1:38441/status\" target=\"_blank\">http://127.0.0.1:38441/status</a>\n",
       "                        </td>\n",
       "                        <td style=\"text-align: left;\">\n",
       "                            <strong>Memory: </strong> 1.56 GiB\n",
       "                        </td>\n",
       "                    </tr>\n",
       "                    <tr>\n",
       "                        <td style=\"text-align: left;\">\n",
       "                            <strong>Nanny: </strong> tcp://127.0.0.1:44251\n",
       "                        </td>\n",
       "                        <td style=\"text-align: left;\"></td>\n",
       "                    </tr>\n",
       "                    <tr>\n",
       "                        <td colspan=\"2\" style=\"text-align: left;\">\n",
       "                            <strong>Local directory: </strong> /home/eeisenst/workspace/compassionai/garland/notebooks/dask-worker-space/worker-aul6x492\n",
       "                        </td>\n",
       "                    </tr>\n",
       "\n",
       "                    \n",
       "\n",
       "                    \n",
       "\n",
       "                </table>\n",
       "            </details>\n",
       "            </div>\n",
       "        </div>\n",
       "        \n",
       "        <div style=\"margin-bottom: 20px;\">\n",
       "            <div style=\"width: 24px; height: 24px; background-color: #DBF5FF; border: 3px solid #4CC9FF; border-radius: 5px; position: absolute;\"> </div>\n",
       "            <div style=\"margin-left: 48px;\">\n",
       "            <details>\n",
       "                <summary>\n",
       "                    <h4 style=\"margin-bottom: 0px; display: inline;\">Worker: 2</h4>\n",
       "                </summary>\n",
       "                <table style=\"width: 100%; text-align: left;\">\n",
       "                    <tr>\n",
       "                        <td style=\"text-align: left;\">\n",
       "                            <strong>Comm: </strong> tcp://127.0.0.1:37953\n",
       "                        </td>\n",
       "                        <td style=\"text-align: left;\">\n",
       "                            <strong>Total threads: </strong> 1\n",
       "                        </td>\n",
       "                    </tr>\n",
       "                    <tr>\n",
       "                        <td style=\"text-align: left;\">\n",
       "                            <strong>Dashboard: </strong> <a href=\"http://127.0.0.1:35899/status\" target=\"_blank\">http://127.0.0.1:35899/status</a>\n",
       "                        </td>\n",
       "                        <td style=\"text-align: left;\">\n",
       "                            <strong>Memory: </strong> 1.56 GiB\n",
       "                        </td>\n",
       "                    </tr>\n",
       "                    <tr>\n",
       "                        <td style=\"text-align: left;\">\n",
       "                            <strong>Nanny: </strong> tcp://127.0.0.1:35703\n",
       "                        </td>\n",
       "                        <td style=\"text-align: left;\"></td>\n",
       "                    </tr>\n",
       "                    <tr>\n",
       "                        <td colspan=\"2\" style=\"text-align: left;\">\n",
       "                            <strong>Local directory: </strong> /home/eeisenst/workspace/compassionai/garland/notebooks/dask-worker-space/worker-u230unak\n",
       "                        </td>\n",
       "                    </tr>\n",
       "\n",
       "                    \n",
       "\n",
       "                    \n",
       "\n",
       "                </table>\n",
       "            </details>\n",
       "            </div>\n",
       "        </div>\n",
       "        \n",
       "        <div style=\"margin-bottom: 20px;\">\n",
       "            <div style=\"width: 24px; height: 24px; background-color: #DBF5FF; border: 3px solid #4CC9FF; border-radius: 5px; position: absolute;\"> </div>\n",
       "            <div style=\"margin-left: 48px;\">\n",
       "            <details>\n",
       "                <summary>\n",
       "                    <h4 style=\"margin-bottom: 0px; display: inline;\">Worker: 3</h4>\n",
       "                </summary>\n",
       "                <table style=\"width: 100%; text-align: left;\">\n",
       "                    <tr>\n",
       "                        <td style=\"text-align: left;\">\n",
       "                            <strong>Comm: </strong> tcp://127.0.0.1:44657\n",
       "                        </td>\n",
       "                        <td style=\"text-align: left;\">\n",
       "                            <strong>Total threads: </strong> 1\n",
       "                        </td>\n",
       "                    </tr>\n",
       "                    <tr>\n",
       "                        <td style=\"text-align: left;\">\n",
       "                            <strong>Dashboard: </strong> <a href=\"http://127.0.0.1:43195/status\" target=\"_blank\">http://127.0.0.1:43195/status</a>\n",
       "                        </td>\n",
       "                        <td style=\"text-align: left;\">\n",
       "                            <strong>Memory: </strong> 1.56 GiB\n",
       "                        </td>\n",
       "                    </tr>\n",
       "                    <tr>\n",
       "                        <td style=\"text-align: left;\">\n",
       "                            <strong>Nanny: </strong> tcp://127.0.0.1:41465\n",
       "                        </td>\n",
       "                        <td style=\"text-align: left;\"></td>\n",
       "                    </tr>\n",
       "                    <tr>\n",
       "                        <td colspan=\"2\" style=\"text-align: left;\">\n",
       "                            <strong>Local directory: </strong> /home/eeisenst/workspace/compassionai/garland/notebooks/dask-worker-space/worker-2uv1s6xp\n",
       "                        </td>\n",
       "                    </tr>\n",
       "\n",
       "                    \n",
       "\n",
       "                    \n",
       "\n",
       "                </table>\n",
       "            </details>\n",
       "            </div>\n",
       "        </div>\n",
       "        \n",
       "        <div style=\"margin-bottom: 20px;\">\n",
       "            <div style=\"width: 24px; height: 24px; background-color: #DBF5FF; border: 3px solid #4CC9FF; border-radius: 5px; position: absolute;\"> </div>\n",
       "            <div style=\"margin-left: 48px;\">\n",
       "            <details>\n",
       "                <summary>\n",
       "                    <h4 style=\"margin-bottom: 0px; display: inline;\">Worker: 4</h4>\n",
       "                </summary>\n",
       "                <table style=\"width: 100%; text-align: left;\">\n",
       "                    <tr>\n",
       "                        <td style=\"text-align: left;\">\n",
       "                            <strong>Comm: </strong> tcp://127.0.0.1:36275\n",
       "                        </td>\n",
       "                        <td style=\"text-align: left;\">\n",
       "                            <strong>Total threads: </strong> 1\n",
       "                        </td>\n",
       "                    </tr>\n",
       "                    <tr>\n",
       "                        <td style=\"text-align: left;\">\n",
       "                            <strong>Dashboard: </strong> <a href=\"http://127.0.0.1:44285/status\" target=\"_blank\">http://127.0.0.1:44285/status</a>\n",
       "                        </td>\n",
       "                        <td style=\"text-align: left;\">\n",
       "                            <strong>Memory: </strong> 1.56 GiB\n",
       "                        </td>\n",
       "                    </tr>\n",
       "                    <tr>\n",
       "                        <td style=\"text-align: left;\">\n",
       "                            <strong>Nanny: </strong> tcp://127.0.0.1:40689\n",
       "                        </td>\n",
       "                        <td style=\"text-align: left;\"></td>\n",
       "                    </tr>\n",
       "                    <tr>\n",
       "                        <td colspan=\"2\" style=\"text-align: left;\">\n",
       "                            <strong>Local directory: </strong> /home/eeisenst/workspace/compassionai/garland/notebooks/dask-worker-space/worker-9ebruny_\n",
       "                        </td>\n",
       "                    </tr>\n",
       "\n",
       "                    \n",
       "\n",
       "                    \n",
       "\n",
       "                </table>\n",
       "            </details>\n",
       "            </div>\n",
       "        </div>\n",
       "        \n",
       "        <div style=\"margin-bottom: 20px;\">\n",
       "            <div style=\"width: 24px; height: 24px; background-color: #DBF5FF; border: 3px solid #4CC9FF; border-radius: 5px; position: absolute;\"> </div>\n",
       "            <div style=\"margin-left: 48px;\">\n",
       "            <details>\n",
       "                <summary>\n",
       "                    <h4 style=\"margin-bottom: 0px; display: inline;\">Worker: 5</h4>\n",
       "                </summary>\n",
       "                <table style=\"width: 100%; text-align: left;\">\n",
       "                    <tr>\n",
       "                        <td style=\"text-align: left;\">\n",
       "                            <strong>Comm: </strong> tcp://127.0.0.1:38275\n",
       "                        </td>\n",
       "                        <td style=\"text-align: left;\">\n",
       "                            <strong>Total threads: </strong> 1\n",
       "                        </td>\n",
       "                    </tr>\n",
       "                    <tr>\n",
       "                        <td style=\"text-align: left;\">\n",
       "                            <strong>Dashboard: </strong> <a href=\"http://127.0.0.1:37145/status\" target=\"_blank\">http://127.0.0.1:37145/status</a>\n",
       "                        </td>\n",
       "                        <td style=\"text-align: left;\">\n",
       "                            <strong>Memory: </strong> 1.56 GiB\n",
       "                        </td>\n",
       "                    </tr>\n",
       "                    <tr>\n",
       "                        <td style=\"text-align: left;\">\n",
       "                            <strong>Nanny: </strong> tcp://127.0.0.1:37741\n",
       "                        </td>\n",
       "                        <td style=\"text-align: left;\"></td>\n",
       "                    </tr>\n",
       "                    <tr>\n",
       "                        <td colspan=\"2\" style=\"text-align: left;\">\n",
       "                            <strong>Local directory: </strong> /home/eeisenst/workspace/compassionai/garland/notebooks/dask-worker-space/worker-3a0fumdx\n",
       "                        </td>\n",
       "                    </tr>\n",
       "\n",
       "                    \n",
       "\n",
       "                    \n",
       "\n",
       "                </table>\n",
       "            </details>\n",
       "            </div>\n",
       "        </div>\n",
       "        \n",
       "        <div style=\"margin-bottom: 20px;\">\n",
       "            <div style=\"width: 24px; height: 24px; background-color: #DBF5FF; border: 3px solid #4CC9FF; border-radius: 5px; position: absolute;\"> </div>\n",
       "            <div style=\"margin-left: 48px;\">\n",
       "            <details>\n",
       "                <summary>\n",
       "                    <h4 style=\"margin-bottom: 0px; display: inline;\">Worker: 6</h4>\n",
       "                </summary>\n",
       "                <table style=\"width: 100%; text-align: left;\">\n",
       "                    <tr>\n",
       "                        <td style=\"text-align: left;\">\n",
       "                            <strong>Comm: </strong> tcp://127.0.0.1:44021\n",
       "                        </td>\n",
       "                        <td style=\"text-align: left;\">\n",
       "                            <strong>Total threads: </strong> 1\n",
       "                        </td>\n",
       "                    </tr>\n",
       "                    <tr>\n",
       "                        <td style=\"text-align: left;\">\n",
       "                            <strong>Dashboard: </strong> <a href=\"http://127.0.0.1:35777/status\" target=\"_blank\">http://127.0.0.1:35777/status</a>\n",
       "                        </td>\n",
       "                        <td style=\"text-align: left;\">\n",
       "                            <strong>Memory: </strong> 1.56 GiB\n",
       "                        </td>\n",
       "                    </tr>\n",
       "                    <tr>\n",
       "                        <td style=\"text-align: left;\">\n",
       "                            <strong>Nanny: </strong> tcp://127.0.0.1:39253\n",
       "                        </td>\n",
       "                        <td style=\"text-align: left;\"></td>\n",
       "                    </tr>\n",
       "                    <tr>\n",
       "                        <td colspan=\"2\" style=\"text-align: left;\">\n",
       "                            <strong>Local directory: </strong> /home/eeisenst/workspace/compassionai/garland/notebooks/dask-worker-space/worker-j_lnmii9\n",
       "                        </td>\n",
       "                    </tr>\n",
       "\n",
       "                    \n",
       "\n",
       "                    \n",
       "\n",
       "                </table>\n",
       "            </details>\n",
       "            </div>\n",
       "        </div>\n",
       "        \n",
       "        <div style=\"margin-bottom: 20px;\">\n",
       "            <div style=\"width: 24px; height: 24px; background-color: #DBF5FF; border: 3px solid #4CC9FF; border-radius: 5px; position: absolute;\"> </div>\n",
       "            <div style=\"margin-left: 48px;\">\n",
       "            <details>\n",
       "                <summary>\n",
       "                    <h4 style=\"margin-bottom: 0px; display: inline;\">Worker: 7</h4>\n",
       "                </summary>\n",
       "                <table style=\"width: 100%; text-align: left;\">\n",
       "                    <tr>\n",
       "                        <td style=\"text-align: left;\">\n",
       "                            <strong>Comm: </strong> tcp://127.0.0.1:40345\n",
       "                        </td>\n",
       "                        <td style=\"text-align: left;\">\n",
       "                            <strong>Total threads: </strong> 1\n",
       "                        </td>\n",
       "                    </tr>\n",
       "                    <tr>\n",
       "                        <td style=\"text-align: left;\">\n",
       "                            <strong>Dashboard: </strong> <a href=\"http://127.0.0.1:44961/status\" target=\"_blank\">http://127.0.0.1:44961/status</a>\n",
       "                        </td>\n",
       "                        <td style=\"text-align: left;\">\n",
       "                            <strong>Memory: </strong> 1.56 GiB\n",
       "                        </td>\n",
       "                    </tr>\n",
       "                    <tr>\n",
       "                        <td style=\"text-align: left;\">\n",
       "                            <strong>Nanny: </strong> tcp://127.0.0.1:44443\n",
       "                        </td>\n",
       "                        <td style=\"text-align: left;\"></td>\n",
       "                    </tr>\n",
       "                    <tr>\n",
       "                        <td colspan=\"2\" style=\"text-align: left;\">\n",
       "                            <strong>Local directory: </strong> /home/eeisenst/workspace/compassionai/garland/notebooks/dask-worker-space/worker-05yt6fk7\n",
       "                        </td>\n",
       "                    </tr>\n",
       "\n",
       "                    \n",
       "\n",
       "                    \n",
       "\n",
       "                </table>\n",
       "            </details>\n",
       "            </div>\n",
       "        </div>\n",
       "        \n",
       "        <div style=\"margin-bottom: 20px;\">\n",
       "            <div style=\"width: 24px; height: 24px; background-color: #DBF5FF; border: 3px solid #4CC9FF; border-radius: 5px; position: absolute;\"> </div>\n",
       "            <div style=\"margin-left: 48px;\">\n",
       "            <details>\n",
       "                <summary>\n",
       "                    <h4 style=\"margin-bottom: 0px; display: inline;\">Worker: 8</h4>\n",
       "                </summary>\n",
       "                <table style=\"width: 100%; text-align: left;\">\n",
       "                    <tr>\n",
       "                        <td style=\"text-align: left;\">\n",
       "                            <strong>Comm: </strong> tcp://127.0.0.1:33795\n",
       "                        </td>\n",
       "                        <td style=\"text-align: left;\">\n",
       "                            <strong>Total threads: </strong> 1\n",
       "                        </td>\n",
       "                    </tr>\n",
       "                    <tr>\n",
       "                        <td style=\"text-align: left;\">\n",
       "                            <strong>Dashboard: </strong> <a href=\"http://127.0.0.1:38237/status\" target=\"_blank\">http://127.0.0.1:38237/status</a>\n",
       "                        </td>\n",
       "                        <td style=\"text-align: left;\">\n",
       "                            <strong>Memory: </strong> 1.56 GiB\n",
       "                        </td>\n",
       "                    </tr>\n",
       "                    <tr>\n",
       "                        <td style=\"text-align: left;\">\n",
       "                            <strong>Nanny: </strong> tcp://127.0.0.1:35623\n",
       "                        </td>\n",
       "                        <td style=\"text-align: left;\"></td>\n",
       "                    </tr>\n",
       "                    <tr>\n",
       "                        <td colspan=\"2\" style=\"text-align: left;\">\n",
       "                            <strong>Local directory: </strong> /home/eeisenst/workspace/compassionai/garland/notebooks/dask-worker-space/worker-9bzx9olo\n",
       "                        </td>\n",
       "                    </tr>\n",
       "\n",
       "                    \n",
       "\n",
       "                    \n",
       "\n",
       "                </table>\n",
       "            </details>\n",
       "            </div>\n",
       "        </div>\n",
       "        \n",
       "        <div style=\"margin-bottom: 20px;\">\n",
       "            <div style=\"width: 24px; height: 24px; background-color: #DBF5FF; border: 3px solid #4CC9FF; border-radius: 5px; position: absolute;\"> </div>\n",
       "            <div style=\"margin-left: 48px;\">\n",
       "            <details>\n",
       "                <summary>\n",
       "                    <h4 style=\"margin-bottom: 0px; display: inline;\">Worker: 9</h4>\n",
       "                </summary>\n",
       "                <table style=\"width: 100%; text-align: left;\">\n",
       "                    <tr>\n",
       "                        <td style=\"text-align: left;\">\n",
       "                            <strong>Comm: </strong> tcp://127.0.0.1:44077\n",
       "                        </td>\n",
       "                        <td style=\"text-align: left;\">\n",
       "                            <strong>Total threads: </strong> 1\n",
       "                        </td>\n",
       "                    </tr>\n",
       "                    <tr>\n",
       "                        <td style=\"text-align: left;\">\n",
       "                            <strong>Dashboard: </strong> <a href=\"http://127.0.0.1:40893/status\" target=\"_blank\">http://127.0.0.1:40893/status</a>\n",
       "                        </td>\n",
       "                        <td style=\"text-align: left;\">\n",
       "                            <strong>Memory: </strong> 1.56 GiB\n",
       "                        </td>\n",
       "                    </tr>\n",
       "                    <tr>\n",
       "                        <td style=\"text-align: left;\">\n",
       "                            <strong>Nanny: </strong> tcp://127.0.0.1:44865\n",
       "                        </td>\n",
       "                        <td style=\"text-align: left;\"></td>\n",
       "                    </tr>\n",
       "                    <tr>\n",
       "                        <td colspan=\"2\" style=\"text-align: left;\">\n",
       "                            <strong>Local directory: </strong> /home/eeisenst/workspace/compassionai/garland/notebooks/dask-worker-space/worker-9z84zyvl\n",
       "                        </td>\n",
       "                    </tr>\n",
       "\n",
       "                    \n",
       "\n",
       "                    \n",
       "\n",
       "                </table>\n",
       "            </details>\n",
       "            </div>\n",
       "        </div>\n",
       "        \n",
       "        <div style=\"margin-bottom: 20px;\">\n",
       "            <div style=\"width: 24px; height: 24px; background-color: #DBF5FF; border: 3px solid #4CC9FF; border-radius: 5px; position: absolute;\"> </div>\n",
       "            <div style=\"margin-left: 48px;\">\n",
       "            <details>\n",
       "                <summary>\n",
       "                    <h4 style=\"margin-bottom: 0px; display: inline;\">Worker: 10</h4>\n",
       "                </summary>\n",
       "                <table style=\"width: 100%; text-align: left;\">\n",
       "                    <tr>\n",
       "                        <td style=\"text-align: left;\">\n",
       "                            <strong>Comm: </strong> tcp://127.0.0.1:34833\n",
       "                        </td>\n",
       "                        <td style=\"text-align: left;\">\n",
       "                            <strong>Total threads: </strong> 1\n",
       "                        </td>\n",
       "                    </tr>\n",
       "                    <tr>\n",
       "                        <td style=\"text-align: left;\">\n",
       "                            <strong>Dashboard: </strong> <a href=\"http://127.0.0.1:41347/status\" target=\"_blank\">http://127.0.0.1:41347/status</a>\n",
       "                        </td>\n",
       "                        <td style=\"text-align: left;\">\n",
       "                            <strong>Memory: </strong> 1.56 GiB\n",
       "                        </td>\n",
       "                    </tr>\n",
       "                    <tr>\n",
       "                        <td style=\"text-align: left;\">\n",
       "                            <strong>Nanny: </strong> tcp://127.0.0.1:41071\n",
       "                        </td>\n",
       "                        <td style=\"text-align: left;\"></td>\n",
       "                    </tr>\n",
       "                    <tr>\n",
       "                        <td colspan=\"2\" style=\"text-align: left;\">\n",
       "                            <strong>Local directory: </strong> /home/eeisenst/workspace/compassionai/garland/notebooks/dask-worker-space/worker-qpnkqhm_\n",
       "                        </td>\n",
       "                    </tr>\n",
       "\n",
       "                    \n",
       "\n",
       "                    \n",
       "\n",
       "                </table>\n",
       "            </details>\n",
       "            </div>\n",
       "        </div>\n",
       "        \n",
       "        <div style=\"margin-bottom: 20px;\">\n",
       "            <div style=\"width: 24px; height: 24px; background-color: #DBF5FF; border: 3px solid #4CC9FF; border-radius: 5px; position: absolute;\"> </div>\n",
       "            <div style=\"margin-left: 48px;\">\n",
       "            <details>\n",
       "                <summary>\n",
       "                    <h4 style=\"margin-bottom: 0px; display: inline;\">Worker: 11</h4>\n",
       "                </summary>\n",
       "                <table style=\"width: 100%; text-align: left;\">\n",
       "                    <tr>\n",
       "                        <td style=\"text-align: left;\">\n",
       "                            <strong>Comm: </strong> tcp://127.0.0.1:43927\n",
       "                        </td>\n",
       "                        <td style=\"text-align: left;\">\n",
       "                            <strong>Total threads: </strong> 1\n",
       "                        </td>\n",
       "                    </tr>\n",
       "                    <tr>\n",
       "                        <td style=\"text-align: left;\">\n",
       "                            <strong>Dashboard: </strong> <a href=\"http://127.0.0.1:39477/status\" target=\"_blank\">http://127.0.0.1:39477/status</a>\n",
       "                        </td>\n",
       "                        <td style=\"text-align: left;\">\n",
       "                            <strong>Memory: </strong> 1.56 GiB\n",
       "                        </td>\n",
       "                    </tr>\n",
       "                    <tr>\n",
       "                        <td style=\"text-align: left;\">\n",
       "                            <strong>Nanny: </strong> tcp://127.0.0.1:32843\n",
       "                        </td>\n",
       "                        <td style=\"text-align: left;\"></td>\n",
       "                    </tr>\n",
       "                    <tr>\n",
       "                        <td colspan=\"2\" style=\"text-align: left;\">\n",
       "                            <strong>Local directory: </strong> /home/eeisenst/workspace/compassionai/garland/notebooks/dask-worker-space/worker-4s3f20sz\n",
       "                        </td>\n",
       "                    </tr>\n",
       "\n",
       "                    \n",
       "\n",
       "                    \n",
       "\n",
       "                </table>\n",
       "            </details>\n",
       "            </div>\n",
       "        </div>\n",
       "        \n",
       "        <div style=\"margin-bottom: 20px;\">\n",
       "            <div style=\"width: 24px; height: 24px; background-color: #DBF5FF; border: 3px solid #4CC9FF; border-radius: 5px; position: absolute;\"> </div>\n",
       "            <div style=\"margin-left: 48px;\">\n",
       "            <details>\n",
       "                <summary>\n",
       "                    <h4 style=\"margin-bottom: 0px; display: inline;\">Worker: 12</h4>\n",
       "                </summary>\n",
       "                <table style=\"width: 100%; text-align: left;\">\n",
       "                    <tr>\n",
       "                        <td style=\"text-align: left;\">\n",
       "                            <strong>Comm: </strong> tcp://127.0.0.1:45715\n",
       "                        </td>\n",
       "                        <td style=\"text-align: left;\">\n",
       "                            <strong>Total threads: </strong> 1\n",
       "                        </td>\n",
       "                    </tr>\n",
       "                    <tr>\n",
       "                        <td style=\"text-align: left;\">\n",
       "                            <strong>Dashboard: </strong> <a href=\"http://127.0.0.1:42601/status\" target=\"_blank\">http://127.0.0.1:42601/status</a>\n",
       "                        </td>\n",
       "                        <td style=\"text-align: left;\">\n",
       "                            <strong>Memory: </strong> 1.56 GiB\n",
       "                        </td>\n",
       "                    </tr>\n",
       "                    <tr>\n",
       "                        <td style=\"text-align: left;\">\n",
       "                            <strong>Nanny: </strong> tcp://127.0.0.1:40945\n",
       "                        </td>\n",
       "                        <td style=\"text-align: left;\"></td>\n",
       "                    </tr>\n",
       "                    <tr>\n",
       "                        <td colspan=\"2\" style=\"text-align: left;\">\n",
       "                            <strong>Local directory: </strong> /home/eeisenst/workspace/compassionai/garland/notebooks/dask-worker-space/worker-z5vsrnva\n",
       "                        </td>\n",
       "                    </tr>\n",
       "\n",
       "                    \n",
       "\n",
       "                    \n",
       "\n",
       "                </table>\n",
       "            </details>\n",
       "            </div>\n",
       "        </div>\n",
       "        \n",
       "        <div style=\"margin-bottom: 20px;\">\n",
       "            <div style=\"width: 24px; height: 24px; background-color: #DBF5FF; border: 3px solid #4CC9FF; border-radius: 5px; position: absolute;\"> </div>\n",
       "            <div style=\"margin-left: 48px;\">\n",
       "            <details>\n",
       "                <summary>\n",
       "                    <h4 style=\"margin-bottom: 0px; display: inline;\">Worker: 13</h4>\n",
       "                </summary>\n",
       "                <table style=\"width: 100%; text-align: left;\">\n",
       "                    <tr>\n",
       "                        <td style=\"text-align: left;\">\n",
       "                            <strong>Comm: </strong> tcp://127.0.0.1:36271\n",
       "                        </td>\n",
       "                        <td style=\"text-align: left;\">\n",
       "                            <strong>Total threads: </strong> 1\n",
       "                        </td>\n",
       "                    </tr>\n",
       "                    <tr>\n",
       "                        <td style=\"text-align: left;\">\n",
       "                            <strong>Dashboard: </strong> <a href=\"http://127.0.0.1:36269/status\" target=\"_blank\">http://127.0.0.1:36269/status</a>\n",
       "                        </td>\n",
       "                        <td style=\"text-align: left;\">\n",
       "                            <strong>Memory: </strong> 1.56 GiB\n",
       "                        </td>\n",
       "                    </tr>\n",
       "                    <tr>\n",
       "                        <td style=\"text-align: left;\">\n",
       "                            <strong>Nanny: </strong> tcp://127.0.0.1:35031\n",
       "                        </td>\n",
       "                        <td style=\"text-align: left;\"></td>\n",
       "                    </tr>\n",
       "                    <tr>\n",
       "                        <td colspan=\"2\" style=\"text-align: left;\">\n",
       "                            <strong>Local directory: </strong> /home/eeisenst/workspace/compassionai/garland/notebooks/dask-worker-space/worker-z5pgf554\n",
       "                        </td>\n",
       "                    </tr>\n",
       "\n",
       "                    \n",
       "\n",
       "                    \n",
       "\n",
       "                </table>\n",
       "            </details>\n",
       "            </div>\n",
       "        </div>\n",
       "        \n",
       "        <div style=\"margin-bottom: 20px;\">\n",
       "            <div style=\"width: 24px; height: 24px; background-color: #DBF5FF; border: 3px solid #4CC9FF; border-radius: 5px; position: absolute;\"> </div>\n",
       "            <div style=\"margin-left: 48px;\">\n",
       "            <details>\n",
       "                <summary>\n",
       "                    <h4 style=\"margin-bottom: 0px; display: inline;\">Worker: 14</h4>\n",
       "                </summary>\n",
       "                <table style=\"width: 100%; text-align: left;\">\n",
       "                    <tr>\n",
       "                        <td style=\"text-align: left;\">\n",
       "                            <strong>Comm: </strong> tcp://127.0.0.1:39115\n",
       "                        </td>\n",
       "                        <td style=\"text-align: left;\">\n",
       "                            <strong>Total threads: </strong> 1\n",
       "                        </td>\n",
       "                    </tr>\n",
       "                    <tr>\n",
       "                        <td style=\"text-align: left;\">\n",
       "                            <strong>Dashboard: </strong> <a href=\"http://127.0.0.1:42833/status\" target=\"_blank\">http://127.0.0.1:42833/status</a>\n",
       "                        </td>\n",
       "                        <td style=\"text-align: left;\">\n",
       "                            <strong>Memory: </strong> 1.56 GiB\n",
       "                        </td>\n",
       "                    </tr>\n",
       "                    <tr>\n",
       "                        <td style=\"text-align: left;\">\n",
       "                            <strong>Nanny: </strong> tcp://127.0.0.1:41663\n",
       "                        </td>\n",
       "                        <td style=\"text-align: left;\"></td>\n",
       "                    </tr>\n",
       "                    <tr>\n",
       "                        <td colspan=\"2\" style=\"text-align: left;\">\n",
       "                            <strong>Local directory: </strong> /home/eeisenst/workspace/compassionai/garland/notebooks/dask-worker-space/worker-_l7dg6ai\n",
       "                        </td>\n",
       "                    </tr>\n",
       "\n",
       "                    \n",
       "\n",
       "                    \n",
       "\n",
       "                </table>\n",
       "            </details>\n",
       "            </div>\n",
       "        </div>\n",
       "        \n",
       "        <div style=\"margin-bottom: 20px;\">\n",
       "            <div style=\"width: 24px; height: 24px; background-color: #DBF5FF; border: 3px solid #4CC9FF; border-radius: 5px; position: absolute;\"> </div>\n",
       "            <div style=\"margin-left: 48px;\">\n",
       "            <details>\n",
       "                <summary>\n",
       "                    <h4 style=\"margin-bottom: 0px; display: inline;\">Worker: 15</h4>\n",
       "                </summary>\n",
       "                <table style=\"width: 100%; text-align: left;\">\n",
       "                    <tr>\n",
       "                        <td style=\"text-align: left;\">\n",
       "                            <strong>Comm: </strong> tcp://127.0.0.1:44991\n",
       "                        </td>\n",
       "                        <td style=\"text-align: left;\">\n",
       "                            <strong>Total threads: </strong> 1\n",
       "                        </td>\n",
       "                    </tr>\n",
       "                    <tr>\n",
       "                        <td style=\"text-align: left;\">\n",
       "                            <strong>Dashboard: </strong> <a href=\"http://127.0.0.1:41605/status\" target=\"_blank\">http://127.0.0.1:41605/status</a>\n",
       "                        </td>\n",
       "                        <td style=\"text-align: left;\">\n",
       "                            <strong>Memory: </strong> 1.56 GiB\n",
       "                        </td>\n",
       "                    </tr>\n",
       "                    <tr>\n",
       "                        <td style=\"text-align: left;\">\n",
       "                            <strong>Nanny: </strong> tcp://127.0.0.1:35243\n",
       "                        </td>\n",
       "                        <td style=\"text-align: left;\"></td>\n",
       "                    </tr>\n",
       "                    <tr>\n",
       "                        <td colspan=\"2\" style=\"text-align: left;\">\n",
       "                            <strong>Local directory: </strong> /home/eeisenst/workspace/compassionai/garland/notebooks/dask-worker-space/worker-sfj_s6ez\n",
       "                        </td>\n",
       "                    </tr>\n",
       "\n",
       "                    \n",
       "\n",
       "                    \n",
       "\n",
       "                </table>\n",
       "            </details>\n",
       "            </div>\n",
       "        </div>\n",
       "        \n",
       "        <div style=\"margin-bottom: 20px;\">\n",
       "            <div style=\"width: 24px; height: 24px; background-color: #DBF5FF; border: 3px solid #4CC9FF; border-radius: 5px; position: absolute;\"> </div>\n",
       "            <div style=\"margin-left: 48px;\">\n",
       "            <details>\n",
       "                <summary>\n",
       "                    <h4 style=\"margin-bottom: 0px; display: inline;\">Worker: 16</h4>\n",
       "                </summary>\n",
       "                <table style=\"width: 100%; text-align: left;\">\n",
       "                    <tr>\n",
       "                        <td style=\"text-align: left;\">\n",
       "                            <strong>Comm: </strong> tcp://127.0.0.1:46305\n",
       "                        </td>\n",
       "                        <td style=\"text-align: left;\">\n",
       "                            <strong>Total threads: </strong> 1\n",
       "                        </td>\n",
       "                    </tr>\n",
       "                    <tr>\n",
       "                        <td style=\"text-align: left;\">\n",
       "                            <strong>Dashboard: </strong> <a href=\"http://127.0.0.1:38797/status\" target=\"_blank\">http://127.0.0.1:38797/status</a>\n",
       "                        </td>\n",
       "                        <td style=\"text-align: left;\">\n",
       "                            <strong>Memory: </strong> 1.56 GiB\n",
       "                        </td>\n",
       "                    </tr>\n",
       "                    <tr>\n",
       "                        <td style=\"text-align: left;\">\n",
       "                            <strong>Nanny: </strong> tcp://127.0.0.1:46487\n",
       "                        </td>\n",
       "                        <td style=\"text-align: left;\"></td>\n",
       "                    </tr>\n",
       "                    <tr>\n",
       "                        <td colspan=\"2\" style=\"text-align: left;\">\n",
       "                            <strong>Local directory: </strong> /home/eeisenst/workspace/compassionai/garland/notebooks/dask-worker-space/worker-7yo8t8_7\n",
       "                        </td>\n",
       "                    </tr>\n",
       "\n",
       "                    \n",
       "\n",
       "                    \n",
       "\n",
       "                </table>\n",
       "            </details>\n",
       "            </div>\n",
       "        </div>\n",
       "        \n",
       "        <div style=\"margin-bottom: 20px;\">\n",
       "            <div style=\"width: 24px; height: 24px; background-color: #DBF5FF; border: 3px solid #4CC9FF; border-radius: 5px; position: absolute;\"> </div>\n",
       "            <div style=\"margin-left: 48px;\">\n",
       "            <details>\n",
       "                <summary>\n",
       "                    <h4 style=\"margin-bottom: 0px; display: inline;\">Worker: 17</h4>\n",
       "                </summary>\n",
       "                <table style=\"width: 100%; text-align: left;\">\n",
       "                    <tr>\n",
       "                        <td style=\"text-align: left;\">\n",
       "                            <strong>Comm: </strong> tcp://127.0.0.1:36751\n",
       "                        </td>\n",
       "                        <td style=\"text-align: left;\">\n",
       "                            <strong>Total threads: </strong> 1\n",
       "                        </td>\n",
       "                    </tr>\n",
       "                    <tr>\n",
       "                        <td style=\"text-align: left;\">\n",
       "                            <strong>Dashboard: </strong> <a href=\"http://127.0.0.1:33329/status\" target=\"_blank\">http://127.0.0.1:33329/status</a>\n",
       "                        </td>\n",
       "                        <td style=\"text-align: left;\">\n",
       "                            <strong>Memory: </strong> 1.56 GiB\n",
       "                        </td>\n",
       "                    </tr>\n",
       "                    <tr>\n",
       "                        <td style=\"text-align: left;\">\n",
       "                            <strong>Nanny: </strong> tcp://127.0.0.1:40369\n",
       "                        </td>\n",
       "                        <td style=\"text-align: left;\"></td>\n",
       "                    </tr>\n",
       "                    <tr>\n",
       "                        <td colspan=\"2\" style=\"text-align: left;\">\n",
       "                            <strong>Local directory: </strong> /home/eeisenst/workspace/compassionai/garland/notebooks/dask-worker-space/worker-k5wzz51n\n",
       "                        </td>\n",
       "                    </tr>\n",
       "\n",
       "                    \n",
       "\n",
       "                    \n",
       "\n",
       "                </table>\n",
       "            </details>\n",
       "            </div>\n",
       "        </div>\n",
       "        \n",
       "        <div style=\"margin-bottom: 20px;\">\n",
       "            <div style=\"width: 24px; height: 24px; background-color: #DBF5FF; border: 3px solid #4CC9FF; border-radius: 5px; position: absolute;\"> </div>\n",
       "            <div style=\"margin-left: 48px;\">\n",
       "            <details>\n",
       "                <summary>\n",
       "                    <h4 style=\"margin-bottom: 0px; display: inline;\">Worker: 18</h4>\n",
       "                </summary>\n",
       "                <table style=\"width: 100%; text-align: left;\">\n",
       "                    <tr>\n",
       "                        <td style=\"text-align: left;\">\n",
       "                            <strong>Comm: </strong> tcp://127.0.0.1:39201\n",
       "                        </td>\n",
       "                        <td style=\"text-align: left;\">\n",
       "                            <strong>Total threads: </strong> 1\n",
       "                        </td>\n",
       "                    </tr>\n",
       "                    <tr>\n",
       "                        <td style=\"text-align: left;\">\n",
       "                            <strong>Dashboard: </strong> <a href=\"http://127.0.0.1:33639/status\" target=\"_blank\">http://127.0.0.1:33639/status</a>\n",
       "                        </td>\n",
       "                        <td style=\"text-align: left;\">\n",
       "                            <strong>Memory: </strong> 1.56 GiB\n",
       "                        </td>\n",
       "                    </tr>\n",
       "                    <tr>\n",
       "                        <td style=\"text-align: left;\">\n",
       "                            <strong>Nanny: </strong> tcp://127.0.0.1:43319\n",
       "                        </td>\n",
       "                        <td style=\"text-align: left;\"></td>\n",
       "                    </tr>\n",
       "                    <tr>\n",
       "                        <td colspan=\"2\" style=\"text-align: left;\">\n",
       "                            <strong>Local directory: </strong> /home/eeisenst/workspace/compassionai/garland/notebooks/dask-worker-space/worker-gpn2umdd\n",
       "                        </td>\n",
       "                    </tr>\n",
       "\n",
       "                    \n",
       "\n",
       "                    \n",
       "\n",
       "                </table>\n",
       "            </details>\n",
       "            </div>\n",
       "        </div>\n",
       "        \n",
       "        <div style=\"margin-bottom: 20px;\">\n",
       "            <div style=\"width: 24px; height: 24px; background-color: #DBF5FF; border: 3px solid #4CC9FF; border-radius: 5px; position: absolute;\"> </div>\n",
       "            <div style=\"margin-left: 48px;\">\n",
       "            <details>\n",
       "                <summary>\n",
       "                    <h4 style=\"margin-bottom: 0px; display: inline;\">Worker: 19</h4>\n",
       "                </summary>\n",
       "                <table style=\"width: 100%; text-align: left;\">\n",
       "                    <tr>\n",
       "                        <td style=\"text-align: left;\">\n",
       "                            <strong>Comm: </strong> tcp://127.0.0.1:43939\n",
       "                        </td>\n",
       "                        <td style=\"text-align: left;\">\n",
       "                            <strong>Total threads: </strong> 1\n",
       "                        </td>\n",
       "                    </tr>\n",
       "                    <tr>\n",
       "                        <td style=\"text-align: left;\">\n",
       "                            <strong>Dashboard: </strong> <a href=\"http://127.0.0.1:45703/status\" target=\"_blank\">http://127.0.0.1:45703/status</a>\n",
       "                        </td>\n",
       "                        <td style=\"text-align: left;\">\n",
       "                            <strong>Memory: </strong> 1.56 GiB\n",
       "                        </td>\n",
       "                    </tr>\n",
       "                    <tr>\n",
       "                        <td style=\"text-align: left;\">\n",
       "                            <strong>Nanny: </strong> tcp://127.0.0.1:35145\n",
       "                        </td>\n",
       "                        <td style=\"text-align: left;\"></td>\n",
       "                    </tr>\n",
       "                    <tr>\n",
       "                        <td colspan=\"2\" style=\"text-align: left;\">\n",
       "                            <strong>Local directory: </strong> /home/eeisenst/workspace/compassionai/garland/notebooks/dask-worker-space/worker-p2tqfu7q\n",
       "                        </td>\n",
       "                    </tr>\n",
       "\n",
       "                    \n",
       "\n",
       "                    \n",
       "\n",
       "                </table>\n",
       "            </details>\n",
       "            </div>\n",
       "        </div>\n",
       "        \n",
       "\n",
       "    </details>\n",
       "</div>\n",
       "\n",
       "        </details>\n",
       "    </div>\n",
       "</div>\n",
       "            </details>\n",
       "        \n",
       "\n",
       "    </div>\n",
       "</div>"
      ],
      "text/plain": [
       "<Client: 'tcp://127.0.0.1:45887' processes=20 threads=20, memory=31.14 GiB>"
      ]
     },
     "execution_count": 4,
     "metadata": {},
     "output_type": "execute_result"
    }
   ],
   "source": [
    "dask_client"
   ]
  },
  {
   "cell_type": "markdown",
   "id": "7f47586b-c974-451d-b959-b4fd0bbdcbe7",
   "metadata": {},
   "source": [
    "# Cleanly shut down Dask cluster"
   ]
  },
  {
   "cell_type": "code",
   "execution_count": 5,
   "id": "bbbd0d2d-7802-43f7-9b86-59d411a21149",
   "metadata": {},
   "outputs": [
    {
     "name": "stderr",
     "output_type": "stream",
     "text": [
      "2023-06-13 16:01:19,086 - distributed.client - ERROR - Failed to reconnect to scheduler after 30.00 seconds, closing client\n"
     ]
    }
   ],
   "source": [
    "dask_cluster.close()"
   ]
  },
  {
   "cell_type": "markdown",
   "id": "f8cd6ca5-1e9b-4381-bf55-3184b7df5a3c",
   "metadata": {},
   "source": [
    "# Join English and Tibetan dataframes"
   ]
  },
  {
   "cell_type": "code",
   "execution_count": 5,
   "id": "1d440b9e-bb07-46f7-8def-d5bf3eee5b19",
   "metadata": {},
   "outputs": [],
   "source": [
    "from cai_common.data import TeiLoader, KangyurLoader"
   ]
  },
  {
   "cell_type": "code",
   "execution_count": 6,
   "id": "829e3215-ef63-4b4e-b044-b41f63562fe9",
   "metadata": {},
   "outputs": [],
   "source": [
    "en_df = TeiLoader('kangyur').dataframe\n",
    "en_df['location'] = en_df.location.fillna(0).astype(int)\n",
    "en_df = dask_client.persist(en_df)"
   ]
  },
  {
   "cell_type": "code",
   "execution_count": 7,
   "id": "0318db14-3f1c-4150-8576-5afeae59d0bb",
   "metadata": {},
   "outputs": [
    {
     "name": "stderr",
     "output_type": "stream",
     "text": [
      "In toh101, the current page was 453 which is larger than the end page 452 for volume 48, xml:id=UT22084-048-001-4468\n"
     ]
    },
    {
     "data": {
      "text/plain": [
       "19298"
      ]
     },
     "execution_count": 7,
     "metadata": {},
     "output_type": "execute_result"
    }
   ],
   "source": [
    "len(en_df)"
   ]
  },
  {
   "cell_type": "code",
   "execution_count": 8,
   "id": "4fc57967-ee91-4a68-b854-2eba1a0e5414",
   "metadata": {},
   "outputs": [
    {
     "data": {
      "text/html": [
       "<div>\n",
       "<style scoped>\n",
       "    .dataframe tbody tr th:only-of-type {\n",
       "        vertical-align: middle;\n",
       "    }\n",
       "\n",
       "    .dataframe tbody tr th {\n",
       "        vertical-align: top;\n",
       "    }\n",
       "\n",
       "    .dataframe thead th {\n",
       "        text-align: right;\n",
       "    }\n",
       "</style>\n",
       "<table border=\"1\" class=\"dataframe\">\n",
       "  <thead>\n",
       "    <tr style=\"text-align: right;\">\n",
       "      <th></th>\n",
       "      <th>filename</th>\n",
       "      <th>tohoku_number</th>\n",
       "      <th>volume_number</th>\n",
       "      <th>location</th>\n",
       "      <th>text</th>\n",
       "    </tr>\n",
       "  </thead>\n",
       "  <tbody>\n",
       "    <tr>\n",
       "      <th>0</th>\n",
       "      <td>058-003_toh154-the_sutra_of_the_questions_of_t...</td>\n",
       "      <td>toh154</td>\n",
       "      <td>58</td>\n",
       "      <td>0</td>\n",
       "      <td>The Translation  The Noble Mahāyāna Sūtra Th...</td>\n",
       "    </tr>\n",
       "    <tr>\n",
       "      <th>1</th>\n",
       "      <td>058-003_toh154-the_sutra_of_the_questions_of_t...</td>\n",
       "      <td>toh154</td>\n",
       "      <td>58</td>\n",
       "      <td>394</td>\n",
       "      <td>Homage to all buddhas and bodhisattvas!   Thu...</td>\n",
       "    </tr>\n",
       "    <tr>\n",
       "      <th>2</th>\n",
       "      <td>058-003_toh154-the_sutra_of_the_questions_of_t...</td>\n",
       "      <td>toh154</td>\n",
       "      <td>58</td>\n",
       "      <td>395</td>\n",
       "      <td>This is also what causes the variety of being...</td>\n",
       "    </tr>\n",
       "    <tr>\n",
       "      <th>3</th>\n",
       "      <td>058-003_toh154-the_sutra_of_the_questions_of_t...</td>\n",
       "      <td>toh154</td>\n",
       "      <td>58</td>\n",
       "      <td>396</td>\n",
       "      <td>“Lord of nāgas, this dominion of yours like...</td>\n",
       "    </tr>\n",
       "    <tr>\n",
       "      <th>4</th>\n",
       "      <td>058-003_toh154-the_sutra_of_the_questions_of_t...</td>\n",
       "      <td>toh154</td>\n",
       "      <td>58</td>\n",
       "      <td>397</td>\n",
       "      <td>for nonvirtuous thoughts and mental states to...</td>\n",
       "    </tr>\n",
       "  </tbody>\n",
       "</table>\n",
       "</div>"
      ],
      "text/plain": [
       "                                            filename tohoku_number  \\\n",
       "0  058-003_toh154-the_sutra_of_the_questions_of_t...        toh154   \n",
       "1  058-003_toh154-the_sutra_of_the_questions_of_t...        toh154   \n",
       "2  058-003_toh154-the_sutra_of_the_questions_of_t...        toh154   \n",
       "3  058-003_toh154-the_sutra_of_the_questions_of_t...        toh154   \n",
       "4  058-003_toh154-the_sutra_of_the_questions_of_t...        toh154   \n",
       "\n",
       "   volume_number  location                                               text  \n",
       "0             58         0    The Translation  The Noble Mahāyāna Sūtra Th...  \n",
       "1             58       394   Homage to all buddhas and bodhisattvas!   Thu...  \n",
       "2             58       395   This is also what causes the variety of being...  \n",
       "3             58       396     “Lord of nāgas, this dominion of yours like...  \n",
       "4             58       397   for nonvirtuous thoughts and mental states to...  "
      ]
     },
     "execution_count": 8,
     "metadata": {},
     "output_type": "execute_result"
    }
   ],
   "source": [
    "en_df.head()"
   ]
  },
  {
   "cell_type": "code",
   "execution_count": 9,
   "id": "f188f31e-07ad-4322-868d-63dc168e29c3",
   "metadata": {},
   "outputs": [],
   "source": [
    "bo_df = KangyurLoader().remove_new_lines().dataframe\n",
    "bo_df['location'] = bo_df.location.astype(int)\n",
    "bo_df = dask_client.persist(bo_df)"
   ]
  },
  {
   "cell_type": "code",
   "execution_count": 10,
   "id": "df86155f-ef15-4635-a094-020c5de65066",
   "metadata": {},
   "outputs": [
    {
     "data": {
      "text/plain": [
       "65461"
      ]
     },
     "execution_count": 10,
     "metadata": {},
     "output_type": "execute_result"
    }
   ],
   "source": [
    "len(bo_df)"
   ]
  },
  {
   "cell_type": "code",
   "execution_count": 11,
   "id": "97ddad35-8355-496d-b4f1-daa2c0c79bbe",
   "metadata": {},
   "outputs": [
    {
     "data": {
      "text/html": [
       "<div>\n",
       "<style scoped>\n",
       "    .dataframe tbody tr th:only-of-type {\n",
       "        vertical-align: middle;\n",
       "    }\n",
       "\n",
       "    .dataframe tbody tr th {\n",
       "        vertical-align: top;\n",
       "    }\n",
       "\n",
       "    .dataframe thead th {\n",
       "        text-align: right;\n",
       "    }\n",
       "</style>\n",
       "<table border=\"1\" class=\"dataframe\">\n",
       "  <thead>\n",
       "    <tr style=\"text-align: right;\">\n",
       "      <th></th>\n",
       "      <th>filename</th>\n",
       "      <th>volume_number</th>\n",
       "      <th>location</th>\n",
       "      <th>text</th>\n",
       "    </tr>\n",
       "  </thead>\n",
       "  <tbody>\n",
       "    <tr>\n",
       "      <th>0</th>\n",
       "      <td>v076_pages.txt</td>\n",
       "      <td>76</td>\n",
       "      <td>0</td>\n",
       "      <td>༄༅། །མདོ་སྡེ་ཨཱཾཿ་ཞུགས་སོ།།</td>\n",
       "    </tr>\n",
       "    <tr>\n",
       "      <th>1</th>\n",
       "      <td>v076_pages.txt</td>\n",
       "      <td>76</td>\n",
       "      <td>1</td>\n",
       "      <td>༄༅༅། །རྒྱ་གར་སྐད་དུ། པུ་ཎྱ་བ་ལ་ཨ་བ་དཱ་ན། བོད་ས...</td>\n",
       "    </tr>\n",
       "    <tr>\n",
       "      <th>2</th>\n",
       "      <td>v076_pages.txt</td>\n",
       "      <td>76</td>\n",
       "      <td>2</td>\n",
       "      <td>པར་བླངས་ཏེ་གནས་པར་མ་བྱས་པས་ལུས་ཞིག་སྟེ་ཤི་བའི་...</td>\n",
       "    </tr>\n",
       "    <tr>\n",
       "      <th>3</th>\n",
       "      <td>v076_pages.txt</td>\n",
       "      <td>76</td>\n",
       "      <td>3</td>\n",
       "      <td>བའི་ལས་དག་བྱེད་པ་ཡིན། །དམ་པ་མིན་པས་མི་རྟོགས་ཏེ...</td>\n",
       "    </tr>\n",
       "    <tr>\n",
       "      <th>4</th>\n",
       "      <td>v076_pages.txt</td>\n",
       "      <td>76</td>\n",
       "      <td>4</td>\n",
       "      <td>ཚེ་དང་ལྡན་པ་མ་འགགས་པ་དང་། ཚེ་དང་ལྡན་པ་ཤཱ་རིའི་...</td>\n",
       "    </tr>\n",
       "  </tbody>\n",
       "</table>\n",
       "</div>"
      ],
      "text/plain": [
       "         filename volume_number  location  \\\n",
       "0  v076_pages.txt            76         0   \n",
       "1  v076_pages.txt            76         1   \n",
       "2  v076_pages.txt            76         2   \n",
       "3  v076_pages.txt            76         3   \n",
       "4  v076_pages.txt            76         4   \n",
       "\n",
       "                                                text  \n",
       "0                        ༄༅། །མདོ་སྡེ་ཨཱཾཿ་ཞུགས་སོ།།  \n",
       "1  ༄༅༅། །རྒྱ་གར་སྐད་དུ། པུ་ཎྱ་བ་ལ་ཨ་བ་དཱ་ན། བོད་ས...  \n",
       "2  པར་བླངས་ཏེ་གནས་པར་མ་བྱས་པས་ལུས་ཞིག་སྟེ་ཤི་བའི་...  \n",
       "3  བའི་ལས་དག་བྱེད་པ་ཡིན། །དམ་པ་མིན་པས་མི་རྟོགས་ཏེ...  \n",
       "4  ཚེ་དང་ལྡན་པ་མ་འགགས་པ་དང་། ཚེ་དང་ལྡན་པ་ཤཱ་རིའི་...  "
      ]
     },
     "execution_count": 11,
     "metadata": {},
     "output_type": "execute_result"
    }
   ],
   "source": [
    "bo_df.head()"
   ]
  },
  {
   "cell_type": "markdown",
   "id": "7f1b6d1c-e43a-4038-a036-49b2137463c1",
   "metadata": {},
   "source": [
    "# Load translator"
   ]
  },
  {
   "cell_type": "code",
   "execution_count": 22,
   "id": "23620830-392e-42fd-99d4-edcb000c1b13",
   "metadata": {},
   "outputs": [],
   "source": [
    "import os\n",
    "\n",
    "from cai_garland.utils.translator import Translator"
   ]
  },
  {
   "cell_type": "code",
   "execution_count": 25,
   "id": "297390dd-273c-42db-ba31-2352df2549d0",
   "metadata": {},
   "outputs": [],
   "source": [
    "# translator = Translator(os.path.join(\"olive-cormorant-nllb\", \"base-600M\"))\n",
    "translator = Translator(os.path.join(\"olive-cormorant-bart\", \"base-base\"))\n",
    "\n",
    "translator.num_beams = 20\n",
    "translator.decoding_length = 200\n",
    "\n",
    "# translator.prepare_context_encoder(\"facebook/bart-base\")\n",
    "\n",
    "translator.cuda()"
   ]
  },
  {
   "cell_type": "markdown",
   "id": "c5e42c9f-dfb8-4525-a28d-b759433c325b",
   "metadata": {},
   "source": [
    "## Create helpers from lotsawa-translate config"
   ]
  },
  {
   "cell_type": "code",
   "execution_count": 14,
   "id": "927e3542-67d6-4477-b43e-71fb49182635",
   "metadata": {},
   "outputs": [
    {
     "data": {
      "text/plain": [
       "'1.2.0'"
      ]
     },
     "execution_count": 14,
     "metadata": {},
     "output_type": "execute_result"
    }
   ],
   "source": [
    "import hydra\n",
    "\n",
    "hydra.__version__"
   ]
  },
  {
   "cell_type": "code",
   "execution_count": 15,
   "id": "bb4c6ab6-2630-4812-b918-90fe46601b60",
   "metadata": {},
   "outputs": [],
   "source": [
    "with hydra.initialize(version_base=\"1.2\", config_path=\"../../lotsawa/src/lotsawa/translation_config/\"):\n",
    "    translator_cfg = hydra.compose(config_name=\"translate\")\n",
    "    generation_cfg = translator_cfg.generation"
   ]
  },
  {
   "cell_type": "code",
   "execution_count": 16,
   "id": "875136a4-314a-405d-8927-35987ff7e33c",
   "metadata": {},
   "outputs": [],
   "source": [
    "translator.hard_segmenter = hydra.utils.instantiate(generation_cfg.segmentation.hard_segmentation)\n",
    "\n",
    "translator.preprocessors = [\n",
    "    hydra.utils.instantiate(preproc_func)\n",
    "    for preproc_func in generation_cfg.processing.preprocessing\n",
    "]\n",
    "\n",
    "translator.soft_segmenter = hydra.utils.instantiate(\n",
    "    generation_cfg.segmentation.soft_segmentation, translator=translator)\n",
    "\n",
    "translator.soft_segment_combiner_config = getattr(generation_cfg.segmentation, \"soft_segment_combiner\", None)\n",
    "translator.soft_segment_preprocessors = [\n",
    "    hydra.utils.instantiate(preproc_func)\n",
    "    for preproc_func in generation_cfg.processing.get(\"soft_segment_preprocessing\", [])\n",
    "]\n",
    "\n",
    "translator.postprocessors = [\n",
    "    hydra.utils.instantiate(preproc_func)\n",
    "    for preproc_func in generation_cfg.processing.postprocessing\n",
    "]"
   ]
  },
  {
   "cell_type": "markdown",
   "id": "6cbafb25-2bba-4460-9a3f-f979c39d48e2",
   "metadata": {},
   "source": [
    "## Load processors of English text"
   ]
  },
  {
   "cell_type": "code",
   "execution_count": 17,
   "id": "aef81ef8-f538-406b-8272-a6c10230f7ce",
   "metadata": {},
   "outputs": [],
   "source": [
    "with hydra.initialize(version_base=\"1.2\", config_path=\"../../garland/src/cai_garland/data/dataset_prep.config/\"):\n",
    "    processor_cfg = hydra.compose(config_name=\"parallel_dataset_prep\")"
   ]
  },
  {
   "cell_type": "code",
   "execution_count": 18,
   "id": "cc60420d-bd2b-4ada-bc75-c196477b271e",
   "metadata": {},
   "outputs": [],
   "source": [
    "from cai_garland.utils.str_processors import ProcessorSymbolCleaningJSON\n",
    "\n",
    "ProcessorSymbolCleaningJSON.base_dir = os.path.dirname(\"../../garland/src/cai_garland/data/\")"
   ]
  },
  {
   "cell_type": "code",
   "execution_count": 19,
   "id": "cc780312-f5ad-4cdf-84fb-4a693e03a1c1",
   "metadata": {},
   "outputs": [],
   "source": [
    "en_processors_1 = [hydra.utils.instantiate(proc) for proc in processor_cfg.stages['naive-concats-sequenced'].dataset.preprocessing.target_lang]\n",
    "en_processors_2 = [hydra.utils.instantiate(proc) for proc in processor_cfg.output.postprocessing.target_lang]\n",
    "\n",
    "en_processors = en_processors_1 + en_processors_2\n",
    "del en_processors_1, en_processors_2"
   ]
  },
  {
   "cell_type": "code",
   "execution_count": 20,
   "id": "7a6e3984-d115-4546-9791-294e1dd10c30",
   "metadata": {},
   "outputs": [],
   "source": [
    "def process_en_text(en_text):\n",
    "    for processor in en_processors:\n",
    "        en_text = processor(en_text)\n",
    "    return en_text"
   ]
  },
  {
   "cell_type": "code",
   "execution_count": null,
   "id": "1b813fac-556e-4077-8ecc-ccfdc024c22a",
   "metadata": {},
   "outputs": [],
   "source": []
  },
  {
   "cell_type": "code",
   "execution_count": null,
   "id": "0a590ecf-ed45-4514-ae27-8b40500ca13b",
   "metadata": {},
   "outputs": [],
   "source": []
  },
  {
   "cell_type": "code",
   "execution_count": 39,
   "id": "ad3f5769-1dd6-4612-ba24-a25f3e054faf",
   "metadata": {},
   "outputs": [
    {
     "name": "stderr",
     "output_type": "stream",
     "text": [
      "/home/eeisenst/workspace/contribs/original/transformers/src/transformers/tokenization_utils_base.py:3606: UserWarning: `as_target_tokenizer` is deprecated and will be removed in v5 of Transformers. You can tokenize your labels by using the argument `text_target` of the regular `__call__` method (either in the same call as your input texts if you use the same keyword arguments, or in a separate call.\n",
      "  warnings.warn(\n"
     ]
    },
    {
     "data": {
      "text/plain": [
       "[294,\n",
       " 2700,\n",
       " 90571,\n",
       " 1559,\n",
       " 174,\n",
       " 9,\n",
       " 3068,\n",
       " 305,\n",
       " 2610,\n",
       " 39622,\n",
       " 149,\n",
       " 65429,\n",
       " 90575,\n",
       " 11000,\n",
       " 3068,\n",
       " 40447,\n",
       " 90571]"
      ]
     },
     "execution_count": 39,
     "metadata": {},
     "output_type": "execute_result"
    }
   ],
   "source": [
    "with translator.tokenizer.as_target_tokenizer():\n",
    "    tkns = translator.tokenizer.encode(\n",
    "        \"hi there. this is a test of what happens to periods, another test sentence.\", add_special_tokens=False)\n",
    "tkns"
   ]
  },
  {
   "cell_type": "code",
   "execution_count": 33,
   "id": "05a2b18c-f3e1-48d2-9d02-23b5b59b9f67",
   "metadata": {},
   "outputs": [
    {
     "data": {
      "text/plain": [
       "({'input_ids': [90590, 90590, 294, 2700, 90571, 2], 'attention_mask': [1, 1, 1, 1, 1, 1], 'tokens_fixed': [1]},\n",
       " {'input_ids': [90590, 90590, 1559, 174, 9, 3068, 305, 2610, 39622, 149, 65429, 90575, 2], 'attention_mask': [1, 1, 1, 1, 1, 1, 1, 1, 1, 1, 1, 1, 1], 'tokens_fixed': [1]},\n",
       " {'input_ids': [90590, 90590, 11000, 3068, 40447, 90571, 2], 'attention_mask': [1, 1, 1, 1, 1, 1, 1], 'tokens_fixed': [1]})"
      ]
     },
     "execution_count": 33,
     "metadata": {},
     "output_type": "execute_result"
    }
   ],
   "source": [
    "with translator.tokenizer.as_target_tokenizer():\n",
    "    tkns1 = translator.tokenizer(\"hi there.\")\n",
    "with translator.tokenizer.as_target_tokenizer():\n",
    "    tkns2 = translator.tokenizer(\"this is a test of what happens to periods,\")\n",
    "with translator.tokenizer.as_target_tokenizer():\n",
    "    tkns3 = translator.tokenizer(\"another test sentence.\")\n",
    "tkns1, tkns2, tkns3"
   ]
  },
  {
   "cell_type": "code",
   "execution_count": 60,
   "id": "b481cba7-3529-4481-b333-4a690ad445aa",
   "metadata": {},
   "outputs": [
    {
     "name": "stdout",
     "output_type": "stream",
     "text": [
      "[2]\n"
     ]
    }
   ],
   "source": [
    "# with translator.tokenizer.as_target_tokenizer():\n",
    "#     print(translator.tokenizer.eos_token_id)\n",
    "translator.tokenizer.target_tokenizer.__dict__.keys()\n",
    "# translator.tokenizer.target_tokenizer.lang_code_to_id[translator.tokenizer.target_tokenizer.tgt_lang]\n",
    "# translator.tokenizer.target_tokenizer.bos_token_id\n",
    "with translator.tokenizer.as_target_tokenizer():\n",
    "    print(translator.tokenizer.encode(\"\")[-1:])"
   ]
  },
  {
   "cell_type": "code",
   "execution_count": 34,
   "id": "7038e783-142b-4bc4-beba-e4c5baec69e5",
   "metadata": {},
   "outputs": [
    {
     "name": "stdout",
     "output_type": "stream",
     "text": [
      "eng_Latneng_Latn hi there. this is a test of what happens to periods, another test sentence.</s>\n"
     ]
    }
   ],
   "source": [
    "with translator.tokenizer.as_target_tokenizer():\n",
    "    print(translator.tokenizer.decode(tkns['input_ids']))"
   ]
  },
  {
   "cell_type": "code",
   "execution_count": 36,
   "id": "ed2ce33f-de2b-4f7d-ba65-3d01329bbb26",
   "metadata": {},
   "outputs": [
    {
     "name": "stdout",
     "output_type": "stream",
     "text": [
      "eng_Latneng_Latn this is a test of what happens to periods,</s>\n"
     ]
    }
   ],
   "source": [
    "with translator.tokenizer.as_target_tokenizer():\n",
    "    print(translator.tokenizer.decode(tkns2['input_ids']))"
   ]
  },
  {
   "cell_type": "code",
   "execution_count": 62,
   "id": "8436fa0b-2b7c-46d4-be7e-0a5792f993e3",
   "metadata": {},
   "outputs": [
    {
     "data": {
      "text/plain": [
       "{'input_ids': tensor([[90590, 90590,   294,  2700, 90571,     2]]), 'attention_mask': tensor([[1, 1, 1, 1, 1, 1]]), 'tokens_fixed': [1]}"
      ]
     },
     "execution_count": 62,
     "metadata": {},
     "output_type": "execute_result"
    }
   ],
   "source": [
    "with translator.tokenizer.as_target_tokenizer():\n",
    "    tkns1 = translator.tokenizer(\"hi there.\", return_tensors=\"pt\")\n",
    "tkns1"
   ]
  },
  {
   "cell_type": "markdown",
   "id": "cda4e12d-56c3-4728-b04f-d8238187f682",
   "metadata": {},
   "source": [
    "# Test of individual segments"
   ]
  },
  {
   "cell_type": "code",
   "execution_count": null,
   "id": "3ce51d3b-369e-4fa6-a115-23db0899259f",
   "metadata": {},
   "outputs": [],
   "source": [
    "# en_df.sample(frac=0.1).compute().sample(frac=0.01).sort_values('tohoku_number')\n",
    "# en_df[en_df.tohoku_number == 'toh257'].compute().sample(frac=0.05).sort_values('tohoku_number')\n",
    "en_df[en_df.tohoku_number == 'toh686'].compute().sample(frac=0.02).sort_values('tohoku_number')"
   ]
  },
  {
   "cell_type": "code",
   "execution_count": null,
   "id": "d1439097-f2a1-43eb-880e-0e2e44a9ac16",
   "metadata": {},
   "outputs": [],
   "source": [
    "volume_number, location = 92, 362"
   ]
  },
  {
   "cell_type": "code",
   "execution_count": null,
   "id": "1da71d19-e7ac-4808-9c6d-971368463d67",
   "metadata": {},
   "outputs": [],
   "source": [
    "bo_df[(bo_df.volume_number == volume_number) & (bo_df.location == location - 1)].compute().text.values[0]"
   ]
  },
  {
   "cell_type": "code",
   "execution_count": null,
   "id": "6b4d78a3-58b7-482f-be9c-fdc34af2fe48",
   "metadata": {},
   "outputs": [],
   "source": [
    "bo_df[(bo_df.volume_number == volume_number) & (bo_df.location == location)].compute().text.values[0]"
   ]
  },
  {
   "cell_type": "code",
   "execution_count": null,
   "id": "2db309e3-45ce-4898-b8a0-afd2028877c3",
   "metadata": {},
   "outputs": [],
   "source": [
    "bo_df[(bo_df.volume_number == volume_number) & (bo_df.location == location + 1)].compute().text.values[0]"
   ]
  },
  {
   "cell_type": "code",
   "execution_count": null,
   "id": "b573a579-a7d6-407e-966c-d4f7fecf0de2",
   "metadata": {},
   "outputs": [],
   "source": [
    "en_df[(en_df.volume_number == volume_number) & (en_df.location == location)].compute()"
   ]
  },
  {
   "cell_type": "code",
   "execution_count": null,
   "id": "f224e401-7013-4a4e-bea1-0450ed054c1f",
   "metadata": {},
   "outputs": [],
   "source": [
    "en_text = \"Lorem ipsum dolor sit amet, consectetur adipiscing elit, sed do eiusmod tempor incididunt ut labore et dolore magna aliqua. Ut enim ad minim veniam, quis nostrud exercitation ullamco laboris nisi ut aliquip ex ea commodo consequat. Duis aute irure dolor in reprehenderit in voluptate velit esse cillum dolore eu fugiat nulla pariatur. Excepteur sint occaecat cupidatat non proident, sunt in culpa qui officia deserunt mollit anim id est laborum.\""
   ]
  },
  {
   "cell_type": "code",
   "execution_count": null,
   "id": "3e3f99d9-6624-4d6a-8856-ffe0ee056330",
   "metadata": {},
   "outputs": [],
   "source": [
    "en_text = en_df[(en_df.volume_number == volume_number) & (en_df.location == location)].compute().text.values[0]\n",
    "en_text"
   ]
  },
  {
   "cell_type": "code",
   "execution_count": null,
   "id": "99a3ba8e-9948-4d16-9375-6992ce5ff705",
   "metadata": {},
   "outputs": [],
   "source": [
    "bo_text = \"།རིགས་ཀྱི་བུ་ཁྱོད་ཀྱང་ད་ལྟར་ཏིང་ངེ་འཛིན་ལས་ལངས་པས་རིགས་ཀྱི་བུ་ཁྱོད་ད་མི་མཇེད་ཀྱི་འཇིག་རྟེན་གྱི་ཁམས་སུ་འགྲོ་བར་བྱའོ།\"\n",
    "bo_text = \"།རིགས་ཀྱི་བུ་སངས་རྒྱས་ཀྱི་ཞིང་མི་མཇེད་དེ་ན་ནི་སེམས་ཅན་རྣམས་ཤིན་ཏུ་སྲེད་པའི་ཀུན་ཏུ་སྦྱོར་བ་དང་ལྡན་ཞིང་སྲིད་པའི་ལྟུང་ལ་བཏགས་པ་དག་ཡིན་ཏེ།\"\n",
    "bo_text = \"སངས་རྒྱས་ཀྱི་ཞིང་དེ་ན་ནང་ན་ཡང་བུད་མེད་གཟུགས་མི་སྡུག་པ་དང་། ཚུལ་དུ་མི་ཤིས་པ་དང་། མཆོག་ཏུ་གཟུགས་ཀྱི་རྒྱགས་པས་དྲེགས་པ་དང་།\"\n",
    "bo_text = \"དྲི་ང་བ་དང་། མི་གཙང་བ་དང་། གཙང་སྦྲར་སྤྱོད་པའི་རྒྱགས་པས་དྲེགས་པ་དང་།\"\n",
    "bo_text = \"ངོ་གཉིས་བྱེད་པ་དང་། བདེན་པ་མ་ཡིན་པའི་ཚིག་སྨྲ་བ་དང་། ཚངས་པར་སྤྱོད་པར་ང་རྒྱལ་བྱེད་པ་དང་།\"\n",
    "bo_text = \"།བུད་མེད་ཀྱི་ཉེས་པས་དགེ་བའི་རྩ་བ་ཐམས་ཅད་ལས་ཡོངས་སུ་ཉམས་པ་དག་དང་། ངན་སོང་བ་དག་དང་། སེམས་ཅན་དམྱལ་བ་པ་དག་ཏུ་འགྱུར་བ་ཡིན་ནོ།\"\n",
    "bo_text = \"།རིགས་ཀྱི་བུ་ཁྱེད་དེ་བཞིན་གཤེགས་པ་ཤཱཀྱ་ཐུབ་པ་དེ་ལ་ངའི་བཀས་ཞུ་བའི་ཕྱིར་ངའི་བཀས་མི་མཇེད་ཀྱི་འཇིག་རྟེན་གྱི་ཁམས་སུ་འགྲོ་བར་སྤྲོ་ན། དེར་ཉི་མའི་སྙིང་པོའི་ཆོས་ཀྱིས་གནས་པ་ཀླུའི་ཡུལ་རྣམ་པར་འཇིག་པར་མཛད་པའི་འོད་ཟེར་གྱི་ལེའུ་སེམས་ཅན་རྣམས་ཀྱི་ལས་ཟད་པར་འགྱུར་བའི་གཟུངས་སྔགས་ལ་ང་དད་པ་སྦྱིན་པར་མཛད་དོ།\"\n",
    "\n",
    "bo_text = \"།རིགས་ཀྱི་རྒྱལ་པོའི་གསང་སྔགས་རྒྱས་པར་གྱུར་པ་པདྨ་གཙུག་ཏོར་གྱི་དཀྱིལ་འཁོར་དུ་རིགས་ཀྱི་རྒྱལ་པོ་ལེགས་པར་གྲུབ་པར་འགྱུར་ཏེ།\"\n",
    "bo_text = \"སངས་རྒྱས་ཀྱི་ཞིང་བརྒྱ་ཕྲག་རྣམས་དང་། གང་གཱའི་ཀླུང་གི་བྱེ་མ་དང་མཉམ་པའི་ཞིང་དུ་རྒྱལ་པོར་འགྱུར་རོ།\"\n",
    "# bo_text = \"།དེ་ནས་དོན་ཡོད་པ་པདྨའི་གཙུག་ཏོར་དྲན་པ་ཙམ་གྱིས། བྱ་བ་ཐམས་ཅད་ནི་གཉིས་སུ་འགྱུར་ཏེ།\"\n",
    "bo_text = \"གཞོན་ནུ་དང་། སྡེ་དཔོན་དང་། དེ་བཞིན་དུ་རྒྱལ་པོ་ཆེན་པོ་བཞི་དུས་རྟག་ཏུ་རིག་སྔགས་འཆང་གི་རྗེས་སུ་འབྲང་བར་བྱེད་དོ།\""
   ]
  },
  {
   "cell_type": "code",
   "execution_count": null,
   "id": "e0db3475-328a-4b5a-921c-3ee25053dc31",
   "metadata": {},
   "outputs": [],
   "source": [
    "bo_text, translator.translate(bo_text)"
   ]
  },
  {
   "cell_type": "code",
   "execution_count": null,
   "id": "4e452eab-ccce-4fb7-8cdb-f83d9a8d7670",
   "metadata": {},
   "outputs": [],
   "source": [
    "# en_text = 'This maṇḍala brings every accomplishment and causes the vidyā holder’s realization, merit, and splendor to grow. It is effective for removing all diseases and eradicating evil and vice. It heals wounds, injuries, and broken bones and destroys poisons and kākhordas. It also removes chronic diseases, ailments, and fevers.'\n",
    "# en_text = \"Lorem ipsum dolor sit amet, consectetur adipiscing elit, sed do eiusmod tempor incididunt ut labore et dolore magna aliqua. Ut enim ad minim veniam, quis nostrud exercitation ullamco laboris nisi ut aliquip ex ea commodo consequat. Duis aute irure dolor in reprehenderit in voluptate velit esse cillum dolore eu fugiat.\"\n",
    "\n",
    "# en_text = 'This maṇḍala brings every accomplishment and causes the vidyā holder’s realization, merit, and splendor to grow. It is effective for removing all diseases and eradicating evil and vice.'\n",
    "# en_text = \"Lorem ipsum dolor sit amet, consectetur adipiscing elit, sed do eiusmod tempor incididunt ut labore et dolore magna aliqua. Ut enim ad minim veniam, quis nostrud exercitation ullamco.\"\n",
    "\n",
    "# en_text = 'it is the accomplishment of removing all illness. it destroys bad karma and bad karma.'\n",
    "# en_text = \"Lorem ipsum dolor sit amet, consectetur adipiscing elit, sed do eiusmod tempor incididunt.\""
   ]
  },
  {
   "cell_type": "code",
   "execution_count": null,
   "id": "0f26cd17-88d3-4fa4-b692-33cadcb18a47",
   "metadata": {},
   "outputs": [],
   "source": [
    "import unicodedata\n",
    "\n",
    "def remove_accents(input_str):\n",
    "    nfkd_form = unicodedata.normalize('NFKD', input_str)\n",
    "    return u\"\".join([c for c in nfkd_form if not unicodedata.combining(c)])"
   ]
  },
  {
   "cell_type": "code",
   "execution_count": null,
   "id": "90adbdc5-ee57-4b86-9d21-f8bf2ee01bec",
   "metadata": {},
   "outputs": [],
   "source": [
    "from torch.nn.functional import log_softmax\n",
    "\n",
    "def get_total_logits(bo_text, cur_en_text):\n",
    "    bo_tokens = translator.tokenizer(bo_text, return_tensors=\"pt\")\n",
    "    with translator.tokenizer.as_target_tokenizer():\n",
    "        en_tokens = translator.tokenizer(cur_en_text, return_tensors=\"pt\")\n",
    "\n",
    "    model_inputs = {\n",
    "        'input_ids': bo_tokens.input_ids.to(translator.model.device),\n",
    "        'attention_mask': bo_tokens.attention_mask.to(translator.model.device),\n",
    "        # 'decoder_input_ids': en_tokens.input_ids.to(translator.model.device),\n",
    "        # 'decoder_attention_mask': en_tokens.attention_mask.to(translator.model.device),\n",
    "        'labels': en_tokens.input_ids.to(translator.model.device),\n",
    "    }\n",
    "\n",
    "    return -float(translator.model(**model_inputs).loss.to(\"cpu\"))# / en_tokens.input_ids.shape[-1]\n",
    "\n",
    "    model_logits = translator.model(**model_inputs).logits[0].to(\"cpu\")\n",
    "    # total_logit = float(log_softmax(model_logits[1:][:,en_tokens.input_ids[0][:-1].to(\"cpu\")].diagonal()).sum()) / model_logits.shape[0]\n",
    "    total_logit = float(log_softmax(model_logits[:,en_tokens.input_ids[0].to(\"cpu\")].diagonal()).sum()) / model_logits.shape[0]\n",
    "    return(total_logit)"
   ]
  },
  {
   "cell_type": "code",
   "execution_count": null,
   "id": "fef328c0-2d67-4d0c-9cea-a43ba80c0fec",
   "metadata": {},
   "outputs": [],
   "source": [
    "from tqdm.auto import tqdm\n",
    "\n",
    "def score_segment(bo_segment, en_text, tqdm=tqdm):\n",
    "    all_logits = []\n",
    "    # splits = [t.strip() for t in remove_accents(en_text.lower()).replace(\"!\", \".\").replace(\"“\", \"\").replace(\"—\", \", \").split('.')]\n",
    "    splits = [t.strip() for t in en_text.split(',') if len(t) > 0]\n",
    "    for start_idx in tqdm(range(len(splits))):\n",
    "        for end_idx in tqdm(range(start_idx + 1, len(splits) + 1), leave=False):\n",
    "            cur_en_text = '. '.join(splits[start_idx:end_idx]) + '.'\n",
    "            all_logits.append(((cur_en_text, start_idx, end_idx), get_total_logits(bo_segment, cur_en_text)))\n",
    "    return sorted(all_logits, key=lambda x: -x[1])"
   ]
  },
  {
   "cell_type": "code",
   "execution_count": null,
   "id": "830cab12-8c73-4f27-8152-3159313934eb",
   "metadata": {},
   "outputs": [],
   "source": [
    "score_segment(bo_text, en_text)[:10]"
   ]
  },
  {
   "cell_type": "markdown",
   "id": "fea63845-f23b-4a62-ac17-0efe02b7cde3",
   "metadata": {},
   "source": [
    "# Test for longer text with segmentation"
   ]
  },
  {
   "cell_type": "markdown",
   "id": "1883798e-3378-49ba-a207-33ec751a316a",
   "metadata": {},
   "source": [
    "## Load some longer Tibetan text"
   ]
  },
  {
   "cell_type": "code",
   "execution_count": 36,
   "id": "bf7abd33-6cf6-4ebc-a2ae-75a2093d585c",
   "metadata": {},
   "outputs": [],
   "source": [
    "volume_number, location = 92, 362"
   ]
  },
  {
   "cell_type": "code",
   "execution_count": 37,
   "id": "b62c0275-d4c4-4ea3-8f4c-8399cea68f74",
   "metadata": {},
   "outputs": [
    {
     "data": {
      "text/plain": [
       "'རས་གཟིགས་དབང་ཕྱུག་གིས། དོན་ཡོད་ཞགས་པའི་སྙིང་པོའི་གསང་སྔགས་འདི་སྨྲས་སོ། །ཨོཾ་ཨ་མོ་གྷ་པཱ་ཤ་ཧྲྀ་ད་ཡ་པདྨོཥྞཱི་ཥ་ཀུ་མཱ་ར་བེ་ཥ་དྷ་ར། པདྨེ་ཤྭ་ར། ཨཱ་བེ་ཤ་ཡ། སརྦ་ཨ་མོ་གྷ་ཀུ་ལ་ས་མ་ཡ་ཧྲྀ་ད་ཡ། སརྦ་སིདྡྷི་ཨ་མོ་གྷ་པྲ་ཡཙྪ་པདྨ། པདྨ་ཧཱུྃ་ཧཱུྃ་ན་མ་སྟུ་ཏེ་སྭཱ་ཧཱ། འདི་ནི་དོན་ཡོད་ཞགས་པའི་སྙིང་པོ་བཀླགས་པས་གྲུབ་པའི་སྒྲུབ་ཐབས་སོ། །ཨོཾ་ཨ་མོ་གྷ་པདྨོ་ཥྞཱི་ཥེ་ཤྭ་ར། པདྨེ་ཤྭ་ར། ས་མནྟཱ་ཡ་སརྦ་ཏ་ཐཱ་ག་ཏཱ་ནཱཾ། ཨ་མོ་གྷ་པདྨོཥྞཱི་ཥ་ས་མ་ཡ་ཨཱ་ཀརྵ་ཡ། པྲ་བེ་ཤ་ཡ། སརྦ་ཀརྨ་སིདྡྷིམྨེ་པྲ་ཡཙྪ་ཨ་བ་ལོ་ཀི་ཏེ་ཤྭ་ར་ཧཱུཾ་ཧཱུཾ། མ་ཧཱ་པདྨོཥྞཱི་ཥ་བྷུ་ཛེ་སྭཱ་ཧཱ། རིགས་ཀྱི་རྒྱལ་པོའི་གསང་སྔགས་སོ། །ཨོཾ་ཨ་ཧཱ་ཙནྜ་པདྨེ་ཤྭ་ར་བི་བི་དྷ་རཱུ་པ། བི་ཀ་ཊ། པདྨ་དཾཥྜ་ཀེ་རཱ་ལ་བྷཱི་ཥ་ཎ། བཱཀྟྲ་སརྦ་དུཥྚ་ཧྲྀ་ད་ཡཾ། ཁཱ་ད་ཡ། བིགྷ་ནཱཾ། པདྨ་དྷྲི་ཀ །ཙི་ཊི། དྲི་ཊི་ཧཱུཾ་སྭཱ་ཧཱ། ཁྲོ་བོའི་རྒྱལ་པོའི་རིགས་ཀྱི་སྙིང་པོའོ། །ནང་གི་དཀྱིལ་འཁོར་གསང་བའི་ལས་རྣམས་སོ། །ཨོཾ་ཨ་མོ་གྷ་པདྨོཥྞཱི་ཥ་པདྨ་པཱ་ཤ་ཀྲོ་དྷ་ཀ །མོ་ཡ་ཀརྨ་པྲ་བེ་ཤ་ཡ་མ་ཧཱ་བཱ་ཤུ་པ་ཏི། ཡ་མ། བ་རུ་ཎ། ཀུ་བེ་ར། བྲཧྨ་བེ་ཥ་དྷ་ར། མ་ཧཱ་ཙཎྜ་བེ་ག །ཨ་མོ་གྷ་ཀུ་ལས་མ་ཡ། པདྨེ་ཧཱུཾ་ཧཱུཾ། ཁྲོ་བོའི་རྒྱལ་པོ་དོན་ཡོད་ཞགས་པའི་པདྨ་གཙུག་ཏོར་གྱི་སྙིང་པོའོ། །དེ་ནས་དོན་ཡོད་པའི་སྙིང་པོའི་ལས་རྣམས་འགྱུར་ཏེ། དྲན་པ་ཙམ་གྱི་མོད་ལ། དུས་གསུམ་གྱི་དེ་བཞིན་གཤེགས་པ་ཐམས་ཅད་དང་མཉམ་པས་གཅིག་ཏུ་མཚུངས་པར་འགྱུར་རོ། །ཚེ་དཔག་མེད་དང་མཉམ་པའི་ལུས་སུ་འགྱུར་རོ། །ཕྱོགས་བཅུའི་སངས་རྒྱས་ཀྱི་ཞིང་ཐམས་ཅད་དང་། མཉམ་པའི་དེ་བཞིན་གཤེགས་པ་ཐམས་ཅད་དང་མཚུངས་ཤིང་མཉམ་པ་ཉིད་དུ་འགྱུར་རོ། །མཚུངས་ཤིང་མཉམ་པ་ཉིད་ཀྱིས་དེ་བཞིན་གཤེགས་པ་ཐམས་ཅད་མཉམ་པ་ཉིད་དུ་མཐོང་ངོ་། །པདྨའི་ཕྱག་གི་ཏིང་ངེ་འཛིན་རྣམས་དང་། པདྨའི་གཙུག་ཏོར་གྱི་ཕྱག་གིས་འཇིག་རྟེན་དབང་ཕྱུག་དང་མཉམ་པ་ཉིད་དུ་འགྱུར་རོ། །པདྨའི་གཙུག་ཏོར་བཅིངས་པ་ཉིད་ཀྱིས་སྤྱི་བོའི་གཙུག་ཏུ་མངོན་པར་དབང་བསྐུར་ན། དུས་གསུམ་གྱི་དེ་བཞིན་གཤེགས་པ་ཐམས་ཅད་ཀྱིས་མངོན་པར་དབང་བསྐུར་རོ། །པདྨའི་གཙུག་ཏོར་གྱིས་དོན་ཡོད་པར་དབང་བསྐུར་བ་གང་ཡིན་པ་དེ། པདྨ་གཙུག་ཏོར་གྱི་སྙིང་པོ་རྒྱས་པར་གྱུར་པ་ཐོབ་སྟེ། ཏིང་ངེ་འཛིན་བརྒྱ་སྟོང་ཕྲག་དང་། བླ་ན་མེད་'"
      ]
     },
     "execution_count": 37,
     "metadata": {},
     "output_type": "execute_result"
    }
   ],
   "source": [
    "bo_df[(bo_df.volume_number == volume_number) & (bo_df.location == location - 1)].compute().text.values[0]"
   ]
  },
  {
   "cell_type": "code",
   "execution_count": 38,
   "id": "ae1a5398-b4fa-45a8-b13f-77160f828c15",
   "metadata": {},
   "outputs": [
    {
     "data": {
      "text/plain": [
       "'པའི་དཔལ་ཐོབ་བོ། །རིགས་ཀྱི་རྒྱལ་པོའི་གསང་སྔགས་རྒྱས་པར་གྱུར་པ་པདྨ་གཙུག་ཏོར་གྱི་དཀྱིལ་འཁོར་དུ་རིགས་ཀྱི་རྒྱལ་པོ་ལེགས་པར་གྲུབ་པར་འགྱུར་ཏེ། ཐམས་ཅད་དུ་རིགས་ཀྱི་རྒྱལ་པོའི་དངོས་གྲུབ་བཟང་པོ་རྣམས་འོང་བར་འགྱུར་རོ། །རིགས་ཀྱི་རྒྱལ་པོའི་གསང་སྔགས་ཀྱི་རྒྱལ་པོ་དང་། རིག་སྔགས་ཀྱི་རྒྱལ་པོ་མཆོག་གི་དངོས་གྲུབ་ཐམས་ཅད་རབ་ཏུ་སྦྱིན་པར་བྱེད་དོ། །པདྨའི་ཕྱག་གིས་རྗེས་སུ་འཇུག་ཅིང་། དོན་ཡོད་པའི་རིགས་ཀྱི་དངོས་གྲུབ་ཇི་ལྟ་བ་བཞིན་དུ་འགྲུབ་སྟེ། བཀླགས་པས་གྲུབ་པ་འདི་ལ་ཐེ་ཚོམ་མེད་དོ། །པདྨ་གཙུག་ཏོར་གྱི་རིགས་ཀྱི་དངོས་གྲུབ་དང་། པདྨ་ཡངས་པའི་དཀྱིལ་འཁོར་རམ། དོན་ཡོད་ཞགས་པའི་དཀྱིལ་འཁོར་དུ་བཀླགས་ནས་བཟླས་པ་ཙམ་གྱིས་འགྲུབ་སྟེ། རིགས་ཀྱི་རྒྱལ་པོ་དང་། རིག་སྔགས་ཀྱི་རྒྱལ་པོ་གང་ཡིན་པ་དེ་ཐམས་ཅད་དུ་དབང་ཕྱུག་ཏུ་འགྱུར་རོ། །དཀྱིལ་འཁོར་རྣམས་ཀྱི་ཆོ་ག་ཞིབ་མོ་དང་། ཕྱག་རྒྱས་བྱང་ཆུབ་སེམས་དཔའ་ཐམས་ཅད་ཀྱི་རིགས་ཐུན་མོང་བ་ཐམས་ཅད་དུ་རྒྱལ་པོའི་བྱ་བ་བྱེད་པར་འགྱུར་རོ། །སངས་རྒྱས་ཀྱི་ཞིང་སྟོང་ཕྲག་རྣམས་དང་། སངས་རྒྱས་ཀྱི་ཞིང་བརྒྱ་ཕྲག་རྣམས་དང་། གང་གཱའི་ཀླུང་གི་བྱེ་མ་དང་མཉམ་པའི་ཞིང་དུ་རྒྱལ་པོར་འགྱུར་རོ། །རིགས་ཀྱི་རིག་པས་ལྷའི་དབང་ཕྱུག་དང་། ལྷའི་ཚོགས་རྣམས་ཀྱི་དབང་ཕྱུག་ཏུ་འགྱུར་རོ། །རྟག་ཏུ་ཡང་གནོད་སྦྱིན་རྣམས་དང་། སྲིན་པོ་རྣམས་སུ་གྱུར་པ་དང་། དྲི་ཟ་རྣམས་དང་། གནོད་སྦྱིན་རྣམས་དང་། སྲིན་པོ་རྣམས་ཀྱི་དེ་བཞིན་ཉིད་དུ་ཐམས་ཅད་དུ་རྒྱལ་པོ་དང་། དབང་ཕྱུག་ཏུ་རྟག་ཏུ་འགྱུར་ཏེ་ཐེ་ཚོམ་མེད་དོ། །ནམ་མཁའ་ལྡིང་རྣམས་དང་། མིའམ་ཅི་རྣམས་དང་། ལྟོ་འཕྱེ་ཆེན་པོ་རྣམས་དང་། ཐམས་ཅད་དུ་ཇི་སྲིད་བྱང་ཆུབ་ལ་ཡང་དག་པར་གནས་ཀྱི་བར་དུ་རིགས་ཀྱི་རྒྱལ་པོར་འགྱུར་རོ། །དེ་ནས་ཁྲོ་བོའི་རྒྱལ་པོ་དྲན་པ་ཙམ་དང་དྲག་པོ་དེ་ཡིད་ལ་སེམས་པ་ཙམ་གྱི་མོད་ལ། འཕྲལ་དུ་རི་རབ་ལྟུང་བར་བྱེད་ཅིང་། ཁོར་ཡུག་གི་རི་རྣམ་པར་འཐོར་བར་བྱེད་དོ། །རྒྱ་མཚོ་ཆེན་པོ་ཀུན་ནས་དཀྲུག་ཅིང་། རྒྱ་མཚོ་ཆེན་པོ་ཉེ་བར་སྐྱེ་བར་བྱེད་དོ། །ཀུན་དུ་གསལ་བར་བྱེད་དོ། །ཀླུའི་གནས་ཐམས་ཅད་དུ་ཀླུའི་གནས་འབར་བར་ཡང་བྱེད་དོ། །བགེགས་དང་ལོག་པར་འདྲེན་པ་ཐམས་ཅད་ཀྱི་སྐད་ཅིག་ཙམ་གྱིས་སྟེང་དུ་བདུག་པར་བྱེད་དོ། །གནོད་སྦྱིན་'"
      ]
     },
     "execution_count": 38,
     "metadata": {},
     "output_type": "execute_result"
    }
   ],
   "source": [
    "bo_df[(bo_df.volume_number == volume_number) & (bo_df.location == location)].compute().text.values[0]"
   ]
  },
  {
   "cell_type": "code",
   "execution_count": 39,
   "id": "aa83c161-255b-44c8-8beb-c2a3c1f483d7",
   "metadata": {},
   "outputs": [
    {
     "data": {
      "text/plain": [
       "'དང་། སྲིན་པོ་དང་། འབྱུང་པོ་དང་། གཟའ་དང་། བརྗེད་བྱེད་དང་། མི་བཟད་པ་དེ་རྣམས་ཐམས་ཅད་ཁྲོ་བོའི་རྒྱལ་པོ་དྲན་པ་ཙམ་གྱིས་འཇིགས་པར་འགྱུར་རོ། །ཁྲོ་བོའི་རྒྱལ་པོའི་གསང་བ་ཐམས་ཅད་ཀྱི་རིགས་ཀྱི་དམ་ཚིག་ལ་གནས་པ་དང་། དཀྱིལ་འཁོར་དུ་ཕྱག་རྒྱ་གནས་པ་དང་། གསང་སྔགས་ཀྱི་ལྷ་གཞན་གང་ཡིན་པ་རྣམས་ཀྱིས་ཁྲོ་བོའི་རྒྱལ་པོ་དྲན་པ་ཙམ་གྱིས་དེ་རྣམས་ཐམས་ཅད་རིག་སྔགས་འཆང་ལ་སྐྱབས་སུ་འགྲོ་བར་བྱེད་དོ། །དེ་རྣམས་ཐམས་ཅད་རྗེས་སུ་འབྲང་བར་འགྱུར་ཞིང་གནས་པར་བྱེད་དོ། །འགའ་ཞིག་གང་དུ་འགྲོ་བའམ་འདུག་པ་དེ་ལ་དབང་པོ་དང་། སྐབས་གསུམ་པའི་ལྷ་དང་། ཚངས་པ་དང་། ཁྱབ་འཇུག་དང་། དབང་ཕྱུག་ཆེན་པོ་དང་། གཤིན་རྗེ་དང་། ཆུ་ལྷ་དང་། ཀླུའི་རྒྱལ་པོ་རྒྱ་མཚོ་དང་། དགའ་བོ་དང་། ཉེ་དགའ་བོ་དང་། གཞོན་ནུ་དང་། སྡེ་དཔོན་དང་། དེ་བཞིན་དུ་རྒྱལ་པོ་ཆེན་པོ་བཞི་དུས་རྟག་ཏུ་རིག་སྔགས་འཆང་གི་རྗེས་སུ་འབྲང་བར་བྱེད་དོ། །ཐེ་ཚོམ་མེད་དོ། །ཁྲོས་པའི་ལས་རྣམས་སམ། དེ་བཞིན་དུ་དྲག་པོའི་ལས་རྣམས་ཐམས་ཅད་ཀྱང་ཧཱུཾ་ཡིག་ཙམ་གྱིས་དེ་ལ་དངོས་གྲུབ་མཐོང་ངོ་། །ཕྱིར་རྒོལ་བ་དང་། དགྲ་དང་། སེམས་ཅན་མ་རུངས་པ་ཤིན་ཏུ་མི་བཟད་པ་རྣམས་དང་། ཕ་རོལ་གྱི་དམག་ཚོགས་དང་འཇིགས་པ་དང་། རྣམ་པར་འགྲས་པའི་སྐྱེ་བོ་དང་། སྡིག་པ་དེ་རྣམས་ཐམས་ཅད་ཧཱུཾ་ཡིག་གིས་མཆོག་ཏུ་གཟིར་བ་ཙམ་གྱིས་ཐལ་བར་འཇིག་པར་འགྱུར་རོ། །སྡང་བ་དང་། ངན་སེམས་པའི་སེམས་ཅན་དང་། བྱས་པ་མི་གཟོ་བ་དང་། བྱས་པ་ལ་འཁོན་པ་ཐམས་ཅད་དྲག་པོའི་ཧཱུཾ་ཡིག་བཟླས་པ་ཙམ་གྱིས་སྐད་ཅིག་ལ་བསྲེག་སྟེ། དཔེར་ན་མེ་ཡིས་ཕྱེ་མ་ལེབ་བཞིན་ནོ། །ལས་གཞན་སྟོང་ཕྲག་རྣམས་དང་། ལས་བརྒྱ་སྟོང་ཕྲག་ཉིད་བཟླས་པ་ཙམ་གྱིས་འགྲུབ་སྟེ། དྲན་པ་ཙམ་གྱི་མོད་ལ། ལས་ཐམས་ཅད་འགྲུབ་བོ། །དེ་ནས་དོན་ཡོད་པ་པདྨའི་གཙུག་ཏོར་དྲན་པ་ཙམ་གྱིས། བྱ་བ་ཐམས་ཅད་ནི་གཉིས་སུ་འགྱུར་ཏེ། ཇི་ལྟར་གང་ཅུང་ཟད་ཡིད་ལ་བྱེད་པས་ལས་བྱེད་དོ། །དཀྱིལ་འཁོར་རམ། གནས་རྣམ་པ་གཞན་ཐམས་ཅད་དུ། ཇི་ལྟར་ཡིད་ལ་བྱེད་པའི་བྱ་བ་ཐམས་ཅད་དུ་བྱེད་དོ།། །།'"
      ]
     },
     "execution_count": 39,
     "metadata": {},
     "output_type": "execute_result"
    }
   ],
   "source": [
    "bo_df[(bo_df.volume_number == volume_number) & (bo_df.location == location + 1)].compute().text.values[0]"
   ]
  },
  {
   "cell_type": "code",
   "execution_count": 40,
   "id": "057fa278-3545-4119-840b-cd4be9d0b394",
   "metadata": {},
   "outputs": [
    {
     "data": {
      "text/plain": [
       "'བླ་ན་མེད་པའི་དཔལ་ཐོབ་བོ། །རིགས་ཀྱི་རྒྱལ་པོའི་གསང་སྔགས་རྒྱས་པར་གྱུར་པ་པདྨ་གཙུག་ཏོར་གྱི་དཀྱིལ་འཁོར་དུ་རིགས་ཀྱི་རྒྱལ་པོ་ལེགས་པར་གྲུབ་པར་འགྱུར་ཏེ། ཐམས་ཅད་དུ་རིགས་ཀྱི་རྒྱལ་པོའི་དངོས་གྲུབ་བཟང་པོ་རྣམས་འོང་བར་འགྱུར་རོ། །རིགས་ཀྱི་རྒྱལ་པོའི་གསང་སྔགས་ཀྱི་རྒྱལ་པོ་དང་། རིག་སྔགས་ཀྱི་རྒྱལ་པོ་མཆོག་གི་དངོས་གྲུབ་ཐམས་ཅད་རབ་ཏུ་སྦྱིན་པར་བྱེད་དོ། །པདྨའི་ཕྱག་གིས་རྗེས་སུ་འཇུག་ཅིང་། དོན་ཡོད་པའི་རིགས་ཀྱི་དངོས་གྲུབ་ཇི་ལྟ་བ་བཞིན་དུ་འགྲུབ་སྟེ། བཀླགས་པས་གྲུབ་པ་འདི་ལ་ཐེ་ཚོམ་མེད་དོ། །པདྨ་གཙུག་ཏོར་གྱི་རིགས་ཀྱི་དངོས་གྲུབ་དང་། པདྨ་ཡངས་པའི་དཀྱིལ་འཁོར་རམ། དོན་ཡོད་ཞགས་པའི་དཀྱིལ་འཁོར་དུ་བཀླགས་ནས་བཟླས་པ་ཙམ་གྱིས་འགྲུབ་སྟེ། རིགས་ཀྱི་རྒྱལ་པོ་དང་། རིག་སྔགས་ཀྱི་རྒྱལ་པོ་གང་ཡིན་པ་དེ་ཐམས་ཅད་དུ་དབང་ཕྱུག་ཏུ་འགྱུར་རོ། །དཀྱིལ་འཁོར་རྣམས་ཀྱི་ཆོ་ག་ཞིབ་མོ་དང་། ཕྱག་རྒྱས་བྱང་ཆུབ་སེམས་དཔའ་ཐམས་ཅད་ཀྱི་རིགས་ཐུན་མོང་བ་ཐམས་ཅད་དུ་རྒྱལ་པོའི་བྱ་བ་བྱེད་པར་འགྱུར་རོ། །སངས་རྒྱས་ཀྱི་ཞིང་སྟོང་ཕྲག་རྣམས་དང་། སངས་རྒྱས་ཀྱི་ཞིང་བརྒྱ་ཕྲག་རྣམས་དང་། གང་གཱའི་ཀླུང་གི་བྱེ་མ་དང་མཉམ་པའི་ཞིང་དུ་རྒྱལ་པོར་འགྱུར་རོ། །རིགས་ཀྱི་རིག་པས་ལྷའི་དབང་ཕྱུག་དང་། ལྷའི་ཚོགས་རྣམས་ཀྱི་དབང་ཕྱུག་ཏུ་འགྱུར་རོ། །རྟག་ཏུ་ཡང་གནོད་སྦྱིན་རྣམས་དང་། སྲིན་པོ་རྣམས་སུ་གྱུར་པ་དང་། དྲི་ཟ་རྣམས་དང་། གནོད་སྦྱིན་རྣམས་དང་། སྲིན་པོ་རྣམས་ཀྱི་དེ་བཞིན་ཉིད་དུ་ཐམས་ཅད་དུ་རྒྱལ་པོ་དང་། དབང་ཕྱུག་ཏུ་རྟག་ཏུ་འགྱུར་ཏེ་ཐེ་ཚོམ་མེད་དོ། །ནམ་མཁའ་ལྡིང་རྣམས་དང་། མིའམ་ཅི་རྣམས་དང་། ལྟོ་འཕྱེ་ཆེན་པོ་རྣམས་དང་། ཐམས་ཅད་དུ་ཇི་སྲིད་བྱང་ཆུབ་ལ་ཡང་དག་པར་གནས་ཀྱི་བར་དུ་རིགས་ཀྱི་རྒྱལ་པོར་འགྱུར་རོ། །དེ་ནས་ཁྲོ་བོའི་རྒྱལ་པོ་དྲན་པ་ཙམ་དང་དྲག་པོ་དེ་ཡིད་ལ་སེམས་པ་ཙམ་གྱི་མོད་ལ། འཕྲལ་དུ་རི་རབ་ལྟུང་བར་བྱེད་ཅིང་། ཁོར་ཡུག་གི་རི་རྣམ་པར་འཐོར་བར་བྱེད་དོ། །རྒྱ་མཚོ་ཆེན་པོ་ཀུན་ནས་དཀྲུག་ཅིང་། རྒྱ་མཚོ་ཆེན་པོ་ཉེ་བར་སྐྱེ་བར་བྱེད་དོ། །ཀུན་དུ་གསལ་བར་བྱེད་དོ། །ཀླུའི་གནས་ཐམས་ཅད་དུ་ཀླུའི་གནས་འབར་བར་ཡང་བྱེད་དོ། །བགེགས་དང་ལོག་པར་འདྲེན་པ་ཐམས་ཅད་ཀྱི་སྐད་ཅིག་ཙམ་གྱིས་སྟེང་དུ་བདུག་པར་བྱེད་དོ། །གནོད་སྦྱིན་དང་།'"
      ]
     },
     "execution_count": 40,
     "metadata": {},
     "output_type": "execute_result"
    }
   ],
   "source": [
    "bo_text = \"བླ་ན་མེད་པའི་དཔལ་ཐོབ་བོ། །རིགས་ཀྱི་རྒྱལ་པོའི་གསང་སྔགས་རྒྱས་པར་གྱུར་པ་པདྨ་གཙུག་ཏོར་གྱི་དཀྱིལ་འཁོར་དུ་རིགས་ཀྱི་རྒྱལ་པོ་ལེགས་པར་གྲུབ་པར་འགྱུར་ཏེ། ཐམས་ཅད་དུ་རིགས་ཀྱི་རྒྱལ་པོའི་དངོས་གྲུབ་བཟང་པོ་རྣམས་འོང་བར་འགྱུར་རོ། །རིགས་ཀྱི་རྒྱལ་པོའི་གསང་སྔགས་ཀྱི་རྒྱལ་པོ་དང་། རིག་སྔགས་ཀྱི་རྒྱལ་པོ་མཆོག་གི་དངོས་གྲུབ་ཐམས་ཅད་རབ་ཏུ་སྦྱིན་པར་བྱེད་དོ། །པདྨའི་ཕྱག་གིས་རྗེས་སུ་འཇུག་ཅིང་། དོན་ཡོད་པའི་རིགས་ཀྱི་དངོས་གྲུབ་ཇི་ལྟ་བ་བཞིན་དུ་འགྲུབ་སྟེ། བཀླགས་པས་གྲུབ་པ་འདི་ལ་ཐེ་ཚོམ་མེད་དོ། །པདྨ་གཙུག་ཏོར་གྱི་རིགས་ཀྱི་དངོས་གྲུབ་དང་། པདྨ་ཡངས་པའི་དཀྱིལ་འཁོར་རམ། དོན་ཡོད་ཞགས་པའི་དཀྱིལ་འཁོར་དུ་བཀླགས་ནས་བཟླས་པ་ཙམ་གྱིས་འགྲུབ་སྟེ། རིགས་ཀྱི་རྒྱལ་པོ་དང་། རིག་སྔགས་ཀྱི་རྒྱལ་པོ་གང་ཡིན་པ་དེ་ཐམས་ཅད་དུ་དབང་ཕྱུག་ཏུ་འགྱུར་རོ། །དཀྱིལ་འཁོར་རྣམས་ཀྱི་ཆོ་ག་ཞིབ་མོ་དང་། ཕྱག་རྒྱས་བྱང་ཆུབ་སེམས་དཔའ་ཐམས་ཅད་ཀྱི་རིགས་ཐུན་མོང་བ་ཐམས་ཅད་དུ་རྒྱལ་པོའི་བྱ་བ་བྱེད་པར་འགྱུར་རོ། །སངས་རྒྱས་ཀྱི་ཞིང་སྟོང་ཕྲག་རྣམས་དང་། སངས་རྒྱས་ཀྱི་ཞིང་བརྒྱ་ཕྲག་རྣམས་དང་། གང་གཱའི་ཀླུང་གི་བྱེ་མ་དང་མཉམ་པའི་ཞིང་དུ་རྒྱལ་པོར་འགྱུར་རོ། །རིགས་ཀྱི་རིག་པས་ལྷའི་དབང་ཕྱུག་དང་། ལྷའི་ཚོགས་རྣམས་ཀྱི་དབང་ཕྱུག་ཏུ་འགྱུར་རོ། །རྟག་ཏུ་ཡང་གནོད་སྦྱིན་རྣམས་དང་། སྲིན་པོ་རྣམས་སུ་གྱུར་པ་དང་། དྲི་ཟ་རྣམས་དང་། གནོད་སྦྱིན་རྣམས་དང་། སྲིན་པོ་རྣམས་ཀྱི་དེ་བཞིན་ཉིད་དུ་ཐམས་ཅད་དུ་རྒྱལ་པོ་དང་། དབང་ཕྱུག་ཏུ་རྟག་ཏུ་འགྱུར་ཏེ་ཐེ་ཚོམ་མེད་དོ། །ནམ་མཁའ་ལྡིང་རྣམས་དང་། མིའམ་ཅི་རྣམས་དང་། ལྟོ་འཕྱེ་ཆེན་པོ་རྣམས་དང་། ཐམས་ཅད་དུ་ཇི་སྲིད་བྱང་ཆུབ་ལ་ཡང་དག་པར་གནས་ཀྱི་བར་དུ་རིགས་ཀྱི་རྒྱལ་པོར་འགྱུར་རོ། །དེ་ནས་ཁྲོ་བོའི་རྒྱལ་པོ་དྲན་པ་ཙམ་དང་དྲག་པོ་དེ་ཡིད་ལ་སེམས་པ་ཙམ་གྱི་མོད་ལ། འཕྲལ་དུ་རི་རབ་ལྟུང་བར་བྱེད་ཅིང་། ཁོར་ཡུག་གི་རི་རྣམ་པར་འཐོར་བར་བྱེད་དོ། །རྒྱ་མཚོ་ཆེན་པོ་ཀུན་ནས་དཀྲུག་ཅིང་། རྒྱ་མཚོ་ཆེན་པོ་ཉེ་བར་སྐྱེ་བར་བྱེད་དོ། །ཀུན་དུ་གསལ་བར་བྱེད་དོ། །ཀླུའི་གནས་ཐམས་ཅད་དུ་ཀླུའི་གནས་འབར་བར་ཡང་བྱེད་དོ། །བགེགས་དང་ལོག་པར་འདྲེན་པ་ཐམས་ཅད་ཀྱི་སྐད་ཅིག་ཙམ་གྱིས་སྟེང་དུ་བདུག་པར་བྱེད་དོ། །གནོད་སྦྱིན་དང་།\"\n",
    "bo_text"
   ]
  },
  {
   "cell_type": "code",
   "execution_count": 41,
   "id": "4f719d18-3716-4617-8e99-c28ff2a575bf",
   "metadata": {},
   "outputs": [
    {
     "data": {
      "text/plain": [
       "' If he mindfully repeats the mantra of the lord of the family, he will obtain the auspicious accomplishment of the lord of the family in the maṇḍala of Padmoṣṇīṣa. Family lords, as well as the mantra and vidyā kings who rule over the family lords’ auspicious accomplishments, will arrive and grant the vidyā holder every supreme accomplishment. Followed by Padmapāṇi, he will win the accomplishments of the amogha family. These kings of mantras will be accomplished through recitation; there is no doubt about this.  “Accomplishment in the Padmoṣṇīṣa family belongs to the great lotus maṇḍala, the maṇḍala of Amoghapāśa, where one becomes accomplished through recitation. Through mere recitation, the vidyā holder will become the lord of the family and the king of the vidyādharas—a sovereign lord in every respect. Using the rites and mudrās of the corresponding maṇḍalas, he will join the same family as the bodhisattvas and will perform the function of a king in every respect. Using the family vidyā, he will become king in hundreds of thousands of buddha fields, equal in number to the grains of sand in the Gaṅgā river. He will also become the king of the devas and their heavenly hosts,  as well as of yakṣas, rākṣasas, and gandharvas. He can become a king and lord anywhere—the king of garuḍas, kinnaras, or mahoragas—and will remain king until the attainment of awakening. There is no doubt about this.    “By just mindfully repeating the Krodharāja mantra with a fierce mind, the vidyā holder can instantly flatten Mount Sumeru. The mountain ranges that surround it will break apart, and the waters of the great ocean will be agitated. The palaces of the nāgas will be set alight, all nāga dwellings will burn, and all vighnas and vināyakas will be smoked out in a matter of seconds. All terrible beings such as yakṣas, '"
      ]
     },
     "execution_count": 41,
     "metadata": {},
     "output_type": "execute_result"
    }
   ],
   "source": [
    "en_text = en_df[(en_df.volume_number == volume_number) & (en_df.location == location)].compute().text.values[0]\n",
    "en_text"
   ]
  },
  {
   "cell_type": "code",
   "execution_count": 42,
   "id": "21f381fa-32a7-4ddf-a8fe-395b7f4d7ade",
   "metadata": {},
   "outputs": [
    {
     "data": {
      "application/vnd.jupyter.widget-view+json": {
       "model_id": "",
       "version_major": 2,
       "version_minor": 0
      },
      "text/plain": [
       "Hard segments:   0%|          | 0/1 [00:00<?, ?it/s]"
      ]
     },
     "metadata": {},
     "output_type": "display_data"
    },
    {
     "data": {
      "application/vnd.jupyter.widget-view+json": {
       "model_id": "",
       "version_major": 2,
       "version_minor": 0
      },
      "text/plain": [
       "Segmenting:   0%|          | 0/39 [00:00<?, ?it/s]"
      ]
     },
     "metadata": {},
     "output_type": "display_data"
    },
    {
     "data": {
      "text/plain": [
       "['།བླ་ན་མེད་པའི་དཔལ་ཐོབ་བོ།',\n",
       " '།རིགས་ཀྱི་རྒྱལ་པོའི་གསང་སྔགས་རྒྱས་པར་གྱུར་པ་པདྨ་གཙུག་ཏོར་གྱི་དཀྱིལ་འཁོར་དུ་རིགས་ཀྱི་རྒྱལ་པོ་ལེགས་པར་གྲུབ་པར་འགྱུར་ཏེ།',\n",
       " 'ཐམས་ཅད་དུ་རིགས་ཀྱི་རྒྱལ་པོའི་དངོས་གྲུབ་བཟང་པོ་རྣམས་འོང་བར་འགྱུར་རོ།',\n",
       " '།རིགས་ཀྱི་རྒྱལ་པོའི་གསང་སྔགས་ཀྱི་རྒྱལ་པོ་དང་། རིག་སྔགས་ཀྱི་རྒྱལ་པོ་མཆོག་གི་དངོས་གྲུབ་ཐམས་ཅད་རབ་ཏུ་སྦྱིན་པར་བྱེད་དོ།',\n",
       " '།པདྨའི་ཕྱག་གིས་རྗེས་སུ་འཇུག་ཅིང་། དོན་ཡོད་པའི་རིགས་ཀྱི་དངོས་གྲུབ་ཇི་ལྟ་བ་བཞིན་དུ་འགྲུབ་སྟེ།',\n",
       " 'བཀླགས་པས་གྲུབ་པ་འདི་ལ་ཐེ་ཚོམ་མེད་དོ།',\n",
       " '།པདྨ་གཙུག་ཏོར་གྱི་རིགས་ཀྱི་དངོས་གྲུབ་དང་། པདྨ་ཡངས་པའི་དཀྱིལ་འཁོར་རམ།',\n",
       " 'དོན་ཡོད་ཞགས་པའི་དཀྱིལ་འཁོར་དུ་བཀླགས་ནས་བཟླས་པ་ཙམ་གྱིས་འགྲུབ་སྟེ།',\n",
       " 'རིགས་ཀྱི་རྒྱལ་པོ་དང་། རིག་སྔགས་ཀྱི་རྒྱལ་པོ་གང་ཡིན་པ་དེ་ཐམས་ཅད་དུ་དབང་ཕྱུག་ཏུ་འགྱུར་རོ།',\n",
       " '།དཀྱིལ་འཁོར་རྣམས་ཀྱི་ཆོ་ག་ཞིབ་མོ་དང་། ཕྱག་རྒྱས་བྱང་ཆུབ་སེམས་དཔའ་ཐམས་ཅད་ཀྱི་རིགས་ཐུན་མོང་བ་ཐམས་ཅད་དུ་རྒྱལ་པོའི་བྱ་བ་བྱེད་པར་འགྱུར་རོ།',\n",
       " '།སངས་རྒྱས་ཀྱི་ཞིང་སྟོང་ཕྲག་རྣམས་དང་། སངས་རྒྱས་ཀྱི་ཞིང་བརྒྱ་ཕྲག་རྣམས་དང་། གང་གཱའི་ཀླུང་གི་བྱེ་མ་དང་མཉམ་པའི་ཞིང་དུ་རྒྱལ་པོར་འགྱུར་རོ།',\n",
       " '།རིགས་ཀྱི་རིག་པས་ལྷའི་དབང་ཕྱུག་དང་། ལྷའི་ཚོགས་རྣམས་ཀྱི་དབང་ཕྱུག་ཏུ་འགྱུར་རོ།',\n",
       " '།རྟག་ཏུ་ཡང་གནོད་སྦྱིན་རྣམས་དང་། སྲིན་པོ་རྣམས་སུ་གྱུར་པ་དང་། དྲི་ཟ་རྣམས་དང་། གནོད་སྦྱིན་རྣམས་དང་། སྲིན་པོ་རྣམས་ཀྱི་དེ་བཞིན་ཉིད་དུ་ཐམས་ཅད་དུ་རྒྱལ་པོ་དང་། དབང་ཕྱུག་ཏུ་རྟག་ཏུ་འགྱུར་ཏེ་ཐེ་ཚོམ་མེད་དོ།',\n",
       " '།ནམ་མཁའ་ལྡིང་རྣམས་དང་། མིའམ་ཅི་རྣམས་དང་། ལྟོ་འཕྱེ་ཆེན་པོ་རྣམས་དང་། ཐམས་ཅད་དུ་ཇི་སྲིད་བྱང་ཆུབ་ལ་ཡང་དག་པར་གནས་ཀྱི་བར་དུ་རིགས་ཀྱི་རྒྱལ་པོར་འགྱུར་རོ།',\n",
       " '།དེ་ནས་ཁྲོ་བོའི་རྒྱལ་པོ་དྲན་པ་ཙམ་དང་དྲག་པོ་དེ་ཡིད་ལ་སེམས་པ་ཙམ་གྱི་མོད་ལ། འཕྲལ་དུ་རི་རབ་ལྟུང་བར་བྱེད་ཅིང་།',\n",
       " 'ཁོར་ཡུག་གི་རི་རྣམ་པར་འཐོར་བར་བྱེད་དོ།',\n",
       " '།རྒྱ་མཚོ་ཆེན་པོ་ཀུན་ནས་དཀྲུག་ཅིང་། རྒྱ་མཚོ་ཆེན་པོ་ཉེ་བར་སྐྱེ་བར་བྱེད་དོ།',\n",
       " '།ཀུན་དུ་གསལ་བར་བྱེད་དོ། །ཀླུའི་གནས་ཐམས་ཅད་དུ་ཀླུའི་གནས་འབར་བར་ཡང་བྱེད་དོ།',\n",
       " '།བགེགས་དང་ལོག་པར་འདྲེན་པ་ཐམས་ཅད་ཀྱི་སྐད་ཅིག་ཙམ་གྱིས་སྟེང་དུ་བདུག་པར་བྱེད་དོ།',\n",
       " '།གནོད་སྦྱིན་དང་།།']"
      ]
     },
     "execution_count": 42,
     "metadata": {},
     "output_type": "execute_result"
    }
   ],
   "source": [
    "segments = list(translator.segment(bo_text))\n",
    "segments"
   ]
  },
  {
   "cell_type": "code",
   "execution_count": 43,
   "id": "e1839335-d9ba-476c-be06-d33d062cf28f",
   "metadata": {},
   "outputs": [],
   "source": [
    "en_text = process_en_text(en_text)"
   ]
  },
  {
   "cell_type": "code",
   "execution_count": 44,
   "id": "241df448-4fd5-4928-85b3-1f7ca1c5f59e",
   "metadata": {},
   "outputs": [
    {
     "data": {
      "application/vnd.jupyter.widget-view+json": {
       "model_id": "",
       "version_major": 2,
       "version_minor": 0
      },
      "text/plain": [
       "  0%|          | 0/20 [00:00<?, ?it/s]"
      ]
     },
     "metadata": {},
     "output_type": "display_data"
    }
   ],
   "source": [
    "segment_scores = {}\n",
    "for segment in tqdm(segments, leave=False):\n",
    "    segment_scores[segment] = score_segment(segment, en_text, tqdm=lambda *args, **kwargs: tqdm(*args, disable=True, **kwargs))"
   ]
  },
  {
   "cell_type": "code",
   "execution_count": 45,
   "id": "6d48f872-5ac8-4895-b3ed-0927b2979600",
   "metadata": {},
   "outputs": [],
   "source": [
    "final_matches = {}"
   ]
  },
  {
   "cell_type": "code",
   "execution_count": 46,
   "id": "650b29e3-90e5-417f-949a-399162e76f45",
   "metadata": {},
   "outputs": [],
   "source": [
    "while len(segment_scores) > 0:\n",
    "    best_match = max(\n",
    "        [(segment, scores[0]) for segment, scores in segment_scores.items()],\n",
    "        key=lambda x: x[1][1])\n",
    "    best_bo, ((best_en, best_en_start, best_en_end), best_score) = best_match\n",
    "    final_matches[best_bo] = (best_en, best_score)\n",
    "\n",
    "    del segment_scores[best_bo]\n",
    "\n",
    "    new_segment_scores = {}\n",
    "    for segment, scores in segment_scores.items():\n",
    "        new_segment_scores[segment] = [((en, en_start, en_end), score) for (en, en_start, en_end), score in scores if not (best_en_start >= en_start and best_en_end <= en_end)]\n",
    "    segment_scores = new_segment_scores"
   ]
  },
  {
   "cell_type": "code",
   "execution_count": 47,
   "id": "7a133fce-6cea-472c-b394-2956fa4a41a4",
   "metadata": {},
   "outputs": [
    {
     "data": {
      "text/plain": [
       "{'།གནོད་སྦྱིན་དང་།།': ('as well as of yaksas.', -1.5338767766952515),\n",
       " '།སངས་རྒྱས་ཀྱི་ཞིང་སྟོང་ཕྲག་རྣམས་དང་། སངས་རྒྱས་ཀྱི་ཞིང་བརྒྱ་ཕྲག་རྣམས་དང་། གང་གཱའི་ཀླུང་གི་བྱེ་མ་དང་མཉམ་པའི་ཞིང་དུ་རྒྱལ་པོར་འགྱུར་རོ།': ('he will become king in hundreds of thousands of buddha fields.',\n",
       "  -1.6311500072479248),\n",
       " '།ཀུན་དུ་གསལ་བར་བྱེད་དོ། །ཀླུའི་གནས་ཐམས་ཅད་དུ་ཀླུའི་གནས་འབར་བར་ཡང་བྱེད་དོ།': ('all naga dwellings will burn.',\n",
       "  -1.9746745824813843),\n",
       " '།རིགས་ཀྱི་རྒྱལ་པོའི་གསང་སྔགས་རྒྱས་པར་གྱུར་པ་པདྨ་གཙུག་ཏོར་གྱི་དཀྱིལ་འཁོར་དུ་རིགས་ཀྱི་རྒྱལ་པོ་ལེགས་པར་གྲུབ་པར་འགྱུར་ཏེ།': ('he will obtain the auspicious accomplishment of the lord of the family in the mandala of padmosnisa. family lords.',\n",
       "  -2.062058687210083),\n",
       " '།དཀྱིལ་འཁོར་རྣམས་ཀྱི་ཆོ་ག་ཞིབ་མོ་དང་། ཕྱག་རྒྱས་བྱང་ཆུབ་སེམས་དཔའ་ཐམས་ཅད་ཀྱི་རིགས་ཐུན་མོང་བ་ཐམས་ཅད་དུ་རྒྱལ་པོའི་བྱ་བ་བྱེད་པར་འགྱུར་རོ།': ('he will join the same family as the bodhisattvas and will perform the function of a king in every respect. using the family vidya.',\n",
       "  -2.0876047611236572),\n",
       " '།རིགས་ཀྱི་རྒྱལ་པོའི་གསང་སྔགས་ཀྱི་རྒྱལ་པོ་དང་། རིག་སྔགས་ཀྱི་རྒྱལ་པོ་མཆོག་གི་དངོས་གྲུབ་ཐམས་ཅད་རབ་ཏུ་སྦྱིན་པར་བྱེད་དོ།': ('as well as the mantra and vidya kings who rule over the family lords auspicious accomplishments.',\n",
       "  -2.22883677482605),\n",
       " '།རྒྱ་མཚོ་ཆེན་པོ་ཀུན་ནས་དཀྲུག་ཅིང་། རྒྱ་མཚོ་ཆེན་པོ་ཉེ་བར་སྐྱེ་བར་བྱེད་དོ།': ('and the waters of the great ocean will be agitated. the palaces of the nagas will be set alight.',\n",
       "  -2.2550160884857178),\n",
       " 'རིགས་ཀྱི་རྒྱལ་པོ་དང་། རིག་སྔགས་ཀྱི་རྒྱལ་པོ་གང་ཡིན་པ་དེ་ཐམས་ཅད་དུ་དབང་ཕྱུག་ཏུ་འགྱུར་རོ།': ('the vidya holder will become the lord of the family and the king of the vidyadharas-a sovereign lord in every respect. using the rites and mudras of the corresponding mandalas.',\n",
       "  -2.372086763381958),\n",
       " '།རིགས་ཀྱི་རིག་པས་ལྷའི་དབང་ཕྱུག་དང་། ལྷའི་ཚོགས་རྣམས་ཀྱི་དབང་ཕྱུག་ཏུ་འགྱུར་རོ།': ('equal in number to the grains of sand in the ganga river. he will also become the king of the devas and their heavenly hosts.',\n",
       "  -2.3895859718322754),\n",
       " 'དོན་ཡོད་ཞགས་པའི་དཀྱིལ་འཁོར་དུ་བཀླགས་ནས་བཟླས་པ་ཙམ་གྱིས་འགྲུབ་སྟེ།': ('where one becomes accomplished through recitation. through mere recitation.',\n",
       "  -2.4668123722076416),\n",
       " 'ཐམས་ཅད་དུ་རིགས་ཀྱི་རྒྱལ་པོའི་དངོས་གྲུབ་བཟང་པོ་རྣམས་འོང་བར་འགྱུར་རོ།': ('if he mindfully repeats the mantra of the lord of the family.',\n",
       "  -2.470977544784546),\n",
       " '།པདྨ་གཙུག་ཏོར་གྱི་རིགས་ཀྱི་དངོས་གྲུབ་དང་། པདྨ་ཡངས་པའི་དཀྱིལ་འཁོར་རམ།': ('he will win the accomplishments of the amogha family. these kings of mantras will be accomplished through recitation. there is no doubt about this. accomplishment in the padmosnisa family belongs to the great lotus mandala.',\n",
       "  -2.6460297107696533),\n",
       " '།བགེགས་དང་ལོག་པར་འདྲེན་པ་ཐམས་ཅད་ཀྱི་སྐད་ཅིག་ཙམ་གྱིས་སྟེང་དུ་བདུག་པར་བྱེད་དོ།': ('and all vighnas and vinayakas will be smoked out in a matter of seconds. all terrible beings such as yaksas.',\n",
       "  -2.6580827236175537),\n",
       " '།རྟག་ཏུ་ཡང་གནོད་སྦྱིན་རྣམས་དང་། སྲིན་པོ་རྣམས་སུ་གྱུར་པ་དང་། དྲི་ཟ་རྣམས་དང་། གནོད་སྦྱིན་རྣམས་དང་། སྲིན་པོ་རྣམས་ཀྱི་དེ་བཞིན་ཉིད་དུ་ཐམས་ཅད་དུ་རྒྱལ་པོ་དང་། དབང་ཕྱུག་ཏུ་རྟག་ཏུ་འགྱུར་ཏེ་ཐེ་ཚོམ་མེད་དོ།': ('raksasas. and gandharvas. he can become a king and lord anywhere-the king of garudas.',\n",
       "  -2.855726480484009),\n",
       " '།པདྨའི་ཕྱག་གིས་རྗེས་སུ་འཇུག་ཅིང་། དོན་ཡོད་པའི་རིགས་ཀྱི་དངོས་གྲུབ་ཇི་ལྟ་བ་བཞིན་དུ་འགྲུབ་སྟེ།': ('will arrive and grant the vidya holder every supreme accomplishment. followed by padmapani.',\n",
       "  -2.979011297225952),\n",
       " 'ཁོར་ཡུག་གི་རི་རྣམ་པར་འཐོར་བར་བྱེད་དོ།': ('the vidya holder can instantly flatten mount sumeru. the mountain ranges that surround it will break apart.',\n",
       "  -2.983743190765381),\n",
       " 'བཀླགས་པས་གྲུབ་པ་འདི་ལ་ཐེ་ཚོམ་མེད་དོ།': ('the mandala of amoghapasa.',\n",
       "  -3.2305541038513184),\n",
       " '།ནམ་མཁའ་ལྡིང་རྣམས་དང་། མིའམ་ཅི་རྣམས་དང་། ལྟོ་འཕྱེ་ཆེན་པོ་རྣམས་དང་། ཐམས་ཅད་དུ་ཇི་སྲིད་བྱང་ཆུབ་ལ་ཡང་དག་པར་གནས་ཀྱི་བར་དུ་རིགས་ཀྱི་རྒྱལ་པོར་འགྱུར་རོ།': ('and gandharvas. he can become a king and lord anywhere-the king of garudas. kinnaras. or mahoragas-and will remain king until the attainment of awakening. there is no doubt about this. by just mindfully repeating the krodharaja mantra with a fierce mind.',\n",
       "  -3.5754992961883545),\n",
       " '།དེ་ནས་ཁྲོ་བོའི་རྒྱལ་པོ་དྲན་པ་ཙམ་དང་དྲག་པོ་དེ་ཡིད་ལ་སེམས་པ་ཙམ་གྱི་མོད་ལ། འཕྲལ་དུ་རི་རབ་ལྟུང་བར་བྱེད་ཅིང་།': ('or mahoragas-and will remain king until the attainment of awakening. there is no doubt about this. by just mindfully repeating the krodharaja mantra with a fierce mind.',\n",
       "  -3.59883189201355),\n",
       " '།བླ་ན་མེད་པའི་དཔལ་ཐོབ་བོ།': ('raksasas.', -4.051799297332764)}"
      ]
     },
     "execution_count": 47,
     "metadata": {},
     "output_type": "execute_result"
    }
   ],
   "source": [
    "final_matches"
   ]
  },
  {
   "cell_type": "code",
   "execution_count": 48,
   "id": "47f013f0-e59c-4e5c-829e-001546438829",
   "metadata": {},
   "outputs": [
    {
     "data": {
      "application/vnd.jupyter.widget-view+json": {
       "model_id": "d99371c67f07482ebdb68e60ee68cd36",
       "version_major": 2,
       "version_minor": 0
      },
      "text/plain": [
       "  0%|          | 0/20 [00:00<?, ?it/s]"
      ]
     },
     "metadata": {},
     "output_type": "display_data"
    },
    {
     "name": "stdout",
     "output_type": "stream",
     "text": [
      "།གནོད་སྦྱིན་དང་།། | as well as of yaksas. | yaksas, | -1.5338767766952515\n",
      "།སངས་རྒྱས་ཀྱི་ཞིང་སྟོང་ཕྲག་རྣམས་དང་། སངས་རྒྱས་ཀྱི་ཞིང་བརྒྱ་ཕྲག་རྣམས་དང་། གང་གཱའི་ཀླུང་གི་བྱེ་མ་དང་མཉམ་པའི་ཞིང་དུ་རྒྱལ་པོར་འགྱུར་རོ། | he will become king in hundreds of thousands of buddha fields. | they will become kings in thousands of buddha realms, hundreds of buddha realms, and as many realms as there are grains of sand in the ganges. | -1.6311500072479248\n",
      "།ཀུན་དུ་གསལ་བར་བྱེད་དོ། །ཀླུའི་གནས་ཐམས་ཅད་དུ་ཀླུའི་གནས་འབར་བར་ཡང་བྱེད་དོ། | all naga dwellings will burn. | it will illuminate the entire land of the nagas, and all the land of the nagas will blaze with light. | -1.9746745824813843\n",
      "།རིགས་ཀྱི་རྒྱལ་པོའི་གསང་སྔགས་རྒྱས་པར་གྱུར་པ་པདྨ་གཙུག་ཏོར་གྱི་དཀྱིལ་འཁོར་དུ་རིགས་ཀྱི་རྒྱལ་པོ་ལེགས་པར་གྲུབ་པར་འགྱུར་ཏེ། | he will obtain the auspicious accomplishment of the lord of the family in the mandala of padmosnisa. family lords. | the secret mantra of the vidyaraja of the vidya family will be extensively accomplished in the mandala of the lotus crown protuberance of the vidyaraja of the vidyaraja of the vidyaraja family. | -2.062058687210083\n",
      "།དཀྱིལ་འཁོར་རྣམས་ཀྱི་ཆོ་ག་ཞིབ་མོ་དང་། ཕྱག་རྒྱས་བྱང་ཆུབ་སེམས་དཔའ་ཐམས་ཅད་ཀྱི་རིགས་ཐུན་མོང་བ་ཐམས་ཅད་དུ་རྒྱལ་པོའི་བྱ་བ་བྱེད་པར་འགྱུར་རོ། | he will join the same family as the bodhisattvas and will perform the function of a king in every respect. using the family vidya. | by means of the detailed mandala procedures and the mudras of the mandala, one will be able to perform the activities of a king in all the common rites of the bodhisattva family. | -2.0876047611236572\n",
      "།རིགས་ཀྱི་རྒྱལ་པོའི་གསང་སྔགས་ཀྱི་རྒྱལ་པོ་དང་། རིག་སྔགས་ཀྱི་རྒྱལ་པོ་མཆོག་གི་དངོས་གྲུབ་ཐམས་ཅད་རབ་ཏུ་སྦྱིན་པར་བྱེད་དོ། | as well as the mantra and vidya kings who rule over the family lords auspicious accomplishments. | he will grant all the accomplishments of the supreme king of vidya s, the king of mantras of the family of noble family, and the supreme king of vidya s. | -2.22883677482605\n",
      "།རྒྱ་མཚོ་ཆེན་པོ་ཀུན་ནས་དཀྲུག་ཅིང་། རྒྱ་མཚོ་ཆེན་པོ་ཉེ་བར་སྐྱེ་བར་བྱེད་དོ། | and the waters of the great ocean will be agitated. the palaces of the nagas will be set alight. | they will stir up the ocean and give rise to the ocean. | -2.2550160884857178\n",
      "རིགས་ཀྱི་རྒྱལ་པོ་དང་། རིག་སྔགས་ཀྱི་རྒྱལ་པོ་གང་ཡིན་པ་དེ་ཐམས་ཅད་དུ་དབང་ཕྱུག་ཏུ་འགྱུར་རོ། | the vidya holder will become the lord of the family and the king of the vidyadharas-a sovereign lord in every respect. using the rites and mudras of the corresponding mandalas. | the kings of the caste and the kings of the incantations will all become sovereigns in all respects. | -2.372086763381958\n",
      "།རིགས་ཀྱི་རིག་པས་ལྷའི་དབང་ཕྱུག་དང་། ལྷའི་ཚོགས་རྣམས་ཀྱི་དབང་ཕྱུག་ཏུ་འགྱུར་རོ། | equal in number to the grains of sand in the ganga river. he will also become the king of the devas and their heavenly hosts. | through knowledge of the caste, one will become the lord of the gods and the lord of the hosts of gods. | -2.3895859718322754\n",
      "དོན་ཡོད་ཞགས་པའི་དཀྱིལ་འཁོར་དུ་བཀླགས་ནས་བཟླས་པ་ཙམ་གྱིས་འགྲུབ་སྟེ། | where one becomes accomplished through recitation. through mere recitation. | it will be accomplished merely by reciting the mantra recited while reciting the mantra in the mandala of the wish-fulfilling noose. | -2.4668123722076416\n",
      "ཐམས་ཅད་དུ་རིགས་ཀྱི་རྒྱལ་པོའི་དངོས་གྲུབ་བཟང་པོ་རྣམས་འོང་བར་འགྱུར་རོ། | if he mindfully repeats the mantra of the lord of the family. | the auspicious accomplishments of the kings of noble families will manifest everywhere. | -2.470977544784546\n",
      "།པདྨ་གཙུག་ཏོར་གྱི་རིགས་ཀྱི་དངོས་གྲུབ་དང་། པདྨ་ཡངས་པའི་དཀྱིལ་འཁོར་རམ། | he will win the accomplishments of the amogha family. these kings of mantras will be accomplished through recitation. there is no doubt about this. accomplishment in the padmosnisa family belongs to the great lotus mandala. | or the accomplishment of the family of the lotus crown protuberance, or the mandala of the vast lotus flower. | -2.6460297107696533\n",
      "།བགེགས་དང་ལོག་པར་འདྲེན་པ་ཐམས་ཅད་ཀྱི་སྐད་ཅིག་ཙམ་གྱིས་སྟེང་དུ་བདུག་པར་བྱེད་དོ། | and all vighnas and vinayakas will be smoked out in a matter of seconds. all terrible beings such as yaksas. | one will permeate all obstacles and evildoers instantaneously and instantaneously. | -2.6580827236175537\n",
      "།རྟག་ཏུ་ཡང་གནོད་སྦྱིན་རྣམས་དང་། སྲིན་པོ་རྣམས་སུ་གྱུར་པ་དང་། དྲི་ཟ་རྣམས་དང་། གནོད་སྦྱིན་རྣམས་དང་། སྲིན་པོ་རྣམས་ཀྱི་དེ་བཞིན་ཉིད་དུ་ཐམས་ཅད་དུ་རྒྱལ་པོ་དང་། དབང་ཕྱུག་ཏུ་རྟག་ཏུ་འགྱུར་ཏེ་ཐེ་ཚོམ་མེད་དོ། | raksasas. and gandharvas. he can become a king and lord anywhere-the king of garudas. | he will always be a yaksa, a raksasa, a gandharva, a yaksa, a yaksa, or a raksasa. he will always be king and lord, there is no doubt. | -2.855726480484009\n",
      "།པདྨའི་ཕྱག་གིས་རྗེས་སུ་འཇུག་ཅིང་། དོན་ཡོད་པའི་རིགས་ཀྱི་དངོས་གྲུབ་ཇི་ལྟ་བ་བཞིན་དུ་འགྲུབ་སྟེ། | will arrive and grant the vidya holder every supreme accomplishment. followed by padmapani. | by means of the lotus mudra, one will obtain the accomplishments of the meaningful family according to ones practice. | -2.979011297225952\n",
      "ཁོར་ཡུག་གི་རི་རྣམ་པར་འཐོར་བར་བྱེད་དོ། | the vidya holder can instantly flatten mount sumeru. the mountain ranges that surround it will break apart. | one will scatter the surrounding mountains. | -2.983743190765381\n",
      "བཀླགས་པས་གྲུབ་པ་འདི་ལ་ཐེ་ཚོམ་མེད་དོ། | the mandala of amoghapasa. | the accomplishment of recitation is beyond doubt. | -3.2305541038513184\n",
      "།ནམ་མཁའ་ལྡིང་རྣམས་དང་། མིའམ་ཅི་རྣམས་དང་། ལྟོ་འཕྱེ་ཆེན་པོ་རྣམས་དང་། ཐམས་ཅད་དུ་ཇི་སྲིད་བྱང་ཆུབ་ལ་ཡང་དག་པར་གནས་ཀྱི་བར་དུ་རིགས་ཀྱི་རྒྱལ་པོར་འགྱུར་རོ། | and gandharvas. he can become a king and lord anywhere-the king of garudas. kinnaras. or mahoragas-and will remain king until the attainment of awakening. there is no doubt about this. by just mindfully repeating the krodharaja mantra with a fierce mind. | the garudas, kimnaras, and mahoragas will all become kings of noble families for as long as they remain in the state of awakening. | -3.5754992961883545\n",
      "།དེ་ནས་ཁྲོ་བོའི་རྒྱལ་པོ་དྲན་པ་ཙམ་དང་དྲག་པོ་དེ་ཡིད་ལ་སེམས་པ་ཙམ་གྱི་མོད་ལ། འཕྲལ་དུ་རི་རབ་ལྟུང་བར་བྱེད་ཅིང་། | or mahoragas-and will remain king until the attainment of awakening. there is no doubt about this. by just mindfully repeating the krodharaja mantra with a fierce mind. | then, merely by merely recollecting the lord of wrath and by merely focusing his mind, he will instantly fall to the summit of mount sumeru. | -3.59883189201355\n",
      "།བླ་ན་མེད་པའི་དཔལ་ཐོབ་བོ། | raksasas. | they will attain unsurpassed splendor. | -4.051799297332764\n"
     ]
    }
   ],
   "source": [
    "for bo, (en, score) in tqdm(final_matches.items()):\n",
    "    print(f\"{bo} | {en} | {translator.translate(bo)} | {score}\")"
   ]
  },
  {
   "cell_type": "markdown",
   "id": "f860fec2-1e6f-4784-82ea-cc1afa26958d",
   "metadata": {},
   "source": [
    "# Compare outputs"
   ]
  },
  {
   "cell_type": "code",
   "execution_count": 1,
   "id": "241ce86d-6931-4185-b47e-ddddb836090b",
   "metadata": {},
   "outputs": [],
   "source": [
    "import os\n",
    "\n",
    "import pandas as pd"
   ]
  },
  {
   "cell_type": "code",
   "execution_count": 2,
   "id": "c4b2aea6-880f-48cc-afb5-d09dbf102e11",
   "metadata": {},
   "outputs": [
    {
     "data": {
      "text/html": [
       "<div>\n",
       "<style scoped>\n",
       "    .dataframe tbody tr th:only-of-type {\n",
       "        vertical-align: middle;\n",
       "    }\n",
       "\n",
       "    .dataframe tbody tr th {\n",
       "        vertical-align: top;\n",
       "    }\n",
       "\n",
       "    .dataframe thead th {\n",
       "        text-align: right;\n",
       "    }\n",
       "</style>\n",
       "<table border=\"1\" class=\"dataframe\">\n",
       "  <thead>\n",
       "    <tr style=\"text-align: right;\">\n",
       "      <th></th>\n",
       "      <th>bo_bart</th>\n",
       "      <th>en_bart</th>\n",
       "      <th>score_bart</th>\n",
       "      <th>bo_nllb</th>\n",
       "      <th>en_nllb</th>\n",
       "      <th>score_nllb</th>\n",
       "    </tr>\n",
       "    <tr>\n",
       "      <th>folio_idx</th>\n",
       "      <th></th>\n",
       "      <th></th>\n",
       "      <th></th>\n",
       "      <th></th>\n",
       "      <th></th>\n",
       "      <th></th>\n",
       "    </tr>\n",
       "  </thead>\n",
       "  <tbody>\n",
       "    <tr>\n",
       "      <th>0</th>\n",
       "      <td>།༄༅། །འདུལ་བ་ཀ་བཞུགས་སོ།།</td>\n",
       "      <td>the translation the chapters on monastic disci...</td>\n",
       "      <td>-4.600859</td>\n",
       "      <td>།༄༅། །འདུལ་བ་ཀ་བཞུགས་སོ།།</td>\n",
       "      <td>the translation the chapters on monastic disci...</td>\n",
       "      <td>-3.656713</td>\n",
       "    </tr>\n",
       "    <tr>\n",
       "      <th>1</th>\n",
       "      <td>།ཁྱིམ་དོན་ཆེ་ཆུང་སྤངས་ཏེ་དང་པོར་རབ་འབྱུང་དཀའ།</td>\n",
       "      <td>at first to renounce a householders concerns a...</td>\n",
       "      <td>-1.937958</td>\n",
       "      <td>།༄༅༅། །རྒྱ་གར་སྐད་དུ། བི་ན་ཡ་བསྟུ། བོད་སྐད་དུ།...</td>\n",
       "      <td>homage to the three jewels.</td>\n",
       "      <td>-0.552617</td>\n",
       "    </tr>\n",
       "    <tr>\n",
       "      <th>1</th>\n",
       "      <td>།ཁྱིམ་དོན་ཆེ་ཆུང་སྤངས་ཏེ་དང་པོར་རབ་འབྱུང་དཀའ།</td>\n",
       "      <td>at first to renounce a householders concerns a...</td>\n",
       "      <td>-1.937958</td>\n",
       "      <td>།ངུར་སྨྲིག་གོས་འཆང་མཁས་པ་ཚུལ་ལས་ཉམས་པ་དཀའ།</td>\n",
       "      <td>for a learned wearer of the saffron robes to f...</td>\n",
       "      <td>-1.113399</td>\n",
       "    </tr>\n",
       "    <tr>\n",
       "      <th>1</th>\n",
       "      <td>།ཁྱིམ་དོན་ཆེ་ཆུང་སྤངས་ཏེ་དང་པོར་རབ་འབྱུང་དཀའ།</td>\n",
       "      <td>at first to renounce a householders concerns a...</td>\n",
       "      <td>-1.937958</td>\n",
       "      <td>།གང་གིས་འཆིང་རྣམས་ཡང་དག་རབ་བཅད་ཅིང་། །མུ་སྟེགས...</td>\n",
       "      <td>homage to him who severed the bonds, destroyed...</td>\n",
       "      <td>-1.154738</td>\n",
       "    </tr>\n",
       "    <tr>\n",
       "      <th>1</th>\n",
       "      <td>།ཁྱིམ་དོན་ཆེ་ཆུང་སྤངས་ཏེ་དང་པོར་རབ་འབྱུང་དཀའ།</td>\n",
       "      <td>at first to renounce a householders concerns a...</td>\n",
       "      <td>-1.937958</td>\n",
       "      <td>།གཞི་རྣམས་ཀྱི་སྤྱི་སྡོམ་ལ། རབ་འབྱུང་གསོ་སྦྱོང་...</td>\n",
       "      <td>the chapters on monastic discipline includes c...</td>\n",
       "      <td>-1.411704</td>\n",
       "    </tr>\n",
       "    <tr>\n",
       "      <th>...</th>\n",
       "      <td>...</td>\n",
       "      <td>...</td>\n",
       "      <td>...</td>\n",
       "      <td>...</td>\n",
       "      <td>...</td>\n",
       "      <td>...</td>\n",
       "    </tr>\n",
       "    <tr>\n",
       "      <th>70</th>\n",
       "      <td>།དེ་སྒོ་བས་བཞིན་གྱི་གཟུགས་ལས་ངོ་ཤེས་ནས་སྨྲས་པ།</td>\n",
       "      <td>the village gatekeeper recognized him and asked,</td>\n",
       "      <td>-4.202088</td>\n",
       "      <td>NaN</td>\n",
       "      <td>NaN</td>\n",
       "      <td>NaN</td>\n",
       "    </tr>\n",
       "    <tr>\n",
       "      <th>70</th>\n",
       "      <td>།མེར་འཇུག་གི་བུ་འོ་ན་ཁྱོད་ཀྱིས་དེ་ལྟར་ཤེས་ཤིང་...</td>\n",
       "      <td>son of a self-immolator, then know this: if yo...</td>\n",
       "      <td>-4.322667</td>\n",
       "      <td>NaN</td>\n",
       "      <td>NaN</td>\n",
       "      <td>NaN</td>\n",
       "    </tr>\n",
       "    <tr>\n",
       "      <th>70</th>\n",
       "      <td>།མེར་འཇུག་གི་བུ་ཁྱོད་ཀྱིས་བདག་ཐམས་ཅད་མི་བཟོད་པ...</td>\n",
       "      <td>son of a self-immolator, even that view you ho...</td>\n",
       "      <td>-4.351613</td>\n",
       "      <td>NaN</td>\n",
       "      <td>NaN</td>\n",
       "      <td>NaN</td>\n",
       "    </tr>\n",
       "    <tr>\n",
       "      <th>70</th>\n",
       "      <td>སྐྱེ་བོ་ཕལ་པོ་ཆེ་ཡང་དེ་ལྟར་ལྟ་ཞིང་དེ་སྐད་སྨྲ་བ...</td>\n",
       "      <td>and cease to be.</td>\n",
       "      <td>-4.773093</td>\n",
       "      <td>NaN</td>\n",
       "      <td>NaN</td>\n",
       "      <td>NaN</td>\n",
       "    </tr>\n",
       "    <tr>\n",
       "      <th>70</th>\n",
       "      <td>།ཀྱེ་གཽ་ཏ་མ་བདག་གིས་དེ་ལྟར་ཤེས་ཤིང་དེ་ལྟར་མཐོང...</td>\n",
       "      <td>o gautama, i know this, that if it is seen lik...</td>\n",
       "      <td>-5.238682</td>\n",
       "      <td>NaN</td>\n",
       "      <td>NaN</td>\n",
       "      <td>NaN</td>\n",
       "    </tr>\n",
       "  </tbody>\n",
       "</table>\n",
       "<p>17408 rows × 6 columns</p>\n",
       "</div>"
      ],
      "text/plain": [
       "                                                     bo_bart  \\\n",
       "folio_idx                                                      \n",
       "0                                  །༄༅། །འདུལ་བ་ཀ་བཞུགས་སོ།།   \n",
       "1              །ཁྱིམ་དོན་ཆེ་ཆུང་སྤངས་ཏེ་དང་པོར་རབ་འབྱུང་དཀའ།   \n",
       "1              །ཁྱིམ་དོན་ཆེ་ཆུང་སྤངས་ཏེ་དང་པོར་རབ་འབྱུང་དཀའ།   \n",
       "1              །ཁྱིམ་དོན་ཆེ་ཆུང་སྤངས་ཏེ་དང་པོར་རབ་འབྱུང་དཀའ།   \n",
       "1              །ཁྱིམ་དོན་ཆེ་ཆུང་སྤངས་ཏེ་དང་པོར་རབ་འབྱུང་དཀའ།   \n",
       "...                                                      ...   \n",
       "70            །དེ་སྒོ་བས་བཞིན་གྱི་གཟུགས་ལས་ངོ་ཤེས་ནས་སྨྲས་པ།   \n",
       "70         །མེར་འཇུག་གི་བུ་འོ་ན་ཁྱོད་ཀྱིས་དེ་ལྟར་ཤེས་ཤིང་...   \n",
       "70         །མེར་འཇུག་གི་བུ་ཁྱོད་ཀྱིས་བདག་ཐམས་ཅད་མི་བཟོད་པ...   \n",
       "70         སྐྱེ་བོ་ཕལ་པོ་ཆེ་ཡང་དེ་ལྟར་ལྟ་ཞིང་དེ་སྐད་སྨྲ་བ...   \n",
       "70         །ཀྱེ་གཽ་ཏ་མ་བདག་གིས་དེ་ལྟར་ཤེས་ཤིང་དེ་ལྟར་མཐོང...   \n",
       "\n",
       "                                                     en_bart  score_bart  \\\n",
       "folio_idx                                                                  \n",
       "0          the translation the chapters on monastic disci...   -4.600859   \n",
       "1          at first to renounce a householders concerns a...   -1.937958   \n",
       "1          at first to renounce a householders concerns a...   -1.937958   \n",
       "1          at first to renounce a householders concerns a...   -1.937958   \n",
       "1          at first to renounce a householders concerns a...   -1.937958   \n",
       "...                                                      ...         ...   \n",
       "70         the village gatekeeper recognized him and asked,    -4.202088   \n",
       "70         son of a self-immolator, then know this: if yo...   -4.322667   \n",
       "70         son of a self-immolator, even that view you ho...   -4.351613   \n",
       "70                                          and cease to be.   -4.773093   \n",
       "70         o gautama, i know this, that if it is seen lik...   -5.238682   \n",
       "\n",
       "                                                     bo_nllb  \\\n",
       "folio_idx                                                      \n",
       "0                                  །༄༅། །འདུལ་བ་ཀ་བཞུགས་སོ།།   \n",
       "1          །༄༅༅། །རྒྱ་གར་སྐད་དུ། བི་ན་ཡ་བསྟུ། བོད་སྐད་དུ།...   \n",
       "1                 །ངུར་སྨྲིག་གོས་འཆང་མཁས་པ་ཚུལ་ལས་ཉམས་པ་དཀའ།   \n",
       "1          །གང་གིས་འཆིང་རྣམས་ཡང་དག་རབ་བཅད་ཅིང་། །མུ་སྟེགས...   \n",
       "1          །གཞི་རྣམས་ཀྱི་སྤྱི་སྡོམ་ལ། རབ་འབྱུང་གསོ་སྦྱོང་...   \n",
       "...                                                      ...   \n",
       "70                                                       NaN   \n",
       "70                                                       NaN   \n",
       "70                                                       NaN   \n",
       "70                                                       NaN   \n",
       "70                                                       NaN   \n",
       "\n",
       "                                                     en_nllb  score_nllb  \n",
       "folio_idx                                                                 \n",
       "0          the translation the chapters on monastic disci...   -3.656713  \n",
       "1                                homage to the three jewels.   -0.552617  \n",
       "1          for a learned wearer of the saffron robes to f...   -1.113399  \n",
       "1          homage to him who severed the bonds, destroyed...   -1.154738  \n",
       "1          the chapters on monastic discipline includes c...   -1.411704  \n",
       "...                                                      ...         ...  \n",
       "70                                                       NaN         NaN  \n",
       "70                                                       NaN         NaN  \n",
       "70                                                       NaN         NaN  \n",
       "70                                                       NaN         NaN  \n",
       "70                                                       NaN         NaN  \n",
       "\n",
       "[17408 rows x 6 columns]"
      ]
     },
     "execution_count": 2,
     "metadata": {},
     "output_type": "execute_result"
    }
   ],
   "source": [
    "bart_df = pd.read_csv(\n",
    "    os.path.join(os.environ['CAI_TEMP_PATH'], \"temp_data/mined_enbo_data/matches.csv.bart\"),\n",
    "    header=None,\n",
    "    delimiter='|',\n",
    "    names=[\"folio_idx\", \"bo\", \"en\", \"score\"],\n",
    "    index_col=\"folio_idx\")\n",
    "nllb_df = pd.read_csv(\n",
    "    os.path.join(os.environ['CAI_TEMP_PATH'], \"temp_data/mined_enbo_data/matches.csv.nllb\"),\n",
    "    header=None,\n",
    "    delimiter='|',\n",
    "    names=[\"folio_idx\", \"bo\", \"en\", \"score\"],\n",
    "    index_col=\"folio_idx\")\n",
    "joined_df = bart_df.join(nllb_df, lsuffix=\"_bart\", rsuffix=\"_nllb\")\n",
    "joined_df"
   ]
  },
  {
   "cell_type": "code",
   "execution_count": 3,
   "id": "8b285136-725c-4d9d-a73c-579468817b24",
   "metadata": {},
   "outputs": [
    {
     "data": {
      "text/plain": [
       "<AxesSubplot: >"
      ]
     },
     "execution_count": 3,
     "metadata": {},
     "output_type": "execute_result"
    },
    {
     "data": {
      "image/png": "[encoded data removed]",
      "text/plain": [
       "<Figure size 640x480 with 1 Axes>"
      ]
     },
     "metadata": {},
     "output_type": "display_data"
    }
   ],
   "source": [
    "joined_df.score_bart.hist(bins=50, legend=True)\n",
    "joined_df.score_nllb.hist(bins=50, legend=True)"
   ]
  },
  {
   "cell_type": "code",
   "execution_count": 4,
   "id": "f502ebe0-3007-4b6c-8017-9212d347f685",
   "metadata": {},
   "outputs": [
    {
     "data": {
      "text/html": [
       "<div>\n",
       "<style scoped>\n",
       "    .dataframe tbody tr th:only-of-type {\n",
       "        vertical-align: middle;\n",
       "    }\n",
       "\n",
       "    .dataframe tbody tr th {\n",
       "        vertical-align: top;\n",
       "    }\n",
       "\n",
       "    .dataframe thead th {\n",
       "        text-align: right;\n",
       "    }\n",
       "</style>\n",
       "<table border=\"1\" class=\"dataframe\">\n",
       "  <thead>\n",
       "    <tr style=\"text-align: right;\">\n",
       "      <th></th>\n",
       "      <th>en_nllb</th>\n",
       "      <th>score_nllb</th>\n",
       "      <th>en_bart</th>\n",
       "      <th>score_bart</th>\n",
       "    </tr>\n",
       "    <tr>\n",
       "      <th>bo</th>\n",
       "      <th></th>\n",
       "      <th></th>\n",
       "      <th></th>\n",
       "      <th></th>\n",
       "    </tr>\n",
       "  </thead>\n",
       "  <tbody>\n",
       "    <tr>\n",
       "      <th>།༄༅། །འདུལ་བ་ཀ་བཞུགས་སོ།།</th>\n",
       "      <td>the translation the chapters on monastic disci...</td>\n",
       "      <td>-3.656713</td>\n",
       "      <td>the translation the chapters on monastic disci...</td>\n",
       "      <td>-4.600859</td>\n",
       "    </tr>\n",
       "    <tr>\n",
       "      <th>།༄༅༅། །རྒྱ་གར་སྐད་དུ། བི་ན་ཡ་བསྟུ། བོད་སྐད་དུ། འདུལ་བ་གཞི། བམ་པོ་དང་པོ། དཀོན་མཆོག་གསུམ་ལ་ཕྱག་འཚལ་ལོ།</th>\n",
       "      <td>homage to the three jewels.</td>\n",
       "      <td>-0.552617</td>\n",
       "      <td>homage to the three jewels.</td>\n",
       "      <td>-2.867246</td>\n",
       "    </tr>\n",
       "    <tr>\n",
       "      <th>།ངུར་སྨྲིག་གོས་འཆང་མཁས་པ་ཚུལ་ལས་ཉམས་པ་དཀའ།</th>\n",
       "      <td>for a learned wearer of the saffron robes to f...</td>\n",
       "      <td>-1.113399</td>\n",
       "      <td>for a learned wearer of the saffron robes to f...</td>\n",
       "      <td>-2.591639</td>\n",
       "    </tr>\n",
       "    <tr>\n",
       "      <th>།གང་གིས་འཆིང་རྣམས་ཡང་དག་རབ་བཅད་ཅིང་། །མུ་སྟེགས་ཚོགས་རྣམས་ཐམས་ཅད་རབ་བཅོམ་སྟེ། །སྡེ་དང་བཅས་པའི་བདུད་རྣམས་ངེས་བཅོམ་ནས། །བྱང་ཆུབ་འདི་བརྙེས་དེ་ལ་ཕྱག་འཚལ་ལོ།</th>\n",
       "      <td>homage to him who severed the bonds, destroyed...</td>\n",
       "      <td>-1.154738</td>\n",
       "      <td>homage to him who severed the bonds, destroyed...</td>\n",
       "      <td>-3.765382</td>\n",
       "    </tr>\n",
       "    <tr>\n",
       "      <th>།གཞི་རྣམས་ཀྱི་སྤྱི་སྡོམ་ལ། རབ་འབྱུང་གསོ་སྦྱོང་གཞི་དང་ནི།</th>\n",
       "      <td>the chapters on monastic discipline includes c...</td>\n",
       "      <td>-1.411704</td>\n",
       "      <td>the chapters on monastic discipline includes c...</td>\n",
       "      <td>-4.495665</td>\n",
       "    </tr>\n",
       "    <tr>\n",
       "      <th>...</th>\n",
       "      <td>...</td>\n",
       "      <td>...</td>\n",
       "      <td>...</td>\n",
       "      <td>...</td>\n",
       "    </tr>\n",
       "    <tr>\n",
       "      <th>།བུ་ཁོ་བོ་ཡང་ཅུང་ཟད་རབ་ཏུ་བྱུང་བ་དེ་ཐམས་ཅད་བདུད་རྩི་དོན་དུ་གཉེར་ཞིང་བདུད་རྩི་ཚོལ་བ་ཡིན་ན་ཁོ་བོས་བདུད་རྩི་ཅུང་ཟད་ཀྱང་མ་རྙེད་དེ།</th>\n",
       "      <td>the whole of what little renunciation i have i...</td>\n",
       "      <td>-1.428485</td>\n",
       "      <td>the whole of what little renunciation i have i...</td>\n",
       "      <td>-1.590217</td>\n",
       "    </tr>\n",
       "    <tr>\n",
       "      <th>།དེ་རྒྱ་མཚོ་ལ་ཐུག་པའི་ས་ཆེན་པོ་མ་ལུས་པ་གནོད་པར་སྡོ་བ་མེད་ཅིང་འཚེ་བ་མེད་པ་འདི་ཉིད་ཆད་པ་མེད་ཅིང་མཚོན་གྱིས་བདའ་བ་མེད་ལ། ཆོས་དང་མཐུན་ཞིང་སྙོམས་པས་ལེགས་པར་ཕབ་སྟེ་གནས་པར་འགྱུར་རོ།</th>\n",
       "      <td>the whole earth, from sea to sea, will be free...</td>\n",
       "      <td>-1.519169</td>\n",
       "      <td>where rule is impartial and in harmony with th...</td>\n",
       "      <td>-3.459297</td>\n",
       "    </tr>\n",
       "    <tr>\n",
       "      <th>དེའི་རིན་པོ་ཆེ་བདུན་པོ་དེ་དག་ནི་འདི་ལྟ་བུར་འགྱུར་ཏེ།</th>\n",
       "      <td>he will be endowed with the dharma or the seve...</td>\n",
       "      <td>-1.765414</td>\n",
       "      <td>allow me to explain.</td>\n",
       "      <td>-4.108505</td>\n",
       "    </tr>\n",
       "    <tr>\n",
       "      <th>དེ་བྲམ་ཟེ་ལྟས་པ་དང་མཚན་མཁན་དག་གིས་གཞོན་ནུ་དེ་ཕོ་བྲང་གི་ནང་ན་བཞུགས་པར་གྱུར་ན་འཁོར་ལོས་སྒྱུར་བའི་རྒྱལ་པོ་མཐའ་བཞིར་རྒྱལ་བ། ཆོས་ཀྱི་རྒྱལ་པོ་ཆོས་དང་ལྡན་པ། རིན་པོ་ཆེ་སྣ་བདུན་དང་ལྡན་པར་འགྱུར་ཏེ།</th>\n",
       "      <td>brahmins skilled in interpreting omens and sig...</td>\n",
       "      <td>-1.966832</td>\n",
       "      <td>brahmins skilled in interpreting omens and sig...</td>\n",
       "      <td>-3.041340</td>\n",
       "    </tr>\n",
       "    <tr>\n",
       "      <th>དེ་ལས་ཁྱེད་གཉིས་ཀྱིས་བདུད་རྩི་ཆེན་པོ་ཐོབ་པར་འགྱུར་རོ་ཞེས་སྨྲས་ནས།</th>\n",
       "      <td>you should live the holy life under his guidan...</td>\n",
       "      <td>-2.056416</td>\n",
       "      <td>you should live the holy life under his guidan...</td>\n",
       "      <td>-2.749749</td>\n",
       "    </tr>\n",
       "  </tbody>\n",
       "</table>\n",
       "<p>824 rows × 4 columns</p>\n",
       "</div>"
      ],
      "text/plain": [
       "                                                                                              en_nllb  \\\n",
       "bo                                                                                                      \n",
       "།༄༅། །འདུལ་བ་ཀ་བཞུགས་སོ།།                           the translation the chapters on monastic disci...   \n",
       "།༄༅༅། །རྒྱ་གར་སྐད་དུ། བི་ན་ཡ་བསྟུ། བོད་སྐད་དུ། ...                        homage to the three jewels.   \n",
       "།ངུར་སྨྲིག་གོས་འཆང་མཁས་པ་ཚུལ་ལས་ཉམས་པ་དཀའ།          for a learned wearer of the saffron robes to f...   \n",
       "།གང་གིས་འཆིང་རྣམས་ཡང་དག་རབ་བཅད་ཅིང་། །མུ་སྟེགས་...  homage to him who severed the bonds, destroyed...   \n",
       "།གཞི་རྣམས་ཀྱི་སྤྱི་སྡོམ་ལ། རབ་འབྱུང་གསོ་སྦྱོང་ག...  the chapters on monastic discipline includes c...   \n",
       "...                                                                                               ...   \n",
       "།བུ་ཁོ་བོ་ཡང་ཅུང་ཟད་རབ་ཏུ་བྱུང་བ་དེ་ཐམས་ཅད་བདུད...  the whole of what little renunciation i have i...   \n",
       "།དེ་རྒྱ་མཚོ་ལ་ཐུག་པའི་ས་ཆེན་པོ་མ་ལུས་པ་གནོད་པར་...  the whole earth, from sea to sea, will be free...   \n",
       "དེའི་རིན་པོ་ཆེ་བདུན་པོ་དེ་དག་ནི་འདི་ལྟ་བུར་འགྱུ...  he will be endowed with the dharma or the seve...   \n",
       "དེ་བྲམ་ཟེ་ལྟས་པ་དང་མཚན་མཁན་དག་གིས་གཞོན་ནུ་དེ་ཕོ...  brahmins skilled in interpreting omens and sig...   \n",
       "དེ་ལས་ཁྱེད་གཉིས་ཀྱིས་བདུད་རྩི་ཆེན་པོ་ཐོབ་པར་འགྱ...  you should live the holy life under his guidan...   \n",
       "\n",
       "                                                    score_nllb  \\\n",
       "bo                                                               \n",
       "།༄༅། །འདུལ་བ་ཀ་བཞུགས་སོ།།                            -3.656713   \n",
       "།༄༅༅། །རྒྱ་གར་སྐད་དུ། བི་ན་ཡ་བསྟུ། བོད་སྐད་དུ། ...   -0.552617   \n",
       "།ངུར་སྨྲིག་གོས་འཆང་མཁས་པ་ཚུལ་ལས་ཉམས་པ་དཀའ།           -1.113399   \n",
       "།གང་གིས་འཆིང་རྣམས་ཡང་དག་རབ་བཅད་ཅིང་། །མུ་སྟེགས་...   -1.154738   \n",
       "།གཞི་རྣམས་ཀྱི་སྤྱི་སྡོམ་ལ། རབ་འབྱུང་གསོ་སྦྱོང་ག...   -1.411704   \n",
       "...                                                        ...   \n",
       "།བུ་ཁོ་བོ་ཡང་ཅུང་ཟད་རབ་ཏུ་བྱུང་བ་དེ་ཐམས་ཅད་བདུད...   -1.428485   \n",
       "།དེ་རྒྱ་མཚོ་ལ་ཐུག་པའི་ས་ཆེན་པོ་མ་ལུས་པ་གནོད་པར་...   -1.519169   \n",
       "དེའི་རིན་པོ་ཆེ་བདུན་པོ་དེ་དག་ནི་འདི་ལྟ་བུར་འགྱུ...   -1.765414   \n",
       "དེ་བྲམ་ཟེ་ལྟས་པ་དང་མཚན་མཁན་དག་གིས་གཞོན་ནུ་དེ་ཕོ...   -1.966832   \n",
       "དེ་ལས་ཁྱེད་གཉིས་ཀྱིས་བདུད་རྩི་ཆེན་པོ་ཐོབ་པར་འགྱ...   -2.056416   \n",
       "\n",
       "                                                                                              en_bart  \\\n",
       "bo                                                                                                      \n",
       "།༄༅། །འདུལ་བ་ཀ་བཞུགས་སོ།།                           the translation the chapters on monastic disci...   \n",
       "།༄༅༅། །རྒྱ་གར་སྐད་དུ། བི་ན་ཡ་བསྟུ། བོད་སྐད་དུ། ...                        homage to the three jewels.   \n",
       "།ངུར་སྨྲིག་གོས་འཆང་མཁས་པ་ཚུལ་ལས་ཉམས་པ་དཀའ།          for a learned wearer of the saffron robes to f...   \n",
       "།གང་གིས་འཆིང་རྣམས་ཡང་དག་རབ་བཅད་ཅིང་། །མུ་སྟེགས་...  homage to him who severed the bonds, destroyed...   \n",
       "།གཞི་རྣམས་ཀྱི་སྤྱི་སྡོམ་ལ། རབ་འབྱུང་གསོ་སྦྱོང་ག...  the chapters on monastic discipline includes c...   \n",
       "...                                                                                               ...   \n",
       "།བུ་ཁོ་བོ་ཡང་ཅུང་ཟད་རབ་ཏུ་བྱུང་བ་དེ་ཐམས་ཅད་བདུད...  the whole of what little renunciation i have i...   \n",
       "།དེ་རྒྱ་མཚོ་ལ་ཐུག་པའི་ས་ཆེན་པོ་མ་ལུས་པ་གནོད་པར་...  where rule is impartial and in harmony with th...   \n",
       "དེའི་རིན་པོ་ཆེ་བདུན་པོ་དེ་དག་ནི་འདི་ལྟ་བུར་འགྱུ...                               allow me to explain.   \n",
       "དེ་བྲམ་ཟེ་ལྟས་པ་དང་མཚན་མཁན་དག་གིས་གཞོན་ནུ་དེ་ཕོ...  brahmins skilled in interpreting omens and sig...   \n",
       "དེ་ལས་ཁྱེད་གཉིས་ཀྱིས་བདུད་རྩི་ཆེན་པོ་ཐོབ་པར་འགྱ...  you should live the holy life under his guidan...   \n",
       "\n",
       "                                                    score_bart  \n",
       "bo                                                              \n",
       "།༄༅། །འདུལ་བ་ཀ་བཞུགས་སོ།།                            -4.600859  \n",
       "།༄༅༅། །རྒྱ་གར་སྐད་དུ། བི་ན་ཡ་བསྟུ། བོད་སྐད་དུ། ...   -2.867246  \n",
       "།ངུར་སྨྲིག་གོས་འཆང་མཁས་པ་ཚུལ་ལས་ཉམས་པ་དཀའ།           -2.591639  \n",
       "།གང་གིས་འཆིང་རྣམས་ཡང་དག་རབ་བཅད་ཅིང་། །མུ་སྟེགས་...   -3.765382  \n",
       "།གཞི་རྣམས་ཀྱི་སྤྱི་སྡོམ་ལ། རབ་འབྱུང་གསོ་སྦྱོང་ག...   -4.495665  \n",
       "...                                                        ...  \n",
       "།བུ་ཁོ་བོ་ཡང་ཅུང་ཟད་རབ་ཏུ་བྱུང་བ་དེ་ཐམས་ཅད་བདུད...   -1.590217  \n",
       "།དེ་རྒྱ་མཚོ་ལ་ཐུག་པའི་ས་ཆེན་པོ་མ་ལུས་པ་གནོད་པར་...   -3.459297  \n",
       "དེའི་རིན་པོ་ཆེ་བདུན་པོ་དེ་དག་ནི་འདི་ལྟ་བུར་འགྱུ...   -4.108505  \n",
       "དེ་བྲམ་ཟེ་ལྟས་པ་དང་མཚན་མཁན་དག་གིས་གཞོན་ནུ་དེ་ཕོ...   -3.041340  \n",
       "དེ་ལས་ཁྱེད་གཉིས་ཀྱིས་བདུད་རྩི་ཆེན་པོ་ཐོབ་པར་འགྱ...   -2.749749  \n",
       "\n",
       "[824 rows x 4 columns]"
      ]
     },
     "execution_count": 4,
     "metadata": {},
     "output_type": "execute_result"
    }
   ],
   "source": [
    "bo_bart_df = bart_df.set_index('bo')\n",
    "bo_bart_df = bo_bart_df[~bo_bart_df.index.duplicated()]\n",
    "\n",
    "bo_nllb_df = nllb_df.set_index('bo')\n",
    "bo_nllb_df = bo_nllb_df[~bo_nllb_df.index.duplicated()]\n",
    "\n",
    "bo_joined_df = bo_nllb_df.join(bo_bart_df, lsuffix='_nllb', rsuffix='_bart', how='inner')\n",
    "bo_joined_df"
   ]
  },
  {
   "cell_type": "code",
   "execution_count": 5,
   "id": "c14784dd-5593-49db-abe1-53df6ca64477",
   "metadata": {},
   "outputs": [
    {
     "data": {
      "text/plain": [
       "257"
      ]
     },
     "execution_count": 5,
     "metadata": {},
     "output_type": "execute_result"
    }
   ],
   "source": [
    "(bo_joined_df.en_nllb == bo_joined_df.en_bart).sum()"
   ]
  },
  {
   "cell_type": "code",
   "execution_count": 6,
   "id": "55f9d8ba-f957-4aad-adf0-4b95146672f7",
   "metadata": {},
   "outputs": [],
   "source": [
    "i = 1"
   ]
  },
  {
   "cell_type": "code",
   "execution_count": 7,
   "id": "dbe3a410-7807-4493-b0b1-54f2c7061d6e",
   "metadata": {},
   "outputs": [],
   "source": [
    "import os\n",
    "\n",
    "from cai_garland.utils.translator import Translator"
   ]
  },
  {
   "cell_type": "code",
   "execution_count": 8,
   "id": "a5cec00d-2988-4d98-b853-1d04ae872525",
   "metadata": {},
   "outputs": [
    {
     "name": "stderr",
     "output_type": "stream",
     "text": [
      "The tokenizer class you load from this checkpoint is not the same type as the class this function is called from. It may result in unexpected tokenization. \n",
      "The tokenizer class you load from this checkpoint is 'NllbTokenizer'. \n",
      "The class this function is called from is 'CAINllbTokenizerFast'.\n"
     ]
    }
   ],
   "source": [
    "translator = Translator(os.path.join(\"olive-cormorant-nllb\", \"base-600M\"))\n",
    "# translator = Translator(os.path.join(\"olive-cormorant-bart\", \"base-base\"))\n",
    "\n",
    "translator.num_beams = 20\n",
    "translator.decoding_length = 200\n",
    "\n",
    "# translator.prepare_context_encoder(\"facebook/bart-base\")\n",
    "\n",
    "translator.cuda()"
   ]
  },
  {
   "cell_type": "markdown",
   "id": "9c72a138-1887-47f0-8673-adc2a1f33cc0",
   "metadata": {},
   "source": [
    "---"
   ]
  },
  {
   "cell_type": "code",
   "execution_count": 480,
   "id": "9996355c-6a1b-4373-865c-7c4a8df41f5d",
   "metadata": {},
   "outputs": [
    {
     "data": {
      "text/plain": [
       "'yet when the tree is large, even a hundred axes may fail.'"
      ]
     },
     "execution_count": 480,
     "metadata": {},
     "output_type": "execute_result"
    }
   ],
   "source": [
    "bo_joined_df[bo_joined_df.en_nllb != bo_joined_df.en_bart].reset_index()[['en_nllb', 'en_bart']].loc[i].en_nllb"
   ]
  },
  {
   "cell_type": "code",
   "execution_count": 481,
   "id": "d71ee40e-1060-4b64-9e20-f12eb2478ce7",
   "metadata": {},
   "outputs": [
    {
     "data": {
      "text/plain": [
       "-2.008854866027832"
      ]
     },
     "execution_count": 481,
     "metadata": {},
     "output_type": "execute_result"
    }
   ],
   "source": [
    "bo_joined_df[bo_joined_df.en_nllb != bo_joined_df.en_bart].reset_index().loc[i].score_nllb"
   ]
  },
  {
   "cell_type": "code",
   "execution_count": 482,
   "id": "4b3d91dc-8b75-40e1-851f-280a9e5a294f",
   "metadata": {},
   "outputs": [
    {
     "data": {
      "text/plain": [
       "'then they spoke in verse: when a tree is small, fingernails may fell it.yet when the tree is large, even a hundred axes may fail.'"
      ]
     },
     "execution_count": 482,
     "metadata": {},
     "output_type": "execute_result"
    }
   ],
   "source": [
    "bo_joined_df[bo_joined_df.en_nllb != bo_joined_df.en_bart].reset_index()[['en_nllb', 'en_bart']].loc[i].en_bart"
   ]
  },
  {
   "cell_type": "code",
   "execution_count": 483,
   "id": "4f80fb2f-e962-4aaf-97b7-3ce772e02090",
   "metadata": {},
   "outputs": [
    {
     "data": {
      "text/plain": [
       "-3.823538064956665"
      ]
     },
     "execution_count": 483,
     "metadata": {},
     "output_type": "execute_result"
    }
   ],
   "source": [
    "bo_joined_df[bo_joined_df.en_nllb != bo_joined_df.en_bart].reset_index().loc[i].score_bart"
   ]
  },
  {
   "cell_type": "code",
   "execution_count": 484,
   "id": "98272153-1464-4d2e-9adc-16fa2976d047",
   "metadata": {},
   "outputs": [
    {
     "data": {
      "text/plain": [
       "'ཇི་སྲིད་ཤིང་ནི་གཞོན་པའི་ཚེ། །སེན་མོ་དག་གིས་གཅད་ནུས་པ། །དེ་ཉིད་ཆེན་པོར་སྐྱེས་པ་ན། །སྟ་རེ་བརྒྱས་ཀྱང་གཅད་པར་དཀའ།'"
      ]
     },
     "execution_count": 484,
     "metadata": {},
     "output_type": "execute_result"
    }
   ],
   "source": [
    "bo_joined_df[bo_joined_df.en_nllb != bo_joined_df.en_bart].index[i]"
   ]
  },
  {
   "cell_type": "code",
   "execution_count": 485,
   "id": "20cec691-25d7-4558-8b21-0679359a3414",
   "metadata": {},
   "outputs": [
    {
     "name": "stderr",
     "output_type": "stream",
     "text": [
      "/home/eeisenst/workspace/contribs/original/transformers/src/transformers/tokenization_utils_base.py:3606: UserWarning: `as_target_tokenizer` is deprecated and will be removed in v5 of Transformers. You can tokenize your labels by using the argument `text_target` of the regular `__call__` method (either in the same call as your input texts if you use the same keyword arguments, or in a separate call.\n",
      "  warnings.warn(\n"
     ]
    },
    {
     "data": {
      "text/plain": [
       "'as long as the tree is young, it can be severed by the fingernails. it will be difficult to sever it with even a hundred axes. it will be difficult to sever it with a hundred axes.'"
      ]
     },
     "execution_count": 485,
     "metadata": {},
     "output_type": "execute_result"
    }
   ],
   "source": [
    "translator.translate(bo_joined_df[bo_joined_df.en_nllb != bo_joined_df.en_bart].index[i])"
   ]
  },
  {
   "cell_type": "code",
   "execution_count": 486,
   "id": "b1b01ac5-ddb8-4999-b75c-a346414b3cc1",
   "metadata": {},
   "outputs": [],
   "source": [
    "i += 1"
   ]
  },
  {
   "cell_type": "code",
   "execution_count": null,
   "id": "83b079e1-83e2-4be5-a1e6-9f7f9b1bcb69",
   "metadata": {},
   "outputs": [],
   "source": []
  }
 ],
 "metadata": {
  "kernelspec": {
   "display_name": "Python 3 (ipykernel)",
   "language": "python",
   "name": "python3"
  },
  "language_info": {
   "codemirror_mode": {
    "name": "ipython",
    "version": 3
   },
   "file_extension": ".py",
   "mimetype": "text/x-python",
   "name": "python",
   "nbconvert_exporter": "python",
   "pygments_lexer": "ipython3",
   "version": "3.10.9"
  }
 },
 "nbformat": 4,
 "nbformat_minor": 5
}
