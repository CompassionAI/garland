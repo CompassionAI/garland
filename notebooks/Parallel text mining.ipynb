{
 "cells": [
  {
   "cell_type": "code",
   "execution_count": 1,
   "id": "78bf065d-0a5e-4194-a1e2-f7d0ed4ff02f",
   "metadata": {},
   "outputs": [],
   "source": [
    "import logging\n",
    "from dask.distributed import Client, LocalCluster"
   ]
  },
  {
   "cell_type": "code",
   "execution_count": 2,
   "id": "2766a0fe-9b78-4106-af22-b773826f9030",
   "metadata": {},
   "outputs": [],
   "source": [
    "dask_logger = logging.getLogger(\"distributed.utils_perf\")\n",
    "dask_logger.setLevel(logging.ERROR)"
   ]
  },
  {
   "cell_type": "code",
   "execution_count": 3,
   "id": "c5273064-85f6-4330-b12b-072a4faae4d4",
   "metadata": {},
   "outputs": [],
   "source": [
    "dask_cluster = LocalCluster(\n",
    "    n_workers=20,\n",
    "    threads_per_worker=1)\n",
    "dask_client = Client(dask_cluster)"
   ]
  },
  {
   "cell_type": "code",
   "execution_count": 4,
   "id": "5ff1aeeb-7733-40e0-8a02-e28cbe396987",
   "metadata": {},
   "outputs": [
    {
     "data": {
      "text/html": [
       "<div>\n",
       "    <div style=\"width: 24px; height: 24px; background-color: #e1e1e1; border: 3px solid #9D9D9D; border-radius: 5px; position: absolute;\"> </div>\n",
       "    <div style=\"margin-left: 48px;\">\n",
       "        <h3 style=\"margin-bottom: 0px;\">Client</h3>\n",
       "        <p style=\"color: #9D9D9D; margin-bottom: 0px;\">Client-b9f0d6fc-0958-11ee-a21c-50ebf67f14ad</p>\n",
       "        <table style=\"width: 100%; text-align: left;\">\n",
       "\n",
       "        <tr>\n",
       "        \n",
       "            <td style=\"text-align: left;\"><strong>Connection method:</strong> Cluster object</td>\n",
       "            <td style=\"text-align: left;\"><strong>Cluster type:</strong> distributed.LocalCluster</td>\n",
       "        \n",
       "        </tr>\n",
       "\n",
       "        \n",
       "            <tr>\n",
       "                <td style=\"text-align: left;\">\n",
       "                    <strong>Dashboard: </strong> <a href=\"http://127.0.0.1:8787/status\" target=\"_blank\">http://127.0.0.1:8787/status</a>\n",
       "                </td>\n",
       "                <td style=\"text-align: left;\"></td>\n",
       "            </tr>\n",
       "        \n",
       "\n",
       "        </table>\n",
       "\n",
       "        \n",
       "            <details>\n",
       "            <summary style=\"margin-bottom: 20px;\"><h3 style=\"display: inline;\">Cluster Info</h3></summary>\n",
       "            <div class=\"jp-RenderedHTMLCommon jp-RenderedHTML jp-mod-trusted jp-OutputArea-output\">\n",
       "    <div style=\"width: 24px; height: 24px; background-color: #e1e1e1; border: 3px solid #9D9D9D; border-radius: 5px; position: absolute;\">\n",
       "    </div>\n",
       "    <div style=\"margin-left: 48px;\">\n",
       "        <h3 style=\"margin-bottom: 0px; margin-top: 0px;\">LocalCluster</h3>\n",
       "        <p style=\"color: #9D9D9D; margin-bottom: 0px;\">9984ac93</p>\n",
       "        <table style=\"width: 100%; text-align: left;\">\n",
       "            <tr>\n",
       "                <td style=\"text-align: left;\">\n",
       "                    <strong>Dashboard:</strong> <a href=\"http://127.0.0.1:8787/status\" target=\"_blank\">http://127.0.0.1:8787/status</a>\n",
       "                </td>\n",
       "                <td style=\"text-align: left;\">\n",
       "                    <strong>Workers:</strong> 20\n",
       "                </td>\n",
       "            </tr>\n",
       "            <tr>\n",
       "                <td style=\"text-align: left;\">\n",
       "                    <strong>Total threads:</strong> 20\n",
       "                </td>\n",
       "                <td style=\"text-align: left;\">\n",
       "                    <strong>Total memory:</strong> 31.14 GiB\n",
       "                </td>\n",
       "            </tr>\n",
       "            \n",
       "            <tr>\n",
       "    <td style=\"text-align: left;\"><strong>Status:</strong> running</td>\n",
       "    <td style=\"text-align: left;\"><strong>Using processes:</strong> True</td>\n",
       "</tr>\n",
       "\n",
       "            \n",
       "        </table>\n",
       "\n",
       "        <details>\n",
       "            <summary style=\"margin-bottom: 20px;\">\n",
       "                <h3 style=\"display: inline;\">Scheduler Info</h3>\n",
       "            </summary>\n",
       "\n",
       "            <div style=\"\">\n",
       "    <div>\n",
       "        <div style=\"width: 24px; height: 24px; background-color: #FFF7E5; border: 3px solid #FF6132; border-radius: 5px; position: absolute;\"> </div>\n",
       "        <div style=\"margin-left: 48px;\">\n",
       "            <h3 style=\"margin-bottom: 0px;\">Scheduler</h3>\n",
       "            <p style=\"color: #9D9D9D; margin-bottom: 0px;\">Scheduler-ce5b1f30-f718-45e4-aaa8-9381f8a69480</p>\n",
       "            <table style=\"width: 100%; text-align: left;\">\n",
       "                <tr>\n",
       "                    <td style=\"text-align: left;\">\n",
       "                        <strong>Comm:</strong> tcp://127.0.0.1:39173\n",
       "                    </td>\n",
       "                    <td style=\"text-align: left;\">\n",
       "                        <strong>Workers:</strong> 20\n",
       "                    </td>\n",
       "                </tr>\n",
       "                <tr>\n",
       "                    <td style=\"text-align: left;\">\n",
       "                        <strong>Dashboard:</strong> <a href=\"http://127.0.0.1:8787/status\" target=\"_blank\">http://127.0.0.1:8787/status</a>\n",
       "                    </td>\n",
       "                    <td style=\"text-align: left;\">\n",
       "                        <strong>Total threads:</strong> 20\n",
       "                    </td>\n",
       "                </tr>\n",
       "                <tr>\n",
       "                    <td style=\"text-align: left;\">\n",
       "                        <strong>Started:</strong> Just now\n",
       "                    </td>\n",
       "                    <td style=\"text-align: left;\">\n",
       "                        <strong>Total memory:</strong> 31.14 GiB\n",
       "                    </td>\n",
       "                </tr>\n",
       "            </table>\n",
       "        </div>\n",
       "    </div>\n",
       "\n",
       "    <details style=\"margin-left: 48px;\">\n",
       "        <summary style=\"margin-bottom: 20px;\">\n",
       "            <h3 style=\"display: inline;\">Workers</h3>\n",
       "        </summary>\n",
       "\n",
       "        \n",
       "        <div style=\"margin-bottom: 20px;\">\n",
       "            <div style=\"width: 24px; height: 24px; background-color: #DBF5FF; border: 3px solid #4CC9FF; border-radius: 5px; position: absolute;\"> </div>\n",
       "            <div style=\"margin-left: 48px;\">\n",
       "            <details>\n",
       "                <summary>\n",
       "                    <h4 style=\"margin-bottom: 0px; display: inline;\">Worker: 0</h4>\n",
       "                </summary>\n",
       "                <table style=\"width: 100%; text-align: left;\">\n",
       "                    <tr>\n",
       "                        <td style=\"text-align: left;\">\n",
       "                            <strong>Comm: </strong> tcp://127.0.0.1:36259\n",
       "                        </td>\n",
       "                        <td style=\"text-align: left;\">\n",
       "                            <strong>Total threads: </strong> 1\n",
       "                        </td>\n",
       "                    </tr>\n",
       "                    <tr>\n",
       "                        <td style=\"text-align: left;\">\n",
       "                            <strong>Dashboard: </strong> <a href=\"http://127.0.0.1:35449/status\" target=\"_blank\">http://127.0.0.1:35449/status</a>\n",
       "                        </td>\n",
       "                        <td style=\"text-align: left;\">\n",
       "                            <strong>Memory: </strong> 1.56 GiB\n",
       "                        </td>\n",
       "                    </tr>\n",
       "                    <tr>\n",
       "                        <td style=\"text-align: left;\">\n",
       "                            <strong>Nanny: </strong> tcp://127.0.0.1:44295\n",
       "                        </td>\n",
       "                        <td style=\"text-align: left;\"></td>\n",
       "                    </tr>\n",
       "                    <tr>\n",
       "                        <td colspan=\"2\" style=\"text-align: left;\">\n",
       "                            <strong>Local directory: </strong> /home/eeisenst/workspace/compassionai/garland/notebooks/dask-worker-space/worker-bldqmx4i\n",
       "                        </td>\n",
       "                    </tr>\n",
       "\n",
       "                    \n",
       "\n",
       "                    \n",
       "\n",
       "                </table>\n",
       "            </details>\n",
       "            </div>\n",
       "        </div>\n",
       "        \n",
       "        <div style=\"margin-bottom: 20px;\">\n",
       "            <div style=\"width: 24px; height: 24px; background-color: #DBF5FF; border: 3px solid #4CC9FF; border-radius: 5px; position: absolute;\"> </div>\n",
       "            <div style=\"margin-left: 48px;\">\n",
       "            <details>\n",
       "                <summary>\n",
       "                    <h4 style=\"margin-bottom: 0px; display: inline;\">Worker: 1</h4>\n",
       "                </summary>\n",
       "                <table style=\"width: 100%; text-align: left;\">\n",
       "                    <tr>\n",
       "                        <td style=\"text-align: left;\">\n",
       "                            <strong>Comm: </strong> tcp://127.0.0.1:39141\n",
       "                        </td>\n",
       "                        <td style=\"text-align: left;\">\n",
       "                            <strong>Total threads: </strong> 1\n",
       "                        </td>\n",
       "                    </tr>\n",
       "                    <tr>\n",
       "                        <td style=\"text-align: left;\">\n",
       "                            <strong>Dashboard: </strong> <a href=\"http://127.0.0.1:36447/status\" target=\"_blank\">http://127.0.0.1:36447/status</a>\n",
       "                        </td>\n",
       "                        <td style=\"text-align: left;\">\n",
       "                            <strong>Memory: </strong> 1.56 GiB\n",
       "                        </td>\n",
       "                    </tr>\n",
       "                    <tr>\n",
       "                        <td style=\"text-align: left;\">\n",
       "                            <strong>Nanny: </strong> tcp://127.0.0.1:37537\n",
       "                        </td>\n",
       "                        <td style=\"text-align: left;\"></td>\n",
       "                    </tr>\n",
       "                    <tr>\n",
       "                        <td colspan=\"2\" style=\"text-align: left;\">\n",
       "                            <strong>Local directory: </strong> /home/eeisenst/workspace/compassionai/garland/notebooks/dask-worker-space/worker-9lm37v0c\n",
       "                        </td>\n",
       "                    </tr>\n",
       "\n",
       "                    \n",
       "\n",
       "                    \n",
       "\n",
       "                </table>\n",
       "            </details>\n",
       "            </div>\n",
       "        </div>\n",
       "        \n",
       "        <div style=\"margin-bottom: 20px;\">\n",
       "            <div style=\"width: 24px; height: 24px; background-color: #DBF5FF; border: 3px solid #4CC9FF; border-radius: 5px; position: absolute;\"> </div>\n",
       "            <div style=\"margin-left: 48px;\">\n",
       "            <details>\n",
       "                <summary>\n",
       "                    <h4 style=\"margin-bottom: 0px; display: inline;\">Worker: 2</h4>\n",
       "                </summary>\n",
       "                <table style=\"width: 100%; text-align: left;\">\n",
       "                    <tr>\n",
       "                        <td style=\"text-align: left;\">\n",
       "                            <strong>Comm: </strong> tcp://127.0.0.1:44203\n",
       "                        </td>\n",
       "                        <td style=\"text-align: left;\">\n",
       "                            <strong>Total threads: </strong> 1\n",
       "                        </td>\n",
       "                    </tr>\n",
       "                    <tr>\n",
       "                        <td style=\"text-align: left;\">\n",
       "                            <strong>Dashboard: </strong> <a href=\"http://127.0.0.1:34771/status\" target=\"_blank\">http://127.0.0.1:34771/status</a>\n",
       "                        </td>\n",
       "                        <td style=\"text-align: left;\">\n",
       "                            <strong>Memory: </strong> 1.56 GiB\n",
       "                        </td>\n",
       "                    </tr>\n",
       "                    <tr>\n",
       "                        <td style=\"text-align: left;\">\n",
       "                            <strong>Nanny: </strong> tcp://127.0.0.1:40439\n",
       "                        </td>\n",
       "                        <td style=\"text-align: left;\"></td>\n",
       "                    </tr>\n",
       "                    <tr>\n",
       "                        <td colspan=\"2\" style=\"text-align: left;\">\n",
       "                            <strong>Local directory: </strong> /home/eeisenst/workspace/compassionai/garland/notebooks/dask-worker-space/worker-tvpghq77\n",
       "                        </td>\n",
       "                    </tr>\n",
       "\n",
       "                    \n",
       "\n",
       "                    \n",
       "\n",
       "                </table>\n",
       "            </details>\n",
       "            </div>\n",
       "        </div>\n",
       "        \n",
       "        <div style=\"margin-bottom: 20px;\">\n",
       "            <div style=\"width: 24px; height: 24px; background-color: #DBF5FF; border: 3px solid #4CC9FF; border-radius: 5px; position: absolute;\"> </div>\n",
       "            <div style=\"margin-left: 48px;\">\n",
       "            <details>\n",
       "                <summary>\n",
       "                    <h4 style=\"margin-bottom: 0px; display: inline;\">Worker: 3</h4>\n",
       "                </summary>\n",
       "                <table style=\"width: 100%; text-align: left;\">\n",
       "                    <tr>\n",
       "                        <td style=\"text-align: left;\">\n",
       "                            <strong>Comm: </strong> tcp://127.0.0.1:36091\n",
       "                        </td>\n",
       "                        <td style=\"text-align: left;\">\n",
       "                            <strong>Total threads: </strong> 1\n",
       "                        </td>\n",
       "                    </tr>\n",
       "                    <tr>\n",
       "                        <td style=\"text-align: left;\">\n",
       "                            <strong>Dashboard: </strong> <a href=\"http://127.0.0.1:39215/status\" target=\"_blank\">http://127.0.0.1:39215/status</a>\n",
       "                        </td>\n",
       "                        <td style=\"text-align: left;\">\n",
       "                            <strong>Memory: </strong> 1.56 GiB\n",
       "                        </td>\n",
       "                    </tr>\n",
       "                    <tr>\n",
       "                        <td style=\"text-align: left;\">\n",
       "                            <strong>Nanny: </strong> tcp://127.0.0.1:44761\n",
       "                        </td>\n",
       "                        <td style=\"text-align: left;\"></td>\n",
       "                    </tr>\n",
       "                    <tr>\n",
       "                        <td colspan=\"2\" style=\"text-align: left;\">\n",
       "                            <strong>Local directory: </strong> /home/eeisenst/workspace/compassionai/garland/notebooks/dask-worker-space/worker-sb5b8_y9\n",
       "                        </td>\n",
       "                    </tr>\n",
       "\n",
       "                    \n",
       "\n",
       "                    \n",
       "\n",
       "                </table>\n",
       "            </details>\n",
       "            </div>\n",
       "        </div>\n",
       "        \n",
       "        <div style=\"margin-bottom: 20px;\">\n",
       "            <div style=\"width: 24px; height: 24px; background-color: #DBF5FF; border: 3px solid #4CC9FF; border-radius: 5px; position: absolute;\"> </div>\n",
       "            <div style=\"margin-left: 48px;\">\n",
       "            <details>\n",
       "                <summary>\n",
       "                    <h4 style=\"margin-bottom: 0px; display: inline;\">Worker: 4</h4>\n",
       "                </summary>\n",
       "                <table style=\"width: 100%; text-align: left;\">\n",
       "                    <tr>\n",
       "                        <td style=\"text-align: left;\">\n",
       "                            <strong>Comm: </strong> tcp://127.0.0.1:34299\n",
       "                        </td>\n",
       "                        <td style=\"text-align: left;\">\n",
       "                            <strong>Total threads: </strong> 1\n",
       "                        </td>\n",
       "                    </tr>\n",
       "                    <tr>\n",
       "                        <td style=\"text-align: left;\">\n",
       "                            <strong>Dashboard: </strong> <a href=\"http://127.0.0.1:45783/status\" target=\"_blank\">http://127.0.0.1:45783/status</a>\n",
       "                        </td>\n",
       "                        <td style=\"text-align: left;\">\n",
       "                            <strong>Memory: </strong> 1.56 GiB\n",
       "                        </td>\n",
       "                    </tr>\n",
       "                    <tr>\n",
       "                        <td style=\"text-align: left;\">\n",
       "                            <strong>Nanny: </strong> tcp://127.0.0.1:35955\n",
       "                        </td>\n",
       "                        <td style=\"text-align: left;\"></td>\n",
       "                    </tr>\n",
       "                    <tr>\n",
       "                        <td colspan=\"2\" style=\"text-align: left;\">\n",
       "                            <strong>Local directory: </strong> /home/eeisenst/workspace/compassionai/garland/notebooks/dask-worker-space/worker-bdx5zq6p\n",
       "                        </td>\n",
       "                    </tr>\n",
       "\n",
       "                    \n",
       "\n",
       "                    \n",
       "\n",
       "                </table>\n",
       "            </details>\n",
       "            </div>\n",
       "        </div>\n",
       "        \n",
       "        <div style=\"margin-bottom: 20px;\">\n",
       "            <div style=\"width: 24px; height: 24px; background-color: #DBF5FF; border: 3px solid #4CC9FF; border-radius: 5px; position: absolute;\"> </div>\n",
       "            <div style=\"margin-left: 48px;\">\n",
       "            <details>\n",
       "                <summary>\n",
       "                    <h4 style=\"margin-bottom: 0px; display: inline;\">Worker: 5</h4>\n",
       "                </summary>\n",
       "                <table style=\"width: 100%; text-align: left;\">\n",
       "                    <tr>\n",
       "                        <td style=\"text-align: left;\">\n",
       "                            <strong>Comm: </strong> tcp://127.0.0.1:44741\n",
       "                        </td>\n",
       "                        <td style=\"text-align: left;\">\n",
       "                            <strong>Total threads: </strong> 1\n",
       "                        </td>\n",
       "                    </tr>\n",
       "                    <tr>\n",
       "                        <td style=\"text-align: left;\">\n",
       "                            <strong>Dashboard: </strong> <a href=\"http://127.0.0.1:35749/status\" target=\"_blank\">http://127.0.0.1:35749/status</a>\n",
       "                        </td>\n",
       "                        <td style=\"text-align: left;\">\n",
       "                            <strong>Memory: </strong> 1.56 GiB\n",
       "                        </td>\n",
       "                    </tr>\n",
       "                    <tr>\n",
       "                        <td style=\"text-align: left;\">\n",
       "                            <strong>Nanny: </strong> tcp://127.0.0.1:45031\n",
       "                        </td>\n",
       "                        <td style=\"text-align: left;\"></td>\n",
       "                    </tr>\n",
       "                    <tr>\n",
       "                        <td colspan=\"2\" style=\"text-align: left;\">\n",
       "                            <strong>Local directory: </strong> /home/eeisenst/workspace/compassionai/garland/notebooks/dask-worker-space/worker-l5mawigl\n",
       "                        </td>\n",
       "                    </tr>\n",
       "\n",
       "                    \n",
       "\n",
       "                    \n",
       "\n",
       "                </table>\n",
       "            </details>\n",
       "            </div>\n",
       "        </div>\n",
       "        \n",
       "        <div style=\"margin-bottom: 20px;\">\n",
       "            <div style=\"width: 24px; height: 24px; background-color: #DBF5FF; border: 3px solid #4CC9FF; border-radius: 5px; position: absolute;\"> </div>\n",
       "            <div style=\"margin-left: 48px;\">\n",
       "            <details>\n",
       "                <summary>\n",
       "                    <h4 style=\"margin-bottom: 0px; display: inline;\">Worker: 6</h4>\n",
       "                </summary>\n",
       "                <table style=\"width: 100%; text-align: left;\">\n",
       "                    <tr>\n",
       "                        <td style=\"text-align: left;\">\n",
       "                            <strong>Comm: </strong> tcp://127.0.0.1:44931\n",
       "                        </td>\n",
       "                        <td style=\"text-align: left;\">\n",
       "                            <strong>Total threads: </strong> 1\n",
       "                        </td>\n",
       "                    </tr>\n",
       "                    <tr>\n",
       "                        <td style=\"text-align: left;\">\n",
       "                            <strong>Dashboard: </strong> <a href=\"http://127.0.0.1:43783/status\" target=\"_blank\">http://127.0.0.1:43783/status</a>\n",
       "                        </td>\n",
       "                        <td style=\"text-align: left;\">\n",
       "                            <strong>Memory: </strong> 1.56 GiB\n",
       "                        </td>\n",
       "                    </tr>\n",
       "                    <tr>\n",
       "                        <td style=\"text-align: left;\">\n",
       "                            <strong>Nanny: </strong> tcp://127.0.0.1:44457\n",
       "                        </td>\n",
       "                        <td style=\"text-align: left;\"></td>\n",
       "                    </tr>\n",
       "                    <tr>\n",
       "                        <td colspan=\"2\" style=\"text-align: left;\">\n",
       "                            <strong>Local directory: </strong> /home/eeisenst/workspace/compassionai/garland/notebooks/dask-worker-space/worker-aw54ralb\n",
       "                        </td>\n",
       "                    </tr>\n",
       "\n",
       "                    \n",
       "\n",
       "                    \n",
       "\n",
       "                </table>\n",
       "            </details>\n",
       "            </div>\n",
       "        </div>\n",
       "        \n",
       "        <div style=\"margin-bottom: 20px;\">\n",
       "            <div style=\"width: 24px; height: 24px; background-color: #DBF5FF; border: 3px solid #4CC9FF; border-radius: 5px; position: absolute;\"> </div>\n",
       "            <div style=\"margin-left: 48px;\">\n",
       "            <details>\n",
       "                <summary>\n",
       "                    <h4 style=\"margin-bottom: 0px; display: inline;\">Worker: 7</h4>\n",
       "                </summary>\n",
       "                <table style=\"width: 100%; text-align: left;\">\n",
       "                    <tr>\n",
       "                        <td style=\"text-align: left;\">\n",
       "                            <strong>Comm: </strong> tcp://127.0.0.1:35751\n",
       "                        </td>\n",
       "                        <td style=\"text-align: left;\">\n",
       "                            <strong>Total threads: </strong> 1\n",
       "                        </td>\n",
       "                    </tr>\n",
       "                    <tr>\n",
       "                        <td style=\"text-align: left;\">\n",
       "                            <strong>Dashboard: </strong> <a href=\"http://127.0.0.1:40835/status\" target=\"_blank\">http://127.0.0.1:40835/status</a>\n",
       "                        </td>\n",
       "                        <td style=\"text-align: left;\">\n",
       "                            <strong>Memory: </strong> 1.56 GiB\n",
       "                        </td>\n",
       "                    </tr>\n",
       "                    <tr>\n",
       "                        <td style=\"text-align: left;\">\n",
       "                            <strong>Nanny: </strong> tcp://127.0.0.1:41215\n",
       "                        </td>\n",
       "                        <td style=\"text-align: left;\"></td>\n",
       "                    </tr>\n",
       "                    <tr>\n",
       "                        <td colspan=\"2\" style=\"text-align: left;\">\n",
       "                            <strong>Local directory: </strong> /home/eeisenst/workspace/compassionai/garland/notebooks/dask-worker-space/worker-xql5_j17\n",
       "                        </td>\n",
       "                    </tr>\n",
       "\n",
       "                    \n",
       "\n",
       "                    \n",
       "\n",
       "                </table>\n",
       "            </details>\n",
       "            </div>\n",
       "        </div>\n",
       "        \n",
       "        <div style=\"margin-bottom: 20px;\">\n",
       "            <div style=\"width: 24px; height: 24px; background-color: #DBF5FF; border: 3px solid #4CC9FF; border-radius: 5px; position: absolute;\"> </div>\n",
       "            <div style=\"margin-left: 48px;\">\n",
       "            <details>\n",
       "                <summary>\n",
       "                    <h4 style=\"margin-bottom: 0px; display: inline;\">Worker: 8</h4>\n",
       "                </summary>\n",
       "                <table style=\"width: 100%; text-align: left;\">\n",
       "                    <tr>\n",
       "                        <td style=\"text-align: left;\">\n",
       "                            <strong>Comm: </strong> tcp://127.0.0.1:42569\n",
       "                        </td>\n",
       "                        <td style=\"text-align: left;\">\n",
       "                            <strong>Total threads: </strong> 1\n",
       "                        </td>\n",
       "                    </tr>\n",
       "                    <tr>\n",
       "                        <td style=\"text-align: left;\">\n",
       "                            <strong>Dashboard: </strong> <a href=\"http://127.0.0.1:35399/status\" target=\"_blank\">http://127.0.0.1:35399/status</a>\n",
       "                        </td>\n",
       "                        <td style=\"text-align: left;\">\n",
       "                            <strong>Memory: </strong> 1.56 GiB\n",
       "                        </td>\n",
       "                    </tr>\n",
       "                    <tr>\n",
       "                        <td style=\"text-align: left;\">\n",
       "                            <strong>Nanny: </strong> tcp://127.0.0.1:32879\n",
       "                        </td>\n",
       "                        <td style=\"text-align: left;\"></td>\n",
       "                    </tr>\n",
       "                    <tr>\n",
       "                        <td colspan=\"2\" style=\"text-align: left;\">\n",
       "                            <strong>Local directory: </strong> /home/eeisenst/workspace/compassionai/garland/notebooks/dask-worker-space/worker-k1a_l0iy\n",
       "                        </td>\n",
       "                    </tr>\n",
       "\n",
       "                    \n",
       "\n",
       "                    \n",
       "\n",
       "                </table>\n",
       "            </details>\n",
       "            </div>\n",
       "        </div>\n",
       "        \n",
       "        <div style=\"margin-bottom: 20px;\">\n",
       "            <div style=\"width: 24px; height: 24px; background-color: #DBF5FF; border: 3px solid #4CC9FF; border-radius: 5px; position: absolute;\"> </div>\n",
       "            <div style=\"margin-left: 48px;\">\n",
       "            <details>\n",
       "                <summary>\n",
       "                    <h4 style=\"margin-bottom: 0px; display: inline;\">Worker: 9</h4>\n",
       "                </summary>\n",
       "                <table style=\"width: 100%; text-align: left;\">\n",
       "                    <tr>\n",
       "                        <td style=\"text-align: left;\">\n",
       "                            <strong>Comm: </strong> tcp://127.0.0.1:45593\n",
       "                        </td>\n",
       "                        <td style=\"text-align: left;\">\n",
       "                            <strong>Total threads: </strong> 1\n",
       "                        </td>\n",
       "                    </tr>\n",
       "                    <tr>\n",
       "                        <td style=\"text-align: left;\">\n",
       "                            <strong>Dashboard: </strong> <a href=\"http://127.0.0.1:45769/status\" target=\"_blank\">http://127.0.0.1:45769/status</a>\n",
       "                        </td>\n",
       "                        <td style=\"text-align: left;\">\n",
       "                            <strong>Memory: </strong> 1.56 GiB\n",
       "                        </td>\n",
       "                    </tr>\n",
       "                    <tr>\n",
       "                        <td style=\"text-align: left;\">\n",
       "                            <strong>Nanny: </strong> tcp://127.0.0.1:42441\n",
       "                        </td>\n",
       "                        <td style=\"text-align: left;\"></td>\n",
       "                    </tr>\n",
       "                    <tr>\n",
       "                        <td colspan=\"2\" style=\"text-align: left;\">\n",
       "                            <strong>Local directory: </strong> /home/eeisenst/workspace/compassionai/garland/notebooks/dask-worker-space/worker-dgyfgg1s\n",
       "                        </td>\n",
       "                    </tr>\n",
       "\n",
       "                    \n",
       "\n",
       "                    \n",
       "\n",
       "                </table>\n",
       "            </details>\n",
       "            </div>\n",
       "        </div>\n",
       "        \n",
       "        <div style=\"margin-bottom: 20px;\">\n",
       "            <div style=\"width: 24px; height: 24px; background-color: #DBF5FF; border: 3px solid #4CC9FF; border-radius: 5px; position: absolute;\"> </div>\n",
       "            <div style=\"margin-left: 48px;\">\n",
       "            <details>\n",
       "                <summary>\n",
       "                    <h4 style=\"margin-bottom: 0px; display: inline;\">Worker: 10</h4>\n",
       "                </summary>\n",
       "                <table style=\"width: 100%; text-align: left;\">\n",
       "                    <tr>\n",
       "                        <td style=\"text-align: left;\">\n",
       "                            <strong>Comm: </strong> tcp://127.0.0.1:46865\n",
       "                        </td>\n",
       "                        <td style=\"text-align: left;\">\n",
       "                            <strong>Total threads: </strong> 1\n",
       "                        </td>\n",
       "                    </tr>\n",
       "                    <tr>\n",
       "                        <td style=\"text-align: left;\">\n",
       "                            <strong>Dashboard: </strong> <a href=\"http://127.0.0.1:42405/status\" target=\"_blank\">http://127.0.0.1:42405/status</a>\n",
       "                        </td>\n",
       "                        <td style=\"text-align: left;\">\n",
       "                            <strong>Memory: </strong> 1.56 GiB\n",
       "                        </td>\n",
       "                    </tr>\n",
       "                    <tr>\n",
       "                        <td style=\"text-align: left;\">\n",
       "                            <strong>Nanny: </strong> tcp://127.0.0.1:34501\n",
       "                        </td>\n",
       "                        <td style=\"text-align: left;\"></td>\n",
       "                    </tr>\n",
       "                    <tr>\n",
       "                        <td colspan=\"2\" style=\"text-align: left;\">\n",
       "                            <strong>Local directory: </strong> /home/eeisenst/workspace/compassionai/garland/notebooks/dask-worker-space/worker-3p0fzoaf\n",
       "                        </td>\n",
       "                    </tr>\n",
       "\n",
       "                    \n",
       "\n",
       "                    \n",
       "\n",
       "                </table>\n",
       "            </details>\n",
       "            </div>\n",
       "        </div>\n",
       "        \n",
       "        <div style=\"margin-bottom: 20px;\">\n",
       "            <div style=\"width: 24px; height: 24px; background-color: #DBF5FF; border: 3px solid #4CC9FF; border-radius: 5px; position: absolute;\"> </div>\n",
       "            <div style=\"margin-left: 48px;\">\n",
       "            <details>\n",
       "                <summary>\n",
       "                    <h4 style=\"margin-bottom: 0px; display: inline;\">Worker: 11</h4>\n",
       "                </summary>\n",
       "                <table style=\"width: 100%; text-align: left;\">\n",
       "                    <tr>\n",
       "                        <td style=\"text-align: left;\">\n",
       "                            <strong>Comm: </strong> tcp://127.0.0.1:41587\n",
       "                        </td>\n",
       "                        <td style=\"text-align: left;\">\n",
       "                            <strong>Total threads: </strong> 1\n",
       "                        </td>\n",
       "                    </tr>\n",
       "                    <tr>\n",
       "                        <td style=\"text-align: left;\">\n",
       "                            <strong>Dashboard: </strong> <a href=\"http://127.0.0.1:34209/status\" target=\"_blank\">http://127.0.0.1:34209/status</a>\n",
       "                        </td>\n",
       "                        <td style=\"text-align: left;\">\n",
       "                            <strong>Memory: </strong> 1.56 GiB\n",
       "                        </td>\n",
       "                    </tr>\n",
       "                    <tr>\n",
       "                        <td style=\"text-align: left;\">\n",
       "                            <strong>Nanny: </strong> tcp://127.0.0.1:44097\n",
       "                        </td>\n",
       "                        <td style=\"text-align: left;\"></td>\n",
       "                    </tr>\n",
       "                    <tr>\n",
       "                        <td colspan=\"2\" style=\"text-align: left;\">\n",
       "                            <strong>Local directory: </strong> /home/eeisenst/workspace/compassionai/garland/notebooks/dask-worker-space/worker-zfp17uh5\n",
       "                        </td>\n",
       "                    </tr>\n",
       "\n",
       "                    \n",
       "\n",
       "                    \n",
       "\n",
       "                </table>\n",
       "            </details>\n",
       "            </div>\n",
       "        </div>\n",
       "        \n",
       "        <div style=\"margin-bottom: 20px;\">\n",
       "            <div style=\"width: 24px; height: 24px; background-color: #DBF5FF; border: 3px solid #4CC9FF; border-radius: 5px; position: absolute;\"> </div>\n",
       "            <div style=\"margin-left: 48px;\">\n",
       "            <details>\n",
       "                <summary>\n",
       "                    <h4 style=\"margin-bottom: 0px; display: inline;\">Worker: 12</h4>\n",
       "                </summary>\n",
       "                <table style=\"width: 100%; text-align: left;\">\n",
       "                    <tr>\n",
       "                        <td style=\"text-align: left;\">\n",
       "                            <strong>Comm: </strong> tcp://127.0.0.1:39991\n",
       "                        </td>\n",
       "                        <td style=\"text-align: left;\">\n",
       "                            <strong>Total threads: </strong> 1\n",
       "                        </td>\n",
       "                    </tr>\n",
       "                    <tr>\n",
       "                        <td style=\"text-align: left;\">\n",
       "                            <strong>Dashboard: </strong> <a href=\"http://127.0.0.1:34733/status\" target=\"_blank\">http://127.0.0.1:34733/status</a>\n",
       "                        </td>\n",
       "                        <td style=\"text-align: left;\">\n",
       "                            <strong>Memory: </strong> 1.56 GiB\n",
       "                        </td>\n",
       "                    </tr>\n",
       "                    <tr>\n",
       "                        <td style=\"text-align: left;\">\n",
       "                            <strong>Nanny: </strong> tcp://127.0.0.1:38401\n",
       "                        </td>\n",
       "                        <td style=\"text-align: left;\"></td>\n",
       "                    </tr>\n",
       "                    <tr>\n",
       "                        <td colspan=\"2\" style=\"text-align: left;\">\n",
       "                            <strong>Local directory: </strong> /home/eeisenst/workspace/compassionai/garland/notebooks/dask-worker-space/worker-vm3d6msf\n",
       "                        </td>\n",
       "                    </tr>\n",
       "\n",
       "                    \n",
       "\n",
       "                    \n",
       "\n",
       "                </table>\n",
       "            </details>\n",
       "            </div>\n",
       "        </div>\n",
       "        \n",
       "        <div style=\"margin-bottom: 20px;\">\n",
       "            <div style=\"width: 24px; height: 24px; background-color: #DBF5FF; border: 3px solid #4CC9FF; border-radius: 5px; position: absolute;\"> </div>\n",
       "            <div style=\"margin-left: 48px;\">\n",
       "            <details>\n",
       "                <summary>\n",
       "                    <h4 style=\"margin-bottom: 0px; display: inline;\">Worker: 13</h4>\n",
       "                </summary>\n",
       "                <table style=\"width: 100%; text-align: left;\">\n",
       "                    <tr>\n",
       "                        <td style=\"text-align: left;\">\n",
       "                            <strong>Comm: </strong> tcp://127.0.0.1:38415\n",
       "                        </td>\n",
       "                        <td style=\"text-align: left;\">\n",
       "                            <strong>Total threads: </strong> 1\n",
       "                        </td>\n",
       "                    </tr>\n",
       "                    <tr>\n",
       "                        <td style=\"text-align: left;\">\n",
       "                            <strong>Dashboard: </strong> <a href=\"http://127.0.0.1:39817/status\" target=\"_blank\">http://127.0.0.1:39817/status</a>\n",
       "                        </td>\n",
       "                        <td style=\"text-align: left;\">\n",
       "                            <strong>Memory: </strong> 1.56 GiB\n",
       "                        </td>\n",
       "                    </tr>\n",
       "                    <tr>\n",
       "                        <td style=\"text-align: left;\">\n",
       "                            <strong>Nanny: </strong> tcp://127.0.0.1:40977\n",
       "                        </td>\n",
       "                        <td style=\"text-align: left;\"></td>\n",
       "                    </tr>\n",
       "                    <tr>\n",
       "                        <td colspan=\"2\" style=\"text-align: left;\">\n",
       "                            <strong>Local directory: </strong> /home/eeisenst/workspace/compassionai/garland/notebooks/dask-worker-space/worker-fbu5a1iw\n",
       "                        </td>\n",
       "                    </tr>\n",
       "\n",
       "                    \n",
       "\n",
       "                    \n",
       "\n",
       "                </table>\n",
       "            </details>\n",
       "            </div>\n",
       "        </div>\n",
       "        \n",
       "        <div style=\"margin-bottom: 20px;\">\n",
       "            <div style=\"width: 24px; height: 24px; background-color: #DBF5FF; border: 3px solid #4CC9FF; border-radius: 5px; position: absolute;\"> </div>\n",
       "            <div style=\"margin-left: 48px;\">\n",
       "            <details>\n",
       "                <summary>\n",
       "                    <h4 style=\"margin-bottom: 0px; display: inline;\">Worker: 14</h4>\n",
       "                </summary>\n",
       "                <table style=\"width: 100%; text-align: left;\">\n",
       "                    <tr>\n",
       "                        <td style=\"text-align: left;\">\n",
       "                            <strong>Comm: </strong> tcp://127.0.0.1:46817\n",
       "                        </td>\n",
       "                        <td style=\"text-align: left;\">\n",
       "                            <strong>Total threads: </strong> 1\n",
       "                        </td>\n",
       "                    </tr>\n",
       "                    <tr>\n",
       "                        <td style=\"text-align: left;\">\n",
       "                            <strong>Dashboard: </strong> <a href=\"http://127.0.0.1:39753/status\" target=\"_blank\">http://127.0.0.1:39753/status</a>\n",
       "                        </td>\n",
       "                        <td style=\"text-align: left;\">\n",
       "                            <strong>Memory: </strong> 1.56 GiB\n",
       "                        </td>\n",
       "                    </tr>\n",
       "                    <tr>\n",
       "                        <td style=\"text-align: left;\">\n",
       "                            <strong>Nanny: </strong> tcp://127.0.0.1:44127\n",
       "                        </td>\n",
       "                        <td style=\"text-align: left;\"></td>\n",
       "                    </tr>\n",
       "                    <tr>\n",
       "                        <td colspan=\"2\" style=\"text-align: left;\">\n",
       "                            <strong>Local directory: </strong> /home/eeisenst/workspace/compassionai/garland/notebooks/dask-worker-space/worker-w1g90ezq\n",
       "                        </td>\n",
       "                    </tr>\n",
       "\n",
       "                    \n",
       "\n",
       "                    \n",
       "\n",
       "                </table>\n",
       "            </details>\n",
       "            </div>\n",
       "        </div>\n",
       "        \n",
       "        <div style=\"margin-bottom: 20px;\">\n",
       "            <div style=\"width: 24px; height: 24px; background-color: #DBF5FF; border: 3px solid #4CC9FF; border-radius: 5px; position: absolute;\"> </div>\n",
       "            <div style=\"margin-left: 48px;\">\n",
       "            <details>\n",
       "                <summary>\n",
       "                    <h4 style=\"margin-bottom: 0px; display: inline;\">Worker: 15</h4>\n",
       "                </summary>\n",
       "                <table style=\"width: 100%; text-align: left;\">\n",
       "                    <tr>\n",
       "                        <td style=\"text-align: left;\">\n",
       "                            <strong>Comm: </strong> tcp://127.0.0.1:43301\n",
       "                        </td>\n",
       "                        <td style=\"text-align: left;\">\n",
       "                            <strong>Total threads: </strong> 1\n",
       "                        </td>\n",
       "                    </tr>\n",
       "                    <tr>\n",
       "                        <td style=\"text-align: left;\">\n",
       "                            <strong>Dashboard: </strong> <a href=\"http://127.0.0.1:35855/status\" target=\"_blank\">http://127.0.0.1:35855/status</a>\n",
       "                        </td>\n",
       "                        <td style=\"text-align: left;\">\n",
       "                            <strong>Memory: </strong> 1.56 GiB\n",
       "                        </td>\n",
       "                    </tr>\n",
       "                    <tr>\n",
       "                        <td style=\"text-align: left;\">\n",
       "                            <strong>Nanny: </strong> tcp://127.0.0.1:33859\n",
       "                        </td>\n",
       "                        <td style=\"text-align: left;\"></td>\n",
       "                    </tr>\n",
       "                    <tr>\n",
       "                        <td colspan=\"2\" style=\"text-align: left;\">\n",
       "                            <strong>Local directory: </strong> /home/eeisenst/workspace/compassionai/garland/notebooks/dask-worker-space/worker-p0koobco\n",
       "                        </td>\n",
       "                    </tr>\n",
       "\n",
       "                    \n",
       "\n",
       "                    \n",
       "\n",
       "                </table>\n",
       "            </details>\n",
       "            </div>\n",
       "        </div>\n",
       "        \n",
       "        <div style=\"margin-bottom: 20px;\">\n",
       "            <div style=\"width: 24px; height: 24px; background-color: #DBF5FF; border: 3px solid #4CC9FF; border-radius: 5px; position: absolute;\"> </div>\n",
       "            <div style=\"margin-left: 48px;\">\n",
       "            <details>\n",
       "                <summary>\n",
       "                    <h4 style=\"margin-bottom: 0px; display: inline;\">Worker: 16</h4>\n",
       "                </summary>\n",
       "                <table style=\"width: 100%; text-align: left;\">\n",
       "                    <tr>\n",
       "                        <td style=\"text-align: left;\">\n",
       "                            <strong>Comm: </strong> tcp://127.0.0.1:44369\n",
       "                        </td>\n",
       "                        <td style=\"text-align: left;\">\n",
       "                            <strong>Total threads: </strong> 1\n",
       "                        </td>\n",
       "                    </tr>\n",
       "                    <tr>\n",
       "                        <td style=\"text-align: left;\">\n",
       "                            <strong>Dashboard: </strong> <a href=\"http://127.0.0.1:34377/status\" target=\"_blank\">http://127.0.0.1:34377/status</a>\n",
       "                        </td>\n",
       "                        <td style=\"text-align: left;\">\n",
       "                            <strong>Memory: </strong> 1.56 GiB\n",
       "                        </td>\n",
       "                    </tr>\n",
       "                    <tr>\n",
       "                        <td style=\"text-align: left;\">\n",
       "                            <strong>Nanny: </strong> tcp://127.0.0.1:34453\n",
       "                        </td>\n",
       "                        <td style=\"text-align: left;\"></td>\n",
       "                    </tr>\n",
       "                    <tr>\n",
       "                        <td colspan=\"2\" style=\"text-align: left;\">\n",
       "                            <strong>Local directory: </strong> /home/eeisenst/workspace/compassionai/garland/notebooks/dask-worker-space/worker-w5b8pezw\n",
       "                        </td>\n",
       "                    </tr>\n",
       "\n",
       "                    \n",
       "\n",
       "                    \n",
       "\n",
       "                </table>\n",
       "            </details>\n",
       "            </div>\n",
       "        </div>\n",
       "        \n",
       "        <div style=\"margin-bottom: 20px;\">\n",
       "            <div style=\"width: 24px; height: 24px; background-color: #DBF5FF; border: 3px solid #4CC9FF; border-radius: 5px; position: absolute;\"> </div>\n",
       "            <div style=\"margin-left: 48px;\">\n",
       "            <details>\n",
       "                <summary>\n",
       "                    <h4 style=\"margin-bottom: 0px; display: inline;\">Worker: 17</h4>\n",
       "                </summary>\n",
       "                <table style=\"width: 100%; text-align: left;\">\n",
       "                    <tr>\n",
       "                        <td style=\"text-align: left;\">\n",
       "                            <strong>Comm: </strong> tcp://127.0.0.1:36081\n",
       "                        </td>\n",
       "                        <td style=\"text-align: left;\">\n",
       "                            <strong>Total threads: </strong> 1\n",
       "                        </td>\n",
       "                    </tr>\n",
       "                    <tr>\n",
       "                        <td style=\"text-align: left;\">\n",
       "                            <strong>Dashboard: </strong> <a href=\"http://127.0.0.1:43429/status\" target=\"_blank\">http://127.0.0.1:43429/status</a>\n",
       "                        </td>\n",
       "                        <td style=\"text-align: left;\">\n",
       "                            <strong>Memory: </strong> 1.56 GiB\n",
       "                        </td>\n",
       "                    </tr>\n",
       "                    <tr>\n",
       "                        <td style=\"text-align: left;\">\n",
       "                            <strong>Nanny: </strong> tcp://127.0.0.1:43385\n",
       "                        </td>\n",
       "                        <td style=\"text-align: left;\"></td>\n",
       "                    </tr>\n",
       "                    <tr>\n",
       "                        <td colspan=\"2\" style=\"text-align: left;\">\n",
       "                            <strong>Local directory: </strong> /home/eeisenst/workspace/compassionai/garland/notebooks/dask-worker-space/worker-0uq15ht9\n",
       "                        </td>\n",
       "                    </tr>\n",
       "\n",
       "                    \n",
       "\n",
       "                    \n",
       "\n",
       "                </table>\n",
       "            </details>\n",
       "            </div>\n",
       "        </div>\n",
       "        \n",
       "        <div style=\"margin-bottom: 20px;\">\n",
       "            <div style=\"width: 24px; height: 24px; background-color: #DBF5FF; border: 3px solid #4CC9FF; border-radius: 5px; position: absolute;\"> </div>\n",
       "            <div style=\"margin-left: 48px;\">\n",
       "            <details>\n",
       "                <summary>\n",
       "                    <h4 style=\"margin-bottom: 0px; display: inline;\">Worker: 18</h4>\n",
       "                </summary>\n",
       "                <table style=\"width: 100%; text-align: left;\">\n",
       "                    <tr>\n",
       "                        <td style=\"text-align: left;\">\n",
       "                            <strong>Comm: </strong> tcp://127.0.0.1:39605\n",
       "                        </td>\n",
       "                        <td style=\"text-align: left;\">\n",
       "                            <strong>Total threads: </strong> 1\n",
       "                        </td>\n",
       "                    </tr>\n",
       "                    <tr>\n",
       "                        <td style=\"text-align: left;\">\n",
       "                            <strong>Dashboard: </strong> <a href=\"http://127.0.0.1:34103/status\" target=\"_blank\">http://127.0.0.1:34103/status</a>\n",
       "                        </td>\n",
       "                        <td style=\"text-align: left;\">\n",
       "                            <strong>Memory: </strong> 1.56 GiB\n",
       "                        </td>\n",
       "                    </tr>\n",
       "                    <tr>\n",
       "                        <td style=\"text-align: left;\">\n",
       "                            <strong>Nanny: </strong> tcp://127.0.0.1:33869\n",
       "                        </td>\n",
       "                        <td style=\"text-align: left;\"></td>\n",
       "                    </tr>\n",
       "                    <tr>\n",
       "                        <td colspan=\"2\" style=\"text-align: left;\">\n",
       "                            <strong>Local directory: </strong> /home/eeisenst/workspace/compassionai/garland/notebooks/dask-worker-space/worker-8h67agzf\n",
       "                        </td>\n",
       "                    </tr>\n",
       "\n",
       "                    \n",
       "\n",
       "                    \n",
       "\n",
       "                </table>\n",
       "            </details>\n",
       "            </div>\n",
       "        </div>\n",
       "        \n",
       "        <div style=\"margin-bottom: 20px;\">\n",
       "            <div style=\"width: 24px; height: 24px; background-color: #DBF5FF; border: 3px solid #4CC9FF; border-radius: 5px; position: absolute;\"> </div>\n",
       "            <div style=\"margin-left: 48px;\">\n",
       "            <details>\n",
       "                <summary>\n",
       "                    <h4 style=\"margin-bottom: 0px; display: inline;\">Worker: 19</h4>\n",
       "                </summary>\n",
       "                <table style=\"width: 100%; text-align: left;\">\n",
       "                    <tr>\n",
       "                        <td style=\"text-align: left;\">\n",
       "                            <strong>Comm: </strong> tcp://127.0.0.1:41097\n",
       "                        </td>\n",
       "                        <td style=\"text-align: left;\">\n",
       "                            <strong>Total threads: </strong> 1\n",
       "                        </td>\n",
       "                    </tr>\n",
       "                    <tr>\n",
       "                        <td style=\"text-align: left;\">\n",
       "                            <strong>Dashboard: </strong> <a href=\"http://127.0.0.1:35813/status\" target=\"_blank\">http://127.0.0.1:35813/status</a>\n",
       "                        </td>\n",
       "                        <td style=\"text-align: left;\">\n",
       "                            <strong>Memory: </strong> 1.56 GiB\n",
       "                        </td>\n",
       "                    </tr>\n",
       "                    <tr>\n",
       "                        <td style=\"text-align: left;\">\n",
       "                            <strong>Nanny: </strong> tcp://127.0.0.1:46879\n",
       "                        </td>\n",
       "                        <td style=\"text-align: left;\"></td>\n",
       "                    </tr>\n",
       "                    <tr>\n",
       "                        <td colspan=\"2\" style=\"text-align: left;\">\n",
       "                            <strong>Local directory: </strong> /home/eeisenst/workspace/compassionai/garland/notebooks/dask-worker-space/worker-kwi1az3o\n",
       "                        </td>\n",
       "                    </tr>\n",
       "\n",
       "                    \n",
       "\n",
       "                    \n",
       "\n",
       "                </table>\n",
       "            </details>\n",
       "            </div>\n",
       "        </div>\n",
       "        \n",
       "\n",
       "    </details>\n",
       "</div>\n",
       "\n",
       "        </details>\n",
       "    </div>\n",
       "</div>\n",
       "            </details>\n",
       "        \n",
       "\n",
       "    </div>\n",
       "</div>"
      ],
      "text/plain": [
       "<Client: 'tcp://127.0.0.1:39173' processes=20 threads=20, memory=31.14 GiB>"
      ]
     },
     "execution_count": 4,
     "metadata": {},
     "output_type": "execute_result"
    }
   ],
   "source": [
    "dask_client"
   ]
  },
  {
   "cell_type": "markdown",
   "id": "7f47586b-c974-451d-b959-b4fd0bbdcbe7",
   "metadata": {},
   "source": [
    "# Cleanly shut down Dask cluster"
   ]
  },
  {
   "cell_type": "code",
   "execution_count": null,
   "id": "bbbd0d2d-7802-43f7-9b86-59d411a21149",
   "metadata": {},
   "outputs": [],
   "source": [
    "dask_cluster.close()"
   ]
  },
  {
   "cell_type": "markdown",
   "id": "f8cd6ca5-1e9b-4381-bf55-3184b7df5a3c",
   "metadata": {},
   "source": [
    "# Join English and Tibetan dataframes"
   ]
  },
  {
   "cell_type": "code",
   "execution_count": 5,
   "id": "1d440b9e-bb07-46f7-8def-d5bf3eee5b19",
   "metadata": {},
   "outputs": [],
   "source": [
    "from cai_common.data import TeiLoader, KangyurLoader"
   ]
  },
  {
   "cell_type": "code",
   "execution_count": 6,
   "id": "829e3215-ef63-4b4e-b044-b41f63562fe9",
   "metadata": {},
   "outputs": [],
   "source": [
    "en_df = TeiLoader('kangyur').dataframe\n",
    "en_df['location'] = en_df.location.fillna(0).astype(int)\n",
    "en_df = dask_client.persist(en_df)"
   ]
  },
  {
   "cell_type": "code",
   "execution_count": 7,
   "id": "0318db14-3f1c-4150-8576-5afeae59d0bb",
   "metadata": {},
   "outputs": [
    {
     "name": "stderr",
     "output_type": "stream",
     "text": [
      "In toh101, the current page was 453 which is larger than the end page 452 for volume 48, xml:id=UT22084-048-001-4468\n"
     ]
    },
    {
     "data": {
      "text/plain": [
       "19298"
      ]
     },
     "execution_count": 7,
     "metadata": {},
     "output_type": "execute_result"
    }
   ],
   "source": [
    "len(en_df)"
   ]
  },
  {
   "cell_type": "code",
   "execution_count": 8,
   "id": "4fc57967-ee91-4a68-b854-2eba1a0e5414",
   "metadata": {},
   "outputs": [
    {
     "data": {
      "text/html": [
       "<div>\n",
       "<style scoped>\n",
       "    .dataframe tbody tr th:only-of-type {\n",
       "        vertical-align: middle;\n",
       "    }\n",
       "\n",
       "    .dataframe tbody tr th {\n",
       "        vertical-align: top;\n",
       "    }\n",
       "\n",
       "    .dataframe thead th {\n",
       "        text-align: right;\n",
       "    }\n",
       "</style>\n",
       "<table border=\"1\" class=\"dataframe\">\n",
       "  <thead>\n",
       "    <tr style=\"text-align: right;\">\n",
       "      <th></th>\n",
       "      <th>filename</th>\n",
       "      <th>tohoku_number</th>\n",
       "      <th>volume_number</th>\n",
       "      <th>location</th>\n",
       "      <th>text</th>\n",
       "    </tr>\n",
       "  </thead>\n",
       "  <tbody>\n",
       "    <tr>\n",
       "      <th>0</th>\n",
       "      <td>058-003_toh154-the_sutra_of_the_questions_of_t...</td>\n",
       "      <td>toh154</td>\n",
       "      <td>58</td>\n",
       "      <td>0</td>\n",
       "      <td>The Translation  The Noble Mahāyāna Sūtra Th...</td>\n",
       "    </tr>\n",
       "    <tr>\n",
       "      <th>1</th>\n",
       "      <td>058-003_toh154-the_sutra_of_the_questions_of_t...</td>\n",
       "      <td>toh154</td>\n",
       "      <td>58</td>\n",
       "      <td>394</td>\n",
       "      <td>Homage to all buddhas and bodhisattvas!   Thu...</td>\n",
       "    </tr>\n",
       "    <tr>\n",
       "      <th>2</th>\n",
       "      <td>058-003_toh154-the_sutra_of_the_questions_of_t...</td>\n",
       "      <td>toh154</td>\n",
       "      <td>58</td>\n",
       "      <td>395</td>\n",
       "      <td>This is also what causes the variety of being...</td>\n",
       "    </tr>\n",
       "    <tr>\n",
       "      <th>3</th>\n",
       "      <td>058-003_toh154-the_sutra_of_the_questions_of_t...</td>\n",
       "      <td>toh154</td>\n",
       "      <td>58</td>\n",
       "      <td>396</td>\n",
       "      <td>“Lord of nāgas, this dominion of yours like...</td>\n",
       "    </tr>\n",
       "    <tr>\n",
       "      <th>4</th>\n",
       "      <td>058-003_toh154-the_sutra_of_the_questions_of_t...</td>\n",
       "      <td>toh154</td>\n",
       "      <td>58</td>\n",
       "      <td>397</td>\n",
       "      <td>for nonvirtuous thoughts and mental states to...</td>\n",
       "    </tr>\n",
       "  </tbody>\n",
       "</table>\n",
       "</div>"
      ],
      "text/plain": [
       "                                            filename tohoku_number  \\\n",
       "0  058-003_toh154-the_sutra_of_the_questions_of_t...        toh154   \n",
       "1  058-003_toh154-the_sutra_of_the_questions_of_t...        toh154   \n",
       "2  058-003_toh154-the_sutra_of_the_questions_of_t...        toh154   \n",
       "3  058-003_toh154-the_sutra_of_the_questions_of_t...        toh154   \n",
       "4  058-003_toh154-the_sutra_of_the_questions_of_t...        toh154   \n",
       "\n",
       "   volume_number  location                                               text  \n",
       "0             58         0    The Translation  The Noble Mahāyāna Sūtra Th...  \n",
       "1             58       394   Homage to all buddhas and bodhisattvas!   Thu...  \n",
       "2             58       395   This is also what causes the variety of being...  \n",
       "3             58       396     “Lord of nāgas, this dominion of yours like...  \n",
       "4             58       397   for nonvirtuous thoughts and mental states to...  "
      ]
     },
     "execution_count": 8,
     "metadata": {},
     "output_type": "execute_result"
    }
   ],
   "source": [
    "en_df.head()"
   ]
  },
  {
   "cell_type": "code",
   "execution_count": 9,
   "id": "f188f31e-07ad-4322-868d-63dc168e29c3",
   "metadata": {},
   "outputs": [],
   "source": [
    "bo_df = KangyurLoader().remove_new_lines().dataframe\n",
    "bo_df['location'] = bo_df.location.astype(int)\n",
    "bo_df = dask_client.persist(bo_df)"
   ]
  },
  {
   "cell_type": "code",
   "execution_count": 10,
   "id": "df86155f-ef15-4635-a094-020c5de65066",
   "metadata": {},
   "outputs": [
    {
     "data": {
      "text/plain": [
       "65461"
      ]
     },
     "execution_count": 10,
     "metadata": {},
     "output_type": "execute_result"
    }
   ],
   "source": [
    "len(bo_df)"
   ]
  },
  {
   "cell_type": "code",
   "execution_count": 11,
   "id": "97ddad35-8355-496d-b4f1-daa2c0c79bbe",
   "metadata": {},
   "outputs": [
    {
     "data": {
      "text/html": [
       "<div>\n",
       "<style scoped>\n",
       "    .dataframe tbody tr th:only-of-type {\n",
       "        vertical-align: middle;\n",
       "    }\n",
       "\n",
       "    .dataframe tbody tr th {\n",
       "        vertical-align: top;\n",
       "    }\n",
       "\n",
       "    .dataframe thead th {\n",
       "        text-align: right;\n",
       "    }\n",
       "</style>\n",
       "<table border=\"1\" class=\"dataframe\">\n",
       "  <thead>\n",
       "    <tr style=\"text-align: right;\">\n",
       "      <th></th>\n",
       "      <th>filename</th>\n",
       "      <th>volume_number</th>\n",
       "      <th>location</th>\n",
       "      <th>text</th>\n",
       "    </tr>\n",
       "  </thead>\n",
       "  <tbody>\n",
       "    <tr>\n",
       "      <th>0</th>\n",
       "      <td>v076_pages.txt</td>\n",
       "      <td>76</td>\n",
       "      <td>0</td>\n",
       "      <td>༄༅། །མདོ་སྡེ་ཨཱཾཿ་ཞུགས་སོ།།</td>\n",
       "    </tr>\n",
       "    <tr>\n",
       "      <th>1</th>\n",
       "      <td>v076_pages.txt</td>\n",
       "      <td>76</td>\n",
       "      <td>1</td>\n",
       "      <td>༄༅༅། །རྒྱ་གར་སྐད་དུ། པུ་ཎྱ་བ་ལ་ཨ་བ་དཱ་ན། བོད་ས...</td>\n",
       "    </tr>\n",
       "    <tr>\n",
       "      <th>2</th>\n",
       "      <td>v076_pages.txt</td>\n",
       "      <td>76</td>\n",
       "      <td>2</td>\n",
       "      <td>པར་བླངས་ཏེ་གནས་པར་མ་བྱས་པས་ལུས་ཞིག་སྟེ་ཤི་བའི་...</td>\n",
       "    </tr>\n",
       "    <tr>\n",
       "      <th>3</th>\n",
       "      <td>v076_pages.txt</td>\n",
       "      <td>76</td>\n",
       "      <td>3</td>\n",
       "      <td>བའི་ལས་དག་བྱེད་པ་ཡིན། །དམ་པ་མིན་པས་མི་རྟོགས་ཏེ...</td>\n",
       "    </tr>\n",
       "    <tr>\n",
       "      <th>4</th>\n",
       "      <td>v076_pages.txt</td>\n",
       "      <td>76</td>\n",
       "      <td>4</td>\n",
       "      <td>ཚེ་དང་ལྡན་པ་མ་འགགས་པ་དང་། ཚེ་དང་ལྡན་པ་ཤཱ་རིའི་...</td>\n",
       "    </tr>\n",
       "  </tbody>\n",
       "</table>\n",
       "</div>"
      ],
      "text/plain": [
       "         filename volume_number  location  \\\n",
       "0  v076_pages.txt            76         0   \n",
       "1  v076_pages.txt            76         1   \n",
       "2  v076_pages.txt            76         2   \n",
       "3  v076_pages.txt            76         3   \n",
       "4  v076_pages.txt            76         4   \n",
       "\n",
       "                                                text  \n",
       "0                        ༄༅། །མདོ་སྡེ་ཨཱཾཿ་ཞུགས་སོ།།  \n",
       "1  ༄༅༅། །རྒྱ་གར་སྐད་དུ། པུ་ཎྱ་བ་ལ་ཨ་བ་དཱ་ན། བོད་ས...  \n",
       "2  པར་བླངས་ཏེ་གནས་པར་མ་བྱས་པས་ལུས་ཞིག་སྟེ་ཤི་བའི་...  \n",
       "3  བའི་ལས་དག་བྱེད་པ་ཡིན། །དམ་པ་མིན་པས་མི་རྟོགས་ཏེ...  \n",
       "4  ཚེ་དང་ལྡན་པ་མ་འགགས་པ་དང་། ཚེ་དང་ལྡན་པ་ཤཱ་རིའི་...  "
      ]
     },
     "execution_count": 11,
     "metadata": {},
     "output_type": "execute_result"
    }
   ],
   "source": [
    "bo_df.head()"
   ]
  },
  {
   "cell_type": "markdown",
   "id": "7f1b6d1c-e43a-4038-a036-49b2137463c1",
   "metadata": {},
   "source": [
    "# Load translator"
   ]
  },
  {
   "cell_type": "code",
   "execution_count": 12,
   "id": "23620830-392e-42fd-99d4-edcb000c1b13",
   "metadata": {},
   "outputs": [],
   "source": [
    "import os\n",
    "\n",
    "from cai_garland.utils.translator import Translator"
   ]
  },
  {
   "cell_type": "code",
   "execution_count": 13,
   "id": "297390dd-273c-42db-ba31-2352df2549d0",
   "metadata": {},
   "outputs": [
    {
     "name": "stderr",
     "output_type": "stream",
     "text": [
      "The tokenizer class you load from this checkpoint is not the same type as the class this function is called from. It may result in unexpected tokenization. \n",
      "The tokenizer class you load from this checkpoint is 'NllbTokenizer'. \n",
      "The class this function is called from is 'CAINllbTokenizerFast'.\n"
     ]
    }
   ],
   "source": [
    "translator = Translator(os.path.join(\"olive-cormorant-nllb\", \"base-600M\"))\n",
    "\n",
    "translator.num_beams = 20\n",
    "translator.decoding_length = 200\n",
    "\n",
    "# translator.prepare_context_encoder(\"facebook/bart-base\")\n",
    "\n",
    "translator.cuda()"
   ]
  },
  {
   "cell_type": "markdown",
   "id": "c5e42c9f-dfb8-4525-a28d-b759433c325b",
   "metadata": {},
   "source": [
    "## Create helpers from lotsawa-translate config"
   ]
  },
  {
   "cell_type": "code",
   "execution_count": 14,
   "id": "927e3542-67d6-4477-b43e-71fb49182635",
   "metadata": {},
   "outputs": [
    {
     "data": {
      "text/plain": [
       "'1.2.0'"
      ]
     },
     "execution_count": 14,
     "metadata": {},
     "output_type": "execute_result"
    }
   ],
   "source": [
    "import hydra\n",
    "\n",
    "hydra.__version__"
   ]
  },
  {
   "cell_type": "code",
   "execution_count": 15,
   "id": "bb4c6ab6-2630-4812-b918-90fe46601b60",
   "metadata": {},
   "outputs": [],
   "source": [
    "with hydra.initialize(version_base=\"1.2\", config_path=\"../../lotsawa/src/lotsawa/translation_config/\"):\n",
    "    translator_cfg = hydra.compose(config_name=\"translate\")\n",
    "    generation_cfg = translator_cfg.generation"
   ]
  },
  {
   "cell_type": "code",
   "execution_count": 16,
   "id": "875136a4-314a-405d-8927-35987ff7e33c",
   "metadata": {},
   "outputs": [],
   "source": [
    "translator.hard_segmenter = hydra.utils.instantiate(generation_cfg.segmentation.hard_segmentation)\n",
    "\n",
    "translator.preprocessors = [\n",
    "    hydra.utils.instantiate(preproc_func)\n",
    "    for preproc_func in generation_cfg.processing.preprocessing\n",
    "]\n",
    "\n",
    "translator.soft_segmenter = hydra.utils.instantiate(\n",
    "    generation_cfg.segmentation.soft_segmentation, translator=translator)\n",
    "\n",
    "translator.soft_segment_combiner_config = getattr(generation_cfg.segmentation, \"soft_segment_combiner\", None)\n",
    "translator.soft_segment_preprocessors = [\n",
    "    hydra.utils.instantiate(preproc_func)\n",
    "    for preproc_func in generation_cfg.processing.get(\"soft_segment_preprocessing\", [])\n",
    "]\n",
    "\n",
    "translator.postprocessors = [\n",
    "    hydra.utils.instantiate(preproc_func)\n",
    "    for preproc_func in generation_cfg.processing.postprocessing\n",
    "]"
   ]
  },
  {
   "cell_type": "markdown",
   "id": "6cbafb25-2bba-4460-9a3f-f979c39d48e2",
   "metadata": {},
   "source": [
    "## Load processors of English text"
   ]
  },
  {
   "cell_type": "code",
   "execution_count": 17,
   "id": "aef81ef8-f538-406b-8272-a6c10230f7ce",
   "metadata": {},
   "outputs": [],
   "source": [
    "with hydra.initialize(version_base=\"1.2\", config_path=\"../../garland/src/cai_garland/data/dataset_prep.config/\"):\n",
    "    processor_cfg = hydra.compose(config_name=\"parallel_dataset_prep\")"
   ]
  },
  {
   "cell_type": "code",
   "execution_count": 18,
   "id": "cc60420d-bd2b-4ada-bc75-c196477b271e",
   "metadata": {},
   "outputs": [],
   "source": [
    "from cai_garland.utils.str_processors import ProcessorSymbolCleaningJSON\n",
    "\n",
    "ProcessorSymbolCleaningJSON.base_dir = os.path.dirname(\"../../garland/src/cai_garland/data/\")"
   ]
  },
  {
   "cell_type": "code",
   "execution_count": 19,
   "id": "cc780312-f5ad-4cdf-84fb-4a693e03a1c1",
   "metadata": {},
   "outputs": [],
   "source": [
    "en_processors_1 = [hydra.utils.instantiate(proc) for proc in processor_cfg.stages['naive-concats-sequenced'].dataset.preprocessing.target_lang]\n",
    "en_processors_2 = [hydra.utils.instantiate(proc) for proc in processor_cfg.output.postprocessing.target_lang]\n",
    "\n",
    "en_processors = en_processors_1 + en_processors_2\n",
    "del en_processors_1, en_processors_2"
   ]
  },
  {
   "cell_type": "code",
   "execution_count": 20,
   "id": "7a6e3984-d115-4546-9791-294e1dd10c30",
   "metadata": {},
   "outputs": [],
   "source": [
    "def process_en_text(en_text):\n",
    "    for processor in en_processors:\n",
    "        en_text = processor(en_text)\n",
    "    return en_text"
   ]
  },
  {
   "cell_type": "markdown",
   "id": "cda4e12d-56c3-4728-b04f-d8238187f682",
   "metadata": {},
   "source": [
    "# Test of individual segments"
   ]
  },
  {
   "cell_type": "code",
   "execution_count": 21,
   "id": "3ce51d3b-369e-4fa6-a115-23db0899259f",
   "metadata": {},
   "outputs": [
    {
     "data": {
      "text/html": [
       "<div>\n",
       "<style scoped>\n",
       "    .dataframe tbody tr th:only-of-type {\n",
       "        vertical-align: middle;\n",
       "    }\n",
       "\n",
       "    .dataframe tbody tr th {\n",
       "        vertical-align: top;\n",
       "    }\n",
       "\n",
       "    .dataframe thead th {\n",
       "        text-align: right;\n",
       "    }\n",
       "</style>\n",
       "<table border=\"1\" class=\"dataframe\">\n",
       "  <thead>\n",
       "    <tr style=\"text-align: right;\">\n",
       "      <th></th>\n",
       "      <th>filename</th>\n",
       "      <th>tohoku_number</th>\n",
       "      <th>volume_number</th>\n",
       "      <th>location</th>\n",
       "      <th>text</th>\n",
       "    </tr>\n",
       "  </thead>\n",
       "  <tbody>\n",
       "    <tr>\n",
       "      <th>33</th>\n",
       "      <td>092-001_toh686-the_sovereign_ritual_of_amoghap...</td>\n",
       "      <td>toh686</td>\n",
       "      <td>92</td>\n",
       "      <td>21</td>\n",
       "      <td>is a supreme offering. The vidyā holder shoul...</td>\n",
       "    </tr>\n",
       "    <tr>\n",
       "      <th>246</th>\n",
       "      <td>092-001_toh686-the_sovereign_ritual_of_amoghap...</td>\n",
       "      <td>toh686</td>\n",
       "      <td>92</td>\n",
       "      <td>234</td>\n",
       "      <td>The outer part of the maṇḍala should have the...</td>\n",
       "    </tr>\n",
       "    <tr>\n",
       "      <th>151</th>\n",
       "      <td>092-001_toh686-the_sovereign_ritual_of_amoghap...</td>\n",
       "      <td>toh686</td>\n",
       "      <td>92</td>\n",
       "      <td>139</td>\n",
       "      <td>He will say, ‘Vidyā holder, enter my palace a...</td>\n",
       "    </tr>\n",
       "    <tr>\n",
       "      <th>582</th>\n",
       "      <td>092-001_toh686-the_sovereign_ritual_of_amoghap...</td>\n",
       "      <td>toh686</td>\n",
       "      <td>92</td>\n",
       "      <td>570</td>\n",
       "      <td></td>\n",
       "    </tr>\n",
       "    <tr>\n",
       "      <th>216</th>\n",
       "      <td>092-001_toh686-the_sovereign_ritual_of_amoghap...</td>\n",
       "      <td>toh686</td>\n",
       "      <td>92</td>\n",
       "      <td>204</td>\n",
       "      <td>or even as Candra or Sūrya.  “The vidyā holde...</td>\n",
       "    </tr>\n",
       "    <tr>\n",
       "      <th>173</th>\n",
       "      <td>092-001_toh686-the_sovereign_ritual_of_amoghap...</td>\n",
       "      <td>toh686</td>\n",
       "      <td>92</td>\n",
       "      <td>161</td>\n",
       "      <td>To counter the harmful influence of mudrās, h...</td>\n",
       "    </tr>\n",
       "    <tr>\n",
       "      <th>170</th>\n",
       "      <td>092-001_toh686-the_sovereign_ritual_of_amoghap...</td>\n",
       "      <td>toh686</td>\n",
       "      <td>92</td>\n",
       "      <td>158</td>\n",
       "      <td>and the victorious Amitābha should be above h...</td>\n",
       "    </tr>\n",
       "    <tr>\n",
       "      <th>726</th>\n",
       "      <td>092-001_toh686-the_sovereign_ritual_of_amoghap...</td>\n",
       "      <td>toh686</td>\n",
       "      <td>93</td>\n",
       "      <td>83</td>\n",
       "      <td>He will never again experience unpleasant tac...</td>\n",
       "    </tr>\n",
       "    <tr>\n",
       "      <th>288</th>\n",
       "      <td>092-001_toh686-the_sovereign_ritual_of_amoghap...</td>\n",
       "      <td>toh686</td>\n",
       "      <td>92</td>\n",
       "      <td>276</td>\n",
       "      <td>It will be crowded with women, men, boys, and...</td>\n",
       "    </tr>\n",
       "    <tr>\n",
       "      <th>70</th>\n",
       "      <td>092-001_toh686-the_sovereign_ritual_of_amoghap...</td>\n",
       "      <td>toh686</td>\n",
       "      <td>92</td>\n",
       "      <td>58</td>\n",
       "      <td>Mount Sumeru, the coil of a snake, the paraso...</td>\n",
       "    </tr>\n",
       "    <tr>\n",
       "      <th>298</th>\n",
       "      <td>092-001_toh686-the_sovereign_ritual_of_amoghap...</td>\n",
       "      <td>toh686</td>\n",
       "      <td>92</td>\n",
       "      <td>286</td>\n",
       "      <td>of envy and jealousy will be cleansed, they w...</td>\n",
       "    </tr>\n",
       "    <tr>\n",
       "      <th>577</th>\n",
       "      <td>092-001_toh686-the_sovereign_ritual_of_amoghap...</td>\n",
       "      <td>toh686</td>\n",
       "      <td>92</td>\n",
       "      <td>565</td>\n",
       "      <td></td>\n",
       "    </tr>\n",
       "    <tr>\n",
       "      <th>171</th>\n",
       "      <td>092-001_toh686-the_sovereign_ritual_of_amoghap...</td>\n",
       "      <td>toh686</td>\n",
       "      <td>92</td>\n",
       "      <td>159</td>\n",
       "      <td>When the number one thousand and eight has be...</td>\n",
       "    </tr>\n",
       "    <tr>\n",
       "      <th>398</th>\n",
       "      <td>092-001_toh686-the_sovereign_ritual_of_amoghap...</td>\n",
       "      <td>toh686</td>\n",
       "      <td>92</td>\n",
       "      <td>386</td>\n",
       "      <td>He can thus whisk away anything that he wants...</td>\n",
       "    </tr>\n",
       "    <tr>\n",
       "      <th>252</th>\n",
       "      <td>092-001_toh686-the_sovereign_ritual_of_amoghap...</td>\n",
       "      <td>toh686</td>\n",
       "      <td>92</td>\n",
       "      <td>240</td>\n",
       "      <td>“This auspicious pitcher should be worshipe...</td>\n",
       "    </tr>\n",
       "  </tbody>\n",
       "</table>\n",
       "</div>"
      ],
      "text/plain": [
       "                                              filename tohoku_number  \\\n",
       "33   092-001_toh686-the_sovereign_ritual_of_amoghap...        toh686   \n",
       "246  092-001_toh686-the_sovereign_ritual_of_amoghap...        toh686   \n",
       "151  092-001_toh686-the_sovereign_ritual_of_amoghap...        toh686   \n",
       "582  092-001_toh686-the_sovereign_ritual_of_amoghap...        toh686   \n",
       "216  092-001_toh686-the_sovereign_ritual_of_amoghap...        toh686   \n",
       "173  092-001_toh686-the_sovereign_ritual_of_amoghap...        toh686   \n",
       "170  092-001_toh686-the_sovereign_ritual_of_amoghap...        toh686   \n",
       "726  092-001_toh686-the_sovereign_ritual_of_amoghap...        toh686   \n",
       "288  092-001_toh686-the_sovereign_ritual_of_amoghap...        toh686   \n",
       "70   092-001_toh686-the_sovereign_ritual_of_amoghap...        toh686   \n",
       "298  092-001_toh686-the_sovereign_ritual_of_amoghap...        toh686   \n",
       "577  092-001_toh686-the_sovereign_ritual_of_amoghap...        toh686   \n",
       "171  092-001_toh686-the_sovereign_ritual_of_amoghap...        toh686   \n",
       "398  092-001_toh686-the_sovereign_ritual_of_amoghap...        toh686   \n",
       "252  092-001_toh686-the_sovereign_ritual_of_amoghap...        toh686   \n",
       "\n",
       "     volume_number  location  \\\n",
       "33              92        21   \n",
       "246             92       234   \n",
       "151             92       139   \n",
       "582             92       570   \n",
       "216             92       204   \n",
       "173             92       161   \n",
       "170             92       158   \n",
       "726             93        83   \n",
       "288             92       276   \n",
       "70              92        58   \n",
       "298             92       286   \n",
       "577             92       565   \n",
       "171             92       159   \n",
       "398             92       386   \n",
       "252             92       240   \n",
       "\n",
       "                                                  text  \n",
       "33    is a supreme offering. The vidyā holder shoul...  \n",
       "246   The outer part of the maṇḍala should have the...  \n",
       "151   He will say, ‘Vidyā holder, enter my palace a...  \n",
       "582                                                     \n",
       "216   or even as Candra or Sūrya.  “The vidyā holde...  \n",
       "173   To counter the harmful influence of mudrās, h...  \n",
       "170   and the victorious Amitābha should be above h...  \n",
       "726   He will never again experience unpleasant tac...  \n",
       "288   It will be crowded with women, men, boys, and...  \n",
       "70    Mount Sumeru, the coil of a snake, the paraso...  \n",
       "298   of envy and jealousy will be cleansed, they w...  \n",
       "577                                                     \n",
       "171   When the number one thousand and eight has be...  \n",
       "398   He can thus whisk away anything that he wants...  \n",
       "252     “This auspicious pitcher should be worshipe...  "
      ]
     },
     "execution_count": 21,
     "metadata": {},
     "output_type": "execute_result"
    }
   ],
   "source": [
    "# en_df.sample(frac=0.1).compute().sample(frac=0.01).sort_values('tohoku_number')\n",
    "# en_df[en_df.tohoku_number == 'toh257'].compute().sample(frac=0.05).sort_values('tohoku_number')\n",
    "en_df[en_df.tohoku_number == 'toh686'].compute().sample(frac=0.02).sort_values('tohoku_number')"
   ]
  },
  {
   "cell_type": "code",
   "execution_count": 22,
   "id": "d1439097-f2a1-43eb-880e-0e2e44a9ac16",
   "metadata": {},
   "outputs": [],
   "source": [
    "volume_number, location = 92, 362"
   ]
  },
  {
   "cell_type": "code",
   "execution_count": 23,
   "id": "1da71d19-e7ac-4808-9c6d-971368463d67",
   "metadata": {},
   "outputs": [
    {
     "data": {
      "text/plain": [
       "'རས་གཟིགས་དབང་ཕྱུག་གིས། དོན་ཡོད་ཞགས་པའི་སྙིང་པོའི་གསང་སྔགས་འདི་སྨྲས་སོ། །ཨོཾ་ཨ་མོ་གྷ་པཱ་ཤ་ཧྲྀ་ད་ཡ་པདྨོཥྞཱི་ཥ་ཀུ་མཱ་ར་བེ་ཥ་དྷ་ར། པདྨེ་ཤྭ་ར། ཨཱ་བེ་ཤ་ཡ། སརྦ་ཨ་མོ་གྷ་ཀུ་ལ་ས་མ་ཡ་ཧྲྀ་ད་ཡ། སརྦ་སིདྡྷི་ཨ་མོ་གྷ་པྲ་ཡཙྪ་པདྨ། པདྨ་ཧཱུྃ་ཧཱུྃ་ན་མ་སྟུ་ཏེ་སྭཱ་ཧཱ། འདི་ནི་དོན་ཡོད་ཞགས་པའི་སྙིང་པོ་བཀླགས་པས་གྲུབ་པའི་སྒྲུབ་ཐབས་སོ། །ཨོཾ་ཨ་མོ་གྷ་པདྨོ་ཥྞཱི་ཥེ་ཤྭ་ར། པདྨེ་ཤྭ་ར། ས་མནྟཱ་ཡ་སརྦ་ཏ་ཐཱ་ག་ཏཱ་ནཱཾ། ཨ་མོ་གྷ་པདྨོཥྞཱི་ཥ་ས་མ་ཡ་ཨཱ་ཀརྵ་ཡ། པྲ་བེ་ཤ་ཡ། སརྦ་ཀརྨ་སིདྡྷིམྨེ་པྲ་ཡཙྪ་ཨ་བ་ལོ་ཀི་ཏེ་ཤྭ་ར་ཧཱུཾ་ཧཱུཾ། མ་ཧཱ་པདྨོཥྞཱི་ཥ་བྷུ་ཛེ་སྭཱ་ཧཱ། རིགས་ཀྱི་རྒྱལ་པོའི་གསང་སྔགས་སོ། །ཨོཾ་ཨ་ཧཱ་ཙནྜ་པདྨེ་ཤྭ་ར་བི་བི་དྷ་རཱུ་པ། བི་ཀ་ཊ། པདྨ་དཾཥྜ་ཀེ་རཱ་ལ་བྷཱི་ཥ་ཎ། བཱཀྟྲ་སརྦ་དུཥྚ་ཧྲྀ་ད་ཡཾ། ཁཱ་ད་ཡ། བིགྷ་ནཱཾ། པདྨ་དྷྲི་ཀ །ཙི་ཊི། དྲི་ཊི་ཧཱུཾ་སྭཱ་ཧཱ། ཁྲོ་བོའི་རྒྱལ་པོའི་རིགས་ཀྱི་སྙིང་པོའོ། །ནང་གི་དཀྱིལ་འཁོར་གསང་བའི་ལས་རྣམས་སོ། །ཨོཾ་ཨ་མོ་གྷ་པདྨོཥྞཱི་ཥ་པདྨ་པཱ་ཤ་ཀྲོ་དྷ་ཀ །མོ་ཡ་ཀརྨ་པྲ་བེ་ཤ་ཡ་མ་ཧཱ་བཱ་ཤུ་པ་ཏི། ཡ་མ། བ་རུ་ཎ། ཀུ་བེ་ར། བྲཧྨ་བེ་ཥ་དྷ་ར། མ་ཧཱ་ཙཎྜ་བེ་ག །ཨ་མོ་གྷ་ཀུ་ལས་མ་ཡ། པདྨེ་ཧཱུཾ་ཧཱུཾ། ཁྲོ་བོའི་རྒྱལ་པོ་དོན་ཡོད་ཞགས་པའི་པདྨ་གཙུག་ཏོར་གྱི་སྙིང་པོའོ། །དེ་ནས་དོན་ཡོད་པའི་སྙིང་པོའི་ལས་རྣམས་འགྱུར་ཏེ། དྲན་པ་ཙམ་གྱི་མོད་ལ། དུས་གསུམ་གྱི་དེ་བཞིན་གཤེགས་པ་ཐམས་ཅད་དང་མཉམ་པས་གཅིག་ཏུ་མཚུངས་པར་འགྱུར་རོ། །ཚེ་དཔག་མེད་དང་མཉམ་པའི་ལུས་སུ་འགྱུར་རོ། །ཕྱོགས་བཅུའི་སངས་རྒྱས་ཀྱི་ཞིང་ཐམས་ཅད་དང་། མཉམ་པའི་དེ་བཞིན་གཤེགས་པ་ཐམས་ཅད་དང་མཚུངས་ཤིང་མཉམ་པ་ཉིད་དུ་འགྱུར་རོ། །མཚུངས་ཤིང་མཉམ་པ་ཉིད་ཀྱིས་དེ་བཞིན་གཤེགས་པ་ཐམས་ཅད་མཉམ་པ་ཉིད་དུ་མཐོང་ངོ་། །པདྨའི་ཕྱག་གི་ཏིང་ངེ་འཛིན་རྣམས་དང་། པདྨའི་གཙུག་ཏོར་གྱི་ཕྱག་གིས་འཇིག་རྟེན་དབང་ཕྱུག་དང་མཉམ་པ་ཉིད་དུ་འགྱུར་རོ། །པདྨའི་གཙུག་ཏོར་བཅིངས་པ་ཉིད་ཀྱིས་སྤྱི་བོའི་གཙུག་ཏུ་མངོན་པར་དབང་བསྐུར་ན། དུས་གསུམ་གྱི་དེ་བཞིན་གཤེགས་པ་ཐམས་ཅད་ཀྱིས་མངོན་པར་དབང་བསྐུར་རོ། །པདྨའི་གཙུག་ཏོར་གྱིས་དོན་ཡོད་པར་དབང་བསྐུར་བ་གང་ཡིན་པ་དེ། པདྨ་གཙུག་ཏོར་གྱི་སྙིང་པོ་རྒྱས་པར་གྱུར་པ་ཐོབ་སྟེ། ཏིང་ངེ་འཛིན་བརྒྱ་སྟོང་ཕྲག་དང་། བླ་ན་མེད་'"
      ]
     },
     "execution_count": 23,
     "metadata": {},
     "output_type": "execute_result"
    }
   ],
   "source": [
    "bo_df[(bo_df.volume_number == volume_number) & (bo_df.location == location - 1)].compute().text.values[0]"
   ]
  },
  {
   "cell_type": "code",
   "execution_count": 24,
   "id": "6b4d78a3-58b7-482f-be9c-fdc34af2fe48",
   "metadata": {},
   "outputs": [
    {
     "data": {
      "text/plain": [
       "'པའི་དཔལ་ཐོབ་བོ། །རིགས་ཀྱི་རྒྱལ་པོའི་གསང་སྔགས་རྒྱས་པར་གྱུར་པ་པདྨ་གཙུག་ཏོར་གྱི་དཀྱིལ་འཁོར་དུ་རིགས་ཀྱི་རྒྱལ་པོ་ལེགས་པར་གྲུབ་པར་འགྱུར་ཏེ། ཐམས་ཅད་དུ་རིགས་ཀྱི་རྒྱལ་པོའི་དངོས་གྲུབ་བཟང་པོ་རྣམས་འོང་བར་འགྱུར་རོ། །རིགས་ཀྱི་རྒྱལ་པོའི་གསང་སྔགས་ཀྱི་རྒྱལ་པོ་དང་། རིག་སྔགས་ཀྱི་རྒྱལ་པོ་མཆོག་གི་དངོས་གྲུབ་ཐམས་ཅད་རབ་ཏུ་སྦྱིན་པར་བྱེད་དོ། །པདྨའི་ཕྱག་གིས་རྗེས་སུ་འཇུག་ཅིང་། དོན་ཡོད་པའི་རིགས་ཀྱི་དངོས་གྲུབ་ཇི་ལྟ་བ་བཞིན་དུ་འགྲུབ་སྟེ། བཀླགས་པས་གྲུབ་པ་འདི་ལ་ཐེ་ཚོམ་མེད་དོ། །པདྨ་གཙུག་ཏོར་གྱི་རིགས་ཀྱི་དངོས་གྲུབ་དང་། པདྨ་ཡངས་པའི་དཀྱིལ་འཁོར་རམ། དོན་ཡོད་ཞགས་པའི་དཀྱིལ་འཁོར་དུ་བཀླགས་ནས་བཟླས་པ་ཙམ་གྱིས་འགྲུབ་སྟེ། རིགས་ཀྱི་རྒྱལ་པོ་དང་། རིག་སྔགས་ཀྱི་རྒྱལ་པོ་གང་ཡིན་པ་དེ་ཐམས་ཅད་དུ་དབང་ཕྱུག་ཏུ་འགྱུར་རོ། །དཀྱིལ་འཁོར་རྣམས་ཀྱི་ཆོ་ག་ཞིབ་མོ་དང་། ཕྱག་རྒྱས་བྱང་ཆུབ་སེམས་དཔའ་ཐམས་ཅད་ཀྱི་རིགས་ཐུན་མོང་བ་ཐམས་ཅད་དུ་རྒྱལ་པོའི་བྱ་བ་བྱེད་པར་འགྱུར་རོ། །སངས་རྒྱས་ཀྱི་ཞིང་སྟོང་ཕྲག་རྣམས་དང་། སངས་རྒྱས་ཀྱི་ཞིང་བརྒྱ་ཕྲག་རྣམས་དང་། གང་གཱའི་ཀླུང་གི་བྱེ་མ་དང་མཉམ་པའི་ཞིང་དུ་རྒྱལ་པོར་འགྱུར་རོ། །རིགས་ཀྱི་རིག་པས་ལྷའི་དབང་ཕྱུག་དང་། ལྷའི་ཚོགས་རྣམས་ཀྱི་དབང་ཕྱུག་ཏུ་འགྱུར་རོ། །རྟག་ཏུ་ཡང་གནོད་སྦྱིན་རྣམས་དང་། སྲིན་པོ་རྣམས་སུ་གྱུར་པ་དང་། དྲི་ཟ་རྣམས་དང་། གནོད་སྦྱིན་རྣམས་དང་། སྲིན་པོ་རྣམས་ཀྱི་དེ་བཞིན་ཉིད་དུ་ཐམས་ཅད་དུ་རྒྱལ་པོ་དང་། དབང་ཕྱུག་ཏུ་རྟག་ཏུ་འགྱུར་ཏེ་ཐེ་ཚོམ་མེད་དོ། །ནམ་མཁའ་ལྡིང་རྣམས་དང་། མིའམ་ཅི་རྣམས་དང་། ལྟོ་འཕྱེ་ཆེན་པོ་རྣམས་དང་། ཐམས་ཅད་དུ་ཇི་སྲིད་བྱང་ཆུབ་ལ་ཡང་དག་པར་གནས་ཀྱི་བར་དུ་རིགས་ཀྱི་རྒྱལ་པོར་འགྱུར་རོ། །དེ་ནས་ཁྲོ་བོའི་རྒྱལ་པོ་དྲན་པ་ཙམ་དང་དྲག་པོ་དེ་ཡིད་ལ་སེམས་པ་ཙམ་གྱི་མོད་ལ། འཕྲལ་དུ་རི་རབ་ལྟུང་བར་བྱེད་ཅིང་། ཁོར་ཡུག་གི་རི་རྣམ་པར་འཐོར་བར་བྱེད་དོ། །རྒྱ་མཚོ་ཆེན་པོ་ཀུན་ནས་དཀྲུག་ཅིང་། རྒྱ་མཚོ་ཆེན་པོ་ཉེ་བར་སྐྱེ་བར་བྱེད་དོ། །ཀུན་དུ་གསལ་བར་བྱེད་དོ། །ཀླུའི་གནས་ཐམས་ཅད་དུ་ཀླུའི་གནས་འབར་བར་ཡང་བྱེད་དོ། །བགེགས་དང་ལོག་པར་འདྲེན་པ་ཐམས་ཅད་ཀྱི་སྐད་ཅིག་ཙམ་གྱིས་སྟེང་དུ་བདུག་པར་བྱེད་དོ། །གནོད་སྦྱིན་'"
      ]
     },
     "execution_count": 24,
     "metadata": {},
     "output_type": "execute_result"
    }
   ],
   "source": [
    "bo_df[(bo_df.volume_number == volume_number) & (bo_df.location == location)].compute().text.values[0]"
   ]
  },
  {
   "cell_type": "code",
   "execution_count": 25,
   "id": "2db309e3-45ce-4898-b8a0-afd2028877c3",
   "metadata": {},
   "outputs": [
    {
     "data": {
      "text/plain": [
       "'དང་། སྲིན་པོ་དང་། འབྱུང་པོ་དང་། གཟའ་དང་། བརྗེད་བྱེད་དང་། མི་བཟད་པ་དེ་རྣམས་ཐམས་ཅད་ཁྲོ་བོའི་རྒྱལ་པོ་དྲན་པ་ཙམ་གྱིས་འཇིགས་པར་འགྱུར་རོ། །ཁྲོ་བོའི་རྒྱལ་པོའི་གསང་བ་ཐམས་ཅད་ཀྱི་རིགས་ཀྱི་དམ་ཚིག་ལ་གནས་པ་དང་། དཀྱིལ་འཁོར་དུ་ཕྱག་རྒྱ་གནས་པ་དང་། གསང་སྔགས་ཀྱི་ལྷ་གཞན་གང་ཡིན་པ་རྣམས་ཀྱིས་ཁྲོ་བོའི་རྒྱལ་པོ་དྲན་པ་ཙམ་གྱིས་དེ་རྣམས་ཐམས་ཅད་རིག་སྔགས་འཆང་ལ་སྐྱབས་སུ་འགྲོ་བར་བྱེད་དོ། །དེ་རྣམས་ཐམས་ཅད་རྗེས་སུ་འབྲང་བར་འགྱུར་ཞིང་གནས་པར་བྱེད་དོ། །འགའ་ཞིག་གང་དུ་འགྲོ་བའམ་འདུག་པ་དེ་ལ་དབང་པོ་དང་། སྐབས་གསུམ་པའི་ལྷ་དང་། ཚངས་པ་དང་། ཁྱབ་འཇུག་དང་། དབང་ཕྱུག་ཆེན་པོ་དང་། གཤིན་རྗེ་དང་། ཆུ་ལྷ་དང་། ཀླུའི་རྒྱལ་པོ་རྒྱ་མཚོ་དང་། དགའ་བོ་དང་། ཉེ་དགའ་བོ་དང་། གཞོན་ནུ་དང་། སྡེ་དཔོན་དང་། དེ་བཞིན་དུ་རྒྱལ་པོ་ཆེན་པོ་བཞི་དུས་རྟག་ཏུ་རིག་སྔགས་འཆང་གི་རྗེས་སུ་འབྲང་བར་བྱེད་དོ། །ཐེ་ཚོམ་མེད་དོ། །ཁྲོས་པའི་ལས་རྣམས་སམ། དེ་བཞིན་དུ་དྲག་པོའི་ལས་རྣམས་ཐམས་ཅད་ཀྱང་ཧཱུཾ་ཡིག་ཙམ་གྱིས་དེ་ལ་དངོས་གྲུབ་མཐོང་ངོ་། །ཕྱིར་རྒོལ་བ་དང་། དགྲ་དང་། སེམས་ཅན་མ་རུངས་པ་ཤིན་ཏུ་མི་བཟད་པ་རྣམས་དང་། ཕ་རོལ་གྱི་དམག་ཚོགས་དང་འཇིགས་པ་དང་། རྣམ་པར་འགྲས་པའི་སྐྱེ་བོ་དང་། སྡིག་པ་དེ་རྣམས་ཐམས་ཅད་ཧཱུཾ་ཡིག་གིས་མཆོག་ཏུ་གཟིར་བ་ཙམ་གྱིས་ཐལ་བར་འཇིག་པར་འགྱུར་རོ། །སྡང་བ་དང་། ངན་སེམས་པའི་སེམས་ཅན་དང་། བྱས་པ་མི་གཟོ་བ་དང་། བྱས་པ་ལ་འཁོན་པ་ཐམས་ཅད་དྲག་པོའི་ཧཱུཾ་ཡིག་བཟླས་པ་ཙམ་གྱིས་སྐད་ཅིག་ལ་བསྲེག་སྟེ། དཔེར་ན་མེ་ཡིས་ཕྱེ་མ་ལེབ་བཞིན་ནོ། །ལས་གཞན་སྟོང་ཕྲག་རྣམས་དང་། ལས་བརྒྱ་སྟོང་ཕྲག་ཉིད་བཟླས་པ་ཙམ་གྱིས་འགྲུབ་སྟེ། དྲན་པ་ཙམ་གྱི་མོད་ལ། ལས་ཐམས་ཅད་འགྲུབ་བོ། །དེ་ནས་དོན་ཡོད་པ་པདྨའི་གཙུག་ཏོར་དྲན་པ་ཙམ་གྱིས། བྱ་བ་ཐམས་ཅད་ནི་གཉིས་སུ་འགྱུར་ཏེ། ཇི་ལྟར་གང་ཅུང་ཟད་ཡིད་ལ་བྱེད་པས་ལས་བྱེད་དོ། །དཀྱིལ་འཁོར་རམ། གནས་རྣམ་པ་གཞན་ཐམས་ཅད་དུ། ཇི་ལྟར་ཡིད་ལ་བྱེད་པའི་བྱ་བ་ཐམས་ཅད་དུ་བྱེད་དོ།། །།'"
      ]
     },
     "execution_count": 25,
     "metadata": {},
     "output_type": "execute_result"
    }
   ],
   "source": [
    "bo_df[(bo_df.volume_number == volume_number) & (bo_df.location == location + 1)].compute().text.values[0]"
   ]
  },
  {
   "cell_type": "code",
   "execution_count": 26,
   "id": "b573a579-a7d6-407e-966c-d4f7fecf0de2",
   "metadata": {},
   "outputs": [
    {
     "data": {
      "text/html": [
       "<div>\n",
       "<style scoped>\n",
       "    .dataframe tbody tr th:only-of-type {\n",
       "        vertical-align: middle;\n",
       "    }\n",
       "\n",
       "    .dataframe tbody tr th {\n",
       "        vertical-align: top;\n",
       "    }\n",
       "\n",
       "    .dataframe thead th {\n",
       "        text-align: right;\n",
       "    }\n",
       "</style>\n",
       "<table border=\"1\" class=\"dataframe\">\n",
       "  <thead>\n",
       "    <tr style=\"text-align: right;\">\n",
       "      <th></th>\n",
       "      <th>filename</th>\n",
       "      <th>tohoku_number</th>\n",
       "      <th>volume_number</th>\n",
       "      <th>location</th>\n",
       "      <th>text</th>\n",
       "    </tr>\n",
       "  </thead>\n",
       "  <tbody>\n",
       "    <tr>\n",
       "      <th>374</th>\n",
       "      <td>092-001_toh686-the_sovereign_ritual_of_amoghap...</td>\n",
       "      <td>toh686</td>\n",
       "      <td>92</td>\n",
       "      <td>362</td>\n",
       "      <td>If he mindfully repeats the mantra of the lor...</td>\n",
       "    </tr>\n",
       "  </tbody>\n",
       "</table>\n",
       "</div>"
      ],
      "text/plain": [
       "                                              filename tohoku_number  \\\n",
       "374  092-001_toh686-the_sovereign_ritual_of_amoghap...        toh686   \n",
       "\n",
       "     volume_number  location  \\\n",
       "374             92       362   \n",
       "\n",
       "                                                  text  \n",
       "374   If he mindfully repeats the mantra of the lor...  "
      ]
     },
     "execution_count": 26,
     "metadata": {},
     "output_type": "execute_result"
    }
   ],
   "source": [
    "en_df[(en_df.volume_number == volume_number) & (en_df.location == location)].compute()"
   ]
  },
  {
   "cell_type": "code",
   "execution_count": 27,
   "id": "f224e401-7013-4a4e-bea1-0450ed054c1f",
   "metadata": {},
   "outputs": [],
   "source": [
    "en_text = \"Lorem ipsum dolor sit amet, consectetur adipiscing elit, sed do eiusmod tempor incididunt ut labore et dolore magna aliqua. Ut enim ad minim veniam, quis nostrud exercitation ullamco laboris nisi ut aliquip ex ea commodo consequat. Duis aute irure dolor in reprehenderit in voluptate velit esse cillum dolore eu fugiat nulla pariatur. Excepteur sint occaecat cupidatat non proident, sunt in culpa qui officia deserunt mollit anim id est laborum.\""
   ]
  },
  {
   "cell_type": "code",
   "execution_count": 28,
   "id": "3e3f99d9-6624-4d6a-8856-ffe0ee056330",
   "metadata": {},
   "outputs": [
    {
     "data": {
      "text/plain": [
       "' If he mindfully repeats the mantra of the lord of the family, he will obtain the auspicious accomplishment of the lord of the family in the maṇḍala of Padmoṣṇīṣa. Family lords, as well as the mantra and vidyā kings who rule over the family lords’ auspicious accomplishments, will arrive and grant the vidyā holder every supreme accomplishment. Followed by Padmapāṇi, he will win the accomplishments of the amogha family. These kings of mantras will be accomplished through recitation; there is no doubt about this.  “Accomplishment in the Padmoṣṇīṣa family belongs to the great lotus maṇḍala, the maṇḍala of Amoghapāśa, where one becomes accomplished through recitation. Through mere recitation, the vidyā holder will become the lord of the family and the king of the vidyādharas—a sovereign lord in every respect. Using the rites and mudrās of the corresponding maṇḍalas, he will join the same family as the bodhisattvas and will perform the function of a king in every respect. Using the family vidyā, he will become king in hundreds of thousands of buddha fields, equal in number to the grains of sand in the Gaṅgā river. He will also become the king of the devas and their heavenly hosts,  as well as of yakṣas, rākṣasas, and gandharvas. He can become a king and lord anywhere—the king of garuḍas, kinnaras, or mahoragas—and will remain king until the attainment of awakening. There is no doubt about this.    “By just mindfully repeating the Krodharāja mantra with a fierce mind, the vidyā holder can instantly flatten Mount Sumeru. The mountain ranges that surround it will break apart, and the waters of the great ocean will be agitated. The palaces of the nāgas will be set alight, all nāga dwellings will burn, and all vighnas and vināyakas will be smoked out in a matter of seconds. All terrible beings such as yakṣas, '"
      ]
     },
     "execution_count": 28,
     "metadata": {},
     "output_type": "execute_result"
    }
   ],
   "source": [
    "en_text = en_df[(en_df.volume_number == volume_number) & (en_df.location == location)].compute().text.values[0]\n",
    "en_text"
   ]
  },
  {
   "cell_type": "code",
   "execution_count": 29,
   "id": "99a3ba8e-9948-4d16-9375-6992ce5ff705",
   "metadata": {},
   "outputs": [],
   "source": [
    "bo_text = \"།རིགས་ཀྱི་བུ་ཁྱོད་ཀྱང་ད་ལྟར་ཏིང་ངེ་འཛིན་ལས་ལངས་པས་རིགས་ཀྱི་བུ་ཁྱོད་ད་མི་མཇེད་ཀྱི་འཇིག་རྟེན་གྱི་ཁམས་སུ་འགྲོ་བར་བྱའོ།\"\n",
    "bo_text = \"།རིགས་ཀྱི་བུ་སངས་རྒྱས་ཀྱི་ཞིང་མི་མཇེད་དེ་ན་ནི་སེམས་ཅན་རྣམས་ཤིན་ཏུ་སྲེད་པའི་ཀུན་ཏུ་སྦྱོར་བ་དང་ལྡན་ཞིང་སྲིད་པའི་ལྟུང་ལ་བཏགས་པ་དག་ཡིན་ཏེ།\"\n",
    "bo_text = \"སངས་རྒྱས་ཀྱི་ཞིང་དེ་ན་ནང་ན་ཡང་བུད་མེད་གཟུགས་མི་སྡུག་པ་དང་། ཚུལ་དུ་མི་ཤིས་པ་དང་། མཆོག་ཏུ་གཟུགས་ཀྱི་རྒྱགས་པས་དྲེགས་པ་དང་།\"\n",
    "bo_text = \"དྲི་ང་བ་དང་། མི་གཙང་བ་དང་། གཙང་སྦྲར་སྤྱོད་པའི་རྒྱགས་པས་དྲེགས་པ་དང་།\"\n",
    "bo_text = \"ངོ་གཉིས་བྱེད་པ་དང་། བདེན་པ་མ་ཡིན་པའི་ཚིག་སྨྲ་བ་དང་། ཚངས་པར་སྤྱོད་པར་ང་རྒྱལ་བྱེད་པ་དང་།\"\n",
    "bo_text = \"།བུད་མེད་ཀྱི་ཉེས་པས་དགེ་བའི་རྩ་བ་ཐམས་ཅད་ལས་ཡོངས་སུ་ཉམས་པ་དག་དང་། ངན་སོང་བ་དག་དང་། སེམས་ཅན་དམྱལ་བ་པ་དག་ཏུ་འགྱུར་བ་ཡིན་ནོ།\"\n",
    "bo_text = \"།རིགས་ཀྱི་བུ་ཁྱེད་དེ་བཞིན་གཤེགས་པ་ཤཱཀྱ་ཐུབ་པ་དེ་ལ་ངའི་བཀས་ཞུ་བའི་ཕྱིར་ངའི་བཀས་མི་མཇེད་ཀྱི་འཇིག་རྟེན་གྱི་ཁམས་སུ་འགྲོ་བར་སྤྲོ་ན། དེར་ཉི་མའི་སྙིང་པོའི་ཆོས་ཀྱིས་གནས་པ་ཀླུའི་ཡུལ་རྣམ་པར་འཇིག་པར་མཛད་པའི་འོད་ཟེར་གྱི་ལེའུ་སེམས་ཅན་རྣམས་ཀྱི་ལས་ཟད་པར་འགྱུར་བའི་གཟུངས་སྔགས་ལ་ང་དད་པ་སྦྱིན་པར་མཛད་དོ།\"\n",
    "\n",
    "bo_text = \"།རིགས་ཀྱི་རྒྱལ་པོའི་གསང་སྔགས་རྒྱས་པར་གྱུར་པ་པདྨ་གཙུག་ཏོར་གྱི་དཀྱིལ་འཁོར་དུ་རིགས་ཀྱི་རྒྱལ་པོ་ལེགས་པར་གྲུབ་པར་འགྱུར་ཏེ།\"\n",
    "bo_text = \"སངས་རྒྱས་ཀྱི་ཞིང་བརྒྱ་ཕྲག་རྣམས་དང་། གང་གཱའི་ཀླུང་གི་བྱེ་མ་དང་མཉམ་པའི་ཞིང་དུ་རྒྱལ་པོར་འགྱུར་རོ།\"\n",
    "# bo_text = \"།དེ་ནས་དོན་ཡོད་པ་པདྨའི་གཙུག་ཏོར་དྲན་པ་ཙམ་གྱིས། བྱ་བ་ཐམས་ཅད་ནི་གཉིས་སུ་འགྱུར་ཏེ།\"\n",
    "bo_text = \"གཞོན་ནུ་དང་། སྡེ་དཔོན་དང་། དེ་བཞིན་དུ་རྒྱལ་པོ་ཆེན་པོ་བཞི་དུས་རྟག་ཏུ་རིག་སྔགས་འཆང་གི་རྗེས་སུ་འབྲང་བར་བྱེད་དོ།\""
   ]
  },
  {
   "cell_type": "code",
   "execution_count": 30,
   "id": "e0db3475-328a-4b5a-921c-3ee25053dc31",
   "metadata": {},
   "outputs": [
    {
     "name": "stderr",
     "output_type": "stream",
     "text": [
      "/home/eeisenst/workspace/contribs/original/transformers/src/transformers/tokenization_utils_base.py:3606: UserWarning: `as_target_tokenizer` is deprecated and will be removed in v5 of Transformers. You can tokenize your labels by using the argument `text_target` of the regular `__call__` method (either in the same call as your input texts if you use the same keyword arguments, or in a separate call.\n",
      "  warnings.warn(\n"
     ]
    },
    {
     "data": {
      "text/plain": [
       "('གཞོན་ནུ་དང་། སྡེ་དཔོན་དང་། དེ་བཞིན་དུ་རྒྱལ་པོ་ཆེན་པོ་བཞི་དུས་རྟག་ཏུ་རིག་སྔགས་འཆང་གི་རྗེས་སུ་འབྲང་བར་བྱེད་དོ།',\n",
       " 'the prince, the general, and the four great kings will always follow in the footsteps of the vidyadharas.')"
      ]
     },
     "execution_count": 30,
     "metadata": {},
     "output_type": "execute_result"
    }
   ],
   "source": [
    "bo_text, translator.translate(bo_text)"
   ]
  },
  {
   "cell_type": "code",
   "execution_count": 31,
   "id": "4e452eab-ccce-4fb7-8cdb-f83d9a8d7670",
   "metadata": {},
   "outputs": [],
   "source": [
    "# en_text = 'This maṇḍala brings every accomplishment and causes the vidyā holder’s realization, merit, and splendor to grow. It is effective for removing all diseases and eradicating evil and vice. It heals wounds, injuries, and broken bones and destroys poisons and kākhordas. It also removes chronic diseases, ailments, and fevers.'\n",
    "# en_text = \"Lorem ipsum dolor sit amet, consectetur adipiscing elit, sed do eiusmod tempor incididunt ut labore et dolore magna aliqua. Ut enim ad minim veniam, quis nostrud exercitation ullamco laboris nisi ut aliquip ex ea commodo consequat. Duis aute irure dolor in reprehenderit in voluptate velit esse cillum dolore eu fugiat.\"\n",
    "\n",
    "# en_text = 'This maṇḍala brings every accomplishment and causes the vidyā holder’s realization, merit, and splendor to grow. It is effective for removing all diseases and eradicating evil and vice.'\n",
    "# en_text = \"Lorem ipsum dolor sit amet, consectetur adipiscing elit, sed do eiusmod tempor incididunt ut labore et dolore magna aliqua. Ut enim ad minim veniam, quis nostrud exercitation ullamco.\"\n",
    "\n",
    "# en_text = 'it is the accomplishment of removing all illness. it destroys bad karma and bad karma.'\n",
    "# en_text = \"Lorem ipsum dolor sit amet, consectetur adipiscing elit, sed do eiusmod tempor incididunt.\""
   ]
  },
  {
   "cell_type": "code",
   "execution_count": 32,
   "id": "0f26cd17-88d3-4fa4-b692-33cadcb18a47",
   "metadata": {},
   "outputs": [],
   "source": [
    "import unicodedata\n",
    "\n",
    "def remove_accents(input_str):\n",
    "    nfkd_form = unicodedata.normalize('NFKD', input_str)\n",
    "    return u\"\".join([c for c in nfkd_form if not unicodedata.combining(c)])"
   ]
  },
  {
   "cell_type": "code",
   "execution_count": 33,
   "id": "90adbdc5-ee57-4b86-9d21-f8bf2ee01bec",
   "metadata": {},
   "outputs": [],
   "source": [
    "from torch.nn.functional import log_softmax\n",
    "\n",
    "def get_total_logits(bo_text, cur_en_text):\n",
    "    bo_tokens = translator.tokenizer(bo_text, return_tensors=\"pt\")\n",
    "    with translator.tokenizer.as_target_tokenizer():\n",
    "        en_tokens = translator.tokenizer(cur_en_text, return_tensors=\"pt\")\n",
    "\n",
    "    model_inputs = {\n",
    "        'input_ids': bo_tokens.input_ids.to(translator.model.device),\n",
    "        'attention_mask': bo_tokens.attention_mask.to(translator.model.device),\n",
    "        # 'decoder_input_ids': en_tokens.input_ids.to(translator.model.device),\n",
    "        # 'decoder_attention_mask': en_tokens.attention_mask.to(translator.model.device),\n",
    "        'labels': en_tokens.input_ids.to(translator.model.device),\n",
    "    }\n",
    "\n",
    "    return -float(translator.model(**model_inputs).loss.to(\"cpu\"))# / en_tokens.input_ids.shape[-1]\n",
    "\n",
    "    model_logits = translator.model(**model_inputs).logits[0].to(\"cpu\")\n",
    "    # total_logit = float(log_softmax(model_logits[1:][:,en_tokens.input_ids[0][:-1].to(\"cpu\")].diagonal()).sum()) / model_logits.shape[0]\n",
    "    total_logit = float(log_softmax(model_logits[:,en_tokens.input_ids[0].to(\"cpu\")].diagonal()).sum()) / model_logits.shape[0]\n",
    "    return(total_logit)"
   ]
  },
  {
   "cell_type": "code",
   "execution_count": 34,
   "id": "fef328c0-2d67-4d0c-9cea-a43ba80c0fec",
   "metadata": {},
   "outputs": [],
   "source": [
    "from tqdm.auto import tqdm\n",
    "\n",
    "def score_segment(bo_segment, en_text, tqdm=tqdm):\n",
    "    all_logits = []\n",
    "    # splits = [t.strip() for t in remove_accents(en_text.lower()).replace(\"!\", \".\").replace(\"“\", \"\").replace(\"—\", \", \").split('.')]\n",
    "    splits = [t.strip() for t in en_text.split(',') if len(t) > 0]\n",
    "    for start_idx in tqdm(range(len(splits))):\n",
    "        for end_idx in tqdm(range(start_idx + 1, len(splits) + 1), leave=False):\n",
    "            cur_en_text = '. '.join(splits[start_idx:end_idx]) + '.'\n",
    "            all_logits.append(((cur_en_text, start_idx, end_idx), get_total_logits(bo_segment, cur_en_text)))\n",
    "    return sorted(all_logits, key=lambda x: -x[1])"
   ]
  },
  {
   "cell_type": "code",
   "execution_count": 35,
   "id": "830cab12-8c73-4f27-8152-3159313934eb",
   "metadata": {},
   "outputs": [
    {
     "data": {
      "application/vnd.jupyter.widget-view+json": {
       "model_id": "33a0e9095f0443cca2a59cf144100e10",
       "version_major": 2,
       "version_minor": 0
      },
      "text/plain": [
       "  0%|          | 0/21 [00:00<?, ?it/s]"
      ]
     },
     "metadata": {},
     "output_type": "display_data"
    },
    {
     "data": {
      "application/vnd.jupyter.widget-view+json": {
       "model_id": "",
       "version_major": 2,
       "version_minor": 0
      },
      "text/plain": [
       "  0%|          | 0/21 [00:00<?, ?it/s]"
      ]
     },
     "metadata": {},
     "output_type": "display_data"
    },
    {
     "name": "stderr",
     "output_type": "stream",
     "text": [
      "/home/eeisenst/workspace/compassionai/garland/src/cai_garland/models/cai_nllb_tokenizer.py:106: UserWarning: To copy construct from a tensor, it is recommended to use sourceTensor.clone().detach() or sourceTensor.clone().detach().requires_grad_(True), rather than torch.tensor(sourceTensor).\n",
      "  attention_mask = torch.tensor(\n",
      "/home/eeisenst/workspace/contribs/original/transformers/src/transformers/models/encoder_decoder/modeling_encoder_decoder.py:634: FutureWarning: Version v4.12.0 introduces a better way to train encoder-decoder models by computing the loss inside the encoder-decoder framework rather than in the decoder itself. You may observe training discrepancies if fine-tuning a model trained with versions anterior to 4.12.0. The decoder_input_ids are now created based on the labels, no need to pass them yourself anymore.\n",
      "  warnings.warn(DEPRECATION_WARNING, FutureWarning)\n"
     ]
    },
    {
     "data": {
      "application/vnd.jupyter.widget-view+json": {
       "model_id": "",
       "version_major": 2,
       "version_minor": 0
      },
      "text/plain": [
       "  0%|          | 0/20 [00:00<?, ?it/s]"
      ]
     },
     "metadata": {},
     "output_type": "display_data"
    },
    {
     "data": {
      "application/vnd.jupyter.widget-view+json": {
       "model_id": "",
       "version_major": 2,
       "version_minor": 0
      },
      "text/plain": [
       "  0%|          | 0/19 [00:00<?, ?it/s]"
      ]
     },
     "metadata": {},
     "output_type": "display_data"
    },
    {
     "data": {
      "application/vnd.jupyter.widget-view+json": {
       "model_id": "",
       "version_major": 2,
       "version_minor": 0
      },
      "text/plain": [
       "  0%|          | 0/18 [00:00<?, ?it/s]"
      ]
     },
     "metadata": {},
     "output_type": "display_data"
    },
    {
     "data": {
      "application/vnd.jupyter.widget-view+json": {
       "model_id": "",
       "version_major": 2,
       "version_minor": 0
      },
      "text/plain": [
       "  0%|          | 0/17 [00:00<?, ?it/s]"
      ]
     },
     "metadata": {},
     "output_type": "display_data"
    },
    {
     "data": {
      "application/vnd.jupyter.widget-view+json": {
       "model_id": "",
       "version_major": 2,
       "version_minor": 0
      },
      "text/plain": [
       "  0%|          | 0/16 [00:00<?, ?it/s]"
      ]
     },
     "metadata": {},
     "output_type": "display_data"
    },
    {
     "data": {
      "application/vnd.jupyter.widget-view+json": {
       "model_id": "",
       "version_major": 2,
       "version_minor": 0
      },
      "text/plain": [
       "  0%|          | 0/15 [00:00<?, ?it/s]"
      ]
     },
     "metadata": {},
     "output_type": "display_data"
    },
    {
     "data": {
      "application/vnd.jupyter.widget-view+json": {
       "model_id": "",
       "version_major": 2,
       "version_minor": 0
      },
      "text/plain": [
       "  0%|          | 0/14 [00:00<?, ?it/s]"
      ]
     },
     "metadata": {},
     "output_type": "display_data"
    },
    {
     "data": {
      "application/vnd.jupyter.widget-view+json": {
       "model_id": "",
       "version_major": 2,
       "version_minor": 0
      },
      "text/plain": [
       "  0%|          | 0/13 [00:00<?, ?it/s]"
      ]
     },
     "metadata": {},
     "output_type": "display_data"
    },
    {
     "data": {
      "application/vnd.jupyter.widget-view+json": {
       "model_id": "",
       "version_major": 2,
       "version_minor": 0
      },
      "text/plain": [
       "  0%|          | 0/12 [00:00<?, ?it/s]"
      ]
     },
     "metadata": {},
     "output_type": "display_data"
    },
    {
     "data": {
      "application/vnd.jupyter.widget-view+json": {
       "model_id": "",
       "version_major": 2,
       "version_minor": 0
      },
      "text/plain": [
       "  0%|          | 0/11 [00:00<?, ?it/s]"
      ]
     },
     "metadata": {},
     "output_type": "display_data"
    },
    {
     "data": {
      "application/vnd.jupyter.widget-view+json": {
       "model_id": "",
       "version_major": 2,
       "version_minor": 0
      },
      "text/plain": [
       "  0%|          | 0/10 [00:00<?, ?it/s]"
      ]
     },
     "metadata": {},
     "output_type": "display_data"
    },
    {
     "data": {
      "application/vnd.jupyter.widget-view+json": {
       "model_id": "",
       "version_major": 2,
       "version_minor": 0
      },
      "text/plain": [
       "  0%|          | 0/9 [00:00<?, ?it/s]"
      ]
     },
     "metadata": {},
     "output_type": "display_data"
    },
    {
     "data": {
      "application/vnd.jupyter.widget-view+json": {
       "model_id": "",
       "version_major": 2,
       "version_minor": 0
      },
      "text/plain": [
       "  0%|          | 0/8 [00:00<?, ?it/s]"
      ]
     },
     "metadata": {},
     "output_type": "display_data"
    },
    {
     "data": {
      "application/vnd.jupyter.widget-view+json": {
       "model_id": "",
       "version_major": 2,
       "version_minor": 0
      },
      "text/plain": [
       "  0%|          | 0/7 [00:00<?, ?it/s]"
      ]
     },
     "metadata": {},
     "output_type": "display_data"
    },
    {
     "data": {
      "application/vnd.jupyter.widget-view+json": {
       "model_id": "",
       "version_major": 2,
       "version_minor": 0
      },
      "text/plain": [
       "  0%|          | 0/6 [00:00<?, ?it/s]"
      ]
     },
     "metadata": {},
     "output_type": "display_data"
    },
    {
     "data": {
      "application/vnd.jupyter.widget-view+json": {
       "model_id": "",
       "version_major": 2,
       "version_minor": 0
      },
      "text/plain": [
       "  0%|          | 0/5 [00:00<?, ?it/s]"
      ]
     },
     "metadata": {},
     "output_type": "display_data"
    },
    {
     "data": {
      "application/vnd.jupyter.widget-view+json": {
       "model_id": "",
       "version_major": 2,
       "version_minor": 0
      },
      "text/plain": [
       "  0%|          | 0/4 [00:00<?, ?it/s]"
      ]
     },
     "metadata": {},
     "output_type": "display_data"
    },
    {
     "data": {
      "application/vnd.jupyter.widget-view+json": {
       "model_id": "",
       "version_major": 2,
       "version_minor": 0
      },
      "text/plain": [
       "  0%|          | 0/3 [00:00<?, ?it/s]"
      ]
     },
     "metadata": {},
     "output_type": "display_data"
    },
    {
     "data": {
      "application/vnd.jupyter.widget-view+json": {
       "model_id": "",
       "version_major": 2,
       "version_minor": 0
      },
      "text/plain": [
       "  0%|          | 0/2 [00:00<?, ?it/s]"
      ]
     },
     "metadata": {},
     "output_type": "display_data"
    },
    {
     "data": {
      "application/vnd.jupyter.widget-view+json": {
       "model_id": "",
       "version_major": 2,
       "version_minor": 0
      },
      "text/plain": [
       "  0%|          | 0/1 [00:00<?, ?it/s]"
      ]
     },
     "metadata": {},
     "output_type": "display_data"
    },
    {
     "data": {
      "text/plain": [
       "[(('he will become king in hundreds of thousands of buddha fields.', 9, 10),\n",
       "  -2.943875789642334),\n",
       " (('If he mindfully repeats the mantra of the lord of the family.', 0, 1),\n",
       "  -3.6514108180999756),\n",
       " (('.', 20, 21), -3.6880147457122803),\n",
       " (('he will join the same family as the bodhisattvas and will perform the function of a king in every respect. Using the family vidyā. he will become king in hundreds of thousands of buddha fields.',\n",
       "   8,\n",
       "   10),\n",
       "  -3.7906343936920166),\n",
       " (('he will become king in hundreds of thousands of buddha fields. equal in number to the grains of sand in the Gaṅgā river. He will also become the king of the devas and their heavenly hosts.',\n",
       "   9,\n",
       "   11),\n",
       "  -3.838458776473999),\n",
       " (('he will join the same family as the bodhisattvas and will perform the function of a king in every respect. Using the family vidyā.',\n",
       "   8,\n",
       "   9),\n",
       "  -3.9088385105133057),\n",
       " (('he will join the same family as the bodhisattvas and will perform the function of a king in every respect. Using the family vidyā. he will become king in hundreds of thousands of buddha fields. equal in number to the grains of sand in the Gaṅgā river. He will also become the king of the devas and their heavenly hosts.',\n",
       "   8,\n",
       "   11),\n",
       "  -4.05894136428833),\n",
       " (('equal in number to the grains of sand in the Gaṅgā river. He will also become the king of the devas and their heavenly hosts.',\n",
       "   10,\n",
       "   11),\n",
       "  -4.07659912109375),\n",
       " (('as well as the mantra and vidyā kings who rule over the family lords’ auspicious accomplishments.',\n",
       "   2,\n",
       "   3),\n",
       "  -4.088274955749512),\n",
       " (('he will become king in hundreds of thousands of buddha fields. equal in number to the grains of sand in the Gaṅgā river. He will also become the king of the devas and their heavenly hosts. as well as of yakṣas.',\n",
       "   9,\n",
       "   12),\n",
       "  -4.112934112548828)]"
      ]
     },
     "execution_count": 35,
     "metadata": {},
     "output_type": "execute_result"
    }
   ],
   "source": [
    "score_segment(bo_text, en_text)[:10]"
   ]
  },
  {
   "cell_type": "markdown",
   "id": "fea63845-f23b-4a62-ac17-0efe02b7cde3",
   "metadata": {},
   "source": [
    "# Test for longer text with segmentation"
   ]
  },
  {
   "cell_type": "markdown",
   "id": "1883798e-3378-49ba-a207-33ec751a316a",
   "metadata": {},
   "source": [
    "## Load some longer Tibetan text"
   ]
  },
  {
   "cell_type": "code",
   "execution_count": 36,
   "id": "bf7abd33-6cf6-4ebc-a2ae-75a2093d585c",
   "metadata": {},
   "outputs": [],
   "source": [
    "volume_number, location = 92, 362"
   ]
  },
  {
   "cell_type": "code",
   "execution_count": 37,
   "id": "b62c0275-d4c4-4ea3-8f4c-8399cea68f74",
   "metadata": {},
   "outputs": [
    {
     "data": {
      "text/plain": [
       "'རས་གཟིགས་དབང་ཕྱུག་གིས། དོན་ཡོད་ཞགས་པའི་སྙིང་པོའི་གསང་སྔགས་འདི་སྨྲས་སོ། །ཨོཾ་ཨ་མོ་གྷ་པཱ་ཤ་ཧྲྀ་ད་ཡ་པདྨོཥྞཱི་ཥ་ཀུ་མཱ་ར་བེ་ཥ་དྷ་ར། པདྨེ་ཤྭ་ར། ཨཱ་བེ་ཤ་ཡ། སརྦ་ཨ་མོ་གྷ་ཀུ་ལ་ས་མ་ཡ་ཧྲྀ་ད་ཡ། སརྦ་སིདྡྷི་ཨ་མོ་གྷ་པྲ་ཡཙྪ་པདྨ། པདྨ་ཧཱུྃ་ཧཱུྃ་ན་མ་སྟུ་ཏེ་སྭཱ་ཧཱ། འདི་ནི་དོན་ཡོད་ཞགས་པའི་སྙིང་པོ་བཀླགས་པས་གྲུབ་པའི་སྒྲུབ་ཐབས་སོ། །ཨོཾ་ཨ་མོ་གྷ་པདྨོ་ཥྞཱི་ཥེ་ཤྭ་ར། པདྨེ་ཤྭ་ར། ས་མནྟཱ་ཡ་སརྦ་ཏ་ཐཱ་ག་ཏཱ་ནཱཾ། ཨ་མོ་གྷ་པདྨོཥྞཱི་ཥ་ས་མ་ཡ་ཨཱ་ཀརྵ་ཡ། པྲ་བེ་ཤ་ཡ། སརྦ་ཀརྨ་སིདྡྷིམྨེ་པྲ་ཡཙྪ་ཨ་བ་ལོ་ཀི་ཏེ་ཤྭ་ར་ཧཱུཾ་ཧཱུཾ། མ་ཧཱ་པདྨོཥྞཱི་ཥ་བྷུ་ཛེ་སྭཱ་ཧཱ། རིགས་ཀྱི་རྒྱལ་པོའི་གསང་སྔགས་སོ། །ཨོཾ་ཨ་ཧཱ་ཙནྜ་པདྨེ་ཤྭ་ར་བི་བི་དྷ་རཱུ་པ། བི་ཀ་ཊ། པདྨ་དཾཥྜ་ཀེ་རཱ་ལ་བྷཱི་ཥ་ཎ། བཱཀྟྲ་སརྦ་དུཥྚ་ཧྲྀ་ད་ཡཾ། ཁཱ་ད་ཡ། བིགྷ་ནཱཾ། པདྨ་དྷྲི་ཀ །ཙི་ཊི། དྲི་ཊི་ཧཱུཾ་སྭཱ་ཧཱ། ཁྲོ་བོའི་རྒྱལ་པོའི་རིགས་ཀྱི་སྙིང་པོའོ། །ནང་གི་དཀྱིལ་འཁོར་གསང་བའི་ལས་རྣམས་སོ། །ཨོཾ་ཨ་མོ་གྷ་པདྨོཥྞཱི་ཥ་པདྨ་པཱ་ཤ་ཀྲོ་དྷ་ཀ །མོ་ཡ་ཀརྨ་པྲ་བེ་ཤ་ཡ་མ་ཧཱ་བཱ་ཤུ་པ་ཏི། ཡ་མ། བ་རུ་ཎ། ཀུ་བེ་ར། བྲཧྨ་བེ་ཥ་དྷ་ར། མ་ཧཱ་ཙཎྜ་བེ་ག །ཨ་མོ་གྷ་ཀུ་ལས་མ་ཡ། པདྨེ་ཧཱུཾ་ཧཱུཾ། ཁྲོ་བོའི་རྒྱལ་པོ་དོན་ཡོད་ཞགས་པའི་པདྨ་གཙུག་ཏོར་གྱི་སྙིང་པོའོ། །དེ་ནས་དོན་ཡོད་པའི་སྙིང་པོའི་ལས་རྣམས་འགྱུར་ཏེ། དྲན་པ་ཙམ་གྱི་མོད་ལ། དུས་གསུམ་གྱི་དེ་བཞིན་གཤེགས་པ་ཐམས་ཅད་དང་མཉམ་པས་གཅིག་ཏུ་མཚུངས་པར་འགྱུར་རོ། །ཚེ་དཔག་མེད་དང་མཉམ་པའི་ལུས་སུ་འགྱུར་རོ། །ཕྱོགས་བཅུའི་སངས་རྒྱས་ཀྱི་ཞིང་ཐམས་ཅད་དང་། མཉམ་པའི་དེ་བཞིན་གཤེགས་པ་ཐམས་ཅད་དང་མཚུངས་ཤིང་མཉམ་པ་ཉིད་དུ་འགྱུར་རོ། །མཚུངས་ཤིང་མཉམ་པ་ཉིད་ཀྱིས་དེ་བཞིན་གཤེགས་པ་ཐམས་ཅད་མཉམ་པ་ཉིད་དུ་མཐོང་ངོ་། །པདྨའི་ཕྱག་གི་ཏིང་ངེ་འཛིན་རྣམས་དང་། པདྨའི་གཙུག་ཏོར་གྱི་ཕྱག་གིས་འཇིག་རྟེན་དབང་ཕྱུག་དང་མཉམ་པ་ཉིད་དུ་འགྱུར་རོ། །པདྨའི་གཙུག་ཏོར་བཅིངས་པ་ཉིད་ཀྱིས་སྤྱི་བོའི་གཙུག་ཏུ་མངོན་པར་དབང་བསྐུར་ན། དུས་གསུམ་གྱི་དེ་བཞིན་གཤེགས་པ་ཐམས་ཅད་ཀྱིས་མངོན་པར་དབང་བསྐུར་རོ། །པདྨའི་གཙུག་ཏོར་གྱིས་དོན་ཡོད་པར་དབང་བསྐུར་བ་གང་ཡིན་པ་དེ། པདྨ་གཙུག་ཏོར་གྱི་སྙིང་པོ་རྒྱས་པར་གྱུར་པ་ཐོབ་སྟེ། ཏིང་ངེ་འཛིན་བརྒྱ་སྟོང་ཕྲག་དང་། བླ་ན་མེད་'"
      ]
     },
     "execution_count": 37,
     "metadata": {},
     "output_type": "execute_result"
    }
   ],
   "source": [
    "bo_df[(bo_df.volume_number == volume_number) & (bo_df.location == location - 1)].compute().text.values[0]"
   ]
  },
  {
   "cell_type": "code",
   "execution_count": 38,
   "id": "ae1a5398-b4fa-45a8-b13f-77160f828c15",
   "metadata": {},
   "outputs": [
    {
     "data": {
      "text/plain": [
       "'པའི་དཔལ་ཐོབ་བོ། །རིགས་ཀྱི་རྒྱལ་པོའི་གསང་སྔགས་རྒྱས་པར་གྱུར་པ་པདྨ་གཙུག་ཏོར་གྱི་དཀྱིལ་འཁོར་དུ་རིགས་ཀྱི་རྒྱལ་པོ་ལེགས་པར་གྲུབ་པར་འགྱུར་ཏེ། ཐམས་ཅད་དུ་རིགས་ཀྱི་རྒྱལ་པོའི་དངོས་གྲུབ་བཟང་པོ་རྣམས་འོང་བར་འགྱུར་རོ། །རིགས་ཀྱི་རྒྱལ་པོའི་གསང་སྔགས་ཀྱི་རྒྱལ་པོ་དང་། རིག་སྔགས་ཀྱི་རྒྱལ་པོ་མཆོག་གི་དངོས་གྲུབ་ཐམས་ཅད་རབ་ཏུ་སྦྱིན་པར་བྱེད་དོ། །པདྨའི་ཕྱག་གིས་རྗེས་སུ་འཇུག་ཅིང་། དོན་ཡོད་པའི་རིགས་ཀྱི་དངོས་གྲུབ་ཇི་ལྟ་བ་བཞིན་དུ་འགྲུབ་སྟེ། བཀླགས་པས་གྲུབ་པ་འདི་ལ་ཐེ་ཚོམ་མེད་དོ། །པདྨ་གཙུག་ཏོར་གྱི་རིགས་ཀྱི་དངོས་གྲུབ་དང་། པདྨ་ཡངས་པའི་དཀྱིལ་འཁོར་རམ། དོན་ཡོད་ཞགས་པའི་དཀྱིལ་འཁོར་དུ་བཀླགས་ནས་བཟླས་པ་ཙམ་གྱིས་འགྲུབ་སྟེ། རིགས་ཀྱི་རྒྱལ་པོ་དང་། རིག་སྔགས་ཀྱི་རྒྱལ་པོ་གང་ཡིན་པ་དེ་ཐམས་ཅད་དུ་དབང་ཕྱུག་ཏུ་འགྱུར་རོ། །དཀྱིལ་འཁོར་རྣམས་ཀྱི་ཆོ་ག་ཞིབ་མོ་དང་། ཕྱག་རྒྱས་བྱང་ཆུབ་སེམས་དཔའ་ཐམས་ཅད་ཀྱི་རིགས་ཐུན་མོང་བ་ཐམས་ཅད་དུ་རྒྱལ་པོའི་བྱ་བ་བྱེད་པར་འགྱུར་རོ། །སངས་རྒྱས་ཀྱི་ཞིང་སྟོང་ཕྲག་རྣམས་དང་། སངས་རྒྱས་ཀྱི་ཞིང་བརྒྱ་ཕྲག་རྣམས་དང་། གང་གཱའི་ཀླུང་གི་བྱེ་མ་དང་མཉམ་པའི་ཞིང་དུ་རྒྱལ་པོར་འགྱུར་རོ། །རིགས་ཀྱི་རིག་པས་ལྷའི་དབང་ཕྱུག་དང་། ལྷའི་ཚོགས་རྣམས་ཀྱི་དབང་ཕྱུག་ཏུ་འགྱུར་རོ། །རྟག་ཏུ་ཡང་གནོད་སྦྱིན་རྣམས་དང་། སྲིན་པོ་རྣམས་སུ་གྱུར་པ་དང་། དྲི་ཟ་རྣམས་དང་། གནོད་སྦྱིན་རྣམས་དང་། སྲིན་པོ་རྣམས་ཀྱི་དེ་བཞིན་ཉིད་དུ་ཐམས་ཅད་དུ་རྒྱལ་པོ་དང་། དབང་ཕྱུག་ཏུ་རྟག་ཏུ་འགྱུར་ཏེ་ཐེ་ཚོམ་མེད་དོ། །ནམ་མཁའ་ལྡིང་རྣམས་དང་། མིའམ་ཅི་རྣམས་དང་། ལྟོ་འཕྱེ་ཆེན་པོ་རྣམས་དང་། ཐམས་ཅད་དུ་ཇི་སྲིད་བྱང་ཆུབ་ལ་ཡང་དག་པར་གནས་ཀྱི་བར་དུ་རིགས་ཀྱི་རྒྱལ་པོར་འགྱུར་རོ། །དེ་ནས་ཁྲོ་བོའི་རྒྱལ་པོ་དྲན་པ་ཙམ་དང་དྲག་པོ་དེ་ཡིད་ལ་སེམས་པ་ཙམ་གྱི་མོད་ལ། འཕྲལ་དུ་རི་རབ་ལྟུང་བར་བྱེད་ཅིང་། ཁོར་ཡུག་གི་རི་རྣམ་པར་འཐོར་བར་བྱེད་དོ། །རྒྱ་མཚོ་ཆེན་པོ་ཀུན་ནས་དཀྲུག་ཅིང་། རྒྱ་མཚོ་ཆེན་པོ་ཉེ་བར་སྐྱེ་བར་བྱེད་དོ། །ཀུན་དུ་གསལ་བར་བྱེད་དོ། །ཀླུའི་གནས་ཐམས་ཅད་དུ་ཀླུའི་གནས་འབར་བར་ཡང་བྱེད་དོ། །བགེགས་དང་ལོག་པར་འདྲེན་པ་ཐམས་ཅད་ཀྱི་སྐད་ཅིག་ཙམ་གྱིས་སྟེང་དུ་བདུག་པར་བྱེད་དོ། །གནོད་སྦྱིན་'"
      ]
     },
     "execution_count": 38,
     "metadata": {},
     "output_type": "execute_result"
    }
   ],
   "source": [
    "bo_df[(bo_df.volume_number == volume_number) & (bo_df.location == location)].compute().text.values[0]"
   ]
  },
  {
   "cell_type": "code",
   "execution_count": 39,
   "id": "aa83c161-255b-44c8-8beb-c2a3c1f483d7",
   "metadata": {},
   "outputs": [
    {
     "data": {
      "text/plain": [
       "'དང་། སྲིན་པོ་དང་། འབྱུང་པོ་དང་། གཟའ་དང་། བརྗེད་བྱེད་དང་། མི་བཟད་པ་དེ་རྣམས་ཐམས་ཅད་ཁྲོ་བོའི་རྒྱལ་པོ་དྲན་པ་ཙམ་གྱིས་འཇིགས་པར་འགྱུར་རོ། །ཁྲོ་བོའི་རྒྱལ་པོའི་གསང་བ་ཐམས་ཅད་ཀྱི་རིགས་ཀྱི་དམ་ཚིག་ལ་གནས་པ་དང་། དཀྱིལ་འཁོར་དུ་ཕྱག་རྒྱ་གནས་པ་དང་། གསང་སྔགས་ཀྱི་ལྷ་གཞན་གང་ཡིན་པ་རྣམས་ཀྱིས་ཁྲོ་བོའི་རྒྱལ་པོ་དྲན་པ་ཙམ་གྱིས་དེ་རྣམས་ཐམས་ཅད་རིག་སྔགས་འཆང་ལ་སྐྱབས་སུ་འགྲོ་བར་བྱེད་དོ། །དེ་རྣམས་ཐམས་ཅད་རྗེས་སུ་འབྲང་བར་འགྱུར་ཞིང་གནས་པར་བྱེད་དོ། །འགའ་ཞིག་གང་དུ་འགྲོ་བའམ་འདུག་པ་དེ་ལ་དབང་པོ་དང་། སྐབས་གསུམ་པའི་ལྷ་དང་། ཚངས་པ་དང་། ཁྱབ་འཇུག་དང་། དབང་ཕྱུག་ཆེན་པོ་དང་། གཤིན་རྗེ་དང་། ཆུ་ལྷ་དང་། ཀླུའི་རྒྱལ་པོ་རྒྱ་མཚོ་དང་། དགའ་བོ་དང་། ཉེ་དགའ་བོ་དང་། གཞོན་ནུ་དང་། སྡེ་དཔོན་དང་། དེ་བཞིན་དུ་རྒྱལ་པོ་ཆེན་པོ་བཞི་དུས་རྟག་ཏུ་རིག་སྔགས་འཆང་གི་རྗེས་སུ་འབྲང་བར་བྱེད་དོ། །ཐེ་ཚོམ་མེད་དོ། །ཁྲོས་པའི་ལས་རྣམས་སམ། དེ་བཞིན་དུ་དྲག་པོའི་ལས་རྣམས་ཐམས་ཅད་ཀྱང་ཧཱུཾ་ཡིག་ཙམ་གྱིས་དེ་ལ་དངོས་གྲུབ་མཐོང་ངོ་། །ཕྱིར་རྒོལ་བ་དང་། དགྲ་དང་། སེམས་ཅན་མ་རུངས་པ་ཤིན་ཏུ་མི་བཟད་པ་རྣམས་དང་། ཕ་རོལ་གྱི་དམག་ཚོགས་དང་འཇིགས་པ་དང་། རྣམ་པར་འགྲས་པའི་སྐྱེ་བོ་དང་། སྡིག་པ་དེ་རྣམས་ཐམས་ཅད་ཧཱུཾ་ཡིག་གིས་མཆོག་ཏུ་གཟིར་བ་ཙམ་གྱིས་ཐལ་བར་འཇིག་པར་འགྱུར་རོ། །སྡང་བ་དང་། ངན་སེམས་པའི་སེམས་ཅན་དང་། བྱས་པ་མི་གཟོ་བ་དང་། བྱས་པ་ལ་འཁོན་པ་ཐམས་ཅད་དྲག་པོའི་ཧཱུཾ་ཡིག་བཟླས་པ་ཙམ་གྱིས་སྐད་ཅིག་ལ་བསྲེག་སྟེ། དཔེར་ན་མེ་ཡིས་ཕྱེ་མ་ལེབ་བཞིན་ནོ། །ལས་གཞན་སྟོང་ཕྲག་རྣམས་དང་། ལས་བརྒྱ་སྟོང་ཕྲག་ཉིད་བཟླས་པ་ཙམ་གྱིས་འགྲུབ་སྟེ། དྲན་པ་ཙམ་གྱི་མོད་ལ། ལས་ཐམས་ཅད་འགྲུབ་བོ། །དེ་ནས་དོན་ཡོད་པ་པདྨའི་གཙུག་ཏོར་དྲན་པ་ཙམ་གྱིས། བྱ་བ་ཐམས་ཅད་ནི་གཉིས་སུ་འགྱུར་ཏེ། ཇི་ལྟར་གང་ཅུང་ཟད་ཡིད་ལ་བྱེད་པས་ལས་བྱེད་དོ། །དཀྱིལ་འཁོར་རམ། གནས་རྣམ་པ་གཞན་ཐམས་ཅད་དུ། ཇི་ལྟར་ཡིད་ལ་བྱེད་པའི་བྱ་བ་ཐམས་ཅད་དུ་བྱེད་དོ།། །།'"
      ]
     },
     "execution_count": 39,
     "metadata": {},
     "output_type": "execute_result"
    }
   ],
   "source": [
    "bo_df[(bo_df.volume_number == volume_number) & (bo_df.location == location + 1)].compute().text.values[0]"
   ]
  },
  {
   "cell_type": "code",
   "execution_count": 40,
   "id": "057fa278-3545-4119-840b-cd4be9d0b394",
   "metadata": {},
   "outputs": [
    {
     "data": {
      "text/plain": [
       "'བླ་ན་མེད་པའི་དཔལ་ཐོབ་བོ། །རིགས་ཀྱི་རྒྱལ་པོའི་གསང་སྔགས་རྒྱས་པར་གྱུར་པ་པདྨ་གཙུག་ཏོར་གྱི་དཀྱིལ་འཁོར་དུ་རིགས་ཀྱི་རྒྱལ་པོ་ལེགས་པར་གྲུབ་པར་འགྱུར་ཏེ། ཐམས་ཅད་དུ་རིགས་ཀྱི་རྒྱལ་པོའི་དངོས་གྲུབ་བཟང་པོ་རྣམས་འོང་བར་འགྱུར་རོ། །རིགས་ཀྱི་རྒྱལ་པོའི་གསང་སྔགས་ཀྱི་རྒྱལ་པོ་དང་། རིག་སྔགས་ཀྱི་རྒྱལ་པོ་མཆོག་གི་དངོས་གྲུབ་ཐམས་ཅད་རབ་ཏུ་སྦྱིན་པར་བྱེད་དོ། །པདྨའི་ཕྱག་གིས་རྗེས་སུ་འཇུག་ཅིང་། དོན་ཡོད་པའི་རིགས་ཀྱི་དངོས་གྲུབ་ཇི་ལྟ་བ་བཞིན་དུ་འགྲུབ་སྟེ། བཀླགས་པས་གྲུབ་པ་འདི་ལ་ཐེ་ཚོམ་མེད་དོ། །པདྨ་གཙུག་ཏོར་གྱི་རིགས་ཀྱི་དངོས་གྲུབ་དང་། པདྨ་ཡངས་པའི་དཀྱིལ་འཁོར་རམ། དོན་ཡོད་ཞགས་པའི་དཀྱིལ་འཁོར་དུ་བཀླགས་ནས་བཟླས་པ་ཙམ་གྱིས་འགྲུབ་སྟེ། རིགས་ཀྱི་རྒྱལ་པོ་དང་། རིག་སྔགས་ཀྱི་རྒྱལ་པོ་གང་ཡིན་པ་དེ་ཐམས་ཅད་དུ་དབང་ཕྱུག་ཏུ་འགྱུར་རོ། །དཀྱིལ་འཁོར་རྣམས་ཀྱི་ཆོ་ག་ཞིབ་མོ་དང་། ཕྱག་རྒྱས་བྱང་ཆུབ་སེམས་དཔའ་ཐམས་ཅད་ཀྱི་རིགས་ཐུན་མོང་བ་ཐམས་ཅད་དུ་རྒྱལ་པོའི་བྱ་བ་བྱེད་པར་འགྱུར་རོ། །སངས་རྒྱས་ཀྱི་ཞིང་སྟོང་ཕྲག་རྣམས་དང་། སངས་རྒྱས་ཀྱི་ཞིང་བརྒྱ་ཕྲག་རྣམས་དང་། གང་གཱའི་ཀླུང་གི་བྱེ་མ་དང་མཉམ་པའི་ཞིང་དུ་རྒྱལ་པོར་འགྱུར་རོ། །རིགས་ཀྱི་རིག་པས་ལྷའི་དབང་ཕྱུག་དང་། ལྷའི་ཚོགས་རྣམས་ཀྱི་དབང་ཕྱུག་ཏུ་འགྱུར་རོ། །རྟག་ཏུ་ཡང་གནོད་སྦྱིན་རྣམས་དང་། སྲིན་པོ་རྣམས་སུ་གྱུར་པ་དང་། དྲི་ཟ་རྣམས་དང་། གནོད་སྦྱིན་རྣམས་དང་། སྲིན་པོ་རྣམས་ཀྱི་དེ་བཞིན་ཉིད་དུ་ཐམས་ཅད་དུ་རྒྱལ་པོ་དང་། དབང་ཕྱུག་ཏུ་རྟག་ཏུ་འགྱུར་ཏེ་ཐེ་ཚོམ་མེད་དོ། །ནམ་མཁའ་ལྡིང་རྣམས་དང་། མིའམ་ཅི་རྣམས་དང་། ལྟོ་འཕྱེ་ཆེན་པོ་རྣམས་དང་། ཐམས་ཅད་དུ་ཇི་སྲིད་བྱང་ཆུབ་ལ་ཡང་དག་པར་གནས་ཀྱི་བར་དུ་རིགས་ཀྱི་རྒྱལ་པོར་འགྱུར་རོ། །དེ་ནས་ཁྲོ་བོའི་རྒྱལ་པོ་དྲན་པ་ཙམ་དང་དྲག་པོ་དེ་ཡིད་ལ་སེམས་པ་ཙམ་གྱི་མོད་ལ། འཕྲལ་དུ་རི་རབ་ལྟུང་བར་བྱེད་ཅིང་། ཁོར་ཡུག་གི་རི་རྣམ་པར་འཐོར་བར་བྱེད་དོ། །རྒྱ་མཚོ་ཆེན་པོ་ཀུན་ནས་དཀྲུག་ཅིང་། རྒྱ་མཚོ་ཆེན་པོ་ཉེ་བར་སྐྱེ་བར་བྱེད་དོ། །ཀུན་དུ་གསལ་བར་བྱེད་དོ། །ཀླུའི་གནས་ཐམས་ཅད་དུ་ཀླུའི་གནས་འབར་བར་ཡང་བྱེད་དོ། །བགེགས་དང་ལོག་པར་འདྲེན་པ་ཐམས་ཅད་ཀྱི་སྐད་ཅིག་ཙམ་གྱིས་སྟེང་དུ་བདུག་པར་བྱེད་དོ། །གནོད་སྦྱིན་དང་།'"
      ]
     },
     "execution_count": 40,
     "metadata": {},
     "output_type": "execute_result"
    }
   ],
   "source": [
    "bo_text = \"བླ་ན་མེད་པའི་དཔལ་ཐོབ་བོ། །རིགས་ཀྱི་རྒྱལ་པོའི་གསང་སྔགས་རྒྱས་པར་གྱུར་པ་པདྨ་གཙུག་ཏོར་གྱི་དཀྱིལ་འཁོར་དུ་རིགས་ཀྱི་རྒྱལ་པོ་ལེགས་པར་གྲུབ་པར་འགྱུར་ཏེ། ཐམས་ཅད་དུ་རིགས་ཀྱི་རྒྱལ་པོའི་དངོས་གྲུབ་བཟང་པོ་རྣམས་འོང་བར་འགྱུར་རོ། །རིགས་ཀྱི་རྒྱལ་པོའི་གསང་སྔགས་ཀྱི་རྒྱལ་པོ་དང་། རིག་སྔགས་ཀྱི་རྒྱལ་པོ་མཆོག་གི་དངོས་གྲུབ་ཐམས་ཅད་རབ་ཏུ་སྦྱིན་པར་བྱེད་དོ། །པདྨའི་ཕྱག་གིས་རྗེས་སུ་འཇུག་ཅིང་། དོན་ཡོད་པའི་རིགས་ཀྱི་དངོས་གྲུབ་ཇི་ལྟ་བ་བཞིན་དུ་འགྲུབ་སྟེ། བཀླགས་པས་གྲུབ་པ་འདི་ལ་ཐེ་ཚོམ་མེད་དོ། །པདྨ་གཙུག་ཏོར་གྱི་རིགས་ཀྱི་དངོས་གྲུབ་དང་། པདྨ་ཡངས་པའི་དཀྱིལ་འཁོར་རམ། དོན་ཡོད་ཞགས་པའི་དཀྱིལ་འཁོར་དུ་བཀླགས་ནས་བཟླས་པ་ཙམ་གྱིས་འགྲུབ་སྟེ། རིགས་ཀྱི་རྒྱལ་པོ་དང་། རིག་སྔགས་ཀྱི་རྒྱལ་པོ་གང་ཡིན་པ་དེ་ཐམས་ཅད་དུ་དབང་ཕྱུག་ཏུ་འགྱུར་རོ། །དཀྱིལ་འཁོར་རྣམས་ཀྱི་ཆོ་ག་ཞིབ་མོ་དང་། ཕྱག་རྒྱས་བྱང་ཆུབ་སེམས་དཔའ་ཐམས་ཅད་ཀྱི་རིགས་ཐུན་མོང་བ་ཐམས་ཅད་དུ་རྒྱལ་པོའི་བྱ་བ་བྱེད་པར་འགྱུར་རོ། །སངས་རྒྱས་ཀྱི་ཞིང་སྟོང་ཕྲག་རྣམས་དང་། སངས་རྒྱས་ཀྱི་ཞིང་བརྒྱ་ཕྲག་རྣམས་དང་། གང་གཱའི་ཀླུང་གི་བྱེ་མ་དང་མཉམ་པའི་ཞིང་དུ་རྒྱལ་པོར་འགྱུར་རོ། །རིགས་ཀྱི་རིག་པས་ལྷའི་དབང་ཕྱུག་དང་། ལྷའི་ཚོགས་རྣམས་ཀྱི་དབང་ཕྱུག་ཏུ་འགྱུར་རོ། །རྟག་ཏུ་ཡང་གནོད་སྦྱིན་རྣམས་དང་། སྲིན་པོ་རྣམས་སུ་གྱུར་པ་དང་། དྲི་ཟ་རྣམས་དང་། གནོད་སྦྱིན་རྣམས་དང་། སྲིན་པོ་རྣམས་ཀྱི་དེ་བཞིན་ཉིད་དུ་ཐམས་ཅད་དུ་རྒྱལ་པོ་དང་། དབང་ཕྱུག་ཏུ་རྟག་ཏུ་འགྱུར་ཏེ་ཐེ་ཚོམ་མེད་དོ། །ནམ་མཁའ་ལྡིང་རྣམས་དང་། མིའམ་ཅི་རྣམས་དང་། ལྟོ་འཕྱེ་ཆེན་པོ་རྣམས་དང་། ཐམས་ཅད་དུ་ཇི་སྲིད་བྱང་ཆུབ་ལ་ཡང་དག་པར་གནས་ཀྱི་བར་དུ་རིགས་ཀྱི་རྒྱལ་པོར་འགྱུར་རོ། །དེ་ནས་ཁྲོ་བོའི་རྒྱལ་པོ་དྲན་པ་ཙམ་དང་དྲག་པོ་དེ་ཡིད་ལ་སེམས་པ་ཙམ་གྱི་མོད་ལ། འཕྲལ་དུ་རི་རབ་ལྟུང་བར་བྱེད་ཅིང་། ཁོར་ཡུག་གི་རི་རྣམ་པར་འཐོར་བར་བྱེད་དོ། །རྒྱ་མཚོ་ཆེན་པོ་ཀུན་ནས་དཀྲུག་ཅིང་། རྒྱ་མཚོ་ཆེན་པོ་ཉེ་བར་སྐྱེ་བར་བྱེད་དོ། །ཀུན་དུ་གསལ་བར་བྱེད་དོ། །ཀླུའི་གནས་ཐམས་ཅད་དུ་ཀླུའི་གནས་འབར་བར་ཡང་བྱེད་དོ། །བགེགས་དང་ལོག་པར་འདྲེན་པ་ཐམས་ཅད་ཀྱི་སྐད་ཅིག་ཙམ་གྱིས་སྟེང་དུ་བདུག་པར་བྱེད་དོ། །གནོད་སྦྱིན་དང་།\"\n",
    "bo_text"
   ]
  },
  {
   "cell_type": "code",
   "execution_count": 41,
   "id": "4f719d18-3716-4617-8e99-c28ff2a575bf",
   "metadata": {},
   "outputs": [
    {
     "data": {
      "text/plain": [
       "' If he mindfully repeats the mantra of the lord of the family, he will obtain the auspicious accomplishment of the lord of the family in the maṇḍala of Padmoṣṇīṣa. Family lords, as well as the mantra and vidyā kings who rule over the family lords’ auspicious accomplishments, will arrive and grant the vidyā holder every supreme accomplishment. Followed by Padmapāṇi, he will win the accomplishments of the amogha family. These kings of mantras will be accomplished through recitation; there is no doubt about this.  “Accomplishment in the Padmoṣṇīṣa family belongs to the great lotus maṇḍala, the maṇḍala of Amoghapāśa, where one becomes accomplished through recitation. Through mere recitation, the vidyā holder will become the lord of the family and the king of the vidyādharas—a sovereign lord in every respect. Using the rites and mudrās of the corresponding maṇḍalas, he will join the same family as the bodhisattvas and will perform the function of a king in every respect. Using the family vidyā, he will become king in hundreds of thousands of buddha fields, equal in number to the grains of sand in the Gaṅgā river. He will also become the king of the devas and their heavenly hosts,  as well as of yakṣas, rākṣasas, and gandharvas. He can become a king and lord anywhere—the king of garuḍas, kinnaras, or mahoragas—and will remain king until the attainment of awakening. There is no doubt about this.    “By just mindfully repeating the Krodharāja mantra with a fierce mind, the vidyā holder can instantly flatten Mount Sumeru. The mountain ranges that surround it will break apart, and the waters of the great ocean will be agitated. The palaces of the nāgas will be set alight, all nāga dwellings will burn, and all vighnas and vināyakas will be smoked out in a matter of seconds. All terrible beings such as yakṣas, '"
      ]
     },
     "execution_count": 41,
     "metadata": {},
     "output_type": "execute_result"
    }
   ],
   "source": [
    "en_text = en_df[(en_df.volume_number == volume_number) & (en_df.location == location)].compute().text.values[0]\n",
    "en_text"
   ]
  },
  {
   "cell_type": "code",
   "execution_count": 42,
   "id": "21f381fa-32a7-4ddf-a8fe-395b7f4d7ade",
   "metadata": {},
   "outputs": [
    {
     "data": {
      "application/vnd.jupyter.widget-view+json": {
       "model_id": "",
       "version_major": 2,
       "version_minor": 0
      },
      "text/plain": [
       "Hard segments:   0%|          | 0/1 [00:00<?, ?it/s]"
      ]
     },
     "metadata": {},
     "output_type": "display_data"
    },
    {
     "data": {
      "application/vnd.jupyter.widget-view+json": {
       "model_id": "",
       "version_major": 2,
       "version_minor": 0
      },
      "text/plain": [
       "Segmenting:   0%|          | 0/39 [00:00<?, ?it/s]"
      ]
     },
     "metadata": {},
     "output_type": "display_data"
    },
    {
     "data": {
      "text/plain": [
       "['།བླ་ན་མེད་པའི་དཔལ་ཐོབ་བོ།',\n",
       " '།རིགས་ཀྱི་རྒྱལ་པོའི་གསང་སྔགས་རྒྱས་པར་གྱུར་པ་པདྨ་གཙུག་ཏོར་གྱི་དཀྱིལ་འཁོར་དུ་རིགས་ཀྱི་རྒྱལ་པོ་ལེགས་པར་གྲུབ་པར་འགྱུར་ཏེ།',\n",
       " 'ཐམས་ཅད་དུ་རིགས་ཀྱི་རྒྱལ་པོའི་དངོས་གྲུབ་བཟང་པོ་རྣམས་འོང་བར་འགྱུར་རོ།',\n",
       " '།རིགས་ཀྱི་རྒྱལ་པོའི་གསང་སྔགས་ཀྱི་རྒྱལ་པོ་དང་། རིག་སྔགས་ཀྱི་རྒྱལ་པོ་མཆོག་གི་དངོས་གྲུབ་ཐམས་ཅད་རབ་ཏུ་སྦྱིན་པར་བྱེད་དོ།',\n",
       " '།པདྨའི་ཕྱག་གིས་རྗེས་སུ་འཇུག་ཅིང་། དོན་ཡོད་པའི་རིགས་ཀྱི་དངོས་གྲུབ་ཇི་ལྟ་བ་བཞིན་དུ་འགྲུབ་སྟེ།',\n",
       " 'བཀླགས་པས་གྲུབ་པ་འདི་ལ་ཐེ་ཚོམ་མེད་དོ།',\n",
       " '།པདྨ་གཙུག་ཏོར་གྱི་རིགས་ཀྱི་དངོས་གྲུབ་དང་། པདྨ་ཡངས་པའི་དཀྱིལ་འཁོར་རམ།',\n",
       " 'དོན་ཡོད་ཞགས་པའི་དཀྱིལ་འཁོར་དུ་བཀླགས་ནས་བཟླས་པ་ཙམ་གྱིས་འགྲུབ་སྟེ།',\n",
       " 'རིགས་ཀྱི་རྒྱལ་པོ་དང་། རིག་སྔགས་ཀྱི་རྒྱལ་པོ་གང་ཡིན་པ་དེ་ཐམས་ཅད་དུ་དབང་ཕྱུག་ཏུ་འགྱུར་རོ།',\n",
       " '།དཀྱིལ་འཁོར་རྣམས་ཀྱི་ཆོ་ག་ཞིབ་མོ་དང་། ཕྱག་རྒྱས་བྱང་ཆུབ་སེམས་དཔའ་ཐམས་ཅད་ཀྱི་རིགས་ཐུན་མོང་བ་ཐམས་ཅད་དུ་རྒྱལ་པོའི་བྱ་བ་བྱེད་པར་འགྱུར་རོ།',\n",
       " '།སངས་རྒྱས་ཀྱི་ཞིང་སྟོང་ཕྲག་རྣམས་དང་། སངས་རྒྱས་ཀྱི་ཞིང་བརྒྱ་ཕྲག་རྣམས་དང་། གང་གཱའི་ཀླུང་གི་བྱེ་མ་དང་མཉམ་པའི་ཞིང་དུ་རྒྱལ་པོར་འགྱུར་རོ།',\n",
       " '།རིགས་ཀྱི་རིག་པས་ལྷའི་དབང་ཕྱུག་དང་། ལྷའི་ཚོགས་རྣམས་ཀྱི་དབང་ཕྱུག་ཏུ་འགྱུར་རོ།',\n",
       " '།རྟག་ཏུ་ཡང་གནོད་སྦྱིན་རྣམས་དང་། སྲིན་པོ་རྣམས་སུ་གྱུར་པ་དང་། དྲི་ཟ་རྣམས་དང་། གནོད་སྦྱིན་རྣམས་དང་། སྲིན་པོ་རྣམས་ཀྱི་དེ་བཞིན་ཉིད་དུ་ཐམས་ཅད་དུ་རྒྱལ་པོ་དང་། དབང་ཕྱུག་ཏུ་རྟག་ཏུ་འགྱུར་ཏེ་ཐེ་ཚོམ་མེད་དོ།',\n",
       " '།ནམ་མཁའ་ལྡིང་རྣམས་དང་། མིའམ་ཅི་རྣམས་དང་། ལྟོ་འཕྱེ་ཆེན་པོ་རྣམས་དང་། ཐམས་ཅད་དུ་ཇི་སྲིད་བྱང་ཆུབ་ལ་ཡང་དག་པར་གནས་ཀྱི་བར་དུ་རིགས་ཀྱི་རྒྱལ་པོར་འགྱུར་རོ།',\n",
       " '།དེ་ནས་ཁྲོ་བོའི་རྒྱལ་པོ་དྲན་པ་ཙམ་དང་དྲག་པོ་དེ་ཡིད་ལ་སེམས་པ་ཙམ་གྱི་མོད་ལ། འཕྲལ་དུ་རི་རབ་ལྟུང་བར་བྱེད་ཅིང་།',\n",
       " 'ཁོར་ཡུག་གི་རི་རྣམ་པར་འཐོར་བར་བྱེད་དོ།',\n",
       " '།རྒྱ་མཚོ་ཆེན་པོ་ཀུན་ནས་དཀྲུག་ཅིང་། རྒྱ་མཚོ་ཆེན་པོ་ཉེ་བར་སྐྱེ་བར་བྱེད་དོ།',\n",
       " '།ཀུན་དུ་གསལ་བར་བྱེད་དོ། །ཀླུའི་གནས་ཐམས་ཅད་དུ་ཀླུའི་གནས་འབར་བར་ཡང་བྱེད་དོ།',\n",
       " '།བགེགས་དང་ལོག་པར་འདྲེན་པ་ཐམས་ཅད་ཀྱི་སྐད་ཅིག་ཙམ་གྱིས་སྟེང་དུ་བདུག་པར་བྱེད་དོ།',\n",
       " '།གནོད་སྦྱིན་དང་།།']"
      ]
     },
     "execution_count": 42,
     "metadata": {},
     "output_type": "execute_result"
    }
   ],
   "source": [
    "segments = list(translator.segment(bo_text))\n",
    "segments"
   ]
  },
  {
   "cell_type": "code",
   "execution_count": 43,
   "id": "e1839335-d9ba-476c-be06-d33d062cf28f",
   "metadata": {},
   "outputs": [],
   "source": [
    "en_text = process_en_text(en_text)"
   ]
  },
  {
   "cell_type": "code",
   "execution_count": 44,
   "id": "241df448-4fd5-4928-85b3-1f7ca1c5f59e",
   "metadata": {},
   "outputs": [
    {
     "data": {
      "application/vnd.jupyter.widget-view+json": {
       "model_id": "",
       "version_major": 2,
       "version_minor": 0
      },
      "text/plain": [
       "  0%|          | 0/20 [00:00<?, ?it/s]"
      ]
     },
     "metadata": {},
     "output_type": "display_data"
    }
   ],
   "source": [
    "segment_scores = {}\n",
    "for segment in tqdm(segments, leave=False):\n",
    "    segment_scores[segment] = score_segment(segment, en_text, tqdm=lambda *args, **kwargs: tqdm(*args, disable=True, **kwargs))"
   ]
  },
  {
   "cell_type": "code",
   "execution_count": 45,
   "id": "6d48f872-5ac8-4895-b3ed-0927b2979600",
   "metadata": {},
   "outputs": [],
   "source": [
    "final_matches = {}"
   ]
  },
  {
   "cell_type": "code",
   "execution_count": 46,
   "id": "650b29e3-90e5-417f-949a-399162e76f45",
   "metadata": {},
   "outputs": [],
   "source": [
    "while len(segment_scores) > 0:\n",
    "    best_match = max(\n",
    "        [(segment, scores[0]) for segment, scores in segment_scores.items()],\n",
    "        key=lambda x: x[1][1])\n",
    "    best_bo, ((best_en, best_en_start, best_en_end), best_score) = best_match\n",
    "    final_matches[best_bo] = (best_en, best_score)\n",
    "\n",
    "    del segment_scores[best_bo]\n",
    "\n",
    "    new_segment_scores = {}\n",
    "    for segment, scores in segment_scores.items():\n",
    "        new_segment_scores[segment] = [((en, en_start, en_end), score) for (en, en_start, en_end), score in scores if not (best_en_start >= en_start and best_en_end <= en_end)]\n",
    "    segment_scores = new_segment_scores"
   ]
  },
  {
   "cell_type": "code",
   "execution_count": 47,
   "id": "7a133fce-6cea-472c-b394-2956fa4a41a4",
   "metadata": {},
   "outputs": [
    {
     "data": {
      "text/plain": [
       "{'།གནོད་སྦྱིན་དང་།།': ('as well as of yaksas.', -1.5338767766952515),\n",
       " '།སངས་རྒྱས་ཀྱི་ཞིང་སྟོང་ཕྲག་རྣམས་དང་། སངས་རྒྱས་ཀྱི་ཞིང་བརྒྱ་ཕྲག་རྣམས་དང་། གང་གཱའི་ཀླུང་གི་བྱེ་མ་དང་མཉམ་པའི་ཞིང་དུ་རྒྱལ་པོར་འགྱུར་རོ།': ('he will become king in hundreds of thousands of buddha fields.',\n",
       "  -1.6311500072479248),\n",
       " '།ཀུན་དུ་གསལ་བར་བྱེད་དོ། །ཀླུའི་གནས་ཐམས་ཅད་དུ་ཀླུའི་གནས་འབར་བར་ཡང་བྱེད་དོ།': ('all naga dwellings will burn.',\n",
       "  -1.9746745824813843),\n",
       " '།རིགས་ཀྱི་རྒྱལ་པོའི་གསང་སྔགས་རྒྱས་པར་གྱུར་པ་པདྨ་གཙུག་ཏོར་གྱི་དཀྱིལ་འཁོར་དུ་རིགས་ཀྱི་རྒྱལ་པོ་ལེགས་པར་གྲུབ་པར་འགྱུར་ཏེ།': ('he will obtain the auspicious accomplishment of the lord of the family in the mandala of padmosnisa. family lords.',\n",
       "  -2.062058687210083),\n",
       " '།དཀྱིལ་འཁོར་རྣམས་ཀྱི་ཆོ་ག་ཞིབ་མོ་དང་། ཕྱག་རྒྱས་བྱང་ཆུབ་སེམས་དཔའ་ཐམས་ཅད་ཀྱི་རིགས་ཐུན་མོང་བ་ཐམས་ཅད་དུ་རྒྱལ་པོའི་བྱ་བ་བྱེད་པར་འགྱུར་རོ།': ('he will join the same family as the bodhisattvas and will perform the function of a king in every respect. using the family vidya.',\n",
       "  -2.0876047611236572),\n",
       " '།རིགས་ཀྱི་རྒྱལ་པོའི་གསང་སྔགས་ཀྱི་རྒྱལ་པོ་དང་། རིག་སྔགས་ཀྱི་རྒྱལ་པོ་མཆོག་གི་དངོས་གྲུབ་ཐམས་ཅད་རབ་ཏུ་སྦྱིན་པར་བྱེད་དོ།': ('as well as the mantra and vidya kings who rule over the family lords auspicious accomplishments.',\n",
       "  -2.22883677482605),\n",
       " '།རྒྱ་མཚོ་ཆེན་པོ་ཀུན་ནས་དཀྲུག་ཅིང་། རྒྱ་མཚོ་ཆེན་པོ་ཉེ་བར་སྐྱེ་བར་བྱེད་དོ།': ('and the waters of the great ocean will be agitated. the palaces of the nagas will be set alight.',\n",
       "  -2.2550160884857178),\n",
       " 'རིགས་ཀྱི་རྒྱལ་པོ་དང་། རིག་སྔགས་ཀྱི་རྒྱལ་པོ་གང་ཡིན་པ་དེ་ཐམས་ཅད་དུ་དབང་ཕྱུག་ཏུ་འགྱུར་རོ།': ('the vidya holder will become the lord of the family and the king of the vidyadharas-a sovereign lord in every respect. using the rites and mudras of the corresponding mandalas.',\n",
       "  -2.372086763381958),\n",
       " '།རིགས་ཀྱི་རིག་པས་ལྷའི་དབང་ཕྱུག་དང་། ལྷའི་ཚོགས་རྣམས་ཀྱི་དབང་ཕྱུག་ཏུ་འགྱུར་རོ།': ('equal in number to the grains of sand in the ganga river. he will also become the king of the devas and their heavenly hosts.',\n",
       "  -2.3895859718322754),\n",
       " 'དོན་ཡོད་ཞགས་པའི་དཀྱིལ་འཁོར་དུ་བཀླགས་ནས་བཟླས་པ་ཙམ་གྱིས་འགྲུབ་སྟེ།': ('where one becomes accomplished through recitation. through mere recitation.',\n",
       "  -2.4668123722076416),\n",
       " 'ཐམས་ཅད་དུ་རིགས་ཀྱི་རྒྱལ་པོའི་དངོས་གྲུབ་བཟང་པོ་རྣམས་འོང་བར་འགྱུར་རོ།': ('if he mindfully repeats the mantra of the lord of the family.',\n",
       "  -2.470977544784546),\n",
       " '།པདྨ་གཙུག་ཏོར་གྱི་རིགས་ཀྱི་དངོས་གྲུབ་དང་། པདྨ་ཡངས་པའི་དཀྱིལ་འཁོར་རམ།': ('he will win the accomplishments of the amogha family. these kings of mantras will be accomplished through recitation. there is no doubt about this. accomplishment in the padmosnisa family belongs to the great lotus mandala.',\n",
       "  -2.6460297107696533),\n",
       " '།བགེགས་དང་ལོག་པར་འདྲེན་པ་ཐམས་ཅད་ཀྱི་སྐད་ཅིག་ཙམ་གྱིས་སྟེང་དུ་བདུག་པར་བྱེད་དོ།': ('and all vighnas and vinayakas will be smoked out in a matter of seconds. all terrible beings such as yaksas.',\n",
       "  -2.6580827236175537),\n",
       " '།རྟག་ཏུ་ཡང་གནོད་སྦྱིན་རྣམས་དང་། སྲིན་པོ་རྣམས་སུ་གྱུར་པ་དང་། དྲི་ཟ་རྣམས་དང་། གནོད་སྦྱིན་རྣམས་དང་། སྲིན་པོ་རྣམས་ཀྱི་དེ་བཞིན་ཉིད་དུ་ཐམས་ཅད་དུ་རྒྱལ་པོ་དང་། དབང་ཕྱུག་ཏུ་རྟག་ཏུ་འགྱུར་ཏེ་ཐེ་ཚོམ་མེད་དོ།': ('raksasas. and gandharvas. he can become a king and lord anywhere-the king of garudas.',\n",
       "  -2.855726480484009),\n",
       " '།པདྨའི་ཕྱག་གིས་རྗེས་སུ་འཇུག་ཅིང་། དོན་ཡོད་པའི་རིགས་ཀྱི་དངོས་གྲུབ་ཇི་ལྟ་བ་བཞིན་དུ་འགྲུབ་སྟེ།': ('will arrive and grant the vidya holder every supreme accomplishment. followed by padmapani.',\n",
       "  -2.979011297225952),\n",
       " 'ཁོར་ཡུག་གི་རི་རྣམ་པར་འཐོར་བར་བྱེད་དོ།': ('the vidya holder can instantly flatten mount sumeru. the mountain ranges that surround it will break apart.',\n",
       "  -2.983743190765381),\n",
       " 'བཀླགས་པས་གྲུབ་པ་འདི་ལ་ཐེ་ཚོམ་མེད་དོ།': ('the mandala of amoghapasa.',\n",
       "  -3.2305541038513184),\n",
       " '།ནམ་མཁའ་ལྡིང་རྣམས་དང་། མིའམ་ཅི་རྣམས་དང་། ལྟོ་འཕྱེ་ཆེན་པོ་རྣམས་དང་། ཐམས་ཅད་དུ་ཇི་སྲིད་བྱང་ཆུབ་ལ་ཡང་དག་པར་གནས་ཀྱི་བར་དུ་རིགས་ཀྱི་རྒྱལ་པོར་འགྱུར་རོ།': ('and gandharvas. he can become a king and lord anywhere-the king of garudas. kinnaras. or mahoragas-and will remain king until the attainment of awakening. there is no doubt about this. by just mindfully repeating the krodharaja mantra with a fierce mind.',\n",
       "  -3.5754992961883545),\n",
       " '།དེ་ནས་ཁྲོ་བོའི་རྒྱལ་པོ་དྲན་པ་ཙམ་དང་དྲག་པོ་དེ་ཡིད་ལ་སེམས་པ་ཙམ་གྱི་མོད་ལ། འཕྲལ་དུ་རི་རབ་ལྟུང་བར་བྱེད་ཅིང་།': ('or mahoragas-and will remain king until the attainment of awakening. there is no doubt about this. by just mindfully repeating the krodharaja mantra with a fierce mind.',\n",
       "  -3.59883189201355),\n",
       " '།བླ་ན་མེད་པའི་དཔལ་ཐོབ་བོ།': ('raksasas.', -4.051799297332764)}"
      ]
     },
     "execution_count": 47,
     "metadata": {},
     "output_type": "execute_result"
    }
   ],
   "source": [
    "final_matches"
   ]
  },
  {
   "cell_type": "code",
   "execution_count": 48,
   "id": "47f013f0-e59c-4e5c-829e-001546438829",
   "metadata": {},
   "outputs": [
    {
     "data": {
      "application/vnd.jupyter.widget-view+json": {
       "model_id": "d99371c67f07482ebdb68e60ee68cd36",
       "version_major": 2,
       "version_minor": 0
      },
      "text/plain": [
       "  0%|          | 0/20 [00:00<?, ?it/s]"
      ]
     },
     "metadata": {},
     "output_type": "display_data"
    },
    {
     "name": "stdout",
     "output_type": "stream",
     "text": [
      "།གནོད་སྦྱིན་དང་།། | as well as of yaksas. | yaksas, | -1.5338767766952515\n",
      "།སངས་རྒྱས་ཀྱི་ཞིང་སྟོང་ཕྲག་རྣམས་དང་། སངས་རྒྱས་ཀྱི་ཞིང་བརྒྱ་ཕྲག་རྣམས་དང་། གང་གཱའི་ཀླུང་གི་བྱེ་མ་དང་མཉམ་པའི་ཞིང་དུ་རྒྱལ་པོར་འགྱུར་རོ། | he will become king in hundreds of thousands of buddha fields. | they will become kings in thousands of buddha realms, hundreds of buddha realms, and as many realms as there are grains of sand in the ganges. | -1.6311500072479248\n",
      "།ཀུན་དུ་གསལ་བར་བྱེད་དོ། །ཀླུའི་གནས་ཐམས་ཅད་དུ་ཀླུའི་གནས་འབར་བར་ཡང་བྱེད་དོ། | all naga dwellings will burn. | it will illuminate the entire land of the nagas, and all the land of the nagas will blaze with light. | -1.9746745824813843\n",
      "།རིགས་ཀྱི་རྒྱལ་པོའི་གསང་སྔགས་རྒྱས་པར་གྱུར་པ་པདྨ་གཙུག་ཏོར་གྱི་དཀྱིལ་འཁོར་དུ་རིགས་ཀྱི་རྒྱལ་པོ་ལེགས་པར་གྲུབ་པར་འགྱུར་ཏེ། | he will obtain the auspicious accomplishment of the lord of the family in the mandala of padmosnisa. family lords. | the secret mantra of the vidyaraja of the vidya family will be extensively accomplished in the mandala of the lotus crown protuberance of the vidyaraja of the vidyaraja of the vidyaraja family. | -2.062058687210083\n",
      "།དཀྱིལ་འཁོར་རྣམས་ཀྱི་ཆོ་ག་ཞིབ་མོ་དང་། ཕྱག་རྒྱས་བྱང་ཆུབ་སེམས་དཔའ་ཐམས་ཅད་ཀྱི་རིགས་ཐུན་མོང་བ་ཐམས་ཅད་དུ་རྒྱལ་པོའི་བྱ་བ་བྱེད་པར་འགྱུར་རོ། | he will join the same family as the bodhisattvas and will perform the function of a king in every respect. using the family vidya. | by means of the detailed mandala procedures and the mudras of the mandala, one will be able to perform the activities of a king in all the common rites of the bodhisattva family. | -2.0876047611236572\n",
      "།རིགས་ཀྱི་རྒྱལ་པོའི་གསང་སྔགས་ཀྱི་རྒྱལ་པོ་དང་། རིག་སྔགས་ཀྱི་རྒྱལ་པོ་མཆོག་གི་དངོས་གྲུབ་ཐམས་ཅད་རབ་ཏུ་སྦྱིན་པར་བྱེད་དོ། | as well as the mantra and vidya kings who rule over the family lords auspicious accomplishments. | he will grant all the accomplishments of the supreme king of vidya s, the king of mantras of the family of noble family, and the supreme king of vidya s. | -2.22883677482605\n",
      "།རྒྱ་མཚོ་ཆེན་པོ་ཀུན་ནས་དཀྲུག་ཅིང་། རྒྱ་མཚོ་ཆེན་པོ་ཉེ་བར་སྐྱེ་བར་བྱེད་དོ། | and the waters of the great ocean will be agitated. the palaces of the nagas will be set alight. | they will stir up the ocean and give rise to the ocean. | -2.2550160884857178\n",
      "རིགས་ཀྱི་རྒྱལ་པོ་དང་། རིག་སྔགས་ཀྱི་རྒྱལ་པོ་གང་ཡིན་པ་དེ་ཐམས་ཅད་དུ་དབང་ཕྱུག་ཏུ་འགྱུར་རོ། | the vidya holder will become the lord of the family and the king of the vidyadharas-a sovereign lord in every respect. using the rites and mudras of the corresponding mandalas. | the kings of the caste and the kings of the incantations will all become sovereigns in all respects. | -2.372086763381958\n",
      "།རིགས་ཀྱི་རིག་པས་ལྷའི་དབང་ཕྱུག་དང་། ལྷའི་ཚོགས་རྣམས་ཀྱི་དབང་ཕྱུག་ཏུ་འགྱུར་རོ། | equal in number to the grains of sand in the ganga river. he will also become the king of the devas and their heavenly hosts. | through knowledge of the caste, one will become the lord of the gods and the lord of the hosts of gods. | -2.3895859718322754\n",
      "དོན་ཡོད་ཞགས་པའི་དཀྱིལ་འཁོར་དུ་བཀླགས་ནས་བཟླས་པ་ཙམ་གྱིས་འགྲུབ་སྟེ། | where one becomes accomplished through recitation. through mere recitation. | it will be accomplished merely by reciting the mantra recited while reciting the mantra in the mandala of the wish-fulfilling noose. | -2.4668123722076416\n",
      "ཐམས་ཅད་དུ་རིགས་ཀྱི་རྒྱལ་པོའི་དངོས་གྲུབ་བཟང་པོ་རྣམས་འོང་བར་འགྱུར་རོ། | if he mindfully repeats the mantra of the lord of the family. | the auspicious accomplishments of the kings of noble families will manifest everywhere. | -2.470977544784546\n",
      "།པདྨ་གཙུག་ཏོར་གྱི་རིགས་ཀྱི་དངོས་གྲུབ་དང་། པདྨ་ཡངས་པའི་དཀྱིལ་འཁོར་རམ། | he will win the accomplishments of the amogha family. these kings of mantras will be accomplished through recitation. there is no doubt about this. accomplishment in the padmosnisa family belongs to the great lotus mandala. | or the accomplishment of the family of the lotus crown protuberance, or the mandala of the vast lotus flower. | -2.6460297107696533\n",
      "།བགེགས་དང་ལོག་པར་འདྲེན་པ་ཐམས་ཅད་ཀྱི་སྐད་ཅིག་ཙམ་གྱིས་སྟེང་དུ་བདུག་པར་བྱེད་དོ། | and all vighnas and vinayakas will be smoked out in a matter of seconds. all terrible beings such as yaksas. | one will permeate all obstacles and evildoers instantaneously and instantaneously. | -2.6580827236175537\n",
      "།རྟག་ཏུ་ཡང་གནོད་སྦྱིན་རྣམས་དང་། སྲིན་པོ་རྣམས་སུ་གྱུར་པ་དང་། དྲི་ཟ་རྣམས་དང་། གནོད་སྦྱིན་རྣམས་དང་། སྲིན་པོ་རྣམས་ཀྱི་དེ་བཞིན་ཉིད་དུ་ཐམས་ཅད་དུ་རྒྱལ་པོ་དང་། དབང་ཕྱུག་ཏུ་རྟག་ཏུ་འགྱུར་ཏེ་ཐེ་ཚོམ་མེད་དོ། | raksasas. and gandharvas. he can become a king and lord anywhere-the king of garudas. | he will always be a yaksa, a raksasa, a gandharva, a yaksa, a yaksa, or a raksasa. he will always be king and lord, there is no doubt. | -2.855726480484009\n",
      "།པདྨའི་ཕྱག་གིས་རྗེས་སུ་འཇུག་ཅིང་། དོན་ཡོད་པའི་རིགས་ཀྱི་དངོས་གྲུབ་ཇི་ལྟ་བ་བཞིན་དུ་འགྲུབ་སྟེ། | will arrive and grant the vidya holder every supreme accomplishment. followed by padmapani. | by means of the lotus mudra, one will obtain the accomplishments of the meaningful family according to ones practice. | -2.979011297225952\n",
      "ཁོར་ཡུག་གི་རི་རྣམ་པར་འཐོར་བར་བྱེད་དོ། | the vidya holder can instantly flatten mount sumeru. the mountain ranges that surround it will break apart. | one will scatter the surrounding mountains. | -2.983743190765381\n",
      "བཀླགས་པས་གྲུབ་པ་འདི་ལ་ཐེ་ཚོམ་མེད་དོ། | the mandala of amoghapasa. | the accomplishment of recitation is beyond doubt. | -3.2305541038513184\n",
      "།ནམ་མཁའ་ལྡིང་རྣམས་དང་། མིའམ་ཅི་རྣམས་དང་། ལྟོ་འཕྱེ་ཆེན་པོ་རྣམས་དང་། ཐམས་ཅད་དུ་ཇི་སྲིད་བྱང་ཆུབ་ལ་ཡང་དག་པར་གནས་ཀྱི་བར་དུ་རིགས་ཀྱི་རྒྱལ་པོར་འགྱུར་རོ། | and gandharvas. he can become a king and lord anywhere-the king of garudas. kinnaras. or mahoragas-and will remain king until the attainment of awakening. there is no doubt about this. by just mindfully repeating the krodharaja mantra with a fierce mind. | the garudas, kimnaras, and mahoragas will all become kings of noble families for as long as they remain in the state of awakening. | -3.5754992961883545\n",
      "།དེ་ནས་ཁྲོ་བོའི་རྒྱལ་པོ་དྲན་པ་ཙམ་དང་དྲག་པོ་དེ་ཡིད་ལ་སེམས་པ་ཙམ་གྱི་མོད་ལ། འཕྲལ་དུ་རི་རབ་ལྟུང་བར་བྱེད་ཅིང་། | or mahoragas-and will remain king until the attainment of awakening. there is no doubt about this. by just mindfully repeating the krodharaja mantra with a fierce mind. | then, merely by merely recollecting the lord of wrath and by merely focusing his mind, he will instantly fall to the summit of mount sumeru. | -3.59883189201355\n",
      "།བླ་ན་མེད་པའི་དཔལ་ཐོབ་བོ། | raksasas. | they will attain unsurpassed splendor. | -4.051799297332764\n"
     ]
    }
   ],
   "source": [
    "for bo, (en, score) in tqdm(final_matches.items()):\n",
    "    print(f\"{bo} | {en} | {translator.translate(bo)} | {score}\")"
   ]
  }
 ],
 "metadata": {
  "kernelspec": {
   "display_name": "Python 3 (ipykernel)",
   "language": "python",
   "name": "python3"
  },
  "language_info": {
   "codemirror_mode": {
    "name": "ipython",
    "version": 3
   },
   "file_extension": ".py",
   "mimetype": "text/x-python",
   "name": "python",
   "nbconvert_exporter": "python",
   "pygments_lexer": "ipython3",
   "version": "3.10.9"
  }
 },
 "nbformat": 4,
 "nbformat_minor": 5
}
