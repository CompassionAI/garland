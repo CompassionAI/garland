{
 "cells": [
  {
   "cell_type": "markdown",
   "id": "db7f8ee7-677d-4a8d-8303-74a08b6823d5",
   "metadata": {},
   "source": [
    "# Evaluate the encoder"
   ]
  },
  {
   "cell_type": "code",
   "execution_count": 4,
   "id": "35e9df87-3078-4b11-ac09-5e506f36de40",
   "metadata": {},
   "outputs": [],
   "source": [
    "import logging\n",
    "from dask.distributed import Client, LocalCluster"
   ]
  },
  {
   "cell_type": "code",
   "execution_count": 5,
   "id": "ba348ed8-4585-4964-80c3-5987a9a5c29f",
   "metadata": {},
   "outputs": [],
   "source": [
    "dask_logger = logging.getLogger(\"distributed.utils_perf\")\n",
    "dask_logger.setLevel(logging.ERROR)"
   ]
  },
  {
   "cell_type": "code",
   "execution_count": 6,
   "id": "e2f70651-d43e-4f1b-90ba-3bc8b61bab83",
   "metadata": {},
   "outputs": [],
   "source": [
    "dask_client = Client(LocalCluster(\n",
    "    n_workers=20,\n",
    "    threads_per_worker=1))"
   ]
  },
  {
   "cell_type": "code",
   "execution_count": 7,
   "id": "903350b6-21b8-4998-8506-146834b3eab7",
   "metadata": {},
   "outputs": [
    {
     "data": {
      "text/html": [
       "<div>\n",
       "    <div style=\"width: 24px; height: 24px; background-color: #e1e1e1; border: 3px solid #9D9D9D; border-radius: 5px; position: absolute;\"> </div>\n",
       "    <div style=\"margin-left: 48px;\">\n",
       "        <h3 style=\"margin-bottom: 0px;\">Client</h3>\n",
       "        <p style=\"color: #9D9D9D; margin-bottom: 0px;\">Client-ec2010c7-34fc-11ed-a2ff-50ebf67f14ad</p>\n",
       "        <table style=\"width: 100%; text-align: left;\">\n",
       "\n",
       "        <tr>\n",
       "        \n",
       "            <td style=\"text-align: left;\"><strong>Connection method:</strong> Cluster object</td>\n",
       "            <td style=\"text-align: left;\"><strong>Cluster type:</strong> distributed.LocalCluster</td>\n",
       "        \n",
       "        </tr>\n",
       "\n",
       "        \n",
       "            <tr>\n",
       "                <td style=\"text-align: left;\">\n",
       "                    <strong>Dashboard: </strong> <a href=\"http://127.0.0.1:8787/status\" target=\"_blank\">http://127.0.0.1:8787/status</a>\n",
       "                </td>\n",
       "                <td style=\"text-align: left;\"></td>\n",
       "            </tr>\n",
       "        \n",
       "\n",
       "        </table>\n",
       "\n",
       "        \n",
       "            <details>\n",
       "            <summary style=\"margin-bottom: 20px;\"><h3 style=\"display: inline;\">Cluster Info</h3></summary>\n",
       "            <div class=\"jp-RenderedHTMLCommon jp-RenderedHTML jp-mod-trusted jp-OutputArea-output\">\n",
       "    <div style=\"width: 24px; height: 24px; background-color: #e1e1e1; border: 3px solid #9D9D9D; border-radius: 5px; position: absolute;\">\n",
       "    </div>\n",
       "    <div style=\"margin-left: 48px;\">\n",
       "        <h3 style=\"margin-bottom: 0px; margin-top: 0px;\">LocalCluster</h3>\n",
       "        <p style=\"color: #9D9D9D; margin-bottom: 0px;\">ecd6de65</p>\n",
       "        <table style=\"width: 100%; text-align: left;\">\n",
       "            <tr>\n",
       "                <td style=\"text-align: left;\">\n",
       "                    <strong>Dashboard:</strong> <a href=\"http://127.0.0.1:8787/status\" target=\"_blank\">http://127.0.0.1:8787/status</a>\n",
       "                </td>\n",
       "                <td style=\"text-align: left;\">\n",
       "                    <strong>Workers:</strong> 10\n",
       "                </td>\n",
       "            </tr>\n",
       "            <tr>\n",
       "                <td style=\"text-align: left;\">\n",
       "                    <strong>Total threads:</strong> 10\n",
       "                </td>\n",
       "                <td style=\"text-align: left;\">\n",
       "                    <strong>Total memory:</strong> 31.16 GiB\n",
       "                </td>\n",
       "            </tr>\n",
       "            \n",
       "            <tr>\n",
       "    <td style=\"text-align: left;\"><strong>Status:</strong> running</td>\n",
       "    <td style=\"text-align: left;\"><strong>Using processes:</strong> True</td>\n",
       "</tr>\n",
       "\n",
       "            \n",
       "        </table>\n",
       "\n",
       "        <details>\n",
       "            <summary style=\"margin-bottom: 20px;\">\n",
       "                <h3 style=\"display: inline;\">Scheduler Info</h3>\n",
       "            </summary>\n",
       "\n",
       "            <div style=\"\">\n",
       "    <div>\n",
       "        <div style=\"width: 24px; height: 24px; background-color: #FFF7E5; border: 3px solid #FF6132; border-radius: 5px; position: absolute;\"> </div>\n",
       "        <div style=\"margin-left: 48px;\">\n",
       "            <h3 style=\"margin-bottom: 0px;\">Scheduler</h3>\n",
       "            <p style=\"color: #9D9D9D; margin-bottom: 0px;\">Scheduler-bf2bb6b9-0602-42f8-89ba-a100ef9763ef</p>\n",
       "            <table style=\"width: 100%; text-align: left;\">\n",
       "                <tr>\n",
       "                    <td style=\"text-align: left;\">\n",
       "                        <strong>Comm:</strong> tcp://127.0.0.1:36517\n",
       "                    </td>\n",
       "                    <td style=\"text-align: left;\">\n",
       "                        <strong>Workers:</strong> 10\n",
       "                    </td>\n",
       "                </tr>\n",
       "                <tr>\n",
       "                    <td style=\"text-align: left;\">\n",
       "                        <strong>Dashboard:</strong> <a href=\"http://127.0.0.1:8787/status\" target=\"_blank\">http://127.0.0.1:8787/status</a>\n",
       "                    </td>\n",
       "                    <td style=\"text-align: left;\">\n",
       "                        <strong>Total threads:</strong> 10\n",
       "                    </td>\n",
       "                </tr>\n",
       "                <tr>\n",
       "                    <td style=\"text-align: left;\">\n",
       "                        <strong>Started:</strong> Just now\n",
       "                    </td>\n",
       "                    <td style=\"text-align: left;\">\n",
       "                        <strong>Total memory:</strong> 31.16 GiB\n",
       "                    </td>\n",
       "                </tr>\n",
       "            </table>\n",
       "        </div>\n",
       "    </div>\n",
       "\n",
       "    <details style=\"margin-left: 48px;\">\n",
       "        <summary style=\"margin-bottom: 20px;\">\n",
       "            <h3 style=\"display: inline;\">Workers</h3>\n",
       "        </summary>\n",
       "\n",
       "        \n",
       "        <div style=\"margin-bottom: 20px;\">\n",
       "            <div style=\"width: 24px; height: 24px; background-color: #DBF5FF; border: 3px solid #4CC9FF; border-radius: 5px; position: absolute;\"> </div>\n",
       "            <div style=\"margin-left: 48px;\">\n",
       "            <details>\n",
       "                <summary>\n",
       "                    <h4 style=\"margin-bottom: 0px; display: inline;\">Worker: 0</h4>\n",
       "                </summary>\n",
       "                <table style=\"width: 100%; text-align: left;\">\n",
       "                    <tr>\n",
       "                        <td style=\"text-align: left;\">\n",
       "                            <strong>Comm: </strong> tcp://127.0.0.1:42505\n",
       "                        </td>\n",
       "                        <td style=\"text-align: left;\">\n",
       "                            <strong>Total threads: </strong> 1\n",
       "                        </td>\n",
       "                    </tr>\n",
       "                    <tr>\n",
       "                        <td style=\"text-align: left;\">\n",
       "                            <strong>Dashboard: </strong> <a href=\"http://127.0.0.1:37641/status\" target=\"_blank\">http://127.0.0.1:37641/status</a>\n",
       "                        </td>\n",
       "                        <td style=\"text-align: left;\">\n",
       "                            <strong>Memory: </strong> 3.12 GiB\n",
       "                        </td>\n",
       "                    </tr>\n",
       "                    <tr>\n",
       "                        <td style=\"text-align: left;\">\n",
       "                            <strong>Nanny: </strong> tcp://127.0.0.1:44401\n",
       "                        </td>\n",
       "                        <td style=\"text-align: left;\"></td>\n",
       "                    </tr>\n",
       "                    <tr>\n",
       "                        <td colspan=\"2\" style=\"text-align: left;\">\n",
       "                            <strong>Local directory: </strong> /tmp/dask-worker-space/worker-kmq_zdxz\n",
       "                        </td>\n",
       "                    </tr>\n",
       "\n",
       "                    \n",
       "\n",
       "                    \n",
       "\n",
       "                </table>\n",
       "            </details>\n",
       "            </div>\n",
       "        </div>\n",
       "        \n",
       "        <div style=\"margin-bottom: 20px;\">\n",
       "            <div style=\"width: 24px; height: 24px; background-color: #DBF5FF; border: 3px solid #4CC9FF; border-radius: 5px; position: absolute;\"> </div>\n",
       "            <div style=\"margin-left: 48px;\">\n",
       "            <details>\n",
       "                <summary>\n",
       "                    <h4 style=\"margin-bottom: 0px; display: inline;\">Worker: 1</h4>\n",
       "                </summary>\n",
       "                <table style=\"width: 100%; text-align: left;\">\n",
       "                    <tr>\n",
       "                        <td style=\"text-align: left;\">\n",
       "                            <strong>Comm: </strong> tcp://127.0.0.1:35621\n",
       "                        </td>\n",
       "                        <td style=\"text-align: left;\">\n",
       "                            <strong>Total threads: </strong> 1\n",
       "                        </td>\n",
       "                    </tr>\n",
       "                    <tr>\n",
       "                        <td style=\"text-align: left;\">\n",
       "                            <strong>Dashboard: </strong> <a href=\"http://127.0.0.1:43323/status\" target=\"_blank\">http://127.0.0.1:43323/status</a>\n",
       "                        </td>\n",
       "                        <td style=\"text-align: left;\">\n",
       "                            <strong>Memory: </strong> 3.12 GiB\n",
       "                        </td>\n",
       "                    </tr>\n",
       "                    <tr>\n",
       "                        <td style=\"text-align: left;\">\n",
       "                            <strong>Nanny: </strong> tcp://127.0.0.1:44755\n",
       "                        </td>\n",
       "                        <td style=\"text-align: left;\"></td>\n",
       "                    </tr>\n",
       "                    <tr>\n",
       "                        <td colspan=\"2\" style=\"text-align: left;\">\n",
       "                            <strong>Local directory: </strong> /tmp/dask-worker-space/worker-be111zzj\n",
       "                        </td>\n",
       "                    </tr>\n",
       "\n",
       "                    \n",
       "\n",
       "                    \n",
       "\n",
       "                </table>\n",
       "            </details>\n",
       "            </div>\n",
       "        </div>\n",
       "        \n",
       "        <div style=\"margin-bottom: 20px;\">\n",
       "            <div style=\"width: 24px; height: 24px; background-color: #DBF5FF; border: 3px solid #4CC9FF; border-radius: 5px; position: absolute;\"> </div>\n",
       "            <div style=\"margin-left: 48px;\">\n",
       "            <details>\n",
       "                <summary>\n",
       "                    <h4 style=\"margin-bottom: 0px; display: inline;\">Worker: 2</h4>\n",
       "                </summary>\n",
       "                <table style=\"width: 100%; text-align: left;\">\n",
       "                    <tr>\n",
       "                        <td style=\"text-align: left;\">\n",
       "                            <strong>Comm: </strong> tcp://127.0.0.1:46055\n",
       "                        </td>\n",
       "                        <td style=\"text-align: left;\">\n",
       "                            <strong>Total threads: </strong> 1\n",
       "                        </td>\n",
       "                    </tr>\n",
       "                    <tr>\n",
       "                        <td style=\"text-align: left;\">\n",
       "                            <strong>Dashboard: </strong> <a href=\"http://127.0.0.1:38553/status\" target=\"_blank\">http://127.0.0.1:38553/status</a>\n",
       "                        </td>\n",
       "                        <td style=\"text-align: left;\">\n",
       "                            <strong>Memory: </strong> 3.12 GiB\n",
       "                        </td>\n",
       "                    </tr>\n",
       "                    <tr>\n",
       "                        <td style=\"text-align: left;\">\n",
       "                            <strong>Nanny: </strong> tcp://127.0.0.1:40535\n",
       "                        </td>\n",
       "                        <td style=\"text-align: left;\"></td>\n",
       "                    </tr>\n",
       "                    <tr>\n",
       "                        <td colspan=\"2\" style=\"text-align: left;\">\n",
       "                            <strong>Local directory: </strong> /tmp/dask-worker-space/worker-iss5orz_\n",
       "                        </td>\n",
       "                    </tr>\n",
       "\n",
       "                    \n",
       "\n",
       "                    \n",
       "\n",
       "                </table>\n",
       "            </details>\n",
       "            </div>\n",
       "        </div>\n",
       "        \n",
       "        <div style=\"margin-bottom: 20px;\">\n",
       "            <div style=\"width: 24px; height: 24px; background-color: #DBF5FF; border: 3px solid #4CC9FF; border-radius: 5px; position: absolute;\"> </div>\n",
       "            <div style=\"margin-left: 48px;\">\n",
       "            <details>\n",
       "                <summary>\n",
       "                    <h4 style=\"margin-bottom: 0px; display: inline;\">Worker: 3</h4>\n",
       "                </summary>\n",
       "                <table style=\"width: 100%; text-align: left;\">\n",
       "                    <tr>\n",
       "                        <td style=\"text-align: left;\">\n",
       "                            <strong>Comm: </strong> tcp://127.0.0.1:33275\n",
       "                        </td>\n",
       "                        <td style=\"text-align: left;\">\n",
       "                            <strong>Total threads: </strong> 1\n",
       "                        </td>\n",
       "                    </tr>\n",
       "                    <tr>\n",
       "                        <td style=\"text-align: left;\">\n",
       "                            <strong>Dashboard: </strong> <a href=\"http://127.0.0.1:42585/status\" target=\"_blank\">http://127.0.0.1:42585/status</a>\n",
       "                        </td>\n",
       "                        <td style=\"text-align: left;\">\n",
       "                            <strong>Memory: </strong> 3.12 GiB\n",
       "                        </td>\n",
       "                    </tr>\n",
       "                    <tr>\n",
       "                        <td style=\"text-align: left;\">\n",
       "                            <strong>Nanny: </strong> tcp://127.0.0.1:32891\n",
       "                        </td>\n",
       "                        <td style=\"text-align: left;\"></td>\n",
       "                    </tr>\n",
       "                    <tr>\n",
       "                        <td colspan=\"2\" style=\"text-align: left;\">\n",
       "                            <strong>Local directory: </strong> /tmp/dask-worker-space/worker-w0zp8mx9\n",
       "                        </td>\n",
       "                    </tr>\n",
       "\n",
       "                    \n",
       "\n",
       "                    \n",
       "\n",
       "                </table>\n",
       "            </details>\n",
       "            </div>\n",
       "        </div>\n",
       "        \n",
       "        <div style=\"margin-bottom: 20px;\">\n",
       "            <div style=\"width: 24px; height: 24px; background-color: #DBF5FF; border: 3px solid #4CC9FF; border-radius: 5px; position: absolute;\"> </div>\n",
       "            <div style=\"margin-left: 48px;\">\n",
       "            <details>\n",
       "                <summary>\n",
       "                    <h4 style=\"margin-bottom: 0px; display: inline;\">Worker: 4</h4>\n",
       "                </summary>\n",
       "                <table style=\"width: 100%; text-align: left;\">\n",
       "                    <tr>\n",
       "                        <td style=\"text-align: left;\">\n",
       "                            <strong>Comm: </strong> tcp://127.0.0.1:36183\n",
       "                        </td>\n",
       "                        <td style=\"text-align: left;\">\n",
       "                            <strong>Total threads: </strong> 1\n",
       "                        </td>\n",
       "                    </tr>\n",
       "                    <tr>\n",
       "                        <td style=\"text-align: left;\">\n",
       "                            <strong>Dashboard: </strong> <a href=\"http://127.0.0.1:35859/status\" target=\"_blank\">http://127.0.0.1:35859/status</a>\n",
       "                        </td>\n",
       "                        <td style=\"text-align: left;\">\n",
       "                            <strong>Memory: </strong> 3.12 GiB\n",
       "                        </td>\n",
       "                    </tr>\n",
       "                    <tr>\n",
       "                        <td style=\"text-align: left;\">\n",
       "                            <strong>Nanny: </strong> tcp://127.0.0.1:42697\n",
       "                        </td>\n",
       "                        <td style=\"text-align: left;\"></td>\n",
       "                    </tr>\n",
       "                    <tr>\n",
       "                        <td colspan=\"2\" style=\"text-align: left;\">\n",
       "                            <strong>Local directory: </strong> /tmp/dask-worker-space/worker-ngykbjle\n",
       "                        </td>\n",
       "                    </tr>\n",
       "\n",
       "                    \n",
       "\n",
       "                    \n",
       "\n",
       "                </table>\n",
       "            </details>\n",
       "            </div>\n",
       "        </div>\n",
       "        \n",
       "        <div style=\"margin-bottom: 20px;\">\n",
       "            <div style=\"width: 24px; height: 24px; background-color: #DBF5FF; border: 3px solid #4CC9FF; border-radius: 5px; position: absolute;\"> </div>\n",
       "            <div style=\"margin-left: 48px;\">\n",
       "            <details>\n",
       "                <summary>\n",
       "                    <h4 style=\"margin-bottom: 0px; display: inline;\">Worker: 5</h4>\n",
       "                </summary>\n",
       "                <table style=\"width: 100%; text-align: left;\">\n",
       "                    <tr>\n",
       "                        <td style=\"text-align: left;\">\n",
       "                            <strong>Comm: </strong> tcp://127.0.0.1:38531\n",
       "                        </td>\n",
       "                        <td style=\"text-align: left;\">\n",
       "                            <strong>Total threads: </strong> 1\n",
       "                        </td>\n",
       "                    </tr>\n",
       "                    <tr>\n",
       "                        <td style=\"text-align: left;\">\n",
       "                            <strong>Dashboard: </strong> <a href=\"http://127.0.0.1:45377/status\" target=\"_blank\">http://127.0.0.1:45377/status</a>\n",
       "                        </td>\n",
       "                        <td style=\"text-align: left;\">\n",
       "                            <strong>Memory: </strong> 3.12 GiB\n",
       "                        </td>\n",
       "                    </tr>\n",
       "                    <tr>\n",
       "                        <td style=\"text-align: left;\">\n",
       "                            <strong>Nanny: </strong> tcp://127.0.0.1:43547\n",
       "                        </td>\n",
       "                        <td style=\"text-align: left;\"></td>\n",
       "                    </tr>\n",
       "                    <tr>\n",
       "                        <td colspan=\"2\" style=\"text-align: left;\">\n",
       "                            <strong>Local directory: </strong> /tmp/dask-worker-space/worker-bgwdnxr8\n",
       "                        </td>\n",
       "                    </tr>\n",
       "\n",
       "                    \n",
       "\n",
       "                    \n",
       "\n",
       "                </table>\n",
       "            </details>\n",
       "            </div>\n",
       "        </div>\n",
       "        \n",
       "        <div style=\"margin-bottom: 20px;\">\n",
       "            <div style=\"width: 24px; height: 24px; background-color: #DBF5FF; border: 3px solid #4CC9FF; border-radius: 5px; position: absolute;\"> </div>\n",
       "            <div style=\"margin-left: 48px;\">\n",
       "            <details>\n",
       "                <summary>\n",
       "                    <h4 style=\"margin-bottom: 0px; display: inline;\">Worker: 6</h4>\n",
       "                </summary>\n",
       "                <table style=\"width: 100%; text-align: left;\">\n",
       "                    <tr>\n",
       "                        <td style=\"text-align: left;\">\n",
       "                            <strong>Comm: </strong> tcp://127.0.0.1:44677\n",
       "                        </td>\n",
       "                        <td style=\"text-align: left;\">\n",
       "                            <strong>Total threads: </strong> 1\n",
       "                        </td>\n",
       "                    </tr>\n",
       "                    <tr>\n",
       "                        <td style=\"text-align: left;\">\n",
       "                            <strong>Dashboard: </strong> <a href=\"http://127.0.0.1:44701/status\" target=\"_blank\">http://127.0.0.1:44701/status</a>\n",
       "                        </td>\n",
       "                        <td style=\"text-align: left;\">\n",
       "                            <strong>Memory: </strong> 3.12 GiB\n",
       "                        </td>\n",
       "                    </tr>\n",
       "                    <tr>\n",
       "                        <td style=\"text-align: left;\">\n",
       "                            <strong>Nanny: </strong> tcp://127.0.0.1:38177\n",
       "                        </td>\n",
       "                        <td style=\"text-align: left;\"></td>\n",
       "                    </tr>\n",
       "                    <tr>\n",
       "                        <td colspan=\"2\" style=\"text-align: left;\">\n",
       "                            <strong>Local directory: </strong> /tmp/dask-worker-space/worker-vzj_5uz1\n",
       "                        </td>\n",
       "                    </tr>\n",
       "\n",
       "                    \n",
       "\n",
       "                    \n",
       "\n",
       "                </table>\n",
       "            </details>\n",
       "            </div>\n",
       "        </div>\n",
       "        \n",
       "        <div style=\"margin-bottom: 20px;\">\n",
       "            <div style=\"width: 24px; height: 24px; background-color: #DBF5FF; border: 3px solid #4CC9FF; border-radius: 5px; position: absolute;\"> </div>\n",
       "            <div style=\"margin-left: 48px;\">\n",
       "            <details>\n",
       "                <summary>\n",
       "                    <h4 style=\"margin-bottom: 0px; display: inline;\">Worker: 7</h4>\n",
       "                </summary>\n",
       "                <table style=\"width: 100%; text-align: left;\">\n",
       "                    <tr>\n",
       "                        <td style=\"text-align: left;\">\n",
       "                            <strong>Comm: </strong> tcp://127.0.0.1:35023\n",
       "                        </td>\n",
       "                        <td style=\"text-align: left;\">\n",
       "                            <strong>Total threads: </strong> 1\n",
       "                        </td>\n",
       "                    </tr>\n",
       "                    <tr>\n",
       "                        <td style=\"text-align: left;\">\n",
       "                            <strong>Dashboard: </strong> <a href=\"http://127.0.0.1:34757/status\" target=\"_blank\">http://127.0.0.1:34757/status</a>\n",
       "                        </td>\n",
       "                        <td style=\"text-align: left;\">\n",
       "                            <strong>Memory: </strong> 3.12 GiB\n",
       "                        </td>\n",
       "                    </tr>\n",
       "                    <tr>\n",
       "                        <td style=\"text-align: left;\">\n",
       "                            <strong>Nanny: </strong> tcp://127.0.0.1:42105\n",
       "                        </td>\n",
       "                        <td style=\"text-align: left;\"></td>\n",
       "                    </tr>\n",
       "                    <tr>\n",
       "                        <td colspan=\"2\" style=\"text-align: left;\">\n",
       "                            <strong>Local directory: </strong> /tmp/dask-worker-space/worker-_cpfs_64\n",
       "                        </td>\n",
       "                    </tr>\n",
       "\n",
       "                    \n",
       "\n",
       "                    \n",
       "\n",
       "                </table>\n",
       "            </details>\n",
       "            </div>\n",
       "        </div>\n",
       "        \n",
       "        <div style=\"margin-bottom: 20px;\">\n",
       "            <div style=\"width: 24px; height: 24px; background-color: #DBF5FF; border: 3px solid #4CC9FF; border-radius: 5px; position: absolute;\"> </div>\n",
       "            <div style=\"margin-left: 48px;\">\n",
       "            <details>\n",
       "                <summary>\n",
       "                    <h4 style=\"margin-bottom: 0px; display: inline;\">Worker: 8</h4>\n",
       "                </summary>\n",
       "                <table style=\"width: 100%; text-align: left;\">\n",
       "                    <tr>\n",
       "                        <td style=\"text-align: left;\">\n",
       "                            <strong>Comm: </strong> tcp://127.0.0.1:40439\n",
       "                        </td>\n",
       "                        <td style=\"text-align: left;\">\n",
       "                            <strong>Total threads: </strong> 1\n",
       "                        </td>\n",
       "                    </tr>\n",
       "                    <tr>\n",
       "                        <td style=\"text-align: left;\">\n",
       "                            <strong>Dashboard: </strong> <a href=\"http://127.0.0.1:42351/status\" target=\"_blank\">http://127.0.0.1:42351/status</a>\n",
       "                        </td>\n",
       "                        <td style=\"text-align: left;\">\n",
       "                            <strong>Memory: </strong> 3.12 GiB\n",
       "                        </td>\n",
       "                    </tr>\n",
       "                    <tr>\n",
       "                        <td style=\"text-align: left;\">\n",
       "                            <strong>Nanny: </strong> tcp://127.0.0.1:46665\n",
       "                        </td>\n",
       "                        <td style=\"text-align: left;\"></td>\n",
       "                    </tr>\n",
       "                    <tr>\n",
       "                        <td colspan=\"2\" style=\"text-align: left;\">\n",
       "                            <strong>Local directory: </strong> /tmp/dask-worker-space/worker-tvfno4pw\n",
       "                        </td>\n",
       "                    </tr>\n",
       "\n",
       "                    \n",
       "\n",
       "                    \n",
       "\n",
       "                </table>\n",
       "            </details>\n",
       "            </div>\n",
       "        </div>\n",
       "        \n",
       "        <div style=\"margin-bottom: 20px;\">\n",
       "            <div style=\"width: 24px; height: 24px; background-color: #DBF5FF; border: 3px solid #4CC9FF; border-radius: 5px; position: absolute;\"> </div>\n",
       "            <div style=\"margin-left: 48px;\">\n",
       "            <details>\n",
       "                <summary>\n",
       "                    <h4 style=\"margin-bottom: 0px; display: inline;\">Worker: 9</h4>\n",
       "                </summary>\n",
       "                <table style=\"width: 100%; text-align: left;\">\n",
       "                    <tr>\n",
       "                        <td style=\"text-align: left;\">\n",
       "                            <strong>Comm: </strong> tcp://127.0.0.1:39015\n",
       "                        </td>\n",
       "                        <td style=\"text-align: left;\">\n",
       "                            <strong>Total threads: </strong> 1\n",
       "                        </td>\n",
       "                    </tr>\n",
       "                    <tr>\n",
       "                        <td style=\"text-align: left;\">\n",
       "                            <strong>Dashboard: </strong> <a href=\"http://127.0.0.1:38795/status\" target=\"_blank\">http://127.0.0.1:38795/status</a>\n",
       "                        </td>\n",
       "                        <td style=\"text-align: left;\">\n",
       "                            <strong>Memory: </strong> 3.12 GiB\n",
       "                        </td>\n",
       "                    </tr>\n",
       "                    <tr>\n",
       "                        <td style=\"text-align: left;\">\n",
       "                            <strong>Nanny: </strong> tcp://127.0.0.1:46259\n",
       "                        </td>\n",
       "                        <td style=\"text-align: left;\"></td>\n",
       "                    </tr>\n",
       "                    <tr>\n",
       "                        <td colspan=\"2\" style=\"text-align: left;\">\n",
       "                            <strong>Local directory: </strong> /tmp/dask-worker-space/worker-o0w090fk\n",
       "                        </td>\n",
       "                    </tr>\n",
       "\n",
       "                    \n",
       "\n",
       "                    \n",
       "\n",
       "                </table>\n",
       "            </details>\n",
       "            </div>\n",
       "        </div>\n",
       "        \n",
       "\n",
       "    </details>\n",
       "</div>\n",
       "\n",
       "        </details>\n",
       "    </div>\n",
       "</div>\n",
       "            </details>\n",
       "        \n",
       "\n",
       "    </div>\n",
       "</div>"
      ],
      "text/plain": [
       "<Client: 'tcp://127.0.0.1:36517' processes=10 threads=10, memory=31.16 GiB>"
      ]
     },
     "execution_count": 7,
     "metadata": {},
     "output_type": "execute_result"
    }
   ],
   "source": [
    "dask_client"
   ]
  },
  {
   "cell_type": "markdown",
   "id": "c83f4409-9d96-40e0-b52b-9b413e238c7f",
   "metadata": {},
   "source": [
    "## Unks"
   ]
  },
  {
   "cell_type": "code",
   "execution_count": 20,
   "id": "99023f1e-8e03-42d4-9dec-2ec94e875b20",
   "metadata": {},
   "outputs": [],
   "source": [
    "import pandas as pd\n",
    "from tqdm.auto import tqdm\n",
    "from transformers import AutoTokenizer\n",
    "\n",
    "from cai_common.data import KangyurLoader, TengyurLoader"
   ]
  },
  {
   "cell_type": "code",
   "execution_count": 2,
   "id": "a093e5a9-b0de-495e-aa8f-00051197b2b2",
   "metadata": {},
   "outputs": [],
   "source": [
    "tokenizer = AutoTokenizer.from_pretrained(\n",
    "    \"facebook/nllb-200-distilled-600M\", src_lang=\"bod_Tibt\"\n",
    ")"
   ]
  },
  {
   "cell_type": "code",
   "execution_count": 4,
   "id": "b82b6664-cf5b-4834-825f-1745f590f681",
   "metadata": {},
   "outputs": [],
   "source": [
    "kangyur_df = KangyurLoader().remove_new_lines().dataframe.compute()"
   ]
  },
  {
   "cell_type": "code",
   "execution_count": 5,
   "id": "58f391df-5efa-4944-a5ab-0d388cb3b271",
   "metadata": {},
   "outputs": [],
   "source": [
    "tengyur_df = TengyurLoader().remove_new_lines().dataframe.compute()"
   ]
  },
  {
   "cell_type": "code",
   "execution_count": 6,
   "id": "e901fc9c-42a1-46e4-99c3-f9c6c7972c73",
   "metadata": {},
   "outputs": [
    {
     "data": {
      "text/plain": [
       "(65461, 128630)"
      ]
     },
     "execution_count": 6,
     "metadata": {},
     "output_type": "execute_result"
    }
   ],
   "source": [
    "len(kangyur_df), len(tengyur_df)"
   ]
  },
  {
   "cell_type": "code",
   "execution_count": 12,
   "id": "5486536c-1e66-4846-92e5-a549c7113b8e",
   "metadata": {},
   "outputs": [
    {
     "data": {
      "text/plain": [
       "194091"
      ]
     },
     "execution_count": 12,
     "metadata": {},
     "output_type": "execute_result"
    }
   ],
   "source": [
    "text = kangyur_df.text.tolist()\n",
    "text.extend(tengyur_df.text.tolist())\n",
    "len(text)"
   ]
  },
  {
   "cell_type": "code",
   "execution_count": 14,
   "id": "dfff557d-9caa-4d78-bd75-325813bb9209",
   "metadata": {},
   "outputs": [
    {
     "data": {
      "application/vnd.jupyter.widget-view+json": {
       "model_id": "58f7ca3168874ff4b795db4cc5b07124",
       "version_major": 2,
       "version_minor": 0
      },
      "text/plain": [
       "  0%|          | 0/194091 [00:00<?, ?it/s]"
      ]
     },
     "metadata": {},
     "output_type": "display_data"
    },
    {
     "name": "stderr",
     "output_type": "stream",
     "text": [
      "Token indices sequence length is longer than the specified maximum sequence length for this model (6539 > 1024). Running this sequence through the model will result in indexing errors\n"
     ]
    }
   ],
   "source": [
    "tokenized = [tokenizer.encode(l) for l in tqdm(text)]"
   ]
  },
  {
   "cell_type": "markdown",
   "id": "6dc7cdbf-36c1-49db-bc6b-bf72d637af17",
   "metadata": {},
   "source": [
    "### Total Unk counts"
   ]
  },
  {
   "cell_type": "code",
   "execution_count": 17,
   "id": "21391455-d113-4a23-a17b-c7a78ffa64dd",
   "metadata": {},
   "outputs": [
    {
     "data": {
      "text/plain": [
       "87885924"
      ]
     },
     "execution_count": 17,
     "metadata": {},
     "output_type": "execute_result"
    }
   ],
   "source": [
    "flattened = [t for l in tokenized for t in l]\n",
    "len(flattened)"
   ]
  },
  {
   "cell_type": "code",
   "execution_count": 26,
   "id": "96705d03-702d-4681-a2bc-0cd73d2da279",
   "metadata": {},
   "outputs": [],
   "source": [
    "token_counts = pd.Series(flattened).value_counts()"
   ]
  },
  {
   "cell_type": "code",
   "execution_count": 28,
   "id": "7fbc6a34-d202-4804-9ded-797fc62aab24",
   "metadata": {},
   "outputs": [
    {
     "data": {
      "text/plain": [
       "0.001979452363725504"
      ]
     },
     "execution_count": 28,
     "metadata": {},
     "output_type": "execute_result"
    }
   ],
   "source": [
    "token_counts[tokenizer.unk_token_id] / token_counts.sum()"
   ]
  },
  {
   "cell_type": "markdown",
   "id": "e0caeac0-b1cc-4a03-b2f5-4964afe76543",
   "metadata": {},
   "source": [
    "### Unk densities"
   ]
  },
  {
   "cell_type": "code",
   "execution_count": 29,
   "id": "71fed528-de29-4440-8671-dd2139f6f871",
   "metadata": {},
   "outputs": [
    {
     "data": {
      "application/vnd.jupyter.widget-view+json": {
       "model_id": "f1aaad58e3f54044b542c0a447d17934",
       "version_major": 2,
       "version_minor": 0
      },
      "text/plain": [
       "  0%|          | 0/194091 [00:00<?, ?it/s]"
      ]
     },
     "metadata": {},
     "output_type": "display_data"
    }
   ],
   "source": [
    "unk_counts = [sum([t == tokenizer.unk_token_id for t in l]) for l in tqdm(tokenized)]"
   ]
  },
  {
   "cell_type": "code",
   "execution_count": 39,
   "id": "bf51f8f5-f3ab-4891-a74b-85882adfa09f",
   "metadata": {},
   "outputs": [
    {
     "data": {
      "text/plain": [
       "0      161945\n",
       "1       11327\n",
       "2        5460\n",
       "3        3162\n",
       "4        2171\n",
       "        ...  \n",
       "128         1\n",
       "160         1\n",
       "161         1\n",
       "200         1\n",
       "373         1\n",
       "Length: 94, dtype: int64"
      ]
     },
     "execution_count": 39,
     "metadata": {},
     "output_type": "execute_result"
    }
   ],
   "source": [
    "unk_counts = pd.Series(unk_counts).value_counts().sort_index()\n",
    "unk_counts"
   ]
  },
  {
   "cell_type": "code",
   "execution_count": 43,
   "id": "601ea8c5-fbc4-4a00-91f6-66676d1ff78e",
   "metadata": {},
   "outputs": [
    {
     "data": {
      "text/plain": [
       "8.243555857823104e-05"
      ]
     },
     "execution_count": 43,
     "metadata": {},
     "output_type": "execute_result"
    }
   ],
   "source": [
    "1 - unk_counts[unk_counts > 1].sum() / unk_counts.sum()"
   ]
  },
  {
   "cell_type": "markdown",
   "id": "e430f7e7-4231-420a-b20e-e11c87c8878b",
   "metadata": {},
   "source": [
    "## Tibetan vocabulary"
   ]
  },
  {
   "cell_type": "code",
   "execution_count": 4,
   "id": "f352c483-a4a2-4bcb-b7d6-dd6c0f9f8ecf",
   "metadata": {},
   "outputs": [],
   "source": [
    "import unicodedata\n",
    "\n",
    "from transformers import AutoTokenizer"
   ]
  },
  {
   "cell_type": "code",
   "execution_count": 47,
   "id": "5ab3bd9a-0e83-4eb0-b995-3c7484f0c64f",
   "metadata": {},
   "outputs": [],
   "source": [
    "tokenizer = AutoTokenizer.from_pretrained(\"facebook/nllb-200-distilled-600M\", src_lang=\"bod_Tibt\")"
   ]
  },
  {
   "cell_type": "code",
   "execution_count": 41,
   "id": "da9c4c47-df59-44b1-99d4-e22c13c739d2",
   "metadata": {},
   "outputs": [
    {
     "data": {
      "text/plain": [
       "'▁indflydelse'"
      ]
     },
     "execution_count": 41,
     "metadata": {},
     "output_type": "execute_result"
    }
   ],
   "source": [
    "list(tokenizer.vocab.keys())[0]"
   ]
  },
  {
   "cell_type": "code",
   "execution_count": 48,
   "id": "de36c555-294f-4ccf-af68-729915f92a2e",
   "metadata": {},
   "outputs": [],
   "source": [
    "def _is_tibetan(word):\n",
    "    excluded = {\"▁\", \"\", \"\", \"\", \"\", \"\", \"\", \"\", \"\", \"\", \"\", \"\", \"\", \"\", \"\", \"\", \"\", \"\", \"\", \"\", \"\", \"\", \"\", \"\", \"\", \"\", \"\", \"\", \"฀\", \"",
    "\", \"\", \"\"}\n",
    "    return all(['TIBETAN' in unicodedata.name(c) for c in word if not c in excluded])"
   ]
  },
  {
   "cell_type": "code",
   "execution_count": 49,
   "id": "91e0d6ce-ee89-4a1e-8c5e-a5ddf7746d63",
   "metadata": {},
   "outputs": [],
   "source": [
    "tibetan = [_is_tibetan(w) for w in list(tokenizer.vocab.keys())]"
   ]
  },
  {
   "cell_type": "code",
   "execution_count": 50,
   "id": "7d3ae797-e7a8-4f06-bfca-17a3f5677322",
   "metadata": {},
   "outputs": [
    {
     "data": {
      "text/plain": [
       "2951"
      ]
     },
     "execution_count": 50,
     "metadata": {},
     "output_type": "execute_result"
    }
   ],
   "source": [
    "sum(tibetan)"
   ]
  },
  {
   "cell_type": "code",
   "execution_count": 45,
   "id": "f330295c-0c4e-4b8d-ad62-460c30ba941f",
   "metadata": {},
   "outputs": [],
   "source": [
    "test_str = \"།མུ་སྟེགས་ཚོགས་རྣམས་ཐམས་ཅད་རབ་བཅོམ་སྟེ།\""
   ]
  },
  {
   "cell_type": "code",
   "execution_count": 46,
   "id": "7efc058c-38c3-4de2-bd1b-cf98368927fe",
   "metadata": {},
   "outputs": [
    {
     "data": {
      "text/plain": [
       "'།མུ་སྟེགས་ཚོགས་རྣམས་ཐམས་ཅད་རབ་བཅོམ་སྟེ།</s>bod_Tibt'"
      ]
     },
     "execution_count": 46,
     "metadata": {},
     "output_type": "execute_result"
    }
   ],
   "source": [
    "tokenizer.decode(tokenizer.encode(test_str))"
   ]
  },
  {
   "cell_type": "markdown",
   "id": "e6ebad83-a130-4b19-9d2c-5328d7a2521e",
   "metadata": {},
   "source": [
    "# Basic dataset statistics"
   ]
  },
  {
   "cell_type": "code",
   "execution_count": 1,
   "id": "20b888a7-831a-4c60-ae28-ced87aea2848",
   "metadata": {},
   "outputs": [],
   "source": [
    "from itertools import islice\n",
    "from datasets import load_dataset\n",
    "\n",
    "import numpy as np\n",
    "import pandas as pd"
   ]
  },
  {
   "cell_type": "code",
   "execution_count": 2,
   "id": "f09f66cf-6aa3-4122-b70e-cca744364e14",
   "metadata": {},
   "outputs": [
    {
     "data": {
      "application/vnd.jupyter.widget-view+json": {
       "model_id": "2e8116c73dc7461fbcc051e3ae6a043e",
       "version_major": 2,
       "version_minor": 0
      },
      "text/plain": [
       "Downloading builder script:   0%|          | 0.00/9.49k [00:00<?, ?B/s]"
      ]
     },
     "metadata": {},
     "output_type": "display_data"
    },
    {
     "data": {
      "application/vnd.jupyter.widget-view+json": {
       "model_id": "87018e522ad64263816cee65cb05729f",
       "version_major": 2,
       "version_minor": 0
      },
      "text/plain": [
       "Downloading metadata:   0%|          | 0.00/5.05M [00:00<?, ?B/s]"
      ]
     },
     "metadata": {},
     "output_type": "display_data"
    },
    {
     "data": {
      "application/vnd.jupyter.widget-view+json": {
       "model_id": "a02a6ecd077448729abd0acdba4d16fe",
       "version_major": 2,
       "version_minor": 0
      },
      "text/plain": [
       "Downloading readme:   0%|          | 0.00/38.6k [00:00<?, ?B/s]"
      ]
     },
     "metadata": {},
     "output_type": "display_data"
    },
    {
     "data": {
      "application/vnd.jupyter.widget-view+json": {
       "model_id": "aa25b2343201436ca355cbc202ea160a",
       "version_major": 2,
       "version_minor": 0
      },
      "text/plain": [
       "Downloading extra modules:   0%|          | 0.00/81.9k [00:00<?, ?B/s]"
      ]
     },
     "metadata": {},
     "output_type": "display_data"
    },
    {
     "name": "stdout",
     "output_type": "stream",
     "text": [
      "Downloading and preparing dataset nllb/bod_Tibt-eng_Latn (download: 124.61 MiB, generated: 393.61 MiB, post-processed: Unknown size, total: 518.23 MiB) to /home/eeisenst/.cache/huggingface/datasets/allenai___nllb/bod_Tibt-eng_Latn/1.0.0/28d4a24ef4e17a539baee89254dc6a56e75b1a7a10b1055757f2512af99f5b30...\n"
     ]
    },
    {
     "data": {
      "application/vnd.jupyter.widget-view+json": {
       "model_id": "01702a1f092c49f49926ee88a19fd000",
       "version_major": 2,
       "version_minor": 0
      },
      "text/plain": [
       "Downloading data:   0%|          | 0.00/131M [00:00<?, ?B/s]"
      ]
     },
     "metadata": {},
     "output_type": "display_data"
    },
    {
     "data": {
      "application/vnd.jupyter.widget-view+json": {
       "model_id": "",
       "version_major": 2,
       "version_minor": 0
      },
      "text/plain": [
       "Generating train split:   0%|          | 0/714577 [00:00<?, ? examples/s]"
      ]
     },
     "metadata": {},
     "output_type": "display_data"
    },
    {
     "name": "stdout",
     "output_type": "stream",
     "text": [
      "Dataset nllb downloaded and prepared to /home/eeisenst/.cache/huggingface/datasets/allenai___nllb/bod_Tibt-eng_Latn/1.0.0/28d4a24ef4e17a539baee89254dc6a56e75b1a7a10b1055757f2512af99f5b30. Subsequent calls will reuse this data.\n"
     ]
    },
    {
     "data": {
      "application/vnd.jupyter.widget-view+json": {
       "model_id": "89b87b68b4ff4974b088dc82b50a28cf",
       "version_major": 2,
       "version_minor": 0
      },
      "text/plain": [
       "  0%|          | 0/1 [00:00<?, ?it/s]"
      ]
     },
     "metadata": {},
     "output_type": "display_data"
    }
   ],
   "source": [
    "nllb_data = load_dataset(\"allenai/nllb\", 'bod_Tibt-eng_Latn')['train']"
   ]
  },
  {
   "cell_type": "code",
   "execution_count": 7,
   "id": "6f663298-f84e-4275-9d85-28972116d978",
   "metadata": {},
   "outputs": [],
   "source": [
    "nllb_data = pd.DataFrame(nllb_data)"
   ]
  },
  {
   "cell_type": "code",
   "execution_count": 11,
   "id": "3b2c1167-583f-4aac-8cff-64c7a039562a",
   "metadata": {},
   "outputs": [],
   "source": [
    "nllb_data['eng_len'] = nllb_data.apply(lambda x: len(x['translation']['eng_Latn']), axis=1)"
   ]
  },
  {
   "cell_type": "code",
   "execution_count": 14,
   "id": "3b43b831-1f5d-4402-b8df-dff33c2f0556",
   "metadata": {},
   "outputs": [
    {
     "data": {
      "text/plain": [
       "count    714577.000000\n",
       "mean         43.715713\n",
       "std          37.405826\n",
       "min           7.000000\n",
       "25%          23.000000\n",
       "50%          32.000000\n",
       "75%          49.000000\n",
       "max         499.000000\n",
       "Name: eng_len, dtype: float64"
      ]
     },
     "execution_count": 14,
     "metadata": {},
     "output_type": "execute_result"
    }
   ],
   "source": [
    "nllb_data.eng_len.describe()#percentiles=np.arange(0., 1., 0.1))"
   ]
  },
  {
   "cell_type": "markdown",
   "id": "a728984f-0f3b-4bc4-800b-2d492b292e02",
   "metadata": {},
   "source": [
    "# LASER score exploration"
   ]
  },
  {
   "cell_type": "code",
   "execution_count": 26,
   "id": "8e11e55d-d6e8-49db-8869-fa80b5329ea6",
   "metadata": {},
   "outputs": [],
   "source": [
    "from itertools import islice\n",
    "from datasets import load_dataset\n",
    "\n",
    "import numpy as np\n",
    "import pandas as pd"
   ]
  },
  {
   "cell_type": "code",
   "execution_count": 3,
   "id": "3090b8dc-4865-4752-ac22-eeb3213798f8",
   "metadata": {},
   "outputs": [
    {
     "name": "stderr",
     "output_type": "stream",
     "text": [
      "Found cached dataset nllb (/home/eeisenst/.cache/huggingface/datasets/allenai___nllb/bod_Tibt-eng_Latn/1.0.0/28d4a24ef4e17a539baee89254dc6a56e75b1a7a10b1055757f2512af99f5b30)\n"
     ]
    },
    {
     "data": {
      "application/vnd.jupyter.widget-view+json": {
       "model_id": "d1a76e402d394659bc7b90be04aeac04",
       "version_major": 2,
       "version_minor": 0
      },
      "text/plain": [
       "  0%|          | 0/1 [00:00<?, ?it/s]"
      ]
     },
     "metadata": {},
     "output_type": "display_data"
    }
   ],
   "source": [
    "nllb_data = load_dataset(\"allenai/nllb\", 'bod_Tibt-eng_Latn')['train']"
   ]
  },
  {
   "cell_type": "code",
   "execution_count": 4,
   "id": "14b22ada-bb8f-49a2-bd06-049a33ca108e",
   "metadata": {},
   "outputs": [
    {
     "data": {
      "text/plain": [
       "{'translation': {'bod_Tibt': 'ཞལ་ཆད་ དང་ ཁས་ལེན་ ཐོབ་ཅེས་ལ་།',\n",
       "  'eng_Latn': 'That is your contract with God.\"'},\n",
       " 'laser_score': 1.2493345737457275,\n",
       " 'source_sentence_lid': 0.8996099829673767,\n",
       " 'target_sentence_lid': 1.0,\n",
       " 'source_sentence_source': 'crawl-data/CC-MAIN-2019-43/segments/1570986692723.54/wet/CC-MAIN-20191019090937-20191019114437-00393.warc.wet.gz',\n",
       " 'source_sentence_url': 'http://lbj.biblesindia.com/lbj/mlsp-dl/420/24669/204851?r=0',\n",
       " 'target_sentence_source': 'crawl-data/CC-MAIN-2021-04/segments/1610703524743.61/wet/CC-MAIN-20210121101406-20210121131406-00304.warc.wet.gz',\n",
       " 'target_sentence_url': 'http://www.lynnesachs.com/1997/09/11/biography-of-lilith-transcript/'}"
      ]
     },
     "execution_count": 4,
     "metadata": {},
     "output_type": "execute_result"
    }
   ],
   "source": [
    "nllb_data[0]"
   ]
  },
  {
   "cell_type": "code",
   "execution_count": 6,
   "id": "f624ca97-1be8-4bc6-8ec8-1bd187a3f670",
   "metadata": {},
   "outputs": [],
   "source": [
    "nllb_data_df = pd.DataFrame(nllb_data)"
   ]
  },
  {
   "cell_type": "code",
   "execution_count": 8,
   "id": "ae79d723-ae7c-4791-a2f2-67a591b2932f",
   "metadata": {},
   "outputs": [
    {
     "data": {
      "text/plain": [
       "<AxesSubplot:>"
      ]
     },
     "execution_count": 8,
     "metadata": {},
     "output_type": "execute_result"
    },
    {
     "data": {
      "image/png": "[encoded data removed]",
      "text/plain": [
       "<Figure size 432x288 with 1 Axes>"
      ]
     },
     "metadata": {
      "needs_background": "light"
     },
     "output_type": "display_data"
    }
   ],
   "source": [
    "nllb_data_df.laser_score.hist(bins=50)"
   ]
  },
  {
   "cell_type": "code",
   "execution_count": 17,
   "id": "0240b1c3-cf7d-4d04-b158-3c9fde253e2b",
   "metadata": {},
   "outputs": [
    {
     "data": {
      "text/plain": [
       "count    714577.000000\n",
       "mean          1.065074\n",
       "std           0.016650\n",
       "min           1.050000\n",
       "0%            1.050000\n",
       "10%           1.051454\n",
       "20%           1.053088\n",
       "30%           1.054971\n",
       "40%           1.057169\n",
       "50%           1.059791\n",
       "60%           1.063088\n",
       "70%           1.067430\n",
       "80%           1.073714\n",
       "90%           1.084979\n",
       "max           1.249335\n",
       "Name: laser_score, dtype: float64"
      ]
     },
     "execution_count": 17,
     "metadata": {},
     "output_type": "execute_result"
    }
   ],
   "source": [
    "nllb_data_df.laser_score.describe(percentiles=np.arange(0., 1., 0.1))"
   ]
  },
  {
   "cell_type": "code",
   "execution_count": 47,
   "id": "087730ce-4d24-410f-9b4d-b3ba44a648d0",
   "metadata": {},
   "outputs": [
    {
     "name": "stdout",
     "output_type": "stream",
     "text": [
      "མདུན་ངོས། / ང་ཚོའི་སྐོར། / སློབ་སྟོན་ལྷན་ཚོགས།\n",
      "They guide and teach us,...\n",
      "\n",
      "དེས་ན་མཉམ་པར་ཁྱོད་བཞེད་ལགས། ༎ 42 ༎\n",
      "[e]Which is in order unto the fear of thee.\n",
      "\n",
      "ཁྱེད་ ང་ཚོ་སངས་རྒྱས་པའི་ཆོས་བྱེད་མཁན་རྒྱ་མི་ ཡོ ང ་གི ་ རེ ད །\n",
      "This is not what our religion teaches us.\"\n",
      "\n",
      "༢༠༠༩ ཕྱི་ཟླ་ ༩ ཚེས་ ༢༩ རེས་གཟའ་དམིག་དམར།\n",
      "How do you not know you are nine months pregnant, and about to birth?\n",
      "\n",
      "ཐུབ་བསྟན། བྱིས་པ། ལོ༡༣ དམའ་འབྲིང་སློབ་མ།\n",
      "What if a young child [were] to lose a dog that they have had their entire life?\n",
      "\n",
      "   ༄༅།། མོའི་གྲོང་རྡལ། མོའི་སྲིང་བལ། - བསྒྱུར་རྩོམ། - མདོ་ལྷོ་དྲ་བ།-甘南香巴拉在线\n",
      "When he got back into town he was hailed by his older sister, who was carrying a Save the Earth sign.\n",
      "\n",
      "ཁྱེད་ ང་ཚོ་སངས་རྒྱས་པའི་ཆོས་བྱེད་མཁན་རྒྱ་མི་ ཡོ ང ་གི ་ རེ ད །\n",
      "\"They (the law firm) were our saviors.\"\n",
      "\n",
      "晋升职务 འགན་གནས་སྤར་བ།\n",
      "Make it about what's in it for them (WIIFT) as opposed to what's in it for you (WIIFY).\n",
      "\n",
      "ཁྱེད་ ང་ཚོ་སངས་རྒྱས་པའི་ཆོས་བྱེད་མཁན་རྒྱ་མི་ ཡོ ང ་གི ་ རེ ད །\n",
      "The Jews were indeed our ancestors in the Faith.\n",
      "\n",
      "ལུང གོང གི དེའི\n",
      "But the ordeal came when she gave birth to her son, Aaron.\n",
      "\n",
      "རྒྱ་བལ། ࿋ གཡུང་དྲུང་བོན།\n",
      "follow the Ya'qûbiyya sect.\n",
      "\n",
      "\"རེད། ཁྱོད་ཀྱིས་མི་ཤེས་སམ། \"\n",
      "\"Do you not know?\n",
      "\n",
      "དགེ་བཅུའི་ཁྲིམས་དང་དྲི་བ་དྲིས་ལན། - ང་ཁྱེད་ཀྱི་ཨ་ཕ་ཡིན། - མཚོ་སྔོན་པོ་བོད་ཡིག་ཟིན་བྲིས། བོད་ཡིག ཟིན་བྲིས མཚོ\n",
      "She said: \"I considered him to be my Father; isn't this what a Pope is?\n",
      "\n",
      "བཙལ་འབྲས་ནི ས་འགུལ་སྨྲ་བ ཡིན་མོད། ཁྱེད་ཀྱིས་སྔར་བཞིན ཚ་འགུལ་སྨྲ་བ། འཚོལ་རྒྱུ་ཡིན་ནམ།\n",
      "is the generation of those who seek him, Of those who seek thy face, O Jacob!\n",
      "\n",
      "ག ང་འཛན་ ོང་པར་ ང་བས་གཉིས་ ང་གཞི་ ་གྲོལ།\n",
      "\"I create, therefore I become.\"\n",
      "\n",
      "།རྟག་ཏུ་བག་དང་ལྡན་པར་བྱིན་གྱི་རློབས། 항상 근면 갖추게 가피하소서.\n",
      "at his own behest and all good is bestowed by the Mercy of the Lord.\n",
      "\n",
      "དེ་དག་རྣམས་ཀྱིས་འཇིག་རྟེན་དང་། །ཆོས་ཀྱང་བསྡུ་བ་ཉིད་དུ་མཛོད། ༎ 33 ༎\n",
      "And put them together in the space then they will be joined each other.\n",
      "\n",
      "དཔེར་ན། འགྲོ!\n",
      "For example!.\n",
      "\n",
      "ཁ་བརྡ། _ མཁས་དབང་མང་ལ་མཁས་པ་དཀོན།\n",
      "Be thou my wisdom, O Lord of my heart.\n",
      "\n",
      "སྤྱང་གུ་རུ་འཇིགས་མེད། - བཙན་པོ་དྲ་བ།\n",
      "Not fear of what is in hell.\n",
      "\n"
     ]
    }
   ],
   "source": [
    "for _, row in nllb_data_df[(nllb_data_df.laser_score > 1.15) & (nllb_data_df.laser_score < 1.20)].sample(n=20).iterrows():\n",
    "    print(row.translation['bod_Tibt'])\n",
    "    print(row.translation['eng_Latn'])\n",
    "    print()"
   ]
  }
 ],
 "metadata": {
  "kernelspec": {
   "display_name": "Python 3 (ipykernel)",
   "language": "python",
   "name": "python3"
  },
  "language_info": {
   "codemirror_mode": {
    "name": "ipython",
    "version": 3
   },
   "file_extension": ".py",
   "mimetype": "text/x-python",
   "name": "python",
   "nbconvert_exporter": "python",
   "pygments_lexer": "ipython3",
   "version": "3.10.0"
  }
 },
 "nbformat": 4,
 "nbformat_minor": 5
}
