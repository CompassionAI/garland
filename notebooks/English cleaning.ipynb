{
 "cells": [
  {
   "cell_type": "markdown",
   "id": "dda2ab94-1c05-436e-a6c2-ac1f686f0047",
   "metadata": {},
   "source": [
    "# Load the data"
   ]
  },
  {
   "cell_type": "code",
   "execution_count": 1,
   "id": "7236afa5-5272-434e-95b0-bc1ed70c7abb",
   "metadata": {},
   "outputs": [],
   "source": [
    "import os\n",
    "\n",
    "from tqdm.auto import tqdm"
   ]
  },
  {
   "cell_type": "code",
   "execution_count": 2,
   "id": "2552de2b-b6fc-46cd-92f3-f5553e12e9bc",
   "metadata": {},
   "outputs": [
    {
     "data": {
      "application/vnd.jupyter.widget-view+json": {
       "model_id": "3008ab78e8844430a121e2b3b84421f0",
       "version_major": 2,
       "version_minor": 0
      },
      "text/plain": [
       "  0%|          | 0/3 [00:00<?, ?it/s]"
      ]
     },
     "metadata": {},
     "output_type": "display_data"
    }
   ],
   "source": [
    "bo_lines, en_lines = [], []\n",
    "for dataset_name in tqdm([\"train\", \"valid\", \"test\"]):\n",
    "    with open(os.path.join(os.environ[\"CAI_TEMP_PATH\"], \"enbo_data\", f\"{dataset_name}.bo\")) as bo_f:\n",
    "        bo_lines.extend(bo_f.readlines())\n",
    "    with open(os.path.join(os.environ[\"CAI_TEMP_PATH\"], \"enbo_data\", f\"{dataset_name}.en\")) as en_f:\n",
    "        en_lines.extend(en_f.readlines())"
   ]
  },
  {
   "cell_type": "code",
   "execution_count": 3,
   "id": "346d4d9d-838d-4460-988c-861292d605f7",
   "metadata": {},
   "outputs": [
    {
     "data": {
      "text/plain": [
       "593765"
      ]
     },
     "execution_count": 3,
     "metadata": {},
     "output_type": "execute_result"
    }
   ],
   "source": [
    "len(en_lines)"
   ]
  },
  {
   "cell_type": "code",
   "execution_count": 4,
   "id": "5e5d4039-0187-4136-8986-9f3cb99066ec",
   "metadata": {},
   "outputs": [
    {
     "data": {
      "text/plain": [
       "123826249"
      ]
     },
     "execution_count": 4,
     "metadata": {},
     "output_type": "execute_result"
    }
   ],
   "source": [
    "bo_text = \"\\n\".join(bo_lines)\n",
    "len(bo_text)"
   ]
  },
  {
   "cell_type": "code",
   "execution_count": 5,
   "id": "aaadc401-cdf2-481f-ad4d-f4b0142af209",
   "metadata": {},
   "outputs": [
    {
     "data": {
      "text/plain": [
       "144546151"
      ]
     },
     "execution_count": 5,
     "metadata": {},
     "output_type": "execute_result"
    }
   ],
   "source": [
    "en_text = \"\\n\".join(en_lines)\n",
    "len(en_text)"
   ]
  },
  {
   "cell_type": "markdown",
   "id": "148067f6-3492-4156-a316-f68411567dc6",
   "metadata": {},
   "source": [
    "# Explore"
   ]
  },
  {
   "cell_type": "code",
   "execution_count": 6,
   "id": "d332baaf-693a-4f2b-bd9e-aa1a0716d507",
   "metadata": {},
   "outputs": [],
   "source": [
    "import unicodedata"
   ]
  },
  {
   "cell_type": "code",
   "execution_count": 7,
   "id": "df2d9956-de61-4370-92e0-474c7fa12dd5",
   "metadata": {},
   "outputs": [],
   "source": [
    "bo_unique_chars = sorted(list(set(bo_text)))"
   ]
  },
  {
   "cell_type": "code",
   "execution_count": 8,
   "id": "54d1e4d4-4381-4544-9b6d-f10e424ead81",
   "metadata": {},
   "outputs": [
    {
     "name": "stdout",
     "output_type": "stream",
     "text": [
      "\n",
      "   ་ ། ༹ ཀ ཁ ག ང ཅ ཆ ཇ ཉ ཊ ཋ ཌ ཎ ཏ ཐ ད ན པ ཕ བ མ ཙ ཚ ཛ ཝ ཞ ཟ འ ཡ ར ལ ཤ ཥ ས ཧ ཨ ཪ ཱ ི ུ ཱུ ེ ཻ ོ ཽ ཾ ཿ ྀ ྃ ྅ ྐ ྑ ྒ ྔ ྕ ྗ ྙ ྚ ྛ ྜ ྞ ྟ ྠ ྡ ྣ ྤ ྥ ྦ ྨ ྩ ྪ ྫ ྭ ྰ ྱ ྲ ླ ྴ ྵ ྶ ྷ\n"
     ]
    }
   ],
   "source": [
    "print(' '.join(bo_unique_chars))"
   ]
  },
  {
   "cell_type": "code",
   "execution_count": 9,
   "id": "04176dff-e69f-467b-a9ff-2bbc19b0735a",
   "metadata": {},
   "outputs": [
    {
     "name": "stdout",
     "output_type": "stream",
     "text": [
      "TIBETAN DIGIT ZERO\n"
     ]
    }
   ],
   "source": [
    "print(unicodedata.name(\"\\u0F20\"))"
   ]
  },
  {
   "cell_type": "code",
   "execution_count": 10,
   "id": "0f1e5549-ffd8-46ca-b0db-e13558eb4740",
   "metadata": {},
   "outputs": [],
   "source": [
    "# for c in bo_unique_chars:\n",
    "#     try:\n",
    "#         print(unicodedata.name(c))\n",
    "#     except ValueError:\n",
    "#         print(\"No name: \" + c)"
   ]
  },
  {
   "cell_type": "markdown",
   "id": "64d6bfd8-243d-44ad-91b6-3b979f2af2af",
   "metadata": {},
   "source": [
    "---"
   ]
  },
  {
   "cell_type": "code",
   "execution_count": 11,
   "id": "edd61911-1033-48e1-a10b-59187e836857",
   "metadata": {},
   "outputs": [],
   "source": [
    "# en_lines[:10]"
   ]
  },
  {
   "cell_type": "code",
   "execution_count": 9,
   "id": "c7673cef-5336-497e-affb-04d931c4aa8d",
   "metadata": {},
   "outputs": [],
   "source": [
    "unique_chars = sorted(list(set(en_text)))"
   ]
  },
  {
   "cell_type": "code",
   "execution_count": 10,
   "id": "565cd6a6-f8e4-4188-9273-75431c4f03bf",
   "metadata": {},
   "outputs": [
    {
     "name": "stdout",
     "output_type": "stream",
     "text": [
      "\n",
      "   , - . : ? a b c d e f g h i j k l m n o p q r s t u v w x y z\n"
     ]
    }
   ],
   "source": [
    "print(' '.join(unique_chars))"
   ]
  },
  {
   "cell_type": "code",
   "execution_count": 14,
   "id": "0c47aa4a-0898-4866-92ce-4b0646089eaa",
   "metadata": {},
   "outputs": [],
   "source": [
    "# for c in unique_chars:\n",
    "#     try:\n",
    "#         print(unicodedata.name(c))\n",
    "#     except ValueError:\n",
    "#         print(\"No name: \" + c)"
   ]
  },
  {
   "cell_type": "code",
   "execution_count": 17,
   "id": "d086950d-190b-45a4-a858-82e940bd1e88",
   "metadata": {},
   "outputs": [
    {
     "name": "stdout",
     "output_type": "stream",
     "text": [
      ": - COLON\n"
     ]
    },
    {
     "data": {
      "text/plain": [
       "51856"
      ]
     },
     "execution_count": 17,
     "metadata": {},
     "output_type": "execute_result"
    }
   ],
   "source": [
    "to_find = unique_chars[15]\n",
    "print(f\"{to_find} - {unicodedata.name(to_find)}\")\n",
    "found_lines = [(bo_line, en_line) for bo_line, en_line in zip(bo_lines, en_lines) if to_find in en_line]\n",
    "len(found_lines)"
   ]
  },
  {
   "cell_type": "code",
   "execution_count": 18,
   "id": "07279011-a32a-45b4-9c75-da1113a9caab",
   "metadata": {},
   "outputs": [
    {
     "data": {
      "text/plain": [
       "'\\\\u003a'"
      ]
     },
     "execution_count": 18,
     "metadata": {},
     "output_type": "execute_result"
    }
   ],
   "source": [
    "r'\\u' + '%04x' % ord(to_find)"
   ]
  },
  {
   "cell_type": "code",
   "execution_count": 19,
   "id": "1df99dbb-1b81-4411-aad2-54a6047aa509",
   "metadata": {},
   "outputs": [
    {
     "data": {
      "text/plain": [
       "[('ཆོས་ཀྱི་སྒྲིབ་པ་ཀུན་ནས་ལངས་པས་དམན་པ་དང་། ལས་ཀྱི་སྒྲིབ་པ་ཀུན་ནས་ལངས་པས་དགེ་བའི་རྩ་བ་རྣམས་ལ་མི་བརྩོན་པ་དང་། ཉོན་མོངས་པའི་སྒྲིབ་པ་ཀུན་ནས་ལངས་པས་ཕུང་པོ་གསུམ་གྱི་རྗེས་སུ་མི་འཇུག་པ་དང་། བདུད་ཀྱི་ལས་ཀུན་ནས་ལངས་པས་བྱང་ཆུབ་ཀྱི་སེམས་བརྗེད་པ་སྟེ། དེ་དག་གིས་ནི་འདུ་ཤེས་ཐ་དད་པ་ཉིད་མེད་པ་གང་གིས་བྱང་ཆུབ་སེམས་དཔའི་སྐྱོན་མེད་པ་ལ་འཇུག་པར་འགྱུར་བའི་འདུ་ཤེས་ཐ་དད་པ་ཉིད་མེད་པ་མ་ཐོབ་པས།\\n',\n",
       "  'they are: being base due to the manifestation of phenomenal obscurations, not pursuing roots of virtue due to the manifestation of karmic obscurations, not engaging with the three virtuous factors due to the manifestation of afflictive obscurations, and forgetting the mind of awakening due to the manifestation of the maras activities. they have not attained the non-differentiation of perception which works toward the maturity of the bodhisattvas.\\n'),\n",
       " ('ཀུན་དགའ་བོ་ཡིས་ རྐང་གཉིས་མཆོག་ལ་ཞུས།གསོལ་པ། དེ་ལ་དབུལ་པོ་རྣམས་ལ་མི་སྨོད་པ་གང་ཞེ་ན། འདི་ལྟ་སྟེ། ཕ་རོལ་ལ་སྙིང་བརྩེ་བའི་བློའོ།གང་ཚེ་ཆོས་སྐུ་རྗེས་སུ་རྟོགས་པ་ཤེས་རབ་ལས།མ་རིག་པའི་ཟག་པ་དང་ཡང་དག་པར་ལྡན་པའི་ཁམས་ཡང་དག་པ་ཇི་ལྟ་བ་བཞིན་རབ་ཏུ་མཁྱེན་ཏོ།\\n',\n",
       "  'ananda asked the best among humans: he replied: what is not rebuking the poor? it is having kindness toward others. its function is to realize dharmakaya. he correctly understands the element that possesses the defilement of ignorance.\\n'),\n",
       " ('ཁ་ཅིག་ནི་ས་གསུམ་པ། ཡུམ་ནི་བཟང་སྦྱིན་མ་ཞེས་བྱའོ།དགེ་སློང་གི་དངོས་པོ་ལས་ཉམས་པར་འགྱུར་ཏེ། བྱ་གཉིས་ཞེས་བྱ་བ་ལ།\\n',\n",
       "  'some are on the third bhumi. giver of excellence will be his mother. and would fall from monkhood. the bird: two stories\\n'),\n",
       " ('སྲས་པོ་མཆོད་པ་སྐར་མཁན་རིམ་གྲོ་པ།དེ་ཅིའི་སླད་དུ་ཞེ་ན། དེ་ལ་སྡུག་བསྔལ་ཤེས་པར་བྱ། ཀུན་འབྱུང་བ་སྤང་བར་བྱ། འགོག་པ་མངོན་དུ་བྱ། ལམ་བསྒོམ་པར་བྱའོ་ཞེས་གང་འཕྲོས་པར་བྱེད་པ་དེ་ནི་\\n',\n",
       "  'worship will be his son and astrologer his attendant. if one were to ask why, who verbalizes: suffering should be recognized, origination should be eliminated, cessation should be realized, the path should be practiced,\\n'),\n",
       " ('མི་མཇེད་ཀྱི་བདག་པོ་ཚངས་པས་སྨྲས་པ། བྱ་རྒོད་ཀྱི་ཕུང་པོའི་རི་ལ་དགེ་སློང་བརྒྱད་སྟོང་གི་དགེ་སློང་གི་དགེ་འདུན་ཆེན་པོ་དང་། གང་གཱའི་བྱེ་མ་སྙེད་རྣམས་ཀྱིས།དེ་ནས་དེ་ཐོས་མ་ཐག་ཏུ། རྒྱལ་པོའི་ཞབས་འབྲིང་བ་རྣམས་ཀྱིས་རང་སངས་རྒྱས་དེ་བཟུང་ནས་མིག་གཉིས་ཕྱུང་སྟེ དགའ་བ་དང་ཡིད་བདེ་བ་སྐྱེས་ནས་པད་མ་འདི་དག་བྱུང་བ་ཇི་སྙེད་པ་དེ་སྙེད་ཀྱི་ཡང་དག་པར་རྫོགས་པའི་སངས་རྒྱས་འཇིག་རྟེན་དུ་འབྱུང་བར་འགྱུར་ཏེ།\\n',\n",
       "  'sahampati brahma answered: on vulture peak mountain, together with a large monastic sangha of 8,000 monks as many as there are grains of sand in the ganges, as soon as his royal attendants heard this, they seized the solitary buddha and plucked out both his eyes. experiencing such joy and pleasure, they saw these flowers to be indicative of the extent of the perfect buddhas to appear in the world.\\n'),\n",
       " ('བཅོམ་ལྡན་འདས་ནི་ཕྱག་དང་ཞབས་འཇམ་ཞིང་གཞོན་ཤ་ཆགས་པ་ཡིན་ནོ།བྱང་ཆུབ་སེམས་དཔའ་དེད་དཔོན་གྱིས་གསོལ་པ། ལན་གསུམ་བསྐོར་བ་བྱས་ཏེ། ཚིགས་སུ་བཅད་པ་འདི་དག་གིས་མངོན་པར་བསྟོད་དོ།རྒྱལ་བའི་རིགས་ནི་རྒྱལ་རིགས་འོད་ཀྱི་ཚད། །དཔག་ཚད་སུམ་ཅུ་ཡབ་ནི་སྐུ་བཟངས་ཡིན། །བཟང་དཔལ་ཞེས་ནི་བྱ་བ་རྒྱལ་བའི་ཡུམ།སེམས་ཅན་ཐམས་ཅད་ཀྱི་མཆོག་ཏུ་དགའ་བ་ལ་དམིགས་པས་མངོན་པར་བསྒྲུབས་པའི་དགའ་བ་ཆེན་པོ་དང་།\\n',\n",
       "  'the blessed one has hands and feet that are tender and soft. the bodhisattva sarthavaha promised, they circumambulated him three times and then praised him with these verses: the family of this victor will be ksatriya, and his light will extend thirty leagues. excellent body will be his father and excellent glory will be this victors mother. of the great joy consummated in the awareness of the supreme happiness of all living beings.\\n'),\n",
       " ('མ་གྲོལ་བ་རྣམས་ཀྱི་རྗེས་སུ་འབྲང་བར་བྱ་བ་ནི་བྱིས་པ་སོ་སོའི་སྐྱེ་བོ་རྣམས་ཡོངས་སུ་སྨིན་པར་བྱ་བ་སྟེ་དེ་ནི་ཚུལ་ལོ།སྣང་བ་བརྙེས་ཤིང་ཉོན་མོངས་དྲི་བསལ་བ། །འཇིག་རྟེན་སྣང་མཛད་ཁྱོད་ལ་ཕྱག་འཚལ་ལོ།དེ་ནས་ཚེ་དང་ལྡན་པ་རབ་བཟང་འདི་སྙམ་དུ་སེམས་ཏེ། སྨྲས་པ།\\n',\n",
       "  'following those who are not liberated means ripening childish ordinary beings. that is the proper conduct. you have reached illumination, and you eliminate the stains of afflictions. illuminator of the world, i pay homage to you. the thought occurred to venerable subhadra, the rabbit continued:\\n'),\n",
       " ('བུ་དཀའ་ཐུབ་ཀྱི་ཚལ་དང་མུ་སྟེགས་ཀྱི་གནས་དེ་དང་དེ་དག་ཏུ་ཁོ་མོས་ཁྱོད་ཀྱི་ཕྱིར་མ་བཙལ་བ་དེ་དག་གང་ཡོད་དེ།བྱམས་པ་དེ་ལ་གང་བྱང་ཆུབ་སེམས་དཔའ་སངས་རྒྱས་བཅོམ་ལྡན་འདས་རྣམས་ཀྱིས་བྱང་ཆུབ་ཏུ་སེམས་བསྐྱེད་པ་གང་ཡིན་པ་དང་། བྱང་ཆུབ་ཀྱི་ཤིང་ཁ་ཅིག་ནི་རིན་པོ་ཆེའི་རང་བཞིན་ཅན་ལ་འཕང་དུ་དཔག་ཚད་འབུམ་ཕྲག་བཅུ་པ་ཡང་ཡོད། འདུ་ཤེས་བཅུ་དྲུག་ཏུ་ལྟ་བ་ནི།\\n',\n",
       "  'son. i went searching for you among the ascetics in the forest, among the tirthika communities, and in other places but everywhere i looked, maitreya, as i have just mentioned, there are those bodhisattvas who arouse the mind of awakening because of the blessed buddhas, some bodhi trees were made of jewels and were one million leagues high. there are also the views related to the following sixteen notions:\\n'),\n",
       " ('རྫུ་འཕྲུལ་ཅན་ རྣམས་ཀྱི་མཆོག་ནི་བརྡ་ལ་མཁས་པ་ཞེས་བྱའོ།དངོས་པོ་སོ་སོར་རྣམ་པར་རིག་པའི་མཚན་ཉིད་དེ་སྐྱེ་བ་ན། ཆུང་མ་མ་གུས་པ་དག་ནི་གནོད་དེ། གཞོན་ནུ་དེ་ནས་དེ་བཞིན་གཤེགས་པ་དགྲ་བཅོམ་པ་ཡང་དག་པར་རྫོགས་པའི་སངས་རྒྱས་དབྱངས་བྱིན་གྱིས་ དེ་ལ་མ་རིག་གཏི་མུག་མུན་པ་མེད།སྤྱན་སྔ་ནས་ཚིགས་སུ་བཅད་པ་འདི་དག་གིས་མངོན་པར་བསྟོད་དོ།གང་བྱིན་ནས་ཡིད་དགའ་བར་འགྱུར་ཏེ་མི་འགྱོད་པའོ།\\n',\n",
       "  'sign expert will be foremost in terms of miraculous abilities. when the features of cognized entities manifest, disrespecting ones wife is harmful. then, young man, at that time the bhagavan, the tathagata, the arhat, the perfectly enlightened buddha ghosadatta, and being without ignorance, delusion, and confusion, then, in his presence, they praised him with these verses: it is to be joyful and without regret in giving.\\n'),\n",
       " ('གཅེས་སྤྲས་བྱེད་པའི་ཆོས་གཉིས་ཏེ། ཆོས་ལ་དགའ་བས་དགའ་ཞིང་མོས་པ་དང་། མི་དགའ་བ་སྤོང་བའོ།འོད་བྱེད་ཅེས་བྱ་རྫུ་འཕྲུལ་ལྡན་པ་ཡིན།\\n',\n",
       "  'there are two teachings that are held in high regard: being inspired and eager because of ones delight with the dharma, and abandoning being uninspired. and radiant the one of miracles.\\n'),\n",
       " ('སྨན་ཆེན་གཞན་ཡང་དང་པོ་ཤི་འཕོས་ནས། ད་དུང་མ་སྐྱེས་པའི་རྣམ་པར་ཤེས་པའི་རྣམ་པ་ཇི་ལྟར་བལྟ་བར་བྱ་ཞེས་གང་ཁྱོད་ཀྱིས་སྨྲས་པ་དེ་ནི་ སྨན་གྱི་རྒྱལ་པོས་སྨྲས་པ།དེ་ཙམ་ན་བདག་འདི་ནི་དེའི་ཕ་རོལ་ན་ཡང་ཡོད་དོ་སྙམ་མོ།དེ་ཅིའི་ཕྱིར་ཞེ་ན།\\n',\n",
       "  'moreover, mahausadhi, you asked how one should consider the aspect of a consciousness that has just undergone transfer but has not yet been reborn. bhaisajyaraja replied: i was already there even then. and why?\\n'),\n",
       " ('དེ་བཞིན་དུ་ཁམས་རྣམས་ལ་མངོན་པར་ཞེན་ཏོ།སྟོང་པ་ཉིད་ཀྱང་ཡིད་ཀྱི་འདུས་ཏེ་རེག་པའི་རྐྱེན་གྱིས་ཚོར་བའོ། དེ་ནས་དྲང་སྲོང་སྲིད་པ་ཞི་བྱེད་འདི་སྙམ་དུ་སེམས་ཏེ། ཁ་ཅིག་ཏུ་རྟག་པར་ལྟ་བ་དང་པོའི་སེམས་ཅན་དེ་དག་ཀྱང་ལྟ་བར་གྱུར་པ་འདི་ལྟ་བུ་འཐོབ་སྟེ། བརྒྱ་བྱིན་གྱིས་གསོལ་པ། བཙུན་པ་དེ་ནི་དེ་ལགས་སོ། །དེ་ནི་དེ་ལགས་ཏེ།\\n',\n",
       "  'similarly, they are fixated on the sensory elements. emptiness is indeed the feelings conditioned by mentally compounded sensory contact. once he thought to himself, among the views of permanence, this one is the first. the beings then develop the following view: lord, so it is, said sakra. it is just as you say.\\n'),\n",
       " ('ཤིང་རྟའི་ཕང་ལོ་ཙམ་གྱི་པད་མ་བརྩེགས། །ཇི་ལྟར་སྣ་ཚོགས་མཛེས་པ་བགྱིས་པ་ལགས།དེ་ཅིའི་ཕྱིར་ཞེ་ན། བུད་མེད་གང་དག་སྦྲུམ་པ་དེ་དག་ཀྱང་མི་བདེ་བ་མེད་པ་ཉིད་དུ་གཟུགས་བཟང་ཞིང་བལྟ་ན་སྡུག་པ་དག་བཙས་སོ།མཽད་གལ་གྱི་བུ་དེ་དག་ནི་བྱང་ཆུབ་སེམས་དཔའི་ཆོས་རྣམས་ཡིན་ཏེ། བྱང་ཆུབ་སེམས་དཔའ་གང་དག་མི་འཆིང་། ཡོངས་སུ་མི་ཉམས་པར་བྱེད་པའོ།རྫུ་འཕྲུལ་ཅན་རྣམས་ཀྱི་མཆོག་ནི་ཆོས་སྟོབས་ཞེས་བྱའོ།\\n',\n",
       "  'how is it that lotuses the size of chariot wheels adorn it in various colors? why is this? those women who were pregnant gave birth, without the slightest discomfort, to fine-featured, attractive babies. maudgalyayana, these are the qualities of bodhisattvas: bodhisattvas are bound by nothing and never regress. dharma strength will be foremost in terms of miraculous abilities.\\n'),\n",
       " ('དེ་ནས་ཀླུའི་རྒྱལ་པོ་ཤུགས་འཆང་གིས་བཅོམ་ལྡན་འདས་ལ་ཚིགས་སུ་བཅད་པའི་དབྱངས་ཀྱིས་ཞུ་བ་ཞུས་པ།\\n',\n",
       "  'then the naga king power wielder asked the blessed one in the form of a song in verse:\\n'),\n",
       " ('ལྷའི་བུ་བཞི་པོ་འདི་དག་ནི་བྱང་ཆུབ་སེམས་དཔའ་རྣམས་ཀྱི་ཡོངས་སུ་གཏང་བར་མི་བྱ་བའོ།ཁྱེའུས་གསོལ་པ།\\n',\n",
       "  'divine being, these are the four things that bodhisattvas should not forsake: the child said:\\n'),\n",
       " ('བསམ་གཏན་ལྷུར་ལེན་པ་མ་ཡིན། དེ་ཅིའི་ཕྱིར་ཞེ་ན། རབ་འབྱོར་འདི་ལྟར་ཤེས་རབ་ཀྱི་ཕ་རོལ་ཏུ་ཕྱིན་པ་ཟབ་མོ་འདིར་ཕ་རོལ་ཏུ་ཕྱིན་པ་ཐམས་ཅད་འདུས་པའི་ཕྱིར་རོ།དེ་རྣམས་ལ་ཕྱག་འཚལ་ནས།\\n',\n",
       "  'they do not attach importance to meditative concentration. if you ask why, sudbhuti, it is because all the transcendent perfections are subsumed in this profound transcendent perfection of wisdom. following this homage:\\n'),\n",
       " ('མི་ཚངས་པར་སྤྱོད་པ་དང་། དེས་ན་གཏི་མུག་ཟད་པ་མེད།རྒྱལ་མཚན་དང་། བ་དན་དང་། མི་སྡུག་པ། མི་གཙང་བ་མང་པོ་ལ་བརྟེན་པའོ། བྲམ་ཟེ་དེས་སྨྲས་པ། ལྷ་བདག་ནི་ཁམ་གཅིག་གིས་འཚོ་བའི་རྔོ་མི་ཐོགས་སོ།དེ་རིང་འཁོར་འདིར་དེ་ཀུན་མ་ལུས་སྨྲས་ན་ནི། །ཁྱེད་རྣམས་བརྒྱལ་ཏེ་ས་ལ་རབ་ཏུ་སྒྱེལ་བར་འགྱུར།\\n',\n",
       "  'impure conduct, therefore, ignorance is inexhaustible. standards, banners, it is still based on many unpleasant and dirty things: now i will eat the other, the brahmin said, deva, i cant survive on just one morsel. if i were to tell everything now to the audience here, you would faint and fall to the ground.\\n'),\n",
       " ('དེས་བལྟས་ན་སྲིད་པ་ཐ་མ་པའི་སེམས་ཅན་གྱིས་ཁྱིམ་དེར་ཉིང་མཚམས་སྦྱར་བར་མཐོང་ངོ་།མཽད་གལ་གྱི་བུ་ངས་ལྟ་བའི་ཟག་པ་ཤེས་པ་འགོག་པ་ཤེས་པར་བྱ་བའི་དོན་དུ་ཞེས་བྱ་བ་ནས་དེ་བཞིན་དུ་སྦྱར་ཏེ། མངོན་པར་འདུས་བྱས་པའི་བར་དང་བདག་གིས་ཇི་ལྟར་ཡང་དག་པར་རབ་ཏུ་བཤད་པར་བྱ་སྙམ་པའི་བར་དུའོ།སེམས་ཅན་འདི་དག་གི་དབང་པོ་ནི་འཁྲུལ་བའོ།དེ་ཚལ་གྱི་ནང་དུ་སོང་སྟེ། ཤིང་ལྗོན་པ་ལ་རྟོག་པ་ན་དེ་འདི་སྙམ་དུ་སེམས་ཏེ།\\n',\n",
       "  'and he looked and saw that a being in its final existence had taken rebirth in their house. maudgalyayana, when i was training in the practices of a bodhisattva in the past, i created numerous different roots of virtue in order to understand cessation as related to knowledge of the defilement of views. i did this by wondering how i could fully awaken to unsurpassed and perfect buddhahood and then teach sentient beings about the knowledge of cessation as related to knowledge of the defilement of views. the faculties of these people are confused this sage had entered the forest, and there he thought about the trees:\\n'),\n",
       " ('དེ་ནས་བཅོམ་ལྡན་འདས་ཀྱིས་ཁྱིམ་བདག་གི་བུ་དེའི་བསམ་པ་དང་བག་ལ་ཉལ་བ་དང་ཁམས་དང་ཤེས་པ་དང་རང་བཞིན་ཐུགས་སུ་ཆུད་ནས་དེ་དང་འཐུན་པའི་ཆོས་བསྟན་ཏེ་ འཇམ་དཔལ་བྱང་ཆུབ་སེམས་དཔའ་ཆོས་ཐམས་ཅད་འདོད་ཆགས་ཀྱི་ཆོས་སུ་མཐོང་བ་གང་ཡིན་པ་དེས་ནི་ལས་ཀྱི་སྒྲིབ་པ་རྣམ་པར་དག་པ་ཐོབ་པར་འགྱུར་རོ།རིགས་ཀྱི་བུ་འདི་ལ་བྱང་ཆུབ་སེམས་དཔའ་དེ་འདི་སྙམ་དུ་སེམས་ཏེ། འཇམ་དཔལ་ཇི་ལྟར་ན་བྱང་ཆུབ་སེམས་དཔའ་ཡུན་རིང་པོ་ནས་སྤྱད་པ་ཡིན།\\n',\n",
       "  'the blessed one directly apprehended the thoughts, habitual tendencies, temperament, and nature of the householders son, and taught him the dharma accordingly. manjusri, bodhisattvas who see all phenomena as objects of desire will attain purification from karmic obscurations. noble son, bodhisattvas do so by reflecting in this way: manjusri, what is a bodhisattva with extensive experience?\\n'),\n",
       " ('ཁྱིམ་བདག་གཞན་ཡང་དེ་བཞིན་གཤེགས་པས་འདི་ལྟར་རབ་ཏུ་མཁྱེན་ཏེ། དེ་བཞིན་གཤེགས་པ་སེང་གེའི་སྟོབས་སྐྱེ་བའི་ཡུལ་ནི་སྟོབས་ཆེན་ཞེས་བྱའོ།\\n',\n",
       "  'moreover, householder, this is how the thus-gone one knows: the thus-gone simhabala will be born in a place called great strength.\\n')]"
      ]
     },
     "execution_count": 19,
     "metadata": {},
     "output_type": "execute_result"
    }
   ],
   "source": [
    "found_lines[:20]"
   ]
  },
  {
   "cell_type": "code",
   "execution_count": null,
   "id": "8461ee7d-8048-405b-b993-64a433519458",
   "metadata": {},
   "outputs": [],
   "source": []
  },
  {
   "cell_type": "code",
   "execution_count": null,
   "id": "242dcced-a765-490b-93d3-1cc3b2fd5f6b",
   "metadata": {},
   "outputs": [],
   "source": []
  },
  {
   "cell_type": "code",
   "execution_count": null,
   "id": "c97718d2-5bae-47fd-ae02-fb125ba26a85",
   "metadata": {},
   "outputs": [],
   "source": []
  },
  {
   "cell_type": "code",
   "execution_count": null,
   "id": "6c563a50-80b1-4686-be28-cdd78e2d6fad",
   "metadata": {},
   "outputs": [],
   "source": []
  },
  {
   "cell_type": "code",
   "execution_count": null,
   "id": "c9ded49b-9172-4880-b5da-f5d9dee0b55d",
   "metadata": {},
   "outputs": [],
   "source": []
  },
  {
   "cell_type": "code",
   "execution_count": null,
   "id": "bc6a91bc-792e-4ce1-8a62-33376731cfaa",
   "metadata": {},
   "outputs": [],
   "source": []
  },
  {
   "cell_type": "code",
   "execution_count": 22,
   "id": "536d5b5e-a959-40ee-9944-c14873d94454",
   "metadata": {},
   "outputs": [],
   "source": [
    "x = \"as4d[asdfq123wer]z(x)5dc\""
   ]
  },
  {
   "cell_type": "code",
   "execution_count": 23,
   "id": "453a1cf9-3c63-4749-a557-149b433b0c9e",
   "metadata": {},
   "outputs": [
    {
     "data": {
      "text/plain": [
       "1"
      ]
     },
     "execution_count": 23,
     "metadata": {},
     "output_type": "execute_result"
    }
   ],
   "source": [
    "x.count(\"d\") % 2"
   ]
  },
  {
   "cell_type": "code",
   "execution_count": 20,
   "id": "0036c012-c28d-4bfc-b282-04cc49798e70",
   "metadata": {},
   "outputs": [],
   "source": [
    "import re"
   ]
  },
  {
   "cell_type": "code",
   "execution_count": 35,
   "id": "f21b8227-f03d-43a1-a70b-f26f74951b33",
   "metadata": {},
   "outputs": [],
   "source": [
    "re_ = re.compile(f\"[{'([{'}].*?[{'])}'}]\")"
   ]
  },
  {
   "cell_type": "code",
   "execution_count": 36,
   "id": "36bc8160-a998-4572-9033-2c4db9fa37a9",
   "metadata": {},
   "outputs": [
    {
     "data": {
      "text/plain": [
       "'asdzc'"
      ]
     },
     "execution_count": 36,
     "metadata": {},
     "output_type": "execute_result"
    }
   ],
   "source": [
    "re_.sub(\"\", x)"
   ]
  },
  {
   "cell_type": "code",
   "execution_count": 37,
   "id": "901e60c8-6f61-48a8-b53f-aaaccf9bca25",
   "metadata": {},
   "outputs": [],
   "source": [
    "re_ = re.compile(f\"[{'adq'}]\")"
   ]
  },
  {
   "cell_type": "code",
   "execution_count": 38,
   "id": "69e58f92-3681-4c03-be39-84db5dbcbd8e",
   "metadata": {},
   "outputs": [
    {
     "data": {
      "text/plain": [
       "'s[sfwer]z(x)c'"
      ]
     },
     "execution_count": 38,
     "metadata": {},
     "output_type": "execute_result"
    }
   ],
   "source": [
    "re_.sub(\"\", x)"
   ]
  },
  {
   "cell_type": "code",
   "execution_count": 21,
   "id": "57fb57ac-fb55-4c8a-b421-3da4ca1fb8fc",
   "metadata": {},
   "outputs": [],
   "source": [
    "re_ = re.compile(\"[0-9]\")"
   ]
  },
  {
   "cell_type": "code",
   "execution_count": 24,
   "id": "54f5d7df-864b-40f0-96eb-3ee443103161",
   "metadata": {},
   "outputs": [
    {
     "data": {
      "text/plain": [
       "'asd[asdfqwer]z(x)dc'"
      ]
     },
     "execution_count": 24,
     "metadata": {},
     "output_type": "execute_result"
    }
   ],
   "source": [
    "re_.sub(\"\", x)"
   ]
  },
  {
   "cell_type": "code",
   "execution_count": null,
   "id": "57491756-b825-45fc-9010-5c30713b395a",
   "metadata": {},
   "outputs": [],
   "source": []
  },
  {
   "cell_type": "code",
   "execution_count": null,
   "id": "8fae8aa1-4399-4f48-bbc0-ae50158b9727",
   "metadata": {},
   "outputs": [],
   "source": []
  }
 ],
 "metadata": {
  "kernelspec": {
   "display_name": "Python 3 (ipykernel)",
   "language": "python",
   "name": "python3"
  },
  "language_info": {
   "codemirror_mode": {
    "name": "ipython",
    "version": 3
   },
   "file_extension": ".py",
   "mimetype": "text/x-python",
   "name": "python",
   "nbconvert_exporter": "python",
   "pygments_lexer": "ipython3",
   "version": "3.10.5"
  }
 },
 "nbformat": 4,
 "nbformat_minor": 5
}
