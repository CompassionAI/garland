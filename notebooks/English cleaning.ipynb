{
 "cells": [
  {
   "cell_type": "markdown",
   "id": "dda2ab94-1c05-436e-a6c2-ac1f686f0047",
   "metadata": {},
   "source": [
    "# Load the data"
   ]
  },
  {
   "cell_type": "code",
   "execution_count": 1,
   "id": "7236afa5-5272-434e-95b0-bc1ed70c7abb",
   "metadata": {},
   "outputs": [],
   "source": [
    "import os\n",
    "\n",
    "from tqdm.auto import tqdm"
   ]
  },
  {
   "cell_type": "code",
   "execution_count": 2,
   "id": "2552de2b-b6fc-46cd-92f3-f5553e12e9bc",
   "metadata": {},
   "outputs": [
    {
     "data": {
      "application/vnd.jupyter.widget-view+json": {
       "model_id": "43952de844324c10a984afdab472e093",
       "version_major": 2,
       "version_minor": 0
      },
      "text/plain": [
       "  0%|          | 0/3 [00:00<?, ?it/s]"
      ]
     },
     "metadata": {},
     "output_type": "display_data"
    }
   ],
   "source": [
    "bo_lines, en_lines = [], []\n",
    "for dataset_name in tqdm([\"train\", \"valid\", \"test\"]):\n",
    "    with open(os.path.join(os.environ[\"CAI_TEMP_PATH\"], \"enbo_data\", f\"{dataset_name}.bo\")) as bo_f:\n",
    "        bo_lines.extend(bo_f.readlines())\n",
    "    with open(os.path.join(os.environ[\"CAI_TEMP_PATH\"], \"enbo_data\", f\"{dataset_name}.en\")) as en_f:\n",
    "        en_lines.extend(en_f.readlines())"
   ]
  },
  {
   "cell_type": "code",
   "execution_count": 3,
   "id": "346d4d9d-838d-4460-988c-861292d605f7",
   "metadata": {},
   "outputs": [
    {
     "data": {
      "text/plain": [
       "663164"
      ]
     },
     "execution_count": 3,
     "metadata": {},
     "output_type": "execute_result"
    }
   ],
   "source": [
    "len(en_lines)"
   ]
  },
  {
   "cell_type": "code",
   "execution_count": 4,
   "id": "5e5d4039-0187-4136-8986-9f3cb99066ec",
   "metadata": {},
   "outputs": [
    {
     "data": {
      "text/plain": [
       "135200821"
      ]
     },
     "execution_count": 4,
     "metadata": {},
     "output_type": "execute_result"
    }
   ],
   "source": [
    "bo_text = \"\\n\".join(bo_lines)\n",
    "len(bo_text)"
   ]
  },
  {
   "cell_type": "code",
   "execution_count": 5,
   "id": "aaadc401-cdf2-481f-ad4d-f4b0142af209",
   "metadata": {},
   "outputs": [
    {
     "data": {
      "text/plain": [
       "160258376"
      ]
     },
     "execution_count": 5,
     "metadata": {},
     "output_type": "execute_result"
    }
   ],
   "source": [
    "en_text = \"\\n\".join(en_lines)\n",
    "len(en_text)"
   ]
  },
  {
   "cell_type": "markdown",
   "id": "148067f6-3492-4156-a316-f68411567dc6",
   "metadata": {},
   "source": [
    "# Explore"
   ]
  },
  {
   "cell_type": "code",
   "execution_count": 6,
   "id": "d332baaf-693a-4f2b-bd9e-aa1a0716d507",
   "metadata": {},
   "outputs": [],
   "source": [
    "import unicodedata"
   ]
  },
  {
   "cell_type": "code",
   "execution_count": 7,
   "id": "df2d9956-de61-4370-92e0-474c7fa12dd5",
   "metadata": {},
   "outputs": [],
   "source": [
    "bo_unique_chars = sorted(list(set(bo_text)))"
   ]
  },
  {
   "cell_type": "code",
   "execution_count": 8,
   "id": "54d1e4d4-4381-4544-9b6d-f10e424ead81",
   "metadata": {},
   "outputs": [
    {
     "name": "stdout",
     "output_type": "stream",
     "text": [
      "\n",
      "   ་ ། ཀ ཁ ག ང ཅ ཆ ཇ ཉ ཊ ཋ ཌ ཎ ཏ ཐ ད ན པ ཕ བ མ ཙ ཚ ཛ ཝ ཞ ཟ འ ཡ ར ལ ཤ ཥ ས ཧ ཨ ཪ ཱ ི ུ ཱུ ེ ཻ ོ ཽ ཾ ཿ ྀ ྃ ྅ ྐ ྑ ྒ ྔ ྕ ྗ ྙ ྚ ྛ ྜ ྞ ྟ ྠ ྡ ྣ ྤ ྥ ྦ ྨ ྩ ྪ ྫ ྭ ྱ ྲ ླ ྴ ྵ ྶ ྷ\n"
     ]
    }
   ],
   "source": [
    "print(' '.join(bo_unique_chars))"
   ]
  },
  {
   "cell_type": "code",
   "execution_count": 9,
   "id": "04176dff-e69f-467b-a9ff-2bbc19b0735a",
   "metadata": {},
   "outputs": [
    {
     "name": "stdout",
     "output_type": "stream",
     "text": [
      "TIBETAN DIGIT ZERO\n"
     ]
    }
   ],
   "source": [
    "print(unicodedata.name(\"\\u0F20\"))"
   ]
  },
  {
   "cell_type": "code",
   "execution_count": null,
   "id": "0f1e5549-ffd8-46ca-b0db-e13558eb4740",
   "metadata": {},
   "outputs": [],
   "source": [
    "for c in bo_unique_chars:\n",
    "    try:\n",
    "        print(unicodedata.name(c))\n",
    "    except ValueError:\n",
    "        print(\"No name: \" + c)"
   ]
  },
  {
   "cell_type": "markdown",
   "id": "64d6bfd8-243d-44ad-91b6-3b979f2af2af",
   "metadata": {},
   "source": [
    "---"
   ]
  },
  {
   "cell_type": "code",
   "execution_count": 10,
   "id": "edd61911-1033-48e1-a10b-59187e836857",
   "metadata": {},
   "outputs": [
    {
     "data": {
      "text/plain": [
       "['\"there is another teaching: undertaking the activities of sublime beings. \"when he said the letter pa, out came the statement: \\'the absolute .\\' \"in order to know what is possible, i rejoiced in the actions of anyone who practiced without indolence. with my attention unwavering \"i rejoiced in virtue, and bearing in mind the deeds of such lords among men, rejoiced.\\n',\n",
       " 'those who reject or denigrate these path and practices, as well as those who have animosity or resentment toward them, will always obtain all kinds of miserable bodies upon their death.\\n',\n",
       " 'then, naked and with loose hair, the blessed one is endowed with hands and feet that are webbed. noble son, this is the power that ensures that bodhisattvas cannot be subdued by the attacks of opponents.\\n',\n",
       " '8. \"noble son, the limitless greatness of the jewels is threefold: strength of intelligence will be foremost in terms of insight. he dedicated the path of the ten virtuous actions practiced by all those beings toward unsurpassed and perfect awakening. i shall lead you to a great deal of food.\\' and right away they said to him,\\n',\n",
       " '\"the childish confusion of fools is to be found in superficial teachings. who are on a destructive, wrong path, who are following the path of samsara,\\n',\n",
       " '\"the blessed one taught that four things are the referential objects of mental stillness and insight: the image with conceptualization. the image without conceptualization. the point where phenomena end. and the accomplishment of the goal.\" \"blessed one, how many referential objects of mental stillness are there?\"\\n',\n",
       " '\"the buddhas expound skillfulness in methods, and they teach different kinds of yanas. they also elucidate the single yana, they should offer benedictions and greetings with an attitude that regards all sentient beings as their parents, brothers, sisters, friends, peers, and kinsmen. thus, they do not teach those who are hateful and blame others.\\n',\n",
       " \"one's enemies will become one's friends. because that mind is of a nature that is free of ignorance and pride. he is alive and well and teaches the dharma. diligence ripens as the tongue being exceptionally large.\\n\",\n",
       " 'sudbhuti, one who wishes to attain emancipation in things without defining characteristics merely wishes to be born as a pratyekabuddha, or as a tathagata, arhat, and genuine perfect buddha.\\n',\n",
       " 'who have abandoned it and are abandoning it?\" this blessed one now dispatched his regent, the bodhisattva supreme array. they should not abide in feelings that are visually compounded, and they should not abide in , up to and including feelings due to sensory contact that is mentally compounded. adorned with parasols and banners, and covered with a network of pearls and jewels.\\n']"
      ]
     },
     "execution_count": 10,
     "metadata": {},
     "output_type": "execute_result"
    }
   ],
   "source": [
    "en_lines[:10]"
   ]
  },
  {
   "cell_type": "code",
   "execution_count": 11,
   "id": "c7673cef-5336-497e-affb-04d931c4aa8d",
   "metadata": {},
   "outputs": [],
   "source": [
    "unique_chars = sorted(list(set(en_text)))"
   ]
  },
  {
   "cell_type": "code",
   "execution_count": 12,
   "id": "565cd6a6-f8e4-4188-9273-75431c4f03bf",
   "metadata": {},
   "outputs": [
    {
     "name": "stdout",
     "output_type": "stream",
     "text": [
      "\n",
      "   \" ' , - . 0 1 2 3 4 5 6 7 8 9 : ? a b c d e f g h i j k l m n o p q r s t u v w x y z\n"
     ]
    }
   ],
   "source": [
    "print(' '.join(unique_chars))"
   ]
  },
  {
   "cell_type": "code",
   "execution_count": null,
   "id": "0c47aa4a-0898-4866-92ce-4b0646089eaa",
   "metadata": {},
   "outputs": [],
   "source": [
    "for c in unique_chars:\n",
    "    try:\n",
    "        print(unicodedata.name(c))\n",
    "    except ValueError:\n",
    "        print(\"No name: \" + c)"
   ]
  },
  {
   "cell_type": "code",
   "execution_count": 14,
   "id": "d086950d-190b-45a4-a858-82e940bd1e88",
   "metadata": {},
   "outputs": [
    {
     "name": "stdout",
     "output_type": "stream",
     "text": [
      "b - LATIN SMALL LETTER B\n"
     ]
    },
    {
     "data": {
      "text/plain": [
       "590802"
      ]
     },
     "execution_count": 14,
     "metadata": {},
     "output_type": "execute_result"
    }
   ],
   "source": [
    "to_find = unique_chars[20]\n",
    "print(f\"{to_find} - {unicodedata.name(to_find)}\")\n",
    "found_lines = [(bo_line, en_line) for bo_line, en_line in zip(bo_lines, en_lines) if to_find in en_line]\n",
    "len(found_lines)"
   ]
  },
  {
   "cell_type": "code",
   "execution_count": 15,
   "id": "07279011-a32a-45b4-9c75-da1113a9caab",
   "metadata": {},
   "outputs": [
    {
     "data": {
      "text/plain": [
       "'\\\\u0062'"
      ]
     },
     "execution_count": 15,
     "metadata": {},
     "output_type": "execute_result"
    }
   ],
   "source": [
    "r'\\u' + '%04x' % ord(to_find)"
   ]
  },
  {
   "cell_type": "code",
   "execution_count": 16,
   "id": "1df99dbb-1b81-4411-aad2-54a6047aa509",
   "metadata": {},
   "outputs": [
    {
     "data": {
      "text/plain": [
       "[('གཞན་ཡང་ཆོས་གཅིག་སྟེ། སྐྱེས་བུ་དམ་པའི་ལས་རྣམས་ལ་ཞུགས་པའོ།པ་ཞེས་བརྗོད་པ་དང་དོན་དམ་པའི་སྒྲ་བྱུང་ངོ་།གནས་ནི་ཤེས་པར་བྱ་བའི་ཕྱིར། །གང་དག་གཡེལ་བ་མེད་སྤྱོད་པ། །དེ་ཡི་སྤྱོད་ལ་རྗེས་ཡི་རང་། །ངའི་སེམས་རྣམ་པར་མ་གཡོས་ཤིང་། །དགེ་ལ་རྗེས་སུ་ཡི་རང་སྟེ། །མི་དབང་དེ་ཡི་སྤྱོད་པ་ལ། །བསམ་པས་རྗེས་སུ་ཡི་རང་ནས།\\n',\n",
       "  '\"there is another teaching: undertaking the activities of sublime beings. \"when he said the letter pa, out came the statement: \\'the absolute .\\' \"in order to know what is possible, i rejoiced in the actions of anyone who practiced without indolence. with my attention unwavering \"i rejoiced in virtue, and bearing in mind the deeds of such lords among men, rejoiced.\\n'),\n",
       " ('གང་དག་ལམ་དེ་དང་། སྒྲུབ་པ་དེའི་ཕྱིར་སྤོང་ཞིང་མི་སྙན་པར་བརྗོད་ལ། དེ་ལ་ཡང་ཀུན་ནས་མནར་སེམས་ཀྱི་སེམས་དང་ཁོང་ཁྲོ་བའི་སེམས་དང་ལྡན་ཞིང་འཆི་བས་དུས་བྱེད་པ་དེ་དག་ནི་ཐམས་ཅད་དུ་ལུས་ངན་པ་ཐམས་ཅད་ཐོབ་པར་འགྱུར་ཏེ\\n',\n",
       "  'those who reject or denigrate these path and practices, as well as those who have animosity or resentment toward them, will always obtain all kinds of miserable bodies upon their death.\\n'),\n",
       " ('གཅེར་བུ་སྐྲ་གྲོལ་བར་བྱས་ནས་ བཅོམ་ལྡན་འདས་ནི་ཕྱག་དང་ཞབས་དྲ་བ་དང་ལྡན་པ་ཡིན་ཏེ། རིགས་ཀྱི་བུ་འདི་ལ་བྱང་ཆུབ་སེམས་དཔའ་ཕ་རོལ་རྒོལ་བ་ཀུན་གྱིས་ཟིལ་གྱིས་མི་ནོན་པ་ཡིན་ཏེ།\\n',\n",
       "  'then, naked and with loose hair, the blessed one is endowed with hands and feet that are webbed. noble son, this is the power that ensures that bodhisattvas cannot be subdued by the attacks of opponents.\\n'),\n",
       " ('རིགས་ཀྱི་བུ་དེ་ལ་དཀོན་མཆོག་གི་ཆེ་བ་ཉིད་དཔག་ཏུ་མེད་པ་ནི་རྣམ་པ་གསུམ་སྟེ། ཤེས་རབ་ཅན་རྣམས་ཀྱི་མཆོག་ནི་བློ་གྲོས་སྟོབས་ཞེས་བྱའོ།སེམས་ཅན་དེ་དག་ཐམས་ཅད་ཀྱང་དགེ་བ་བཅུའི་ལས་ཀྱི་ལམ་དེ་དག་བླ་ན་མེད་པ་ཡང་དག་པར་རྫོགས་པའི་བྱང་ཆུབ་ཏུ་ཡོངས་སུ་བསྔོའོ།བདག་གིས་ཁྱོད་ལ་ཁ་ཟས་མང་པོ་བསྟན་ཏོ་ཞེས་བྱས་སོ།དེ་ནས་དེ་ཐོས་མ་ཐག་ཏུ་དེ་གཉིས་ཀྱིས་མི་དེ་ལ་སྨྲས་པ།\\n',\n",
       "  '8. \"noble son, the limitless greatness of the jewels is threefold: strength of intelligence will be foremost in terms of insight. he dedicated the path of the ten virtuous actions practiced by all those beings toward unsurpassed and perfect awakening. i shall lead you to a great deal of food.\\' and right away they said to him,\\n'),\n",
       " ('ཚུལ་བཞིན་མ་ལགས་བསླད་པ་འདི། །བྱིས་པ་རྣམས་ཀྱི་འཁྲུལ་པ་སྟེ།རབ་ཏུ་མ་རུངས་ལོག་པའི་ལམ་སོང་ཞིང་། །འཁོར་བའི་ལམ་ལ་གནས་པ་མཐོང་ནས་ནི།\\n',\n",
       "  '\"the childish confusion of fools is to be found in superficial teachings. who are on a destructive, wrong path, who are following the path of samsara,\\n'),\n",
       " ('བཅོམ་ལྡན་འདས་ཀྱིས་ཞི་གནས་དང་ལྷག་མཐོང་གི་དམིགས་པའི་དངོས་པོ་བཞི་པོ་འདི་ལྟ་སྟེ། རྣམ་པར་རྟོག་པ་དང་བཅས་པའི་གཟུགས་བརྙན་དང་། རྣམ་པར་མི་རྟོག་པའི་གཟུགས་བརྙན་དང་། དངོས་པོའི་མཐའ་དང་། དགོས་པ་ཡོངས་སུ་གྲུབ་པའོ་ཞེས་གང་དག་བསྟན་པ་དེ་ལ། བཅོམ་ལྡན་འདས་དུ་ཞིག་ཞི་གནས་ཀྱི་དམིགས་པ་ལགས།\\n',\n",
       "  '\"the blessed one taught that four things are the referential objects of mental stillness and insight: the image with conceptualization. the image without conceptualization. the point where phenomena end. and the accomplishment of the goal.\" \"blessed one, how many referential objects of mental stillness are there?\"\\n'),\n",
       " ('ཐབས་ལ་མཁས་པས་རབ་ཏུ་སྟོན་མཛད་ཅིང་། །ཐེག་པ་རྣམ་པ་ཐ་དད་མངོན་པར་འཆད། །ཐེག་པ་གཅིག་པོའང་ཡོངས་སུ་སྟོན་མཛད་དོ།སེམས་ཅན་ཐམས་ཅད་ལ་ཕ་མ་དང་། མིང་སྲིང་དང་། མཛའ་བཤེས་དང་། ནེའུ་ཟླ་དང་། ཉེ་དུའི་སེམས་ཀྱིས་གཏམ་འདྲེ་བར་བྱ། ཕེབས་པར་སྨྲ་བར་བྱའོ།ཞེ་འགྲས་པ་རྣམས་ལ་མ་ཡིན། ཀླན་ཀ་ཚོལ་བ་རྣམས་ལ་མ་ཡིན།\\n',\n",
       "  '\"the buddhas expound skillfulness in methods, and they teach different kinds of yanas. they also elucidate the single yana, they should offer benedictions and greetings with an attitude that regards all sentient beings as their parents, brothers, sisters, friends, peers, and kinsmen. thus, they do not teach those who are hateful and blame others.\\n'),\n",
       " ('དགྲ་རྣམས་ཀྱང་བཤེས་གཉེན་ཉིད་དུ་འབྱུང་བར་འགྱུར་རོ།མ་རིག་པ་དང་ང་རྒྱལ་ཉིད་ཀྱིས་སེམས་དེའི་སེམས་ཀྱི་ངོ་བོ་དང་བྲལ་ཏེ། འཚོ་ཞིང་གཞེས་ལ་ཆོས་ཀྱང་སྟོན་ཏོ།ལྗགས་ཤིན་ཏུ་རྒྱ་ཆེ་བ་གང་ཡིན་པ་དེ་ནི་བརྩོན་འགྲུས་ཀྱི་རྣམ་པར་སྨིན་པའོ།\\n',\n",
       "  \"one's enemies will become one's friends. because that mind is of a nature that is free of ignorance and pride. he is alive and well and teaches the dharma. diligence ripens as the tongue being exceptionally large.\\n\"),\n",
       " ('རབ་འབྱོར་མཚན་ཉིད་མེད་པའི་ཆོས་རྣམས་ལ་ངེས་པར་འབྱུང་བར་འདོད་པ་གང་ཡིན་པ་དེ་ནི་རང་སངས་རྒྱས་དང་། དེ་བཞིན་གཤེགས་པ་དགྲ་བཅོམ་པ་ཡང་དག་པར་རྫོགས་པའི་སངས་རྒྱས་སྐྱེ་བར་འདོད་དུ་ཟད་དོ།\\n',\n",
       "  'sudbhuti, one who wishes to attain emancipation in things without defining characteristics merely wishes to be born as a pratyekabuddha, or as a tathagata, arhat, and genuine perfect buddha.\\n'),\n",
       " ('སྤོང་བར་བགྱིད་པ་འགའ་མཆིས་ལགས་སམ། བཅོམ་ལྡན་འདས་དེས་བྱང་ཆུབ་སེམས་དཔའ་རྒྱལ་ཚབ་མཆོག་གི་བཀོད་པ་ཞེས་བྱ་བ་བཏང་ངོ་།མིག་གི་འདུས་ཏེ་རེག་པའི་རྐྱེན་གྱིས་ཚོར་བ་ལ་གནས་པར་མི་བགྱི་བ་ནས། ཡིད་ཀྱི་འདུས་ཏེ་རེག་པའི་རྐྱེན་གྱིས་ཚོར་བའི་བར་ལ་གནས་པར་མི་བགྱི་ཞིང་། གདུགས་དང་རྒྱལ་མཚན་དག་གིས་ལེགས་པར་བརྒྱན། །མུ་ཏིག་དང་ནི་ནོར་བུའི་དྲ་བས་གཡོགས\\n',\n",
       "  'who have abandoned it and are abandoning it?\" this blessed one now dispatched his regent, the bodhisattva supreme array. they should not abide in feelings that are visually compounded, and they should not abide in , up to and including feelings due to sensory contact that is mentally compounded. adorned with parasols and banners, and covered with a network of pearls and jewels.\\n'),\n",
       " ('སྣང་བ་བྱས་ཤིང་མུན་པ་བསལ་ཏེ། འཕགས་པའི་ཤེས་པས་ནི་བྱང་ཆུབ་མངོན་པར་རྫོགས་པར་འཚང་རྒྱ་བར་མི་ནུས་ལ། ཤེས་པ་གཞན་ལ་ཡང་གནས་པར་མི་བྱའོ།\\n',\n",
       "  \"he illuminated them and cleared away their darkness. he thought to himself, 'complete awakening to buddhahood does not take place through the knowledge of the noble ones, nor can it happen on the basis of any other knowledge.\\n\"),\n",
       " ('འོད་སྲུང་ལེགས་སོ་ལེགས་སོ།སུ་ནི་དར། ནམ་མཁའ་ཟླ་བ་འདྲ་བ་ཡོན་ཏན་བརྒྱ་རྣམས་ཤིན་ཏུ་རྒྱས།རབ་འབྱོར་རྣམ་པ་དང་། རྟགས་དང་། མཚན་མ་དེ་དག་དང་ལྡན་པའི་བྱང་ཆུབ་སེམས་དཔའ་སེམས་དཔའ་ཆེན་པོ་ནི་ཕྱིར་མི་ལྡོག་པར་སྟོན་ཏོ།འཇམ་དཔལ་གྱིས་སྨྲས་པ། བུ་མོ་སྐྱེ་མཆེད་རྣམས་ཇི་ལྟར་བལྟ་བར་བྱ།\\n',\n",
       "  '\"that is right, kasyapa, that is right. who will flourish? your hundreds of qualities radiate like the moon in the sky. sudbhuti, great bodhisattva beings who possess such attributes, indications, and signs are revealed to be irreversible. \"how, girl, should the sense sources be regarded?\" asked manjusri.\\n'),\n",
       " ('སེམས་ཅན་འདི་དག་ཐམས་ཅད་བདག་གི་གཉེན། །འདི་ཡི་བསོད་ནམས་མང་པོ་ཅི་ཡོད་པ།བསམ་གྱིས་མི་ཁྱབ་ལྷ་རྫས་ཡིད་ཀྱི་ཁྱམས། །དབུས་སུ་རིན་ཆེན་སེང་གེའི་ཁྲི་ཡང་བཙུགས།སྲས་པོ་རྗེ་བཙན་སྦེད་པ་རིམ་གྲོ་པ།\\n',\n",
       "  'and rejoice in the entirety of the merit accumulated by all these beings who are my family. inconceivable, divine, formed from the mind- and he placed in the center a precious lion throne. fierce lord will be his son and hidden his attendant.\\n'),\n",
       " ('དམ་པའི་ཆོས་ནི་ལོ་བདུན་ཁྲིའི་བར་དུ་གནས་སོ།དེ་བཞིན་དུ་སྦྱིན་པའི་ཕ་རོལ་ཏུ་ཕྱིན་པ་སྟོང་པ་ནས། བླ་ན་མེད་པ་ཡང་དག་པར་རྫོགས་པའི་བྱང་ཆུབ་མངོན་པར་རྫོགས་པར་འཚང་རྒྱ་བར་མི་འགྱུར་བ སོ་སོའི་སྐྱེ་བོ་ཐོས་པ་དང་མི་ལྡན་པ་དག་བདག་ཏུ་རྟོག་པར་བྱེད། རྟག་པ་དང་གཙང་བར་རྟོག་པར་བྱེད་དེ། བདག་ཉིད་སྡུག་བསྔལ་གྱི་ཚོགས་དང་། སྦྲེལ་བ་ལ་ལྟོས། བཅོམ་ལྡན་འདས་དེ་ནས་ཁྱིམ་བདག་དེས་མི་དབུལ་པོ་དེ་ལ་བུ་ཞེས་མིང་དུ་བཏགས་སོ དེ་ནི་གང་ཡང་འབྱུང་མི་འགྱུར།\\n',\n",
       "  \"his sacred dharma will remain for seventy thousand years. similarly, the transcendent perfection of generosity is empty, will fail to attain manifestly perfect buddhahood in unsurpassed, genuinely perfect enlightenment. ordinary, ignorant individuals conceive in terms of a self, permanence, and purity, which results in their various sufferings. then, bhagavan, that householder calls that that poor man 'son,' will achieve nothing at all.\\n\"),\n",
       " ('གཅིག་ཏུ་ན་ནི་མྱ་ངན་ལས་འདས་པའི་རྟེན་ཅིང་འབྲེལ་བར་འབྱུང་བའི་སྒོ་ཕྱེའོ།མཁས་པ་དག་ནི་མི་སྐྱེ་བའི་ཆོས་ལ་མི་སྐྲག་མི་དངང་། དངང་བར་མི་འགྱུར་ཏེ། དེས་ནི་འདྲེན་པ་རྐང་གཉིས་གཙོ་བོ་མཆོད་པ་ཡིན།རིམ་གྲོ་པ་ནི་ཡོན་ཏན་བློ་གྲོས་ཞེས་བྱའོ།ཏིང་ངེ་འཛིན་རབ་ཏུ་འཐོབ་པ་དང་། མི་དབུལ་བར་འགྱུར་ཏེ། ཡུམ་ནི་ལྷ་མ་ཡིན་གྱི་གཟི་བརྗིད་ཅེས་བྱའོ།\\n',\n",
       "  '\\'this alone is the foundation of nirvana and opens the gate of dependent origination. \"the wise are not frightened or intimidated by phenomena that do not arise. for them it is an offering to the guides, the lords of humans. qualities of intelligence will be his attendant. they attain samadhi. and they will never be poor. splendor of demigods will be his mother.\\n'),\n",
       " ('ཡོན་ཏན་ཀུན་མཐར་གང་ཕྱིན་ཡོན་ཏན་རྣམས་ལ་རློམ་སེམས་མི་མངའ་བ།\\n',\n",
       "  'perfecting all qualities, one harbors no arrogance about such qualities.\\n'),\n",
       " ('སྲིད་པ་གསུམ་ན་མཚུངས་པ་མ་མཆིས་དྲི་གསུམ་དྲི་མི་མངའ།སྲས་པོ་དོན་ཆེན་འོད་ལྡན་རིམ་གྲོ་པ།སྐུད་པ་ཡང་རལ་གྲིས་བཅད་དེ་ཞུགས་ཀྱི་ནང་དུ་དོར་རོ།རྣམ་པར་ཐར་པ་སྟོང་པ་ཉིད་ཀྱི་སྒོའི་ཕྱིར་རོ།གལ་ཏེ་རོ་མྱང་བ་མེད་པར་རྗེས་སུ་ལྟ་བར་གནས་པའམ། གལ་ཏེ་ཉེས་དམིགས་སུ་རྗེས་སུ་ལྟ་བར་གནས་པའམ། གལ་ཏེ་ངེས་པར་འབྱུང་བར་རྗེས་སུ་ལྟ་བར་གནས་པ་དེ་དེ་བཞིན་གཤེགས་པས་ཡང་དག་པ་ཇི་ལྟ་བ་བཞིན་རབ་ཏུ་མཁྱེན་ཏོ།\\n',\n",
       "  '\"in the three worlds, you are unequaled and have none of the three stains. great objective will be his son and luminous his attendant. the cord should then be cut with a sword and tossed into the fire. because of the liberation gate of emptiness. whether he contemplates insipidity, or whether he contemplates shortcomings, or whether he contemplates deliverance, the thus-gone one correctly understands.\\n'),\n",
       " ('དེ་ནས་ཤར་ཕྱོགས་སུ་སངས་རྒྱས་ཀྱི་ཞིང་འདི་ནས་འཇིག་རྟེན་གྱི་ཁམས་གང་གཱའི་ཀླུང་གི་བྱེ་མ་སྙེད་འདས་པ་ན།\\n',\n",
       "  'now, to the east of this buddha realm, beyond as many worlds as there are grains of sand in the river ganga,\\n'),\n",
       " ('ཚངས་རིས་བྱེ་བ་ཕྲག་བརྒྱ་དང་།བཞི་གང་ཞེ་ན། དཔེར་ན་མིའི་ལུས་ལས་གྲིབ་མ་མི་གསལ་ཞིང་གཟུགས་ཅན་མ་ཡིན་པ་འབྱུང་ལ་མི་དེ་ཉིད་ཀྱི་ཕྱི་བཞིན་འབྲང་སྟེ། དམར་པོའི་དྲིས་ཀྱང་བྱུག་བྱ་ཞིང་། །རིན་ཆེན་དམར་པོ་སོགས་ཀྱིས་བརྒྱན།ཤ་ར་དྭ་ཏིའི་བུ་གཞན་ཡང་གང་གི་ཚེ་བྱང་ཆུབ་སེམས་དཔའ་སེམས་དཔའ་ཆེན་པོ་འདི་སྙམ་དུ་འདི་དག་ནི་དགེ་བའི་ཆོས་རྣམས་སོ། །འདི་དག་ནི་མི་དགེ་བའི་ཆོས་རྣམས་སོ\\n',\n",
       "  '\"there are also one billion brahma realms, what are those four? \"as another analogy, a person\\'s body casts a shadow that is indistinct and formless, and follows that person. apply red perfume, \"and adorn yourself with red jewels and the like. \"moreover, saradvatidputra, whenever a great bodhisattva being holds the view that these are virtuous phenomena, these are non-virtuous phenomena,\\n'),\n",
       " ('ཕུང་པོ་དག་ལས་རབ་ཏུ་རྣམ་པར་གྲོལ་བ། ཁམས་རྣམས་དང་མི་ལྡན་པ། བཅོམ་ལྡན་འདས་ཡི་གེ་དྲུག་པའི་རིག་སྔགས་ཆེན་མོ་རྣལ་འབྱོར་སྤྱོད་པ་བདག་གིས་ཇི་ལྟར་ཐོབ་པར་བགྱི།དེ་བཞིན་གཤེགས་པ་ལྕེའི་རྣམ་པར་ཤེས་པའི་ཁམས་ཤེས་པ་དེ་ལ་ཡང་ཞུ་བ་ཞུས་པ་ན།\\n',\n",
       "  'he is liberated from the skandhas. he is separated from the dhatus. \"bhagavat, how can i obtain the six-syllable mahavidya of perfect yoga? when the thus-gone one is asked about the knowledge of the tongue consciousness element,\\n')]"
      ]
     },
     "execution_count": 16,
     "metadata": {},
     "output_type": "execute_result"
    }
   ],
   "source": [
    "found_lines[:20]"
   ]
  },
  {
   "cell_type": "code",
   "execution_count": null,
   "id": "8461ee7d-8048-405b-b993-64a433519458",
   "metadata": {},
   "outputs": [],
   "source": []
  },
  {
   "cell_type": "code",
   "execution_count": null,
   "id": "242dcced-a765-490b-93d3-1cc3b2fd5f6b",
   "metadata": {},
   "outputs": [],
   "source": []
  },
  {
   "cell_type": "code",
   "execution_count": null,
   "id": "c97718d2-5bae-47fd-ae02-fb125ba26a85",
   "metadata": {},
   "outputs": [],
   "source": []
  },
  {
   "cell_type": "code",
   "execution_count": null,
   "id": "6c563a50-80b1-4686-be28-cdd78e2d6fad",
   "metadata": {},
   "outputs": [],
   "source": []
  },
  {
   "cell_type": "code",
   "execution_count": null,
   "id": "c9ded49b-9172-4880-b5da-f5d9dee0b55d",
   "metadata": {},
   "outputs": [],
   "source": []
  },
  {
   "cell_type": "code",
   "execution_count": null,
   "id": "bc6a91bc-792e-4ce1-8a62-33376731cfaa",
   "metadata": {},
   "outputs": [],
   "source": []
  },
  {
   "cell_type": "code",
   "execution_count": 19,
   "id": "536d5b5e-a959-40ee-9944-c14873d94454",
   "metadata": {},
   "outputs": [],
   "source": [
    "x = \"asd[asdfqwer]z(x)dc\""
   ]
  },
  {
   "cell_type": "code",
   "execution_count": 22,
   "id": "453a1cf9-3c63-4749-a557-149b433b0c9e",
   "metadata": {},
   "outputs": [
    {
     "data": {
      "text/plain": [
       "1"
      ]
     },
     "execution_count": 22,
     "metadata": {},
     "output_type": "execute_result"
    }
   ],
   "source": [
    "x.count(\"d\") % 2"
   ]
  },
  {
   "cell_type": "code",
   "execution_count": 34,
   "id": "0036c012-c28d-4bfc-b282-04cc49798e70",
   "metadata": {},
   "outputs": [],
   "source": [
    "import re"
   ]
  },
  {
   "cell_type": "code",
   "execution_count": 35,
   "id": "f21b8227-f03d-43a1-a70b-f26f74951b33",
   "metadata": {},
   "outputs": [],
   "source": [
    "re_ = re.compile(f\"[{'([{'}].*?[{'])}'}]\")"
   ]
  },
  {
   "cell_type": "code",
   "execution_count": 36,
   "id": "36bc8160-a998-4572-9033-2c4db9fa37a9",
   "metadata": {},
   "outputs": [
    {
     "data": {
      "text/plain": [
       "'asdzc'"
      ]
     },
     "execution_count": 36,
     "metadata": {},
     "output_type": "execute_result"
    }
   ],
   "source": [
    "re_.sub(\"\", x)"
   ]
  },
  {
   "cell_type": "code",
   "execution_count": 37,
   "id": "901e60c8-6f61-48a8-b53f-aaaccf9bca25",
   "metadata": {},
   "outputs": [],
   "source": [
    "re_ = re.compile(f\"[{'adq'}]\")"
   ]
  },
  {
   "cell_type": "code",
   "execution_count": 38,
   "id": "69e58f92-3681-4c03-be39-84db5dbcbd8e",
   "metadata": {},
   "outputs": [
    {
     "data": {
      "text/plain": [
       "'s[sfwer]z(x)c'"
      ]
     },
     "execution_count": 38,
     "metadata": {},
     "output_type": "execute_result"
    }
   ],
   "source": [
    "re_.sub(\"\", x)"
   ]
  },
  {
   "cell_type": "code",
   "execution_count": 41,
   "id": "57777f34-7011-4fc3-9e09-ffbfd741ace9",
   "metadata": {},
   "outputs": [
    {
     "ename": "TypeError",
     "evalue": "'in <string>' requires string as left operand, not set",
     "output_type": "error",
     "traceback": [
      "\u001b[0;31m---------------------------------------------------------------------------\u001b[0m",
      "\u001b[0;31mTypeError\u001b[0m                                 Traceback (most recent call last)",
      "Input \u001b[0;32mIn [41]\u001b[0m, in \u001b[0;36m<cell line: 1>\u001b[0;34m()\u001b[0m\n\u001b[0;32m----> 1\u001b[0m \u001b[38;5;28;43mset\u001b[39;49m\u001b[43m(\u001b[49m\u001b[38;5;124;43m\"\u001b[39;49m\u001b[38;5;124;43maaavdsf\u001b[39;49m\u001b[38;5;124;43m\"\u001b[39;49m\u001b[43m)\u001b[49m\u001b[43m \u001b[49m\u001b[38;5;129;43;01min\u001b[39;49;00m\u001b[43m \u001b[49m\u001b[43mx\u001b[49m\n",
      "\u001b[0;31mTypeError\u001b[0m: 'in <string>' requires string as left operand, not set"
     ]
    }
   ],
   "source": [
    "set(\"aaavdsf\")"
   ]
  },
  {
   "cell_type": "code",
   "execution_count": null,
   "id": "8fae8aa1-4399-4f48-bbc0-ae50158b9727",
   "metadata": {},
   "outputs": [],
   "source": []
  }
 ],
 "metadata": {
  "kernelspec": {
   "display_name": "Python 3 (ipykernel)",
   "language": "python",
   "name": "python3"
  },
  "language_info": {
   "codemirror_mode": {
    "name": "ipython",
    "version": 3
   },
   "file_extension": ".py",
   "mimetype": "text/x-python",
   "name": "python",
   "nbconvert_exporter": "python",
   "pygments_lexer": "ipython3",
   "version": "3.10.5"
  }
 },
 "nbformat": 4,
 "nbformat_minor": 5
}
