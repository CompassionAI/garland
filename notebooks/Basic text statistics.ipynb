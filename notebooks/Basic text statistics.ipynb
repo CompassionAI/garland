{
 "cells": [
  {
   "cell_type": "markdown",
   "id": "68a2cd69-4d07-4343-b243-6c7dd88acecb",
   "metadata": {},
   "source": [
    "# Exploring training bitext"
   ]
  },
  {
   "cell_type": "code",
   "execution_count": 1,
   "id": "55371537-48f2-47f4-b296-b6c66e9297c0",
   "metadata": {},
   "outputs": [],
   "source": [
    "import os\n",
    "\n",
    "import pandas as pd"
   ]
  },
  {
   "cell_type": "markdown",
   "id": "0829e924-2b4c-4daa-93c0-ef7d1f54b309",
   "metadata": {},
   "source": [
    "## New"
   ]
  },
  {
   "cell_type": "code",
   "execution_count": 2,
   "id": "6c3f5aa8-a286-420e-a7c1-37316fd6e5ad",
   "metadata": {},
   "outputs": [
    {
     "data": {
      "text/plain": [
       "'/home/eeisenst/workspace/temp/temp_data/enbo_data'"
      ]
     },
     "execution_count": 2,
     "metadata": {},
     "output_type": "execute_result"
    }
   ],
   "source": [
    "bitext_dir = os.path.join(os.environ['CAI_TEMP_PATH'], \"temp_data/enbo_data\")\n",
    "bitext_dir"
   ]
  },
  {
   "cell_type": "code",
   "execution_count": 3,
   "id": "0ea34111-b8d6-4f48-912c-35167fbc900f",
   "metadata": {},
   "outputs": [
    {
     "data": {
      "text/plain": [
       "(143275,\n",
       " 'ཀུན་དགའ་བོ་བྱང་ཆུབ་སེམས་དཔའི་སྤྱོད་པ་རྣམས་ལ་ཁྱོད་བཏང་སྙོམས་སུ་གྱིས་ཤིག བཅོམ་ལྡན་འདས་བདག་སྐྱེས་བུ་དམ་པ་དེའི་བྲོ་འདྲི་ཞིང་མཆི་བར་མི་སྤྲོའོ།')"
      ]
     },
     "execution_count": 3,
     "metadata": {},
     "output_type": "execute_result"
    }
   ],
   "source": [
    "with open(os.path.join(bitext_dir, \"train.bo\"), \"r\") as f:\n",
    "    bo = list(map(lambda x: x.strip(), f.readlines()))\n",
    "len(bo), bo[0]"
   ]
  },
  {
   "cell_type": "code",
   "execution_count": 4,
   "id": "aa8c70f1-92d6-40a7-81c1-958d616d245f",
   "metadata": {},
   "outputs": [
    {
     "data": {
      "text/plain": [
       "(143275,\n",
       " 'ananda, you should remain in equanimity with regard to the deeds of the bodhisattvas. lord, i am indeed reluctant to go to that good man to inquire about his illness.')"
      ]
     },
     "execution_count": 4,
     "metadata": {},
     "output_type": "execute_result"
    }
   ],
   "source": [
    "with open(os.path.join(bitext_dir, \"train.en\"), \"r\") as f:\n",
    "    en = list(map(lambda x: x.strip(), f.readlines()))\n",
    "len(en), en[0]"
   ]
  },
  {
   "cell_type": "code",
   "execution_count": 5,
   "id": "36354ccd-a8f9-40e7-9c64-3163bbcbc715",
   "metadata": {},
   "outputs": [
    {
     "data": {
      "text/html": [
       "<div>\n",
       "<style scoped>\n",
       "    .dataframe tbody tr th:only-of-type {\n",
       "        vertical-align: middle;\n",
       "    }\n",
       "\n",
       "    .dataframe tbody tr th {\n",
       "        vertical-align: top;\n",
       "    }\n",
       "\n",
       "    .dataframe thead th {\n",
       "        text-align: right;\n",
       "    }\n",
       "</style>\n",
       "<table border=\"1\" class=\"dataframe\">\n",
       "  <thead>\n",
       "    <tr style=\"text-align: right;\">\n",
       "      <th></th>\n",
       "      <th>bo</th>\n",
       "      <th>en</th>\n",
       "    </tr>\n",
       "  </thead>\n",
       "  <tbody>\n",
       "    <tr>\n",
       "      <th>0</th>\n",
       "      <td>ཀུན་དགའ་བོ་བྱང་ཆུབ་སེམས་དཔའི་སྤྱོད་པ་རྣམས་ལ་ཁྱ...</td>\n",
       "      <td>ananda, you should remain in equanimity with r...</td>\n",
       "    </tr>\n",
       "    <tr>\n",
       "      <th>1</th>\n",
       "      <td>དགེ་སློང་དག་དེ་ལྟར་ངས་འཕགས་པའི་བདེན་པ་བཞི་པོ་འ...</td>\n",
       "      <td>monks, in this way i genuinely contemplated ea...</td>\n",
       "    </tr>\n",
       "    <tr>\n",
       "      <th>2</th>\n",
       "      <td>གཏུན་ཤིང་གི་སྟེང་དུ་ཉལ་བ་དང་། མགོ་ཐུར་དུ་བསྟན་...</td>\n",
       "      <td>others sleep with their heads toward the groun...</td>\n",
       "    </tr>\n",
       "    <tr>\n",
       "      <th>3</th>\n",
       "      <td>དབྱར་གྱི་ཞལ་ཞལ་ཇི་ལྟར་འགོགས་པ་བཞིན། །ཆུ་ངོགས་བ...</td>\n",
       "      <td>like mud plaster applied during the rains, or ...</td>\n",
       "    </tr>\n",
       "    <tr>\n",
       "      <th>4</th>\n",
       "      <td>འཇིག་རྟེན་ན་གང་གསོལ་བ་འདེབས་པའི་རྒྱུ་ལས་བུ་དང་...</td>\n",
       "      <td>there is a saying, boys and girls are born in ...</td>\n",
       "    </tr>\n",
       "    <tr>\n",
       "      <th>...</th>\n",
       "      <td>...</td>\n",
       "      <td>...</td>\n",
       "    </tr>\n",
       "    <tr>\n",
       "      <th>143270</th>\n",
       "      <td>དེ་ལ་འདུན་པ་སྤོང་བ་དང་ལྡན་པའི་རྫུ་འཕྲུལ་གྱི་རྐ...</td>\n",
       "      <td>what are the six perfections of the intention-...</td>\n",
       "    </tr>\n",
       "    <tr>\n",
       "      <th>143271</th>\n",
       "      <td>སངས་རྒྱས་ལ་ནི་མཆོད་པ་བྱ།</td>\n",
       "      <td>should make offerings to the buddha</td>\n",
       "    </tr>\n",
       "    <tr>\n",
       "      <th>143272</th>\n",
       "      <td>ངའི་རྨི་ལམ་འདི་ལྟ་བུ་ཞིག་མཐོང་ངོ་ཞེས་བཟླས་ནས་ག...</td>\n",
       "      <td>this is the kind of dream that i have had. you...</td>\n",
       "    </tr>\n",
       "    <tr>\n",
       "      <th>143273</th>\n",
       "      <td>དེ་ཉལ་བའི་རྨི་ལམ་ན་དེ་བཞིན་གཤེགས་པ་དང་ལྷན་ཅིག་...</td>\n",
       "      <td>when asleep, in his dreams the bodhisattva wou...</td>\n",
       "    </tr>\n",
       "    <tr>\n",
       "      <th>143274</th>\n",
       "      <td>གཟུགས་དང་བྱང་ཆུབ་ཇི་ལྟར་གཉིས་མ་མཆིས། དྲི་མེད་མ...</td>\n",
       "      <td>how are form and awakening not two? stainless ...</td>\n",
       "    </tr>\n",
       "  </tbody>\n",
       "</table>\n",
       "<p>143275 rows × 2 columns</p>\n",
       "</div>"
      ],
      "text/plain": [
       "                                                       bo  \\\n",
       "0       ཀུན་དགའ་བོ་བྱང་ཆུབ་སེམས་དཔའི་སྤྱོད་པ་རྣམས་ལ་ཁྱ...   \n",
       "1       དགེ་སློང་དག་དེ་ལྟར་ངས་འཕགས་པའི་བདེན་པ་བཞི་པོ་འ...   \n",
       "2       གཏུན་ཤིང་གི་སྟེང་དུ་ཉལ་བ་དང་། མགོ་ཐུར་དུ་བསྟན་...   \n",
       "3       དབྱར་གྱི་ཞལ་ཞལ་ཇི་ལྟར་འགོགས་པ་བཞིན། །ཆུ་ངོགས་བ...   \n",
       "4       འཇིག་རྟེན་ན་གང་གསོལ་བ་འདེབས་པའི་རྒྱུ་ལས་བུ་དང་...   \n",
       "...                                                   ...   \n",
       "143270  དེ་ལ་འདུན་པ་སྤོང་བ་དང་ལྡན་པའི་རྫུ་འཕྲུལ་གྱི་རྐ...   \n",
       "143271                           སངས་རྒྱས་ལ་ནི་མཆོད་པ་བྱ།   \n",
       "143272  ངའི་རྨི་ལམ་འདི་ལྟ་བུ་ཞིག་མཐོང་ངོ་ཞེས་བཟླས་ནས་ག...   \n",
       "143273  དེ་ཉལ་བའི་རྨི་ལམ་ན་དེ་བཞིན་གཤེགས་པ་དང་ལྷན་ཅིག་...   \n",
       "143274  གཟུགས་དང་བྱང་ཆུབ་ཇི་ལྟར་གཉིས་མ་མཆིས། དྲི་མེད་མ...   \n",
       "\n",
       "                                                       en  \n",
       "0       ananda, you should remain in equanimity with r...  \n",
       "1       monks, in this way i genuinely contemplated ea...  \n",
       "2       others sleep with their heads toward the groun...  \n",
       "3       like mud plaster applied during the rains, or ...  \n",
       "4       there is a saying, boys and girls are born in ...  \n",
       "...                                                   ...  \n",
       "143270  what are the six perfections of the intention-...  \n",
       "143271                should make offerings to the buddha  \n",
       "143272  this is the kind of dream that i have had. you...  \n",
       "143273  when asleep, in his dreams the bodhisattva wou...  \n",
       "143274  how are form and awakening not two? stainless ...  \n",
       "\n",
       "[143275 rows x 2 columns]"
      ]
     },
     "execution_count": 5,
     "metadata": {},
     "output_type": "execute_result"
    }
   ],
   "source": [
    "train_df = pd.DataFrame({\n",
    "    \"bo\": bo,\n",
    "    \"en\": en\n",
    "})\n",
    "train_df"
   ]
  },
  {
   "cell_type": "code",
   "execution_count": 6,
   "id": "53e22167-358e-4948-bcc0-3a4ffc140e9f",
   "metadata": {},
   "outputs": [
    {
     "data": {
      "text/html": [
       "<div>\n",
       "<style scoped>\n",
       "    .dataframe tbody tr th:only-of-type {\n",
       "        vertical-align: middle;\n",
       "    }\n",
       "\n",
       "    .dataframe tbody tr th {\n",
       "        vertical-align: top;\n",
       "    }\n",
       "\n",
       "    .dataframe thead th {\n",
       "        text-align: right;\n",
       "    }\n",
       "</style>\n",
       "<table border=\"1\" class=\"dataframe\">\n",
       "  <thead>\n",
       "    <tr style=\"text-align: right;\">\n",
       "      <th></th>\n",
       "      <th>bo</th>\n",
       "      <th>en</th>\n",
       "      <th>bo_len</th>\n",
       "      <th>en_len</th>\n",
       "    </tr>\n",
       "  </thead>\n",
       "  <tbody>\n",
       "    <tr>\n",
       "      <th>0</th>\n",
       "      <td>ཀུན་དགའ་བོ་བྱང་ཆུབ་སེམས་དཔའི་སྤྱོད་པ་རྣམས་ལ་ཁྱ...</td>\n",
       "      <td>ananda, you should remain in equanimity with r...</td>\n",
       "      <td>137</td>\n",
       "      <td>166</td>\n",
       "    </tr>\n",
       "    <tr>\n",
       "      <th>1</th>\n",
       "      <td>དགེ་སློང་དག་དེ་ལྟར་ངས་འཕགས་པའི་བདེན་པ་བཞི་པོ་འ...</td>\n",
       "      <td>monks, in this way i genuinely contemplated ea...</td>\n",
       "      <td>264</td>\n",
       "      <td>327</td>\n",
       "    </tr>\n",
       "    <tr>\n",
       "      <th>2</th>\n",
       "      <td>གཏུན་ཤིང་གི་སྟེང་དུ་ཉལ་བ་དང་། མགོ་ཐུར་དུ་བསྟན་...</td>\n",
       "      <td>others sleep with their heads toward the groun...</td>\n",
       "      <td>207</td>\n",
       "      <td>208</td>\n",
       "    </tr>\n",
       "    <tr>\n",
       "      <th>3</th>\n",
       "      <td>དབྱར་གྱི་ཞལ་ཞལ་ཇི་ལྟར་འགོགས་པ་བཞིན། །ཆུ་ངོགས་བ...</td>\n",
       "      <td>like mud plaster applied during the rains, or ...</td>\n",
       "      <td>100</td>\n",
       "      <td>127</td>\n",
       "    </tr>\n",
       "    <tr>\n",
       "      <th>4</th>\n",
       "      <td>འཇིག་རྟེན་ན་གང་གསོལ་བ་འདེབས་པའི་རྒྱུ་ལས་བུ་དང་...</td>\n",
       "      <td>there is a saying, boys and girls are born in ...</td>\n",
       "      <td>231</td>\n",
       "      <td>202</td>\n",
       "    </tr>\n",
       "    <tr>\n",
       "      <th>...</th>\n",
       "      <td>...</td>\n",
       "      <td>...</td>\n",
       "      <td>...</td>\n",
       "      <td>...</td>\n",
       "    </tr>\n",
       "    <tr>\n",
       "      <th>143270</th>\n",
       "      <td>དེ་ལ་འདུན་པ་སྤོང་བ་དང་ལྡན་པའི་རྫུ་འཕྲུལ་གྱི་རྐ...</td>\n",
       "      <td>what are the six perfections of the intention-...</td>\n",
       "      <td>147</td>\n",
       "      <td>138</td>\n",
       "    </tr>\n",
       "    <tr>\n",
       "      <th>143271</th>\n",
       "      <td>སངས་རྒྱས་ལ་ནི་མཆོད་པ་བྱ།</td>\n",
       "      <td>should make offerings to the buddha</td>\n",
       "      <td>24</td>\n",
       "      <td>35</td>\n",
       "    </tr>\n",
       "    <tr>\n",
       "      <th>143272</th>\n",
       "      <td>ངའི་རྨི་ལམ་འདི་ལྟ་བུ་ཞིག་མཐོང་ངོ་ཞེས་བཟླས་ནས་ག...</td>\n",
       "      <td>this is the kind of dream that i have had. you...</td>\n",
       "      <td>169</td>\n",
       "      <td>159</td>\n",
       "    </tr>\n",
       "    <tr>\n",
       "      <th>143273</th>\n",
       "      <td>དེ་ཉལ་བའི་རྨི་ལམ་ན་དེ་བཞིན་གཤེགས་པ་དང་ལྷན་ཅིག་...</td>\n",
       "      <td>when asleep, in his dreams the bodhisattva wou...</td>\n",
       "      <td>196</td>\n",
       "      <td>195</td>\n",
       "    </tr>\n",
       "    <tr>\n",
       "      <th>143274</th>\n",
       "      <td>གཟུགས་དང་བྱང་ཆུབ་ཇི་ལྟར་གཉིས་མ་མཆིས། དྲི་མེད་མ...</td>\n",
       "      <td>how are form and awakening not two? stainless ...</td>\n",
       "      <td>74</td>\n",
       "      <td>91</td>\n",
       "    </tr>\n",
       "  </tbody>\n",
       "</table>\n",
       "<p>143275 rows × 4 columns</p>\n",
       "</div>"
      ],
      "text/plain": [
       "                                                       bo  \\\n",
       "0       ཀུན་དགའ་བོ་བྱང་ཆུབ་སེམས་དཔའི་སྤྱོད་པ་རྣམས་ལ་ཁྱ...   \n",
       "1       དགེ་སློང་དག་དེ་ལྟར་ངས་འཕགས་པའི་བདེན་པ་བཞི་པོ་འ...   \n",
       "2       གཏུན་ཤིང་གི་སྟེང་དུ་ཉལ་བ་དང་། མགོ་ཐུར་དུ་བསྟན་...   \n",
       "3       དབྱར་གྱི་ཞལ་ཞལ་ཇི་ལྟར་འགོགས་པ་བཞིན། །ཆུ་ངོགས་བ...   \n",
       "4       འཇིག་རྟེན་ན་གང་གསོལ་བ་འདེབས་པའི་རྒྱུ་ལས་བུ་དང་...   \n",
       "...                                                   ...   \n",
       "143270  དེ་ལ་འདུན་པ་སྤོང་བ་དང་ལྡན་པའི་རྫུ་འཕྲུལ་གྱི་རྐ...   \n",
       "143271                           སངས་རྒྱས་ལ་ནི་མཆོད་པ་བྱ།   \n",
       "143272  ངའི་རྨི་ལམ་འདི་ལྟ་བུ་ཞིག་མཐོང་ངོ་ཞེས་བཟླས་ནས་ག...   \n",
       "143273  དེ་ཉལ་བའི་རྨི་ལམ་ན་དེ་བཞིན་གཤེགས་པ་དང་ལྷན་ཅིག་...   \n",
       "143274  གཟུགས་དང་བྱང་ཆུབ་ཇི་ལྟར་གཉིས་མ་མཆིས། དྲི་མེད་མ...   \n",
       "\n",
       "                                                       en  bo_len  en_len  \n",
       "0       ananda, you should remain in equanimity with r...     137     166  \n",
       "1       monks, in this way i genuinely contemplated ea...     264     327  \n",
       "2       others sleep with their heads toward the groun...     207     208  \n",
       "3       like mud plaster applied during the rains, or ...     100     127  \n",
       "4       there is a saying, boys and girls are born in ...     231     202  \n",
       "...                                                   ...     ...     ...  \n",
       "143270  what are the six perfections of the intention-...     147     138  \n",
       "143271                should make offerings to the buddha      24      35  \n",
       "143272  this is the kind of dream that i have had. you...     169     159  \n",
       "143273  when asleep, in his dreams the bodhisattva wou...     196     195  \n",
       "143274  how are form and awakening not two? stainless ...      74      91  \n",
       "\n",
       "[143275 rows x 4 columns]"
      ]
     },
     "execution_count": 6,
     "metadata": {},
     "output_type": "execute_result"
    }
   ],
   "source": [
    "train_df[\"bo_len\"], train_df[\"en_len\"] = train_df.bo.str.len(), train_df.en.str.len()\n",
    "train_df"
   ]
  },
  {
   "cell_type": "code",
   "execution_count": 7,
   "id": "12895175-fb76-4d1f-a381-88f2a5e2c5cd",
   "metadata": {},
   "outputs": [
    {
     "data": {
      "text/plain": [
       "count    143275.000000\n",
       "mean        136.770462\n",
       "std          77.690970\n",
       "min           3.000000\n",
       "25%          81.000000\n",
       "50%         121.000000\n",
       "75%         172.000000\n",
       "max         636.000000\n",
       "Name: bo_len, dtype: float64"
      ]
     },
     "execution_count": 7,
     "metadata": {},
     "output_type": "execute_result"
    }
   ],
   "source": [
    "train_df.bo_len.describe()"
   ]
  },
  {
   "cell_type": "code",
   "execution_count": 8,
   "id": "981d8661-7142-43b4-b32e-0c164a71fbc4",
   "metadata": {},
   "outputs": [
    {
     "data": {
      "text/plain": [
       "<AxesSubplot: >"
      ]
     },
     "execution_count": 8,
     "metadata": {},
     "output_type": "execute_result"
    },
    {
     "data": {
      "image/png": "[encoded data removed]",
      "text/plain": [
       "<Figure size 640x480 with 1 Axes>"
      ]
     },
     "metadata": {},
     "output_type": "display_data"
    }
   ],
   "source": [
    "train_df.bo_len.hist(bins=50)"
   ]
  },
  {
   "cell_type": "code",
   "execution_count": 9,
   "id": "6cf27568-b78e-49b8-8d8f-d6a7e3ff4fb1",
   "metadata": {},
   "outputs": [
    {
     "data": {
      "text/plain": [
       "'including the bodhisattva great being maitreya, the bodhisattva great being manjusri, the bodhisattva great being aksayadmati, the bodhisattva great being sagaradmati, the bodhisattva great being anantadmati, the bodhisattva great being drdhamati, the bodhisattva great being dispeller of the three realms, the bodhisattva great being ratnapani, the bodhisattva great being vaidyaraja, the bodhisattva great being ratnakara, and the bodhisattva great being joy and sorrow.'"
      ]
     },
     "execution_count": 9,
     "metadata": {},
     "output_type": "execute_result"
    }
   ],
   "source": [
    "train_df[train_df.bo_len == train_df.bo_len.max()].en.values[0]"
   ]
  },
  {
   "cell_type": "code",
   "execution_count": 10,
   "id": "3d8b4b9e-746b-42d4-98c8-fdf79bd1e88f",
   "metadata": {},
   "outputs": [
    {
     "data": {
      "text/plain": [
       "count    143275.000000\n",
       "mean        158.162087\n",
       "std          88.505544\n",
       "min           4.000000\n",
       "25%          95.000000\n",
       "50%         143.000000\n",
       "75%         200.000000\n",
       "max         891.000000\n",
       "Name: en_len, dtype: float64"
      ]
     },
     "execution_count": 10,
     "metadata": {},
     "output_type": "execute_result"
    }
   ],
   "source": [
    "train_df.en_len.describe()"
   ]
  },
  {
   "cell_type": "code",
   "execution_count": 11,
   "id": "63fd2c43-edad-474f-825b-26bac7440960",
   "metadata": {},
   "outputs": [
    {
     "data": {
      "text/plain": [
       "<AxesSubplot: >"
      ]
     },
     "execution_count": 11,
     "metadata": {},
     "output_type": "execute_result"
    },
    {
     "data": {
      "image/png": "[encoded data removed]",
      "text/plain": [
       "<Figure size 640x480 with 1 Axes>"
      ]
     },
     "metadata": {},
     "output_type": "display_data"
    }
   ],
   "source": [
    "train_df.en_len.hist(bins=50)"
   ]
  },
  {
   "cell_type": "code",
   "execution_count": 12,
   "id": "29bc4912-6707-402d-8484-5251d141824c",
   "metadata": {},
   "outputs": [
    {
     "data": {
      "text/plain": [
       "'he correctly understands, i know everything that has otherwise not been understood with regard to knowing the characteristics of the thus-gone one, the knowledge of the origin as related to knowledge of the characteristics of the thus-gone one, the knowledge of cessation as related to knowledge of the characteristics of the thus-gone one, and the knowledge of the path that leads to cessation as related to knowledge of the characteristics of the thus-gone one. he correctly understands, i know everything that has otherwise not been understood with regard to knowing the abodes of the thus-gone one, the knowledge of the origin as related to knowledge of the abodes of the thus-gone one, the knowledge of cessation as related to knowledge of the abodes of the thus-gone one, and the knowledge of the path that leads to cessation as related to knowledge of the abodes of the thus-gone one.'"
      ]
     },
     "execution_count": 12,
     "metadata": {},
     "output_type": "execute_result"
    }
   ],
   "source": [
    "train_df[train_df.en_len == train_df.en_len.max()].en.values[0]"
   ]
  },
  {
   "cell_type": "markdown",
   "id": "ba35eda1-5d26-4242-aea8-127e73876127",
   "metadata": {},
   "source": [
    "## Old"
   ]
  },
  {
   "cell_type": "code",
   "execution_count": 13,
   "id": "ff8b614c-5a32-4d7f-84ae-338468ee7005",
   "metadata": {},
   "outputs": [
    {
     "data": {
      "text/plain": [
       "'/home/eeisenst/workspace/temp/temp_data/enbo_data.old'"
      ]
     },
     "execution_count": 13,
     "metadata": {},
     "output_type": "execute_result"
    }
   ],
   "source": [
    "bitext_dir = os.path.join(os.environ['CAI_TEMP_PATH'], \"temp_data/enbo_data.old\")\n",
    "bitext_dir"
   ]
  },
  {
   "cell_type": "code",
   "execution_count": 14,
   "id": "7fb0bf52-6e64-456f-8de7-beb62075a8f1",
   "metadata": {},
   "outputs": [
    {
     "data": {
      "text/plain": [
       "(141920,\n",
       " 'སྒྲུབ་པ་ནི་ཆོས་བརྗོད་དུ་མེད་པར་རྟོགས་པའོ། གཞན་ཡང་རྩོམ་པ་ནི་དགེ་བའི་བཤེས་གཉེན་ལ་རྟེན་པའོ།')"
      ]
     },
     "execution_count": 14,
     "metadata": {},
     "output_type": "execute_result"
    }
   ],
   "source": [
    "with open(os.path.join(bitext_dir, \"train.bo\"), \"r\") as f:\n",
    "    bo = list(map(lambda x: x.strip(), f.readlines()))\n",
    "len(bo), bo[0]"
   ]
  },
  {
   "cell_type": "code",
   "execution_count": 15,
   "id": "d9e6e199-150d-44f7-98cb-60c5e2b0f472",
   "metadata": {},
   "outputs": [
    {
     "data": {
      "text/plain": [
       "(141920,\n",
       " 'accomplishment is realizing the dharma to be indescribable. also, endeavor is relying on a spiritual friend.')"
      ]
     },
     "execution_count": 15,
     "metadata": {},
     "output_type": "execute_result"
    }
   ],
   "source": [
    "with open(os.path.join(bitext_dir, \"train.en\"), \"r\") as f:\n",
    "    en = list(map(lambda x: x.strip(), f.readlines()))\n",
    "len(en), en[0]"
   ]
  },
  {
   "cell_type": "code",
   "execution_count": 16,
   "id": "8f2c702b-5c00-44a3-8c0d-9faad39dbf7c",
   "metadata": {},
   "outputs": [
    {
     "data": {
      "text/html": [
       "<div>\n",
       "<style scoped>\n",
       "    .dataframe tbody tr th:only-of-type {\n",
       "        vertical-align: middle;\n",
       "    }\n",
       "\n",
       "    .dataframe tbody tr th {\n",
       "        vertical-align: top;\n",
       "    }\n",
       "\n",
       "    .dataframe thead th {\n",
       "        text-align: right;\n",
       "    }\n",
       "</style>\n",
       "<table border=\"1\" class=\"dataframe\">\n",
       "  <thead>\n",
       "    <tr style=\"text-align: right;\">\n",
       "      <th></th>\n",
       "      <th>bo</th>\n",
       "      <th>en</th>\n",
       "    </tr>\n",
       "  </thead>\n",
       "  <tbody>\n",
       "    <tr>\n",
       "      <th>0</th>\n",
       "      <td>སྒྲུབ་པ་ནི་ཆོས་བརྗོད་དུ་མེད་པར་རྟོགས་པའོ། གཞན་...</td>\n",
       "      <td>accomplishment is realizing the dharma to be i...</td>\n",
       "    </tr>\n",
       "    <tr>\n",
       "      <th>1</th>\n",
       "      <td>རྟ་བབས་བཞི་ཡིས་རྣམ་པར་བརྒྱན།</td>\n",
       "      <td>and adorned with four archways.</td>\n",
       "    </tr>\n",
       "    <tr>\n",
       "      <th>2</th>\n",
       "      <td>དེ་གཉིས་ཕན་ཚུན་མི་འཐུན་པས་དུས་དུས་སུ་སྐྱེ་བོ་མ...</td>\n",
       "      <td>the two did not agree with one another, and fr...</td>\n",
       "    </tr>\n",
       "    <tr>\n",
       "      <th>3</th>\n",
       "      <td>ཚེ་དང་ལྡན་པ་སྒུར་ཆུང་ཡང་ཐག་གི་ཟད་ཙམ་གྱི་བར་དུ་...</td>\n",
       "      <td>but, after having waited such a long time, whe...</td>\n",
       "    </tr>\n",
       "    <tr>\n",
       "      <th>4</th>\n",
       "      <td>དེའི་འོག་ཏུ་མཁན་པོ་ལ་ཕྱག་འཚལ་དུ་བཅུག་ནས་མདུན་ད...</td>\n",
       "      <td>then prostrates to the preceptor and kneels be...</td>\n",
       "    </tr>\n",
       "    <tr>\n",
       "      <th>...</th>\n",
       "      <td>...</td>\n",
       "      <td>...</td>\n",
       "    </tr>\n",
       "    <tr>\n",
       "      <th>141915</th>\n",
       "      <td>བྱང་ཆུབ་སེམས་དཔའ་སེམས་དཔའ་ཆེན་པོ་སྦྱིན་པ་སྦྱིན...</td>\n",
       "      <td>it is thus that great bodhisattva beings who d...</td>\n",
       "    </tr>\n",
       "    <tr>\n",
       "      <th>141916</th>\n",
       "      <td>འདོད་ཆགས་བྲལ་བའི་ཤེས་པས་ཆོས་ཀྱང་དག དག་ནས་འདིར་...</td>\n",
       "      <td>phenomena are purified by understanding free o...</td>\n",
       "    </tr>\n",
       "    <tr>\n",
       "      <th>141917</th>\n",
       "      <td>ཤ་ར་དྭ་ཏིའི་བུ་དེ་ལྟ་བས་ན། ངའི་ཉན་ཐོས་དེ་ལྟ་བུ...</td>\n",
       "      <td>it is because of that, saradvatidputra, that m...</td>\n",
       "    </tr>\n",
       "    <tr>\n",
       "      <th>141918</th>\n",
       "      <td>བཟོ་བོ་བཟའ་དང་བཅས་འཇིགས་པས། །བདག་གིས་ཀྱང་ནི་མང...</td>\n",
       "      <td>the artisan would perish with his household, h...</td>\n",
       "    </tr>\n",
       "    <tr>\n",
       "      <th>141919</th>\n",
       "      <td>དེ་ནས་དྲང་སྲོང་དེ་མཐོང་ནས་དེ་གཉིས་ཀྱི་ཁྲོ་བའི་...</td>\n",
       "      <td>upon seeing the sage, their fury disappeared, ...</td>\n",
       "    </tr>\n",
       "  </tbody>\n",
       "</table>\n",
       "<p>141920 rows × 2 columns</p>\n",
       "</div>"
      ],
      "text/plain": [
       "                                                       bo  \\\n",
       "0       སྒྲུབ་པ་ནི་ཆོས་བརྗོད་དུ་མེད་པར་རྟོགས་པའོ། གཞན་...   \n",
       "1                            རྟ་བབས་བཞི་ཡིས་རྣམ་པར་བརྒྱན།   \n",
       "2       དེ་གཉིས་ཕན་ཚུན་མི་འཐུན་པས་དུས་དུས་སུ་སྐྱེ་བོ་མ...   \n",
       "3       ཚེ་དང་ལྡན་པ་སྒུར་ཆུང་ཡང་ཐག་གི་ཟད་ཙམ་གྱི་བར་དུ་...   \n",
       "4       དེའི་འོག་ཏུ་མཁན་པོ་ལ་ཕྱག་འཚལ་དུ་བཅུག་ནས་མདུན་ད...   \n",
       "...                                                   ...   \n",
       "141915  བྱང་ཆུབ་སེམས་དཔའ་སེམས་དཔའ་ཆེན་པོ་སྦྱིན་པ་སྦྱིན...   \n",
       "141916  འདོད་ཆགས་བྲལ་བའི་ཤེས་པས་ཆོས་ཀྱང་དག དག་ནས་འདིར་...   \n",
       "141917  ཤ་ར་དྭ་ཏིའི་བུ་དེ་ལྟ་བས་ན། ངའི་ཉན་ཐོས་དེ་ལྟ་བུ...   \n",
       "141918  བཟོ་བོ་བཟའ་དང་བཅས་འཇིགས་པས། །བདག་གིས་ཀྱང་ནི་མང...   \n",
       "141919  དེ་ནས་དྲང་སྲོང་དེ་མཐོང་ནས་དེ་གཉིས་ཀྱི་ཁྲོ་བའི་...   \n",
       "\n",
       "                                                       en  \n",
       "0       accomplishment is realizing the dharma to be i...  \n",
       "1                         and adorned with four archways.  \n",
       "2       the two did not agree with one another, and fr...  \n",
       "3       but, after having waited such a long time, whe...  \n",
       "4       then prostrates to the preceptor and kneels be...  \n",
       "...                                                   ...  \n",
       "141915  it is thus that great bodhisattva beings who d...  \n",
       "141916  phenomena are purified by understanding free o...  \n",
       "141917  it is because of that, saradvatidputra, that m...  \n",
       "141918  the artisan would perish with his household, h...  \n",
       "141919  upon seeing the sage, their fury disappeared, ...  \n",
       "\n",
       "[141920 rows x 2 columns]"
      ]
     },
     "execution_count": 16,
     "metadata": {},
     "output_type": "execute_result"
    }
   ],
   "source": [
    "train_df = pd.DataFrame({\n",
    "    \"bo\": bo,\n",
    "    \"en\": en\n",
    "})\n",
    "train_df"
   ]
  },
  {
   "cell_type": "code",
   "execution_count": 17,
   "id": "21bd8cb9-d9bf-47e0-859f-705d3b0a153b",
   "metadata": {},
   "outputs": [
    {
     "data": {
      "text/html": [
       "<div>\n",
       "<style scoped>\n",
       "    .dataframe tbody tr th:only-of-type {\n",
       "        vertical-align: middle;\n",
       "    }\n",
       "\n",
       "    .dataframe tbody tr th {\n",
       "        vertical-align: top;\n",
       "    }\n",
       "\n",
       "    .dataframe thead th {\n",
       "        text-align: right;\n",
       "    }\n",
       "</style>\n",
       "<table border=\"1\" class=\"dataframe\">\n",
       "  <thead>\n",
       "    <tr style=\"text-align: right;\">\n",
       "      <th></th>\n",
       "      <th>bo</th>\n",
       "      <th>en</th>\n",
       "      <th>bo_len</th>\n",
       "      <th>en_len</th>\n",
       "    </tr>\n",
       "  </thead>\n",
       "  <tbody>\n",
       "    <tr>\n",
       "      <th>0</th>\n",
       "      <td>སྒྲུབ་པ་ནི་ཆོས་བརྗོད་དུ་མེད་པར་རྟོགས་པའོ། གཞན་...</td>\n",
       "      <td>accomplishment is realizing the dharma to be i...</td>\n",
       "      <td>88</td>\n",
       "      <td>108</td>\n",
       "    </tr>\n",
       "    <tr>\n",
       "      <th>1</th>\n",
       "      <td>རྟ་བབས་བཞི་ཡིས་རྣམ་པར་བརྒྱན།</td>\n",
       "      <td>and adorned with four archways.</td>\n",
       "      <td>28</td>\n",
       "      <td>31</td>\n",
       "    </tr>\n",
       "    <tr>\n",
       "      <th>2</th>\n",
       "      <td>དེ་གཉིས་ཕན་ཚུན་མི་འཐུན་པས་དུས་དུས་སུ་སྐྱེ་བོ་མ...</td>\n",
       "      <td>the two did not agree with one another, and fr...</td>\n",
       "      <td>200</td>\n",
       "      <td>218</td>\n",
       "    </tr>\n",
       "    <tr>\n",
       "      <th>3</th>\n",
       "      <td>ཚེ་དང་ལྡན་པ་སྒུར་ཆུང་ཡང་ཐག་གི་ཟད་ཙམ་གྱི་བར་དུ་...</td>\n",
       "      <td>but, after having waited such a long time, whe...</td>\n",
       "      <td>361</td>\n",
       "      <td>512</td>\n",
       "    </tr>\n",
       "    <tr>\n",
       "      <th>4</th>\n",
       "      <td>དེའི་འོག་ཏུ་མཁན་པོ་ལ་ཕྱག་འཚལ་དུ་བཅུག་ནས་མདུན་ད...</td>\n",
       "      <td>then prostrates to the preceptor and kneels be...</td>\n",
       "      <td>77</td>\n",
       "      <td>55</td>\n",
       "    </tr>\n",
       "    <tr>\n",
       "      <th>...</th>\n",
       "      <td>...</td>\n",
       "      <td>...</td>\n",
       "      <td>...</td>\n",
       "      <td>...</td>\n",
       "    </tr>\n",
       "    <tr>\n",
       "      <th>141915</th>\n",
       "      <td>བྱང་ཆུབ་སེམས་དཔའ་སེམས་དཔའ་ཆེན་པོ་སྦྱིན་པ་སྦྱིན...</td>\n",
       "      <td>it is thus that great bodhisattva beings who d...</td>\n",
       "      <td>117</td>\n",
       "      <td>115</td>\n",
       "    </tr>\n",
       "    <tr>\n",
       "      <th>141916</th>\n",
       "      <td>འདོད་ཆགས་བྲལ་བའི་ཤེས་པས་ཆོས་ཀྱང་དག དག་ནས་འདིར་...</td>\n",
       "      <td>phenomena are purified by understanding free o...</td>\n",
       "      <td>68</td>\n",
       "      <td>108</td>\n",
       "    </tr>\n",
       "    <tr>\n",
       "      <th>141917</th>\n",
       "      <td>ཤ་ར་དྭ་ཏིའི་བུ་དེ་ལྟ་བས་ན། ངའི་ཉན་ཐོས་དེ་ལྟ་བུ...</td>\n",
       "      <td>it is because of that, saradvatidputra, that m...</td>\n",
       "      <td>183</td>\n",
       "      <td>212</td>\n",
       "    </tr>\n",
       "    <tr>\n",
       "      <th>141918</th>\n",
       "      <td>བཟོ་བོ་བཟའ་དང་བཅས་འཇིགས་པས། །བདག་གིས་ཀྱང་ནི་མང...</td>\n",
       "      <td>the artisan would perish with his household, h...</td>\n",
       "      <td>111</td>\n",
       "      <td>172</td>\n",
       "    </tr>\n",
       "    <tr>\n",
       "      <th>141919</th>\n",
       "      <td>དེ་ནས་དྲང་སྲོང་དེ་མཐོང་ནས་དེ་གཉིས་ཀྱི་ཁྲོ་བའི་...</td>\n",
       "      <td>upon seeing the sage, their fury disappeared, ...</td>\n",
       "      <td>113</td>\n",
       "      <td>117</td>\n",
       "    </tr>\n",
       "  </tbody>\n",
       "</table>\n",
       "<p>141920 rows × 4 columns</p>\n",
       "</div>"
      ],
      "text/plain": [
       "                                                       bo  \\\n",
       "0       སྒྲུབ་པ་ནི་ཆོས་བརྗོད་དུ་མེད་པར་རྟོགས་པའོ། གཞན་...   \n",
       "1                            རྟ་བབས་བཞི་ཡིས་རྣམ་པར་བརྒྱན།   \n",
       "2       དེ་གཉིས་ཕན་ཚུན་མི་འཐུན་པས་དུས་དུས་སུ་སྐྱེ་བོ་མ...   \n",
       "3       ཚེ་དང་ལྡན་པ་སྒུར་ཆུང་ཡང་ཐག་གི་ཟད་ཙམ་གྱི་བར་དུ་...   \n",
       "4       དེའི་འོག་ཏུ་མཁན་པོ་ལ་ཕྱག་འཚལ་དུ་བཅུག་ནས་མདུན་ད...   \n",
       "...                                                   ...   \n",
       "141915  བྱང་ཆུབ་སེམས་དཔའ་སེམས་དཔའ་ཆེན་པོ་སྦྱིན་པ་སྦྱིན...   \n",
       "141916  འདོད་ཆགས་བྲལ་བའི་ཤེས་པས་ཆོས་ཀྱང་དག དག་ནས་འདིར་...   \n",
       "141917  ཤ་ར་དྭ་ཏིའི་བུ་དེ་ལྟ་བས་ན། ངའི་ཉན་ཐོས་དེ་ལྟ་བུ...   \n",
       "141918  བཟོ་བོ་བཟའ་དང་བཅས་འཇིགས་པས། །བདག་གིས་ཀྱང་ནི་མང...   \n",
       "141919  དེ་ནས་དྲང་སྲོང་དེ་མཐོང་ནས་དེ་གཉིས་ཀྱི་ཁྲོ་བའི་...   \n",
       "\n",
       "                                                       en  bo_len  en_len  \n",
       "0       accomplishment is realizing the dharma to be i...      88     108  \n",
       "1                         and adorned with four archways.      28      31  \n",
       "2       the two did not agree with one another, and fr...     200     218  \n",
       "3       but, after having waited such a long time, whe...     361     512  \n",
       "4       then prostrates to the preceptor and kneels be...      77      55  \n",
       "...                                                   ...     ...     ...  \n",
       "141915  it is thus that great bodhisattva beings who d...     117     115  \n",
       "141916  phenomena are purified by understanding free o...      68     108  \n",
       "141917  it is because of that, saradvatidputra, that m...     183     212  \n",
       "141918  the artisan would perish with his household, h...     111     172  \n",
       "141919  upon seeing the sage, their fury disappeared, ...     113     117  \n",
       "\n",
       "[141920 rows x 4 columns]"
      ]
     },
     "execution_count": 17,
     "metadata": {},
     "output_type": "execute_result"
    }
   ],
   "source": [
    "train_df[\"bo_len\"], train_df[\"en_len\"] = train_df.bo.str.len(), train_df.en.str.len()\n",
    "train_df"
   ]
  },
  {
   "cell_type": "code",
   "execution_count": 18,
   "id": "0daf721a-219b-4bfb-a74c-b181c3be8a75",
   "metadata": {},
   "outputs": [
    {
     "data": {
      "text/plain": [
       "count    141920.000000\n",
       "mean        137.088346\n",
       "std          77.802973\n",
       "min           3.000000\n",
       "25%          81.000000\n",
       "50%         122.000000\n",
       "75%         172.000000\n",
       "max         636.000000\n",
       "Name: bo_len, dtype: float64"
      ]
     },
     "execution_count": 18,
     "metadata": {},
     "output_type": "execute_result"
    }
   ],
   "source": [
    "train_df.bo_len.describe()"
   ]
  },
  {
   "cell_type": "code",
   "execution_count": 19,
   "id": "c1d2d780-96f5-475a-8a52-0c2bca95cf41",
   "metadata": {},
   "outputs": [
    {
     "data": {
      "text/plain": [
       "<AxesSubplot: >"
      ]
     },
     "execution_count": 19,
     "metadata": {},
     "output_type": "execute_result"
    },
    {
     "data": {
      "image/png": "[encoded data removed]",
      "text/plain": [
       "<Figure size 640x480 with 1 Axes>"
      ]
     },
     "metadata": {},
     "output_type": "display_data"
    }
   ],
   "source": [
    "train_df.bo_len.hist(bins=50)"
   ]
  },
  {
   "cell_type": "code",
   "execution_count": 20,
   "id": "2d97c61e-5c49-44cf-a83b-a3e0ed9d4501",
   "metadata": {},
   "outputs": [
    {
     "data": {
      "text/plain": [
       "'including the bodhisattva great being maitreya, the bodhisattva great being manjusri, the bodhisattva great being aksayadmati, the bodhisattva great being sagaradmati, the bodhisattva great being anantadmati, the bodhisattva great being drdhamati, the bodhisattva great being dispeller of the three realms, the bodhisattva great being ratnapani, the bodhisattva great being vaidyaraja, the bodhisattva great being ratnakara, and the bodhisattva great being joy and sorrow.'"
      ]
     },
     "execution_count": 20,
     "metadata": {},
     "output_type": "execute_result"
    }
   ],
   "source": [
    "train_df[train_df.bo_len == train_df.bo_len.max()].en.values[0]"
   ]
  },
  {
   "cell_type": "code",
   "execution_count": 21,
   "id": "e4fed218-aa1f-4af9-93d2-cc54fb42cad5",
   "metadata": {},
   "outputs": [
    {
     "data": {
      "text/plain": [
       "count    141920.000000\n",
       "mean        158.585450\n",
       "std          88.693537\n",
       "min           4.000000\n",
       "25%          96.000000\n",
       "50%         143.000000\n",
       "75%         200.000000\n",
       "max         891.000000\n",
       "Name: en_len, dtype: float64"
      ]
     },
     "execution_count": 21,
     "metadata": {},
     "output_type": "execute_result"
    }
   ],
   "source": [
    "train_df.en_len.describe()"
   ]
  },
  {
   "cell_type": "code",
   "execution_count": 22,
   "id": "9446c1cc-243a-466c-ab39-303aa6d29618",
   "metadata": {},
   "outputs": [
    {
     "data": {
      "text/plain": [
       "<AxesSubplot: >"
      ]
     },
     "execution_count": 22,
     "metadata": {},
     "output_type": "execute_result"
    },
    {
     "data": {
      "image/png": "[encoded data removed]",
      "text/plain": [
       "<Figure size 640x480 with 1 Axes>"
      ]
     },
     "metadata": {},
     "output_type": "display_data"
    }
   ],
   "source": [
    "train_df.en_len.hist(bins=50)"
   ]
  },
  {
   "cell_type": "code",
   "execution_count": 23,
   "id": "2ca11767-8698-454d-9d09-7180cdb10b90",
   "metadata": {},
   "outputs": [
    {
     "data": {
      "text/plain": [
       "'he correctly understands, i know everything that has otherwise not been understood with regard to knowing the characteristics of the thus-gone one, the knowledge of the origin as related to knowledge of the characteristics of the thus-gone one, the knowledge of cessation as related to knowledge of the characteristics of the thus-gone one, and the knowledge of the path that leads to cessation as related to knowledge of the characteristics of the thus-gone one. he correctly understands, i know everything that has otherwise not been understood with regard to knowing the abodes of the thus-gone one, the knowledge of the origin as related to knowledge of the abodes of the thus-gone one, the knowledge of cessation as related to knowledge of the abodes of the thus-gone one, and the knowledge of the path that leads to cessation as related to knowledge of the abodes of the thus-gone one.'"
      ]
     },
     "execution_count": 23,
     "metadata": {},
     "output_type": "execute_result"
    }
   ],
   "source": [
    "train_df[train_df.en_len == train_df.en_len.max()].en.values[0]"
   ]
  }
 ],
 "metadata": {
  "kernelspec": {
   "display_name": "Python 3 (ipykernel)",
   "language": "python",
   "name": "python3"
  },
  "language_info": {
   "codemirror_mode": {
    "name": "ipython",
    "version": 3
   },
   "file_extension": ".py",
   "mimetype": "text/x-python",
   "name": "python",
   "nbconvert_exporter": "python",
   "pygments_lexer": "ipython3",
   "version": "3.10.0"
  }
 },
 "nbformat": 4,
 "nbformat_minor": 5
}
