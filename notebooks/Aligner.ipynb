{
 "cells": [
  {
   "cell_type": "code",
   "execution_count": 1,
   "id": "de980207-16f1-4352-a9d2-acdd48cb5d29",
   "metadata": {},
   "outputs": [],
   "source": [
    "# ! python -m spacy download en_core_web_trf"
   ]
  },
  {
   "cell_type": "code",
   "execution_count": 2,
   "id": "93ced5c1-8eaf-49d5-a616-498262c71cfe",
   "metadata": {},
   "outputs": [],
   "source": [
    "! rm -rf /tmp/dask-worker-space\n",
    "! rm -rf /home/eeisenst/workspace/compassionai/garland/notebooks/dask-worker-space"
   ]
  },
  {
   "cell_type": "markdown",
   "id": "491c1393-03e0-494d-a17b-fc76d3578f9d",
   "metadata": {},
   "source": [
    "# Dataset preparation"
   ]
  },
  {
   "cell_type": "code",
   "execution_count": 3,
   "id": "0663730a-8b96-4c5b-9b93-75b32dfb757e",
   "metadata": {},
   "outputs": [],
   "source": [
    "import os\n",
    "import copy\n",
    "import spacy\n",
    "import pickle\n",
    "import random\n",
    "import logging\n",
    "\n",
    "from tqdm.auto import tqdm\n",
    "from cai_common.data import ParallelTMXLoader\n",
    "from dask.distributed import Client, LocalCluster"
   ]
  },
  {
   "cell_type": "code",
   "execution_count": 4,
   "id": "5d07b288-2c26-4789-852b-93afd8c0cbbe",
   "metadata": {},
   "outputs": [],
   "source": [
    "dask_logger = logging.getLogger(\"distributed.utils_perf\")\n",
    "dask_logger.setLevel(logging.ERROR)\n",
    "\n",
    "dask_client = Client(LocalCluster(\n",
    "    n_workers=20,\n",
    "    threads_per_worker=1\n",
    "))"
   ]
  },
  {
   "cell_type": "code",
   "execution_count": 5,
   "id": "2e20ebc0-10f6-4182-9604-5f5d3c051a5e",
   "metadata": {},
   "outputs": [
    {
     "data": {
      "text/html": [
       "<div>\n",
       "<style scoped>\n",
       "    .dataframe tbody tr th:only-of-type {\n",
       "        vertical-align: middle;\n",
       "    }\n",
       "\n",
       "    .dataframe tbody tr th {\n",
       "        vertical-align: top;\n",
       "    }\n",
       "\n",
       "    .dataframe thead th {\n",
       "        text-align: right;\n",
       "    }\n",
       "</style>\n",
       "<table border=\"1\" class=\"dataframe\">\n",
       "  <thead>\n",
       "    <tr style=\"text-align: right;\">\n",
       "      <th></th>\n",
       "      <th>filename</th>\n",
       "      <th>tohoku</th>\n",
       "      <th>folio</th>\n",
       "      <th>position</th>\n",
       "      <th>tibetan</th>\n",
       "      <th>english</th>\n",
       "    </tr>\n",
       "  </thead>\n",
       "  <tbody>\n",
       "    <tr>\n",
       "      <th>0</th>\n",
       "      <td>Toh_384-Glorious_King_of_Tantras_That_Resolves...</td>\n",
       "      <td>384</td>\n",
       "      <td>F.187.a</td>\n",
       "      <td>1</td>\n",
       "      <td>དཔལ་རྡོ་རྗེ་སེམས་དཔའ་ལ་ཕྱག་འཚལ་ལོ། །</td>\n",
       "      <td>I pay homage to Glorious Vajrasattva!</td>\n",
       "    </tr>\n",
       "    <tr>\n",
       "      <th>1</th>\n",
       "      <td>Toh_384-Glorious_King_of_Tantras_That_Resolves...</td>\n",
       "      <td>384</td>\n",
       "      <td>F.187.a</td>\n",
       "      <td>39</td>\n",
       "      <td>འདི་སྐད་བདག་གིས་ཐོས་པའི་དུས་གཅིག་ན། །</td>\n",
       "      <td>Thus have I heard at one time.</td>\n",
       "    </tr>\n",
       "    <tr>\n",
       "      <th>2</th>\n",
       "      <td>Toh_384-Glorious_King_of_Tantras_That_Resolves...</td>\n",
       "      <td>384</td>\n",
       "      <td>F.187.a</td>\n",
       "      <td>204</td>\n",
       "      <td>དེ་ནས་བྱང་ཆུབ་སེམས་དཔའ་རྡོ་རྗེ་སྙིང་པོ་ལ་སོགས་...</td>\n",
       "      <td>Then, the entourage, including bodhisattva Vaj...</td>\n",
       "    </tr>\n",
       "    <tr>\n",
       "      <th>3</th>\n",
       "      <td>Toh_384-Glorious_King_of_Tantras_That_Resolves...</td>\n",
       "      <td>384</td>\n",
       "      <td>F.187.a</td>\n",
       "      <td>322</td>\n",
       "      <td>ཕྱི་ནང་གསང་བའི་མཆོད་པས་མཆོད་ནས་འདི་སྐད་ཅེས་གསོ...</td>\n",
       "      <td>made outer, inner, and secret offerings, and a...</td>\n",
       "    </tr>\n",
       "    <tr>\n",
       "      <th>4</th>\n",
       "      <td>Toh_384-Glorious_King_of_Tantras_That_Resolves...</td>\n",
       "      <td>384</td>\n",
       "      <td>F.187.a</td>\n",
       "      <td>388</td>\n",
       "      <td>ཀྱེ་ཧོ་བཅོམ་ལྡན་རྡོ་རྗེ་འཛིན། །</td>\n",
       "      <td>O Blessed Vajra Holder!</td>\n",
       "    </tr>\n",
       "    <tr>\n",
       "      <th>...</th>\n",
       "      <td>...</td>\n",
       "      <td>...</td>\n",
       "      <td>...</td>\n",
       "      <td>...</td>\n",
       "      <td>...</td>\n",
       "      <td>...</td>\n",
       "    </tr>\n",
       "    <tr>\n",
       "      <th>19</th>\n",
       "      <td>Toh_309-The_Sutra_on_Impermanence-v1.tmx</td>\n",
       "      <td>309</td>\n",
       "      <td>F.155.b</td>\n",
       "      <td>650</td>\n",
       "      <td>ནད་མེད་མི་རྟག་ལང་ཚོ་རྟག་མ་ཡིན། །འབྱོར་པ་མི་རྟག...</td>\n",
       "      <td>“Good health is impermanent, Youth does not la...</td>\n",
       "    </tr>\n",
       "    <tr>\n",
       "      <th>20</th>\n",
       "      <td>Toh_309-The_Sutra_on_Impermanence-v1.tmx</td>\n",
       "      <td>309</td>\n",
       "      <td>F.155.b</td>\n",
       "      <td>757</td>\n",
       "      <td>སྐྱེ་བོ་མི་རྟག་ཉིད་ཀྱིས་ཉེན་གྱུར་ན། །འདོད་པའི་...</td>\n",
       "      <td>How can beings, afflicted as they are by imper...</td>\n",
       "    </tr>\n",
       "    <tr>\n",
       "      <th>21</th>\n",
       "      <td>Toh_309-The_Sutra_on_Impermanence-v1.tmx</td>\n",
       "      <td>309</td>\n",
       "      <td>F.155.b</td>\n",
       "      <td>858</td>\n",
       "      <td>བཅོམ་ལྡན་འདས་ཀྱིས་དེ་སྐད་ཅེས་བཀའ་སྩལ་ནས། དགེ་ས...</td>\n",
       "      <td>When the Bhagavān had thus spoken, the monks r...</td>\n",
       "    </tr>\n",
       "    <tr>\n",
       "      <th>22</th>\n",
       "      <td>Toh_309-The_Sutra_on_Impermanence-v1.tmx</td>\n",
       "      <td>309</td>\n",
       "      <td>F.155.b</td>\n",
       "      <td>935</td>\n",
       "      <td>མི་རྟག་པ་ཉིད་ཀྱི་མདོ་རྫོགས་སོ།། །།</td>\n",
       "      <td>This completes “The Sūtra on Impermanence.”</td>\n",
       "    </tr>\n",
       "    <tr>\n",
       "      <th>23</th>\n",
       "      <td>Toh_309-The_Sutra_on_Impermanence-v1.tmx</td>\n",
       "      <td>309</td>\n",
       "      <td>F.155.b</td>\n",
       "      <td>977</td>\n",
       "      <td>རྒྱ་གར་གྱི་མཁན་པོ་སུ་རེན་དྲ་བོ་དྷི་དང་། ཞུ་ཆེན...</td>\n",
       "      <td>Translated and edited by the Indian scholar Su...</td>\n",
       "    </tr>\n",
       "  </tbody>\n",
       "</table>\n",
       "<p>164496 rows × 6 columns</p>\n",
       "</div>"
      ],
      "text/plain": [
       "                                             filename tohoku    folio  \\\n",
       "0   Toh_384-Glorious_King_of_Tantras_That_Resolves...    384  F.187.a   \n",
       "1   Toh_384-Glorious_King_of_Tantras_That_Resolves...    384  F.187.a   \n",
       "2   Toh_384-Glorious_King_of_Tantras_That_Resolves...    384  F.187.a   \n",
       "3   Toh_384-Glorious_King_of_Tantras_That_Resolves...    384  F.187.a   \n",
       "4   Toh_384-Glorious_King_of_Tantras_That_Resolves...    384  F.187.a   \n",
       "..                                                ...    ...      ...   \n",
       "19           Toh_309-The_Sutra_on_Impermanence-v1.tmx    309  F.155.b   \n",
       "20           Toh_309-The_Sutra_on_Impermanence-v1.tmx    309  F.155.b   \n",
       "21           Toh_309-The_Sutra_on_Impermanence-v1.tmx    309  F.155.b   \n",
       "22           Toh_309-The_Sutra_on_Impermanence-v1.tmx    309  F.155.b   \n",
       "23           Toh_309-The_Sutra_on_Impermanence-v1.tmx    309  F.155.b   \n",
       "\n",
       "   position                                            tibetan  \\\n",
       "0         1               དཔལ་རྡོ་རྗེ་སེམས་དཔའ་ལ་ཕྱག་འཚལ་ལོ། །   \n",
       "1        39              འདི་སྐད་བདག་གིས་ཐོས་པའི་དུས་གཅིག་ན། །   \n",
       "2       204  དེ་ནས་བྱང་ཆུབ་སེམས་དཔའ་རྡོ་རྗེ་སྙིང་པོ་ལ་སོགས་...   \n",
       "3       322  ཕྱི་ནང་གསང་བའི་མཆོད་པས་མཆོད་ནས་འདི་སྐད་ཅེས་གསོ...   \n",
       "4       388                    ཀྱེ་ཧོ་བཅོམ་ལྡན་རྡོ་རྗེ་འཛིན། །   \n",
       "..      ...                                                ...   \n",
       "19      650  ནད་མེད་མི་རྟག་ལང་ཚོ་རྟག་མ་ཡིན། །འབྱོར་པ་མི་རྟག...   \n",
       "20      757  སྐྱེ་བོ་མི་རྟག་ཉིད་ཀྱིས་ཉེན་གྱུར་ན། །འདོད་པའི་...   \n",
       "21      858  བཅོམ་ལྡན་འདས་ཀྱིས་དེ་སྐད་ཅེས་བཀའ་སྩལ་ནས། དགེ་ས...   \n",
       "22      935                 མི་རྟག་པ་ཉིད་ཀྱི་མདོ་རྫོགས་སོ།། །།   \n",
       "23      977  རྒྱ་གར་གྱི་མཁན་པོ་སུ་རེན་དྲ་བོ་དྷི་དང་། ཞུ་ཆེན...   \n",
       "\n",
       "                                              english  \n",
       "0               I pay homage to Glorious Vajrasattva!  \n",
       "1                      Thus have I heard at one time.  \n",
       "2   Then, the entourage, including bodhisattva Vaj...  \n",
       "3   made outer, inner, and secret offerings, and a...  \n",
       "4                             O Blessed Vajra Holder!  \n",
       "..                                                ...  \n",
       "19  “Good health is impermanent, Youth does not la...  \n",
       "20  How can beings, afflicted as they are by imper...  \n",
       "21  When the Bhagavān had thus spoken, the monks r...  \n",
       "22        This completes “The Sūtra on Impermanence.”  \n",
       "23  Translated and edited by the Indian scholar Su...  \n",
       "\n",
       "[164496 rows x 6 columns]"
      ]
     },
     "execution_count": 5,
     "metadata": {},
     "output_type": "execute_result"
    }
   ],
   "source": [
    "parallel_df = ParallelTMXLoader().apply_markup().clean_bad_chars().dataframe.compute()\n",
    "parallel_df"
   ]
  },
  {
   "cell_type": "code",
   "execution_count": 6,
   "id": "41224943-ca6f-4ded-9bc5-c2aca0db00b6",
   "metadata": {},
   "outputs": [],
   "source": [
    "random.seed(42)"
   ]
  },
  {
   "cell_type": "code",
   "execution_count": 7,
   "id": "87ce9938-2448-41e1-a6ee-8195cb680d35",
   "metadata": {},
   "outputs": [],
   "source": [
    "spacy.prefer_gpu()\n",
    "nlp = spacy.load(\"en_core_web_trf\")"
   ]
  },
  {
   "cell_type": "markdown",
   "id": "2ad46b9c-f05d-4c75-8f3b-d5bdc3a40f94",
   "metadata": {},
   "source": [
    "## Test"
   ]
  },
  {
   "cell_type": "code",
   "execution_count": null,
   "id": "95395253-31be-41fa-b75d-940fa59dbab3",
   "metadata": {},
   "outputs": [],
   "source": [
    "i = 0"
   ]
  },
  {
   "cell_type": "code",
   "execution_count": null,
   "id": "de6f5a14-48c8-49d7-8b75-a6e209b41016",
   "metadata": {},
   "outputs": [],
   "source": [
    "example = parallel_df.english.iloc[i]\n",
    "parsed = nlp(example)\n",
    "\n",
    "print(example)\n",
    "print()\n",
    "for token in parsed:\n",
    "    print(f\"{token.text:<20} {token.lemma_:<20} {token.pos_}\")\n",
    "\n",
    "i += 1"
   ]
  },
  {
   "cell_type": "markdown",
   "id": "da125834-341c-4c1f-864e-89228a2ebe61",
   "metadata": {},
   "source": [
    "## Run"
   ]
  },
  {
   "cell_type": "code",
   "execution_count": 8,
   "id": "1d2bc154-8bf8-41f5-b4c0-4d95eb7fcba1",
   "metadata": {},
   "outputs": [],
   "source": [
    "eligible_pos = {'VERB', 'NOUN', 'ADJ', 'PROPN'}\n",
    "num_positives = 3000\n",
    "negative_ratio = 3"
   ]
  },
  {
   "cell_type": "code",
   "execution_count": 9,
   "id": "08338146-c52d-4bfd-a290-38dbb21f7138",
   "metadata": {},
   "outputs": [
    {
     "data": {
      "application/vnd.jupyter.widget-view+json": {
       "model_id": "4f00ff56d21e4e639234ce72e3ac7c8a",
       "version_major": 2,
       "version_minor": 0
      },
      "text/plain": [
       "  0%|          | 0/3000 [00:00<?, ?it/s]"
      ]
     },
     "metadata": {},
     "output_type": "display_data"
    }
   ],
   "source": [
    "positive_examples = []\n",
    "\n",
    "records = random.choices(parallel_df.to_dict(orient=\"records\"), k=num_positives)\n",
    "\n",
    "for record in tqdm(records):\n",
    "    parsed = nlp(record['english'])\n",
    "    for token in filter(lambda token: token.pos_ in eligible_pos, parsed):\n",
    "        positive_examples.append({\n",
    "            'source': record['tibetan'],\n",
    "            'target': token.lemma_,\n",
    "            'pos': token.pos_,\n",
    "            'label': 1\n",
    "        })"
   ]
  },
  {
   "cell_type": "code",
   "execution_count": 10,
   "id": "7ded7e33-1d97-4307-bf5e-0d2edef7f829",
   "metadata": {},
   "outputs": [],
   "source": [
    "from pattern.en import NOUN, VERB, ADJECTIVE\n",
    "from pattern.en.wordnet import synsets\n",
    "\n",
    "pos_map = {\n",
    "    'NOUN': NOUN,\n",
    "    'PROPN': NOUN,\n",
    "    'VERB': VERB,\n",
    "    'ADJ': ADJECTIVE\n",
    "}"
   ]
  },
  {
   "cell_type": "code",
   "execution_count": 11,
   "id": "b4918d84-d90f-4588-9f9a-cb45c3ac3eb3",
   "metadata": {},
   "outputs": [
    {
     "data": {
      "application/vnd.jupyter.widget-view+json": {
       "model_id": "bd03626d32d143f9a754027ca1b3fb6c",
       "version_major": 2,
       "version_minor": 0
      },
      "text/plain": [
       "  0%|          | 0/20983 [00:00<?, ?it/s]"
      ]
     },
     "metadata": {},
     "output_type": "display_data"
    }
   ],
   "source": [
    "by_tag = {tag: [] for tag in eligible_pos}\n",
    "\n",
    "for example in tqdm(positive_examples):\n",
    "    synonyms = synsets(example['target'], pos_map[example['pos']])\n",
    "    if len(synonyms) == 0:\n",
    "        by_tag[example['pos']].append([example['target'].lower()])\n",
    "    else:\n",
    "        all_synonyms = sorted(list(set([synonym.replace('_', ' ') for synonym in synonyms[0].synonyms])))\n",
    "        by_tag[example['pos']].append(all_synonyms)"
   ]
  },
  {
   "cell_type": "code",
   "execution_count": 12,
   "id": "bd67c248-2dc3-4f4b-9f0e-3bbb2d0e2569",
   "metadata": {},
   "outputs": [
    {
     "data": {
      "application/vnd.jupyter.widget-view+json": {
       "model_id": "8aaf009006a14af886711500f09bd1dc",
       "version_major": 2,
       "version_minor": 0
      },
      "text/plain": [
       "  0%|          | 0/20983 [00:00<?, ?it/s]"
      ]
     },
     "metadata": {},
     "output_type": "display_data"
    }
   ],
   "source": [
    "negative_examples = []\n",
    "\n",
    "for example in tqdm(positive_examples):\n",
    "    blacked_out_targets = {example['target']}\n",
    "    for _ in range(negative_ratio):\n",
    "        example = copy.deepcopy(example)\n",
    "        while True:\n",
    "            target = random.choice(\n",
    "                random.choice(\n",
    "                    by_tag[example['pos']]\n",
    "                )    # First choose a meaning\n",
    "            )        #     ...then choose a synonym\n",
    "            if not target in blacked_out_targets:\n",
    "                break\n",
    "        example['target'] = target\n",
    "        example['label'] = 0\n",
    "        blacked_out_targets.add(target)\n",
    "        negative_examples.append(example)"
   ]
  },
  {
   "cell_type": "code",
   "execution_count": 13,
   "id": "2d0bf9f9-4a26-4048-833f-3eea17a2177a",
   "metadata": {},
   "outputs": [
    {
     "data": {
      "text/plain": [
       "83932"
      ]
     },
     "execution_count": 13,
     "metadata": {},
     "output_type": "execute_result"
    }
   ],
   "source": [
    "final_dataset = positive_examples + negative_examples\n",
    "len(final_dataset)"
   ]
  },
  {
   "cell_type": "code",
   "execution_count": 14,
   "id": "fd98907e-0297-4ec5-8514-05f7700a00aa",
   "metadata": {},
   "outputs": [
    {
     "data": {
      "text/plain": [
       "'/home/eeisenst/workspace/temp/temp_data/aligner_dataset.pkl'"
      ]
     },
     "execution_count": 14,
     "metadata": {},
     "output_type": "execute_result"
    }
   ],
   "source": [
    "dataset_fn = os.path.join(os.environ['CAI_TEMP_PATH'], \"temp_data/aligner_dataset.pkl\")\n",
    "dataset_fn"
   ]
  },
  {
   "cell_type": "code",
   "execution_count": 15,
   "id": "14782c78-3581-4099-9c72-a55155877638",
   "metadata": {},
   "outputs": [],
   "source": [
    "with open(dataset_fn, 'wb') as f:\n",
    "    pickle.dump(final_dataset, f)"
   ]
  }
 ],
 "metadata": {
  "kernelspec": {
   "display_name": "Python 3 (ipykernel)",
   "language": "python",
   "name": "python3"
  },
  "language_info": {
   "codemirror_mode": {
    "name": "ipython",
    "version": 3
   },
   "file_extension": ".py",
   "mimetype": "text/x-python",
   "name": "python",
   "nbconvert_exporter": "python",
   "pygments_lexer": "ipython3",
   "version": "3.10.0"
  }
 },
 "nbformat": 4,
 "nbformat_minor": 5
}
